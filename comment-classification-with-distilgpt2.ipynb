{
 "cells": [
  {
   "cell_type": "markdown",
   "metadata": {},
   "source": [
    "# CS 440 Final Project\n",
    "Project: **NLBSE 2025 Code Comment Classification**\n",
    "\n",
    "Members (Team Overfitted):\n",
    " - Erik Cooper\n",
    " - Seth Harling\n",
    "## Overview\n",
    "This tool competition involves building and training 3 multi-label classification models for code comments. These comments fall in to different categories for the different languages (Java, Python, and Pharo). These categories include comments for summarization, development notes, intent, and usage.\n",
    "\n",
    "For our project, we chose to run with a strongly langauge processing approach, trying our best to ignore formatting as hints to the category. This is one of the reasons why we chose to use GPT-2 as our base model.\n",
    "\n",
    "When searching for pretrained NLP models, we were presented with many options. The main ones we considered were variations of BERT (RoBERTa for one), ELMo, UniLM, and GPT. There were a couple properties we were specifically looking for in a model for this project. We wanted a model that would work well on a classification problem, and we wanted a smaller model that would take less time to train so we could spend more time learning how to work the NLPs than waiting for it to work.\n",
    "\n",
    "With this, we settled on the smallest size of [GPT-2](https://huggingface.co/openai-community/gpt2) with 124M parameters. This number of parameters felt in line with the scope of our project, plus GPT is a rather famous model that most people have at least heard about. We thought that working with something somewhat familiar would help with learning how this all works. Though, to make the tuning process a little quicker, we use [distilgpt2](https://huggingface.co/distilbert/distilgpt2) to reduce our training times by 50% with its lower 82M parameters.\n",
    "\n",
    "## Attempted improvements\n",
    " - Label embeddings in GPT2Model\n",
    "   - Resulted in overall accuracy of ~50%\n",
    " - Various forms of preprocessing\n",
    "   - Included removing formatting, changing between truncation in the middle or end, excluding sections within formatting\n",
    "   - Resulted in minimal negative effect. Could be explored further\n",
    " - Included label in input during training.\n",
    "  - Resulted in dependency on special tokens. Ended in worse results. Could be due to bad implementation.\n",
    " - Hyperparameter tuning\n",
    "  - For each language, we went through different learning rates, number of epochs, optimizers, and batch sizes\n",
    "## Improvements to try another time\n",
    " - Data augmentation.\n",
    "   - Translating data between languages to get more inputs.\n",
    "   - Using a language model to paraphrase inputs.\n",
    " - Further research on special tokens."
   ]
  },
  {
   "cell_type": "markdown",
   "metadata": {},
   "source": [
    "### Imports"
   ]
  },
  {
   "cell_type": "code",
   "execution_count": 1,
   "metadata": {},
   "outputs": [
    {
     "name": "stderr",
     "output_type": "stream",
     "text": [
      "Using TensorFlow backend.\n"
     ]
    }
   ],
   "source": [
    "import numpy as np\n",
    "import pandas as pd\n",
    "import re\n",
    "import time\n",
    "import torch\n",
    "import warnings\n",
    "\n",
    "from datasets import load_dataset\n",
    "from lion_pytorch import Lion\n",
    "from sklearn.metrics import accuracy_score, classification_report, confusion_matrix, multilabel_confusion_matrix\n",
    "from tqdm.notebook import tqdm\n",
    "from transformers import (\n",
    "    GPT2Config,\n",
    "    GPT2Tokenizer,\n",
    "    AdamW, \n",
    "    get_linear_schedule_with_warmup,\n",
    "    GPT2ForSequenceClassification\n",
    ")\n",
    "\n",
    "warnings.filterwarnings(\"ignore\")"
   ]
  },
  {
   "cell_type": "code",
   "execution_count": 2,
   "metadata": {},
   "outputs": [
    {
     "name": "stdout",
     "output_type": "stream",
     "text": [
      "Using device: cuda\n"
     ]
    }
   ],
   "source": [
    "# Setting up device\n",
    "device = torch.device('cuda' if torch.cuda.is_available() else 'cpu')\n",
    "print('Using device:', device)"
   ]
  },
  {
   "cell_type": "markdown",
   "metadata": {},
   "source": [
    "### Defining string constants"
   ]
  },
  {
   "cell_type": "code",
   "execution_count": 3,
   "metadata": {},
   "outputs": [],
   "source": [
    "# From challenge (https://github.com/nlbse2025/code-comment-classification/blob/main/SetFit_baseline.ipynb)\n",
    "classification_langs = ['java', 'python', 'pharo']\n",
    "classification_labels = {\n",
    "    'java': ['summary', 'Ownership', 'Expand', 'usage', 'Pointer', 'deprecation', 'rational'],\n",
    "    'python': ['Usage', 'Parameters', 'DevelopmentNotes', 'Expand', 'Summary'],\n",
    "    'pharo': ['Keyimplementationpoints', 'Example', 'Responsibilities', 'Classreferences', 'Intent', 'Keymessages', 'Collaborators']\n",
    "}\n",
    "lang_learning_rates = {\n",
    "    'java': 1e-5,\n",
    "    'python': 1e-3,\n",
    "    'pharo': 1e-3\n",
    "}\n",
    "lang_epochs = {\n",
    "    'java': 2,\n",
    "    'python': 4,\n",
    "    'pharo': 4\n",
    "}\n",
    "lang_thresholds = {\n",
    "    'java': [0.6, 0.5, 0.25, 0.4, 0.55, 0.5, 0.3],\n",
    "    'python': [0.35, 0.5, 0.5, 0.53, 0.5],\n",
    "    'pharo': [0.5, 0.52, 0.5, 0.45, 0.45, 0.5, 0.25]\n",
    "}"
   ]
  },
  {
   "cell_type": "markdown",
   "metadata": {},
   "source": [
    "## Loading Dataset"
   ]
  },
  {
   "cell_type": "code",
   "execution_count": 4,
   "metadata": {},
   "outputs": [],
   "source": [
    "# Loading dataset\n",
    "ds = load_dataset('NLBSE/nlbse25-code-comment-classification')"
   ]
  },
  {
   "cell_type": "code",
   "execution_count": 5,
   "metadata": {},
   "outputs": [
    {
     "name": "stdout",
     "output_type": "stream",
     "text": [
      "DatasetDict({\n",
      "    java_train: Dataset({\n",
      "        features: ['index', 'class', 'comment_sentence', 'partition', 'combo', 'labels'],\n",
      "        num_rows: 7614\n",
      "    })\n",
      "    java_test: Dataset({\n",
      "        features: ['index', 'class', 'comment_sentence', 'partition', 'combo', 'labels'],\n",
      "        num_rows: 1725\n",
      "    })\n",
      "    python_train: Dataset({\n",
      "        features: ['index', 'class', 'comment_sentence', 'partition', 'combo', 'labels'],\n",
      "        num_rows: 1884\n",
      "    })\n",
      "    python_test: Dataset({\n",
      "        features: ['index', 'class', 'comment_sentence', 'partition', 'combo', 'labels'],\n",
      "        num_rows: 406\n",
      "    })\n",
      "    pharo_train: Dataset({\n",
      "        features: ['index', 'class', 'comment_sentence', 'partition', 'combo', 'labels'],\n",
      "        num_rows: 1298\n",
      "    })\n",
      "    pharo_test: Dataset({\n",
      "        features: ['index', 'class', 'comment_sentence', 'partition', 'combo', 'labels'],\n",
      "        num_rows: 289\n",
      "    })\n",
      "})\n"
     ]
    }
   ],
   "source": [
    "print(ds)"
   ]
  },
  {
   "cell_type": "code",
   "execution_count": 6,
   "metadata": {},
   "outputs": [
    {
     "name": "stdout",
     "output_type": "stream",
     "text": [
      "java positive counts: [3610, 267, 509, 2093, 904, 117, 311]\n",
      "python positive counts: [578, 572, 210, 343, 347]\n",
      "pharo positive counts: [178, 547, 245, 46, 151, 214, 76]\n",
      "{'java': [1.1343465704553701, 3.3849614199534, 2.7700068065004313, 1.5342488312662266, 2.243107490090982, 4.190819564522719, 3.2379846865662474], 'python': [1.4491554380720215, 1.457150297887235, 2.2997238607130135, 1.8706802200914276, 1.8608804144856734], 'pharo': [2.115307454868333, 1.2157857540526464, 1.8402256418184337, 3.374764124594, 2.261349105505758, 1.955212541717627, 2.8947481324959634]}\n"
     ]
    }
   ],
   "source": [
    "# Calculate weights based on distributions\n",
    "lang_weights = {}\n",
    "for lang in classification_langs:\n",
    "    num_labels = len(classification_labels[lang])\n",
    "    positive_counts = [0] * num_labels\n",
    "    total_counts = [0] * num_labels\n",
    "    \n",
    "    for i in ds[f'{lang}_train']:\n",
    "        for j in range(num_labels):\n",
    "            if i['labels'][j] == 1:\n",
    "                positive_counts[j] += 1\n",
    "            total_counts[j] += 1\n",
    "    \n",
    "    print(f'{lang} positive counts: {positive_counts}')\n",
    "    \n",
    "    # assign weights with logarithmic scaling\n",
    "    lang_weights[lang] = [np.log(1 + (total_counts[j] / positive_counts[j])) for j in range(num_labels)]\n",
    "    \n",
    "    # assign balanced weights\n",
    "    #lang_weights[lang] = [total_counts[j] / (2 * positive_counts[j]) for j in range(num_labels)]\n",
    "\n",
    "print(lang_weights)"
   ]
  },
  {
   "cell_type": "markdown",
   "metadata": {},
   "source": [
    "### Parameters"
   ]
  },
  {
   "cell_type": "code",
   "execution_count": 7,
   "metadata": {},
   "outputs": [],
   "source": [
    "model_name = 'distilgpt2' # model name\n",
    "add_class_name = False # add class name to the input text"
   ]
  },
  {
   "cell_type": "markdown",
   "metadata": {},
   "source": [
    "### Preprocessing functions"
   ]
  },
  {
   "cell_type": "code",
   "execution_count": 8,
   "metadata": {},
   "outputs": [],
   "source": [
    "def preprocess_java(comment, class_name, labels=None, max_length=256):\n",
    "    # Create dataset object\n",
    "    output = []\n",
    "    \n",
    "    for i in range(len(comment)):\n",
    "        text = comment[i]\n",
    "        \n",
    "        # remove entirety of html lists\n",
    "        # text = re.sub(r'<ol>[.\\s\\S]*?<\\/ol>', '', text)\n",
    "        \n",
    "        # remove html tags\n",
    "        text = re.sub(r'<.*?>', '', text)\n",
    "        \n",
    "        # remove bullets\n",
    "        text = re.sub(r'\\s\\*', '', text)\n",
    "        \n",
    "        # remove bulleted lines\n",
    "        #text = re.sub(r'\\n\\s*\\*.*', '', text)\n",
    "        \n",
    "        # remove curly braced sections\n",
    "        #text = re.sub(r'\\{.*?\\}', '', text)\n",
    "        \n",
    "        # remove // comments\n",
    "        # text = re.sub(r'\\s*\\/\\/.*', '', text)\n",
    "        \n",
    "        # remove formatting for // comments\n",
    "        text = re.sub(r'\\/\\/', '', text)\n",
    "        \n",
    "        # remove formatting for /* */ comments\n",
    "        text = re.sub(r'\\/\\*.|\\*\\/', '', text)\n",
    "        \n",
    "        # remove multiple spaces\n",
    "        text = re.sub(r'\\s+', ' ', text)\n",
    "        \n",
    "        # Add class name\n",
    "        if add_class_name:\n",
    "            text = class_name[i] + ': ' + text\n",
    "        \n",
    "        # truncate middle\n",
    "        #if (len(text) > max_length):\n",
    "        #    text = text[:(int(max_length/2)-4)] + ' ... ' + text[-(int(max_length/2)-4):]\n",
    "        \n",
    "        # truncate end\n",
    "        if (len(text) > max_length):\n",
    "            text = text[:max_length]\n",
    "        \n",
    "        # Build dictionary\n",
    "        if labels is not None:\n",
    "            output.append({\n",
    "                'text': text,\n",
    "                'label': labels[i]\n",
    "            })\n",
    "        else:\n",
    "            output.append({\n",
    "                'text': text,\n",
    "                'label': [0, 0, 0, 0, 0, 0, 0]\n",
    "            })\n",
    "    \n",
    "    return output"
   ]
  },
  {
   "cell_type": "code",
   "execution_count": 9,
   "metadata": {},
   "outputs": [],
   "source": [
    "def preprocess_python(comment, class_name, labels=None, max_length=256):\n",
    "    output = []\n",
    "    \n",
    "    for i in range(len(comment)):\n",
    "        text = comment[i]\n",
    "        \n",
    "        # Add class name\n",
    "        #text = class_name[i] + ': ' + text\n",
    "        \n",
    "        # truncate\n",
    "        #if (len(text) > max_length):\n",
    "        #    text = text[:(int(max_length/2)-4)] + ' ... ' + text[-(int(max_length/2)-4):]\n",
    "        \n",
    "        # remove multiple spaces\n",
    "        text = re.sub(r'\\s+', ' ', text)\n",
    "        \n",
    "        # remove special characters\n",
    "        text = re.sub(r'[^a-zA-Z0-9\\s]', '', text)\n",
    "        \n",
    "        # truncate end\n",
    "        if (len(text) > max_length):\n",
    "            text = text[:max_length]\n",
    "        \n",
    "        # Build dictionary\n",
    "        if labels is not None:\n",
    "            output.append({\n",
    "                'text': text,\n",
    "                'label': labels[i]\n",
    "            })\n",
    "        else:\n",
    "            output.append({\n",
    "                'text': text,\n",
    "                'label': [0, 0, 0, 0, 0]\n",
    "            })\n",
    "    \n",
    "    return output"
   ]
  },
  {
   "cell_type": "code",
   "execution_count": 10,
   "metadata": {},
   "outputs": [],
   "source": [
    "def preprocess_pharo(comment, class_name, labels=None, max_length=256):\n",
    "    output = []\n",
    "    \n",
    "    for i in range(len(comment)):\n",
    "        text = comment[i]\n",
    "        \n",
    "        # Add class name\n",
    "        #text = class_name[i] + ': ' + text\n",
    "        \n",
    "        # truncate\n",
    "        #if (len(text) > max_length):\n",
    "        #    text = text[:(int(max_length/2)-4)] + ' ... ' + text[-(int(max_length/2)-4):]\n",
    "        \n",
    "        # truncate end\n",
    "        if (len(text) > max_length):\n",
    "            text = text[:max_length]\n",
    "        \n",
    "        # remove multiple spaces\n",
    "        text = re.sub(r'\\s+', ' ', text)\n",
    "        \n",
    "        # remove \"i \" and \"i am \" from sentences\n",
    "        text = re.sub(r'i\\s' , '', text)\n",
    "        text = re.sub(r'i\\sam\\s', '', text)\n",
    "        \n",
    "        # remove special characters\n",
    "        text = re.sub(r'[^a-zA-Z0-9\\s]', '', text)\n",
    "        \n",
    "        # Build dictionary\n",
    "        if labels is not None:\n",
    "            output.append({\n",
    "                'text': text,\n",
    "                'label': labels[i]\n",
    "            })\n",
    "        else:\n",
    "            output.append({\n",
    "                'text': text,\n",
    "                'label': [0, 0, 0, 0, 0, 0, 0]\n",
    "            })\n",
    "    \n",
    "    return output"
   ]
  },
  {
   "cell_type": "markdown",
   "metadata": {},
   "source": [
    "### GPT2 Collator"
   ]
  },
  {
   "cell_type": "code",
   "execution_count": 11,
   "metadata": {},
   "outputs": [],
   "source": [
    "# Collator object for GPT2, which will tokenize the text\n",
    "class GPT2_collator(object):\n",
    "    def __init__(self, tokenizer, max_length):\n",
    "        self.tokenizer = tokenizer\n",
    "        self.max_length = max_length\n",
    "\n",
    "    def __call__(self, sequences):\n",
    "        texts = [sequence['text'] for sequence in sequences]\n",
    "        labels = [sequence['label'] for sequence in sequences]\n",
    "        \n",
    "        inputs = self.tokenizer(text=texts, return_tensors='pt', padding='max_length', truncation=True, max_length=self.max_length)\n",
    "        inputs.update({'labels': torch.tensor(labels)})\n",
    "        \n",
    "        return inputs"
   ]
  },
  {
   "cell_type": "markdown",
   "metadata": {},
   "source": [
    "### Train, Validate, and Predict"
   ]
  },
  {
   "cell_type": "code",
   "execution_count": 12,
   "metadata": {},
   "outputs": [],
   "source": [
    "# Training function, updates model weights\n",
    "def train(model, dataloader, optimizer, scheduler, loss_fn, max_batches=None):\n",
    "    global device\n",
    "    \n",
    "    model.train()\n",
    "    \n",
    "    pred_labels = []\n",
    "    true_labels = []\n",
    "    total_loss = 0\n",
    "    \n",
    "    batches_processed = 0\n",
    "    \n",
    "    for batch in tqdm(dataloader, total=len(dataloader)):\n",
    "        if max_batches is not None and batches_processed >= max_batches:\n",
    "            break\n",
    "        \n",
    "        inputs = {k: v.to(device) for k, v in batch.items() if k != 'labels'}\n",
    "        labels = batch['labels'].to(device)\n",
    "        \n",
    "        outputs = model(**inputs)\n",
    "        \n",
    "        loss = loss_fn(outputs.logits, labels.float())\n",
    "        total_loss += loss.item()\n",
    "        \n",
    "        loss.backward()\n",
    "        torch.nn.utils.clip_grad_norm_(model.parameters(), 1.0)\n",
    "        optimizer.step()\n",
    "        scheduler.step()\n",
    "        optimizer.zero_grad()\n",
    "        \n",
    "        probs = torch.sigmoid(outputs.logits)\n",
    "        preds = (probs > 0.5).int()\n",
    "        \n",
    "        pred_labels.extend(preds.cpu().numpy())\n",
    "        true_labels.extend(labels.cpu().numpy())\n",
    "        \n",
    "        batches_processed += 1\n",
    "    \n",
    "    avg_epoch_loss = total_loss / batches_processed\n",
    "    \n",
    "    return pred_labels, true_labels, avg_epoch_loss"
   ]
  },
  {
   "cell_type": "code",
   "execution_count": 13,
   "metadata": {},
   "outputs": [],
   "source": [
    "# For validation, no updating\n",
    "def validate(model, dataloader, loss_fn, thresholds, max_batches=None):\n",
    "    global device\n",
    "    \n",
    "    model.eval()\n",
    "    \n",
    "    pred_labels = []\n",
    "    true_labels = []\n",
    "    total_loss = 0\n",
    "    \n",
    "    batches_processed = 0\n",
    "    \n",
    "    for batch in tqdm(dataloader, total=len(dataloader)):\n",
    "        if max_batches is not None and batches_processed >= max_batches:\n",
    "            break\n",
    "        \n",
    "        inputs = {k: v.to(device) for k, v in batch.items() if k != 'labels'}\n",
    "        labels = batch['labels'].to(device)\n",
    "        \n",
    "        outputs = model(**inputs)\n",
    "        \n",
    "        loss = loss_fn(outputs.logits, labels.float())\n",
    "        total_loss += loss.item()\n",
    "        \n",
    "        probs = torch.sigmoid(outputs.logits)\n",
    "        preds = (probs > thresholds).int()\n",
    "        \n",
    "        pred_labels.extend(preds.cpu().numpy())\n",
    "        true_labels.extend(labels.cpu().numpy())\n",
    "        \n",
    "        batches_processed += 1\n",
    "    \n",
    "    avg_epoch_loss = total_loss / batches_processed\n",
    "    \n",
    "    return pred_labels, true_labels, avg_epoch_loss"
   ]
  },
  {
   "cell_type": "code",
   "execution_count": 14,
   "metadata": {},
   "outputs": [],
   "source": [
    "# Inferencing function\n",
    "def predict(model, dataloader, thresholds):\n",
    "    global device\n",
    "    \n",
    "    model.eval()\n",
    "    \n",
    "    pred_labels = []\n",
    "    probs_list = []\n",
    "    \n",
    "    for batch in tqdm(dataloader, total=len(dataloader)):\n",
    "        inputs = {k: v.to(device) for k, v in batch.items() if k != 'labels'}\n",
    "        \n",
    "        with torch.amp.autocast(device_type=str(device)):\n",
    "            outputs = model(**inputs)\n",
    "        \n",
    "        probs = torch.sigmoid(outputs.logits)\n",
    "        preds = (probs > thresholds).int()\n",
    "        \n",
    "        probs_list.extend(probs.detach().cpu().numpy())\n",
    "        pred_labels.extend(preds.cpu().numpy())\n",
    "    \n",
    "    return pred_labels, probs_list"
   ]
  },
  {
   "cell_type": "markdown",
   "metadata": {},
   "source": [
    "### Setup"
   ]
  },
  {
   "cell_type": "code",
   "execution_count": 15,
   "metadata": {},
   "outputs": [],
   "source": [
    "# Model setup and training\n",
    "def build_model(lang, save=False, optimizer='Lion', learning_rate=None, num_epochs=None, batch_size=8, max_length=512):\n",
    "    global device\n",
    "    \n",
    "    num_labels = len(classification_labels[lang])\n",
    "    \n",
    "    if learning_rate is None:\n",
    "        learning_rate = lang_learning_rates[lang]\n",
    "    if num_epochs is None:\n",
    "        num_epochs = lang_epochs[lang]\n",
    "    \n",
    "    # Setup\n",
    "    print('Setting config...')\n",
    "    model_config = GPT2Config.from_pretrained(\n",
    "        model_name,\n",
    "        num_labels=num_labels,\n",
    "        id2label={str(i): label for i, label in enumerate(classification_labels[lang])},\n",
    "        label2id={label: i for i, label in enumerate(classification_labels[lang])},\n",
    "        problem_type='multi_label_classification',\n",
    "        hidden_dropout_prob=0.3,\n",
    "    )\n",
    "\n",
    "    print('Loading tokenizer...')\n",
    "    tokenizer = GPT2Tokenizer.from_pretrained(model_name)\n",
    "    tokenizer.padding_side = 'left'\n",
    "    tokenizer.pad_token = tokenizer.eos_token\n",
    "\n",
    "    print('Loading model...')\n",
    "    model = GPT2ForSequenceClassification.from_pretrained(model_name, config=model_config)\n",
    "    model.resize_token_embeddings(len(tokenizer))\n",
    "    model.config.pad_token_id = tokenizer.eos_token_id\n",
    "    model.to(device)\n",
    "    \n",
    "    collator = GPT2_collator(tokenizer, max_length)\n",
    "    \n",
    "    # Prepare data\n",
    "    print('Preparing data...')\n",
    "    if lang == 'java':\n",
    "        train_data = preprocess_java(ds['java_train']['comment_sentence'], ds['java_train']['class'], ds['java_train']['labels'], max_length)\n",
    "        eval_data = preprocess_java(ds['java_test']['comment_sentence'], ds['java_train']['class'], ds['java_test']['labels'], max_length)\n",
    "    elif lang == 'python':\n",
    "        train_data = preprocess_python(ds['python_train']['comment_sentence'], ds['python_train']['class'], ds['python_train']['labels'], max_length)\n",
    "        eval_data = preprocess_python(ds['python_test']['comment_sentence'], ds['python_train']['class'], ds['python_test']['labels'], max_length)\n",
    "    elif lang == 'pharo':\n",
    "        train_data = preprocess_pharo(ds['pharo_train']['comment_sentence'], ds['pharo_train']['class'], ds['pharo_train']['labels'], max_length)\n",
    "        eval_data = preprocess_pharo(ds['pharo_test']['comment_sentence'], ds['pharo_train']['class'], ds['pharo_test']['labels'], max_length)\n",
    "    \n",
    "    train_dataloader = torch.utils.data.DataLoader(train_data, batch_size=batch_size, shuffle=True, collate_fn=collator)\n",
    "    eval_dataloader = torch.utils.data.DataLoader(eval_data, batch_size=batch_size, shuffle=False, collate_fn=collator)\n",
    "    \n",
    "    # Training\n",
    "    print('Training...')\n",
    "    opt = None\n",
    "    if optimizer == 'AdamW':\n",
    "        opt = AdamW(model.parameters(), lr = learning_rate, weight_decay=0.01)\n",
    "    elif optimizer == 'Lion':\n",
    "        opt = Lion(model.parameters(), lr = learning_rate)\n",
    "    else:\n",
    "        raise ValueError('Invalid optimizer ' + optimizer)\n",
    "    total_steps = len(train_dataloader) * num_epochs\n",
    "    scheduler = get_linear_schedule_with_warmup(opt, num_warmup_steps=100, num_training_steps=total_steps)\n",
    "    loss_fn = torch.nn.BCEWithLogitsLoss(weight=torch.tensor(lang_weights[lang]).to(device))\n",
    "    thresholds = torch.tensor(lang_thresholds[lang]).to(device)\n",
    "    \n",
    "    loss_list = []\n",
    "    accuracy_list = []\n",
    "    eval_loss_list = []\n",
    "    eval_accuracy_list = []\n",
    "\n",
    "    max_batches = None # Set to None to run all batches, or a number to run a limited number of batches for testing\n",
    "    for epoch in tqdm(range(num_epochs)):\n",
    "        train_labels, true_labels, train_loss = train(model, train_dataloader, opt, scheduler, loss_fn, max_batches)\n",
    "        train_accuracy = accuracy_score(true_labels, train_labels)\n",
    "        loss_list.append(train_loss)\n",
    "        accuracy_list.append(train_accuracy)\n",
    "        print(f'Epoch {epoch+1}/{num_epochs} - Train Loss: {train_loss}, Train Accuracy: {train_accuracy}')\n",
    "        \n",
    "        eval_labels, true_labels, eval_loss = validate(model, eval_dataloader, loss_fn, thresholds, max_batches)\n",
    "        eval_accuracy = accuracy_score(true_labels, eval_labels)\n",
    "        eval_loss_list.append(eval_loss)\n",
    "        eval_accuracy_list.append(eval_accuracy)\n",
    "        print(f'Epoch {epoch+1}/{num_epochs} - Eval Loss:  {eval_loss}, Eval Accuracy:  {eval_accuracy}')\n",
    "    \n",
    "    # Save model\n",
    "    if save:\n",
    "        model.save_pretrained(f'./models/{lang}')\n",
    "        tokenizer.save_pretrained(f'./models/{lang}')\n",
    "    \n",
    "    return model, tokenizer, loss_list, accuracy_list, eval_loss_list, eval_accuracy_list"
   ]
  },
  {
   "cell_type": "markdown",
   "metadata": {},
   "source": [
    "## Building our Models"
   ]
  },
  {
   "cell_type": "code",
   "execution_count": 16,
   "metadata": {},
   "outputs": [
    {
     "name": "stdout",
     "output_type": "stream",
     "text": [
      "Setting config...\n",
      "Loading tokenizer...\n"
     ]
    },
    {
     "name": "stderr",
     "output_type": "stream",
     "text": [
      "Some weights of GPT2ForSequenceClassification were not initialized from the model checkpoint at distilgpt2 and are newly initialized: ['score.weight']\n",
      "You should probably TRAIN this model on a down-stream task to be able to use it for predictions and inference.\n"
     ]
    },
    {
     "name": "stdout",
     "output_type": "stream",
     "text": [
      "Loading model...\n",
      "Preparing data...\n",
      "Training...\n"
     ]
    },
    {
     "data": {
      "application/vnd.jupyter.widget-view+json": {
       "model_id": "90273f13d2da4106ab37bf7d835382c3",
       "version_major": 2,
       "version_minor": 0
      },
      "text/plain": [
       "  0%|          | 0/2 [00:00<?, ?it/s]"
      ]
     },
     "metadata": {},
     "output_type": "display_data"
    },
    {
     "data": {
      "application/vnd.jupyter.widget-view+json": {
       "model_id": "7169ad2f61b944a58ec33bc6a526585b",
       "version_major": 2,
       "version_minor": 0
      },
      "text/plain": [
       "  0%|          | 0/952 [00:00<?, ?it/s]"
      ]
     },
     "metadata": {},
     "output_type": "display_data"
    },
    {
     "name": "stdout",
     "output_type": "stream",
     "text": [
      "Epoch 1/2 - Train Loss: 0.5974052832970599, Train Accuracy: 0.4806934594168637\n"
     ]
    },
    {
     "data": {
      "application/vnd.jupyter.widget-view+json": {
       "model_id": "3ca26a70778b44c4a687d8967198ca54",
       "version_major": 2,
       "version_minor": 0
      },
      "text/plain": [
       "  0%|          | 0/216 [00:00<?, ?it/s]"
      ]
     },
     "metadata": {},
     "output_type": "display_data"
    },
    {
     "name": "stdout",
     "output_type": "stream",
     "text": [
      "Epoch 1/2 - Eval Loss:  0.33144882279534443, Eval Accuracy:  0.7878260869565218\n"
     ]
    },
    {
     "data": {
      "application/vnd.jupyter.widget-view+json": {
       "model_id": "deeba36b78f84bf79f23791443ee634a",
       "version_major": 2,
       "version_minor": 0
      },
      "text/plain": [
       "  0%|          | 0/952 [00:00<?, ?it/s]"
      ]
     },
     "metadata": {},
     "output_type": "display_data"
    },
    {
     "name": "stdout",
     "output_type": "stream",
     "text": [
      "Epoch 2/2 - Train Loss: 0.32544050008418557, Train Accuracy: 0.7683215130023641\n"
     ]
    },
    {
     "data": {
      "application/vnd.jupyter.widget-view+json": {
       "model_id": "aed25b9659014ab4a02d5fcad1fab2d3",
       "version_major": 2,
       "version_minor": 0
      },
      "text/plain": [
       "  0%|          | 0/216 [00:00<?, ?it/s]"
      ]
     },
     "metadata": {},
     "output_type": "display_data"
    },
    {
     "name": "stdout",
     "output_type": "stream",
     "text": [
      "Epoch 2/2 - Eval Loss:  0.2997130256866243, Eval Accuracy:  0.7495652173913043\n",
      "Setting config...\n",
      "Loading tokenizer...\n",
      "Loading model...\n"
     ]
    },
    {
     "name": "stderr",
     "output_type": "stream",
     "text": [
      "Some weights of GPT2ForSequenceClassification were not initialized from the model checkpoint at distilgpt2 and are newly initialized: ['score.weight']\n",
      "You should probably TRAIN this model on a down-stream task to be able to use it for predictions and inference.\n"
     ]
    },
    {
     "name": "stdout",
     "output_type": "stream",
     "text": [
      "Preparing data...\n",
      "Training...\n"
     ]
    },
    {
     "data": {
      "application/vnd.jupyter.widget-view+json": {
       "model_id": "eb2089f34f5240f5bf22b181e7832a7f",
       "version_major": 2,
       "version_minor": 0
      },
      "text/plain": [
       "  0%|          | 0/4 [00:00<?, ?it/s]"
      ]
     },
     "metadata": {},
     "output_type": "display_data"
    },
    {
     "data": {
      "application/vnd.jupyter.widget-view+json": {
       "model_id": "9cb9b8b8d1e5401a8a2f0b6858ba422d",
       "version_major": 2,
       "version_minor": 0
      },
      "text/plain": [
       "  0%|          | 0/236 [00:00<?, ?it/s]"
      ]
     },
     "metadata": {},
     "output_type": "display_data"
    },
    {
     "name": "stdout",
     "output_type": "stream",
     "text": [
      "Epoch 1/4 - Train Loss: 0.8585818851903334, Train Accuracy: 0.160828025477707\n"
     ]
    },
    {
     "data": {
      "application/vnd.jupyter.widget-view+json": {
       "model_id": "b499dcb27ae14d8fa4895c792fa3f9f5",
       "version_major": 2,
       "version_minor": 0
      },
      "text/plain": [
       "  0%|          | 0/51 [00:00<?, ?it/s]"
      ]
     },
     "metadata": {},
     "output_type": "display_data"
    },
    {
     "name": "stdout",
     "output_type": "stream",
     "text": [
      "Epoch 1/4 - Eval Loss:  0.7667592880772609, Eval Accuracy:  0.24876847290640394\n"
     ]
    },
    {
     "data": {
      "application/vnd.jupyter.widget-view+json": {
       "model_id": "b208f1b76794430c980fac20bb054b11",
       "version_major": 2,
       "version_minor": 0
      },
      "text/plain": [
       "  0%|          | 0/236 [00:00<?, ?it/s]"
      ]
     },
     "metadata": {},
     "output_type": "display_data"
    },
    {
     "name": "stdout",
     "output_type": "stream",
     "text": [
      "Epoch 2/4 - Train Loss: 0.637594517257254, Train Accuracy: 0.49150743099787686\n"
     ]
    },
    {
     "data": {
      "application/vnd.jupyter.widget-view+json": {
       "model_id": "7daed90b57324b3392e9ff149dde2ace",
       "version_major": 2,
       "version_minor": 0
      },
      "text/plain": [
       "  0%|          | 0/51 [00:00<?, ?it/s]"
      ]
     },
     "metadata": {},
     "output_type": "display_data"
    },
    {
     "name": "stdout",
     "output_type": "stream",
     "text": [
      "Epoch 2/4 - Eval Loss:  0.7705750152760861, Eval Accuracy:  0.4014778325123153\n"
     ]
    },
    {
     "data": {
      "application/vnd.jupyter.widget-view+json": {
       "model_id": "a6578085473c407f8b513c9e77667d7b",
       "version_major": 2,
       "version_minor": 0
      },
      "text/plain": [
       "  0%|          | 0/236 [00:00<?, ?it/s]"
      ]
     },
     "metadata": {},
     "output_type": "display_data"
    },
    {
     "name": "stdout",
     "output_type": "stream",
     "text": [
      "Epoch 3/4 - Train Loss: 0.38016995051244307, Train Accuracy: 0.7208067940552016\n"
     ]
    },
    {
     "data": {
      "application/vnd.jupyter.widget-view+json": {
       "model_id": "c9cfa271a1734368882dcc524f33baa3",
       "version_major": 2,
       "version_minor": 0
      },
      "text/plain": [
       "  0%|          | 0/51 [00:00<?, ?it/s]"
      ]
     },
     "metadata": {},
     "output_type": "display_data"
    },
    {
     "name": "stdout",
     "output_type": "stream",
     "text": [
      "Epoch 3/4 - Eval Loss:  0.9150694024329092, Eval Accuracy:  0.4482758620689655\n"
     ]
    },
    {
     "data": {
      "application/vnd.jupyter.widget-view+json": {
       "model_id": "977b08ccfdb6480183f884fc7ccf75c9",
       "version_major": 2,
       "version_minor": 0
      },
      "text/plain": [
       "  0%|          | 0/236 [00:00<?, ?it/s]"
      ]
     },
     "metadata": {},
     "output_type": "display_data"
    },
    {
     "name": "stdout",
     "output_type": "stream",
     "text": [
      "Epoch 4/4 - Train Loss: 0.2124006086585538, Train Accuracy: 0.8455414012738853\n"
     ]
    },
    {
     "data": {
      "application/vnd.jupyter.widget-view+json": {
       "model_id": "fe15f02bde1a4cb6a5c7afc7f40193bd",
       "version_major": 2,
       "version_minor": 0
      },
      "text/plain": [
       "  0%|          | 0/51 [00:00<?, ?it/s]"
      ]
     },
     "metadata": {},
     "output_type": "display_data"
    },
    {
     "name": "stdout",
     "output_type": "stream",
     "text": [
      "Epoch 4/4 - Eval Loss:  1.262956494209813, Eval Accuracy:  0.45320197044334976\n",
      "Setting config...\n",
      "Loading tokenizer...\n"
     ]
    },
    {
     "name": "stderr",
     "output_type": "stream",
     "text": [
      "Some weights of GPT2ForSequenceClassification were not initialized from the model checkpoint at distilgpt2 and are newly initialized: ['score.weight']\n",
      "You should probably TRAIN this model on a down-stream task to be able to use it for predictions and inference.\n"
     ]
    },
    {
     "name": "stdout",
     "output_type": "stream",
     "text": [
      "Loading model...\n",
      "Preparing data...\n",
      "Training...\n"
     ]
    },
    {
     "data": {
      "application/vnd.jupyter.widget-view+json": {
       "model_id": "6d95fcc44b324c9dac61daf1cbf76a6c",
       "version_major": 2,
       "version_minor": 0
      },
      "text/plain": [
       "  0%|          | 0/4 [00:00<?, ?it/s]"
      ]
     },
     "metadata": {},
     "output_type": "display_data"
    },
    {
     "data": {
      "application/vnd.jupyter.widget-view+json": {
       "model_id": "cf1e315010f94de6998a157075fa055c",
       "version_major": 2,
       "version_minor": 0
      },
      "text/plain": [
       "  0%|          | 0/163 [00:00<?, ?it/s]"
      ]
     },
     "metadata": {},
     "output_type": "display_data"
    },
    {
     "name": "stdout",
     "output_type": "stream",
     "text": [
      "Epoch 1/4 - Train Loss: 0.7988481097426151, Train Accuracy: 0.19722650231124808\n"
     ]
    },
    {
     "data": {
      "application/vnd.jupyter.widget-view+json": {
       "model_id": "c35ef206eb1c4f4f9fe5b78420c96706",
       "version_major": 2,
       "version_minor": 0
      },
      "text/plain": [
       "  0%|          | 0/37 [00:00<?, ?it/s]"
      ]
     },
     "metadata": {},
     "output_type": "display_data"
    },
    {
     "name": "stdout",
     "output_type": "stream",
     "text": [
      "Epoch 1/4 - Eval Loss:  0.5802314656006323, Eval Accuracy:  0.3044982698961938\n"
     ]
    },
    {
     "data": {
      "application/vnd.jupyter.widget-view+json": {
       "model_id": "7157e10519d4435aa9b40fb064c9743d",
       "version_major": 2,
       "version_minor": 0
      },
      "text/plain": [
       "  0%|          | 0/163 [00:00<?, ?it/s]"
      ]
     },
     "metadata": {},
     "output_type": "display_data"
    },
    {
     "name": "stdout",
     "output_type": "stream",
     "text": [
      "Epoch 2/4 - Train Loss: 0.5822018216724044, Train Accuracy: 0.43143297380585516\n"
     ]
    },
    {
     "data": {
      "application/vnd.jupyter.widget-view+json": {
       "model_id": "e6e1ec2ff5d64f378a707cd26651eaab",
       "version_major": 2,
       "version_minor": 0
      },
      "text/plain": [
       "  0%|          | 0/37 [00:00<?, ?it/s]"
      ]
     },
     "metadata": {},
     "output_type": "display_data"
    },
    {
     "name": "stdout",
     "output_type": "stream",
     "text": [
      "Epoch 2/4 - Eval Loss:  0.6973410116860995, Eval Accuracy:  0.4290657439446367\n"
     ]
    },
    {
     "data": {
      "application/vnd.jupyter.widget-view+json": {
       "model_id": "627dbfc039f1464c890833e38befa2af",
       "version_major": 2,
       "version_minor": 0
      },
      "text/plain": [
       "  0%|          | 0/163 [00:00<?, ?it/s]"
      ]
     },
     "metadata": {},
     "output_type": "display_data"
    },
    {
     "name": "stdout",
     "output_type": "stream",
     "text": [
      "Epoch 3/4 - Train Loss: 0.3916296075823848, Train Accuracy: 0.6818181818181818\n"
     ]
    },
    {
     "data": {
      "application/vnd.jupyter.widget-view+json": {
       "model_id": "b3294e6623644624a244d9fbaec3c0f1",
       "version_major": 2,
       "version_minor": 0
      },
      "text/plain": [
       "  0%|          | 0/37 [00:00<?, ?it/s]"
      ]
     },
     "metadata": {},
     "output_type": "display_data"
    },
    {
     "name": "stdout",
     "output_type": "stream",
     "text": [
      "Epoch 3/4 - Eval Loss:  0.8188515889357675, Eval Accuracy:  0.4982698961937716\n"
     ]
    },
    {
     "data": {
      "application/vnd.jupyter.widget-view+json": {
       "model_id": "3a43289fe0044d438d3b136f2028419c",
       "version_major": 2,
       "version_minor": 0
      },
      "text/plain": [
       "  0%|          | 0/163 [00:00<?, ?it/s]"
      ]
     },
     "metadata": {},
     "output_type": "display_data"
    },
    {
     "name": "stdout",
     "output_type": "stream",
     "text": [
      "Epoch 4/4 - Train Loss: 0.22148397682499615, Train Accuracy: 0.8320493066255779\n"
     ]
    },
    {
     "data": {
      "application/vnd.jupyter.widget-view+json": {
       "model_id": "069044671f4b44c2a6410519bf323dc1",
       "version_major": 2,
       "version_minor": 0
      },
      "text/plain": [
       "  0%|          | 0/37 [00:00<?, ?it/s]"
      ]
     },
     "metadata": {},
     "output_type": "display_data"
    },
    {
     "name": "stdout",
     "output_type": "stream",
     "text": [
      "Epoch 4/4 - Eval Loss:  0.8721002574217178, Eval Accuracy:  0.5259515570934256\n"
     ]
    }
   ],
   "source": [
    "optimizer = 'AdamW'\n",
    "batch_size = 8\n",
    "max_length = 256\n",
    "\n",
    "from_pretrained = False\n",
    "\n",
    "if from_pretrained:\n",
    "    java_model = GPT2ForSequenceClassification.from_pretrained('./models/java')\n",
    "    java_tokenizer = GPT2Tokenizer.from_pretrained('./models/java')\n",
    "    python_model = GPT2ForSequenceClassification.from_pretrained('./models/python')\n",
    "    python_tokenizer = GPT2Tokenizer.from_pretrained('./models/python')\n",
    "    pharo_model = GPT2ForSequenceClassification.from_pretrained('./models/pharo')\n",
    "    pharo_tokenizer = GPT2Tokenizer.from_pretrained('./models/pharo')\n",
    "    \n",
    "    java_model.to(device)\n",
    "    python_model.to(device)\n",
    "    pharo_model.to(device)\n",
    "else:\n",
    "    java_model, java_tokenizer, java_loss_list, java_accuracy_list, java_eval_loss_list, java_eval_accuracy_list = build_model('java', save=True, optimizer=optimizer, batch_size=batch_size, max_length=max_length)\n",
    "    python_model, python_tokenizer, python_loss_list, python_accuracy_list, python_eval_loss_list, python_eval_accuracy_list = build_model('python', save=True, optimizer=optimizer, batch_size=batch_size, max_length=max_length)\n",
    "    pharo_model, pharo_tokenizer, pharo_loss_list, pharo_accuracy_list, pharo_eval_loss_list, pharo_eval_accuracy_list = build_model('pharo', save=True, optimizer=optimizer, batch_size=batch_size, max_length=max_length)"
   ]
  },
  {
   "cell_type": "markdown",
   "metadata": {},
   "source": [
    "## Analysis"
   ]
  },
  {
   "cell_type": "code",
   "execution_count": 17,
   "metadata": {},
   "outputs": [
    {
     "data": {
      "application/vnd.jupyter.widget-view+json": {
       "model_id": "c8512de08af0457cacba7edc425c1fc2",
       "version_major": 2,
       "version_minor": 0
      },
      "text/plain": [
       "  0%|          | 0/216 [00:00<?, ?it/s]"
      ]
     },
     "metadata": {},
     "output_type": "display_data"
    },
    {
     "data": {
      "application/vnd.jupyter.widget-view+json": {
       "model_id": "7afedcdab5bd4fffac07bd0c4e039579",
       "version_major": 2,
       "version_minor": 0
      },
      "text/plain": [
       "  0%|          | 0/51 [00:00<?, ?it/s]"
      ]
     },
     "metadata": {},
     "output_type": "display_data"
    },
    {
     "data": {
      "application/vnd.jupyter.widget-view+json": {
       "model_id": "9aae8f9ce0a04a6dab14cdf04c26a76d",
       "version_major": 2,
       "version_minor": 0
      },
      "text/plain": [
       "  0%|          | 0/37 [00:00<?, ?it/s]"
      ]
     },
     "metadata": {},
     "output_type": "display_data"
    }
   ],
   "source": [
    "\n",
    "# Do classification report\n",
    "def do_classification_report(model, tokenizer, lang):\n",
    "    eval_data = preprocess_java(ds[f'{lang}_test']['comment_sentence'], ds[f'{lang}_train']['class'], ds[f'{lang}_test']['labels'])\n",
    "    eval_dataloader = torch.utils.data.DataLoader(eval_data, batch_size=batch_size, shuffle=False, collate_fn=GPT2_collator(tokenizer, max_length))\n",
    "    eval_labels, eval_probs = predict(model, eval_dataloader, torch.tensor(lang_thresholds[lang]).to(device))\n",
    "    eval_labels = np.array(eval_labels)\n",
    "    eval_probs = np.array(eval_probs)\n",
    "    true_labels = np.array([sequence['label'] for sequence in eval_data])\n",
    "    report = classification_report(true_labels, eval_labels, target_names=classification_labels[lang])\n",
    "    return eval_labels, eval_probs, true_labels, report\n",
    "\n",
    "java_eval_labels, java_eval_probs, java_true_labels, java_report = do_classification_report(java_model, java_tokenizer, 'java')\n",
    "python_eval_labels, python_eval_probs, python_true_labels, python_report = do_classification_report(python_model, python_tokenizer, 'python')\n",
    "pharo_eval_labels, pharo_eval_probs, pharo_true_labels, pharo_report = do_classification_report(pharo_model, pharo_tokenizer, 'pharo')"
   ]
  },
  {
   "cell_type": "code",
   "execution_count": 18,
   "metadata": {},
   "outputs": [
    {
     "data": {
      "text/html": [
       "<div>\n",
       "<style scoped>\n",
       "    .dataframe tbody tr th:only-of-type {\n",
       "        vertical-align: middle;\n",
       "    }\n",
       "\n",
       "    .dataframe tbody tr th {\n",
       "        vertical-align: top;\n",
       "    }\n",
       "\n",
       "    .dataframe thead th {\n",
       "        text-align: right;\n",
       "    }\n",
       "</style>\n",
       "<table border=\"1\" class=\"dataframe\">\n",
       "  <thead>\n",
       "    <tr style=\"text-align: right;\">\n",
       "      <th></th>\n",
       "      <th>lan</th>\n",
       "      <th>cat</th>\n",
       "      <th>precision</th>\n",
       "      <th>recall</th>\n",
       "      <th>f1</th>\n",
       "    </tr>\n",
       "  </thead>\n",
       "  <tbody>\n",
       "    <tr>\n",
       "      <th>0</th>\n",
       "      <td>java</td>\n",
       "      <td>summary</td>\n",
       "      <td>0.85</td>\n",
       "      <td>0.87</td>\n",
       "      <td>0.86</td>\n",
       "    </tr>\n",
       "    <tr>\n",
       "      <th>1</th>\n",
       "      <td>java</td>\n",
       "      <td>Ownership</td>\n",
       "      <td>0.98</td>\n",
       "      <td>1.00</td>\n",
       "      <td>0.99</td>\n",
       "    </tr>\n",
       "    <tr>\n",
       "      <th>2</th>\n",
       "      <td>java</td>\n",
       "      <td>Expand</td>\n",
       "      <td>0.25</td>\n",
       "      <td>0.28</td>\n",
       "      <td>0.27</td>\n",
       "    </tr>\n",
       "    <tr>\n",
       "      <th>3</th>\n",
       "      <td>java</td>\n",
       "      <td>usage</td>\n",
       "      <td>0.81</td>\n",
       "      <td>0.80</td>\n",
       "      <td>0.80</td>\n",
       "    </tr>\n",
       "    <tr>\n",
       "      <th>4</th>\n",
       "      <td>java</td>\n",
       "      <td>Pointer</td>\n",
       "      <td>0.82</td>\n",
       "      <td>0.91</td>\n",
       "      <td>0.86</td>\n",
       "    </tr>\n",
       "    <tr>\n",
       "      <th>5</th>\n",
       "      <td>java</td>\n",
       "      <td>deprecation</td>\n",
       "      <td>1.00</td>\n",
       "      <td>0.20</td>\n",
       "      <td>0.33</td>\n",
       "    </tr>\n",
       "    <tr>\n",
       "      <th>6</th>\n",
       "      <td>java</td>\n",
       "      <td>rational</td>\n",
       "      <td>0.00</td>\n",
       "      <td>0.00</td>\n",
       "      <td>0.00</td>\n",
       "    </tr>\n",
       "    <tr>\n",
       "      <th>0</th>\n",
       "      <td>python</td>\n",
       "      <td>Usage</td>\n",
       "      <td>0.54</td>\n",
       "      <td>0.42</td>\n",
       "      <td>0.47</td>\n",
       "    </tr>\n",
       "    <tr>\n",
       "      <th>1</th>\n",
       "      <td>python</td>\n",
       "      <td>Parameters</td>\n",
       "      <td>0.67</td>\n",
       "      <td>0.59</td>\n",
       "      <td>0.63</td>\n",
       "    </tr>\n",
       "    <tr>\n",
       "      <th>2</th>\n",
       "      <td>python</td>\n",
       "      <td>DevelopmentNotes</td>\n",
       "      <td>0.19</td>\n",
       "      <td>0.34</td>\n",
       "      <td>0.24</td>\n",
       "    </tr>\n",
       "    <tr>\n",
       "      <th>3</th>\n",
       "      <td>python</td>\n",
       "      <td>Expand</td>\n",
       "      <td>0.54</td>\n",
       "      <td>0.42</td>\n",
       "      <td>0.47</td>\n",
       "    </tr>\n",
       "    <tr>\n",
       "      <th>4</th>\n",
       "      <td>python</td>\n",
       "      <td>Summary</td>\n",
       "      <td>0.58</td>\n",
       "      <td>0.46</td>\n",
       "      <td>0.52</td>\n",
       "    </tr>\n",
       "    <tr>\n",
       "      <th>0</th>\n",
       "      <td>pharo</td>\n",
       "      <td>Keyimplementationpoints</td>\n",
       "      <td>0.33</td>\n",
       "      <td>0.30</td>\n",
       "      <td>0.31</td>\n",
       "    </tr>\n",
       "    <tr>\n",
       "      <th>1</th>\n",
       "      <td>pharo</td>\n",
       "      <td>Example</td>\n",
       "      <td>0.73</td>\n",
       "      <td>0.81</td>\n",
       "      <td>0.77</td>\n",
       "    </tr>\n",
       "    <tr>\n",
       "      <th>2</th>\n",
       "      <td>pharo</td>\n",
       "      <td>Responsibilities</td>\n",
       "      <td>0.46</td>\n",
       "      <td>0.42</td>\n",
       "      <td>0.44</td>\n",
       "    </tr>\n",
       "    <tr>\n",
       "      <th>3</th>\n",
       "      <td>pharo</td>\n",
       "      <td>Classreferences</td>\n",
       "      <td>0.25</td>\n",
       "      <td>0.25</td>\n",
       "      <td>0.25</td>\n",
       "    </tr>\n",
       "    <tr>\n",
       "      <th>4</th>\n",
       "      <td>pharo</td>\n",
       "      <td>Intent</td>\n",
       "      <td>0.79</td>\n",
       "      <td>0.50</td>\n",
       "      <td>0.61</td>\n",
       "    </tr>\n",
       "    <tr>\n",
       "      <th>5</th>\n",
       "      <td>pharo</td>\n",
       "      <td>Keymessages</td>\n",
       "      <td>0.51</td>\n",
       "      <td>0.47</td>\n",
       "      <td>0.49</td>\n",
       "    </tr>\n",
       "    <tr>\n",
       "      <th>6</th>\n",
       "      <td>pharo</td>\n",
       "      <td>Collaborators</td>\n",
       "      <td>0.10</td>\n",
       "      <td>0.20</td>\n",
       "      <td>0.13</td>\n",
       "    </tr>\n",
       "  </tbody>\n",
       "</table>\n",
       "</div>"
      ],
      "text/plain": [
       "      lan                      cat precision recall    f1\n",
       "0    java                  summary      0.85   0.87  0.86\n",
       "1    java                Ownership      0.98   1.00  0.99\n",
       "2    java                   Expand      0.25   0.28  0.27\n",
       "3    java                    usage      0.81   0.80  0.80\n",
       "4    java                  Pointer      0.82   0.91  0.86\n",
       "5    java              deprecation      1.00   0.20  0.33\n",
       "6    java                 rational      0.00   0.00  0.00\n",
       "0  python                    Usage      0.54   0.42  0.47\n",
       "1  python               Parameters      0.67   0.59  0.63\n",
       "2  python         DevelopmentNotes      0.19   0.34  0.24\n",
       "3  python                   Expand      0.54   0.42  0.47\n",
       "4  python                  Summary      0.58   0.46  0.52\n",
       "0   pharo  Keyimplementationpoints      0.33   0.30  0.31\n",
       "1   pharo                  Example      0.73   0.81  0.77\n",
       "2   pharo         Responsibilities      0.46   0.42  0.44\n",
       "3   pharo          Classreferences      0.25   0.25  0.25\n",
       "4   pharo                   Intent      0.79   0.50  0.61\n",
       "5   pharo              Keymessages      0.51   0.47  0.49\n",
       "6   pharo            Collaborators      0.10   0.20  0.13"
      ]
     },
     "execution_count": 18,
     "metadata": {},
     "output_type": "execute_result"
    }
   ],
   "source": [
    "# Combine reports into single pandas dataframe\n",
    "def report_to_df(report, lang):\n",
    "    lines = report.split('\\n')\n",
    "    data = []\n",
    "    for line in lines[2:-5]:\n",
    "        row = line.split()\n",
    "        if len(row) == 0:\n",
    "            continue\n",
    "        data.append(row)\n",
    "    df = pd.DataFrame(data, columns=['cat', 'precision', 'recall', 'f1', 'support'])\n",
    "    df.insert(0, 'lan', lang)\n",
    "    df = df.iloc[:, :-1]\n",
    "    return df\n",
    "        \n",
    "\n",
    "java_df = report_to_df(java_report, 'java')\n",
    "python_df = report_to_df(python_report, 'python')\n",
    "pharo_df = report_to_df(pharo_report, 'pharo')\n",
    "combined_df = pd.concat([java_df, python_df, pharo_df])\n",
    "combined_df\n"
   ]
  },
  {
   "cell_type": "code",
   "execution_count": 19,
   "metadata": {},
   "outputs": [
    {
     "data": {
      "text/html": [
       "<style type=\"text/css\">\n",
       "#T_2ace3_row0_col2, #T_2ace3_row1_col2, #T_2ace3_row1_col4, #T_2ace3_row2_col2, #T_2ace3_row2_col3, #T_2ace3_row2_col4, #T_2ace3_row3_col2, #T_2ace3_row3_col3, #T_2ace3_row3_col4, #T_2ace3_row4_col3, #T_2ace3_row5_col3, #T_2ace3_row5_col4, #T_2ace3_row6_col2, #T_2ace3_row6_col3, #T_2ace3_row6_col4, #T_2ace3_row7_col2, #T_2ace3_row7_col3, #T_2ace3_row7_col4, #T_2ace3_row8_col2, #T_2ace3_row8_col3, #T_2ace3_row8_col4, #T_2ace3_row9_col2, #T_2ace3_row9_col3, #T_2ace3_row9_col4, #T_2ace3_row10_col2, #T_2ace3_row10_col3, #T_2ace3_row10_col4, #T_2ace3_row11_col2, #T_2ace3_row11_col3, #T_2ace3_row11_col4, #T_2ace3_row12_col2, #T_2ace3_row12_col3, #T_2ace3_row12_col4, #T_2ace3_row13_col2, #T_2ace3_row13_col3, #T_2ace3_row13_col4, #T_2ace3_row14_col3, #T_2ace3_row15_col2, #T_2ace3_row15_col3, #T_2ace3_row15_col4, #T_2ace3_row16_col3, #T_2ace3_row16_col4, #T_2ace3_row17_col2, #T_2ace3_row17_col3, #T_2ace3_row17_col4, #T_2ace3_row18_col2, #T_2ace3_row18_col3, #T_2ace3_row18_col4 {\n",
       "  background-color: red;\n",
       "}\n",
       "</style>\n",
       "<table id=\"T_2ace3\">\n",
       "  <thead>\n",
       "    <tr>\n",
       "      <th class=\"blank level0\" >&nbsp;</th>\n",
       "      <th id=\"T_2ace3_level0_col0\" class=\"col_heading level0 col0\" >lan</th>\n",
       "      <th id=\"T_2ace3_level0_col1\" class=\"col_heading level0 col1\" >cat</th>\n",
       "      <th id=\"T_2ace3_level0_col2\" class=\"col_heading level0 col2\" >precision_diff</th>\n",
       "      <th id=\"T_2ace3_level0_col3\" class=\"col_heading level0 col3\" >recall_diff</th>\n",
       "      <th id=\"T_2ace3_level0_col4\" class=\"col_heading level0 col4\" >f1_diff</th>\n",
       "    </tr>\n",
       "  </thead>\n",
       "  <tbody>\n",
       "    <tr>\n",
       "      <th id=\"T_2ace3_level0_row0\" class=\"row_heading level0 row0\" >0</th>\n",
       "      <td id=\"T_2ace3_row0_col0\" class=\"data row0 col0\" >java</td>\n",
       "      <td id=\"T_2ace3_row0_col1\" class=\"data row0 col1\" >summary</td>\n",
       "      <td id=\"T_2ace3_row0_col2\" class=\"data row0 col2\" >-0.023385</td>\n",
       "      <td id=\"T_2ace3_row0_col3\" class=\"data row0 col3\" >0.040552</td>\n",
       "      <td id=\"T_2ace3_row0_col4\" class=\"data row0 col4\" >0.009150</td>\n",
       "    </tr>\n",
       "    <tr>\n",
       "      <th id=\"T_2ace3_level0_row1\" class=\"row_heading level0 row1\" >1</th>\n",
       "      <td id=\"T_2ace3_row1_col0\" class=\"data row1 col0\" >java</td>\n",
       "      <td id=\"T_2ace3_row1_col1\" class=\"data row1 col1\" >Ownership</td>\n",
       "      <td id=\"T_2ace3_row1_col2\" class=\"data row1 col2\" >-0.020000</td>\n",
       "      <td id=\"T_2ace3_row1_col3\" class=\"data row1 col3\" >0.000000</td>\n",
       "      <td id=\"T_2ace3_row1_col4\" class=\"data row1 col4\" >-0.010000</td>\n",
       "    </tr>\n",
       "    <tr>\n",
       "      <th id=\"T_2ace3_level0_row2\" class=\"row_heading level0 row2\" >2</th>\n",
       "      <td id=\"T_2ace3_row2_col0\" class=\"data row2 col0\" >java</td>\n",
       "      <td id=\"T_2ace3_row2_col1\" class=\"data row2 col1\" >Expand</td>\n",
       "      <td id=\"T_2ace3_row2_col2\" class=\"data row2 col2\" >-0.073529</td>\n",
       "      <td id=\"T_2ace3_row2_col3\" class=\"data row2 col3\" >-0.164444</td>\n",
       "      <td id=\"T_2ace3_row2_col4\" class=\"data row2 col4\" >-0.104468</td>\n",
       "    </tr>\n",
       "    <tr>\n",
       "      <th id=\"T_2ace3_level0_row3\" class=\"row_heading level0 row3\" >3</th>\n",
       "      <td id=\"T_2ace3_row3_col0\" class=\"data row3 col0\" >java</td>\n",
       "      <td id=\"T_2ace3_row3_col1\" class=\"data row3 col1\" >usage</td>\n",
       "      <td id=\"T_2ace3_row3_col2\" class=\"data row3 col2\" >-0.101043</td>\n",
       "      <td id=\"T_2ace3_row3_col3\" class=\"data row3 col3\" >-0.018182</td>\n",
       "      <td id=\"T_2ace3_row3_col4\" class=\"data row3 col4\" >-0.062119</td>\n",
       "    </tr>\n",
       "    <tr>\n",
       "      <th id=\"T_2ace3_level0_row4\" class=\"row_heading level0 row4\" >4</th>\n",
       "      <td id=\"T_2ace3_row4_col0\" class=\"data row4 col0\" >java</td>\n",
       "      <td id=\"T_2ace3_row4_col1\" class=\"data row4 col1\" >Pointer</td>\n",
       "      <td id=\"T_2ace3_row4_col2\" class=\"data row4 col2\" >0.081745</td>\n",
       "      <td id=\"T_2ace3_row4_col3\" class=\"data row4 col3\" >-0.030171</td>\n",
       "      <td id=\"T_2ace3_row4_col4\" class=\"data row4 col4\" >0.032932</td>\n",
       "    </tr>\n",
       "    <tr>\n",
       "      <th id=\"T_2ace3_level0_row5\" class=\"row_heading level0 row5\" >5</th>\n",
       "      <td id=\"T_2ace3_row5_col0\" class=\"data row5 col0\" >java</td>\n",
       "      <td id=\"T_2ace3_row5_col1\" class=\"data row5 col1\" >deprecation</td>\n",
       "      <td id=\"T_2ace3_row5_col2\" class=\"data row5 col2\" >0.181818</td>\n",
       "      <td id=\"T_2ace3_row5_col3\" class=\"data row5 col3\" >-0.400000</td>\n",
       "      <td id=\"T_2ace3_row5_col4\" class=\"data row5 col4\" >-0.362308</td>\n",
       "    </tr>\n",
       "    <tr>\n",
       "      <th id=\"T_2ace3_level0_row6\" class=\"row_heading level0 row6\" >6</th>\n",
       "      <td id=\"T_2ace3_row6_col0\" class=\"data row6 col0\" >java</td>\n",
       "      <td id=\"T_2ace3_row6_col1\" class=\"data row6 col1\" >rational</td>\n",
       "      <td id=\"T_2ace3_row6_col2\" class=\"data row6 col2\" >-0.162162</td>\n",
       "      <td id=\"T_2ace3_row6_col3\" class=\"data row6 col3\" >-0.295082</td>\n",
       "      <td id=\"T_2ace3_row6_col4\" class=\"data row6 col4\" >-0.209302</td>\n",
       "    </tr>\n",
       "    <tr>\n",
       "      <th id=\"T_2ace3_level0_row7\" class=\"row_heading level0 row7\" >7</th>\n",
       "      <td id=\"T_2ace3_row7_col0\" class=\"data row7 col0\" >python</td>\n",
       "      <td id=\"T_2ace3_row7_col1\" class=\"data row7 col1\" >Usage</td>\n",
       "      <td id=\"T_2ace3_row7_col2\" class=\"data row7 col2\" >-0.333385</td>\n",
       "      <td id=\"T_2ace3_row7_col3\" class=\"data row7 col3\" >-0.409448</td>\n",
       "      <td id=\"T_2ace3_row7_col4\" class=\"data row7 col4\" >-0.380850</td>\n",
       "    </tr>\n",
       "    <tr>\n",
       "      <th id=\"T_2ace3_level0_row8\" class=\"row_heading level0 row8\" >8</th>\n",
       "      <td id=\"T_2ace3_row8_col0\" class=\"data row8 col0\" >python</td>\n",
       "      <td id=\"T_2ace3_row8_col1\" class=\"data row8 col1\" >Parameters</td>\n",
       "      <td id=\"T_2ace3_row8_col2\" class=\"data row8 col2\" >-0.330000</td>\n",
       "      <td id=\"T_2ace3_row8_col3\" class=\"data row8 col3\" >-0.410000</td>\n",
       "      <td id=\"T_2ace3_row8_col4\" class=\"data row8 col4\" >-0.370000</td>\n",
       "    </tr>\n",
       "    <tr>\n",
       "      <th id=\"T_2ace3_level0_row9\" class=\"row_heading level0 row9\" >9</th>\n",
       "      <td id=\"T_2ace3_row9_col0\" class=\"data row9 col0\" >python</td>\n",
       "      <td id=\"T_2ace3_row9_col1\" class=\"data row9 col1\" >DevelopmentNotes</td>\n",
       "      <td id=\"T_2ace3_row9_col2\" class=\"data row9 col2\" >-0.133529</td>\n",
       "      <td id=\"T_2ace3_row9_col3\" class=\"data row9 col3\" >-0.104444</td>\n",
       "      <td id=\"T_2ace3_row9_col4\" class=\"data row9 col4\" >-0.134468</td>\n",
       "    </tr>\n",
       "    <tr>\n",
       "      <th id=\"T_2ace3_level0_row10\" class=\"row_heading level0 row10\" >10</th>\n",
       "      <td id=\"T_2ace3_row10_col0\" class=\"data row10 col0\" >python</td>\n",
       "      <td id=\"T_2ace3_row10_col1\" class=\"data row10 col1\" >Expand</td>\n",
       "      <td id=\"T_2ace3_row10_col2\" class=\"data row10 col2\" >-0.371043</td>\n",
       "      <td id=\"T_2ace3_row10_col3\" class=\"data row10 col3\" >-0.398182</td>\n",
       "      <td id=\"T_2ace3_row10_col4\" class=\"data row10 col4\" >-0.392119</td>\n",
       "    </tr>\n",
       "    <tr>\n",
       "      <th id=\"T_2ace3_level0_row11\" class=\"row_heading level0 row11\" >11</th>\n",
       "      <td id=\"T_2ace3_row11_col0\" class=\"data row11 col0\" >python</td>\n",
       "      <td id=\"T_2ace3_row11_col1\" class=\"data row11 col1\" >Summary</td>\n",
       "      <td id=\"T_2ace3_row11_col2\" class=\"data row11 col2\" >-0.158255</td>\n",
       "      <td id=\"T_2ace3_row11_col3\" class=\"data row11 col3\" >-0.480171</td>\n",
       "      <td id=\"T_2ace3_row11_col4\" class=\"data row11 col4\" >-0.307068</td>\n",
       "    </tr>\n",
       "    <tr>\n",
       "      <th id=\"T_2ace3_level0_row12\" class=\"row_heading level0 row12\" >12</th>\n",
       "      <td id=\"T_2ace3_row12_col0\" class=\"data row12 col0\" >pharo</td>\n",
       "      <td id=\"T_2ace3_row12_col1\" class=\"data row12 col1\" >Keyimplementationpoints</td>\n",
       "      <td id=\"T_2ace3_row12_col2\" class=\"data row12 col2\" >-0.543385</td>\n",
       "      <td id=\"T_2ace3_row12_col3\" class=\"data row12 col3\" >-0.529448</td>\n",
       "      <td id=\"T_2ace3_row12_col4\" class=\"data row12 col4\" >-0.540850</td>\n",
       "    </tr>\n",
       "    <tr>\n",
       "      <th id=\"T_2ace3_level0_row13\" class=\"row_heading level0 row13\" >13</th>\n",
       "      <td id=\"T_2ace3_row13_col0\" class=\"data row13 col0\" >pharo</td>\n",
       "      <td id=\"T_2ace3_row13_col1\" class=\"data row13 col1\" >Example</td>\n",
       "      <td id=\"T_2ace3_row13_col2\" class=\"data row13 col2\" >-0.270000</td>\n",
       "      <td id=\"T_2ace3_row13_col3\" class=\"data row13 col3\" >-0.190000</td>\n",
       "      <td id=\"T_2ace3_row13_col4\" class=\"data row13 col4\" >-0.230000</td>\n",
       "    </tr>\n",
       "    <tr>\n",
       "      <th id=\"T_2ace3_level0_row14\" class=\"row_heading level0 row14\" >14</th>\n",
       "      <td id=\"T_2ace3_row14_col0\" class=\"data row14 col0\" >pharo</td>\n",
       "      <td id=\"T_2ace3_row14_col1\" class=\"data row14 col1\" >Responsibilities</td>\n",
       "      <td id=\"T_2ace3_row14_col2\" class=\"data row14 col2\" >0.136471</td>\n",
       "      <td id=\"T_2ace3_row14_col3\" class=\"data row14 col3\" >-0.024444</td>\n",
       "      <td id=\"T_2ace3_row14_col4\" class=\"data row14 col4\" >0.065532</td>\n",
       "    </tr>\n",
       "    <tr>\n",
       "      <th id=\"T_2ace3_level0_row15\" class=\"row_heading level0 row15\" >15</th>\n",
       "      <td id=\"T_2ace3_row15_col0\" class=\"data row15 col0\" >pharo</td>\n",
       "      <td id=\"T_2ace3_row15_col1\" class=\"data row15 col1\" >Classreferences</td>\n",
       "      <td id=\"T_2ace3_row15_col2\" class=\"data row15 col2\" >-0.661043</td>\n",
       "      <td id=\"T_2ace3_row15_col3\" class=\"data row15 col3\" >-0.568182</td>\n",
       "      <td id=\"T_2ace3_row15_col4\" class=\"data row15 col4\" >-0.612119</td>\n",
       "    </tr>\n",
       "    <tr>\n",
       "      <th id=\"T_2ace3_level0_row16\" class=\"row_heading level0 row16\" >16</th>\n",
       "      <td id=\"T_2ace3_row16_col0\" class=\"data row16 col0\" >pharo</td>\n",
       "      <td id=\"T_2ace3_row16_col1\" class=\"data row16 col1\" >Intent</td>\n",
       "      <td id=\"T_2ace3_row16_col2\" class=\"data row16 col2\" >0.051745</td>\n",
       "      <td id=\"T_2ace3_row16_col3\" class=\"data row16 col3\" >-0.440171</td>\n",
       "      <td id=\"T_2ace3_row16_col4\" class=\"data row16 col4\" >-0.217068</td>\n",
       "    </tr>\n",
       "    <tr>\n",
       "      <th id=\"T_2ace3_level0_row17\" class=\"row_heading level0 row17\" >17</th>\n",
       "      <td id=\"T_2ace3_row17_col0\" class=\"data row17 col0\" >pharo</td>\n",
       "      <td id=\"T_2ace3_row17_col1\" class=\"data row17 col1\" >Keymessages</td>\n",
       "      <td id=\"T_2ace3_row17_col2\" class=\"data row17 col2\" >-0.308182</td>\n",
       "      <td id=\"T_2ace3_row17_col3\" class=\"data row17 col3\" >-0.130000</td>\n",
       "      <td id=\"T_2ace3_row17_col4\" class=\"data row17 col4\" >-0.202308</td>\n",
       "    </tr>\n",
       "    <tr>\n",
       "      <th id=\"T_2ace3_level0_row18\" class=\"row_heading level0 row18\" >18</th>\n",
       "      <td id=\"T_2ace3_row18_col0\" class=\"data row18 col0\" >pharo</td>\n",
       "      <td id=\"T_2ace3_row18_col1\" class=\"data row18 col1\" >Collaborators</td>\n",
       "      <td id=\"T_2ace3_row18_col2\" class=\"data row18 col2\" >-0.062162</td>\n",
       "      <td id=\"T_2ace3_row18_col3\" class=\"data row18 col3\" >-0.095082</td>\n",
       "      <td id=\"T_2ace3_row18_col4\" class=\"data row18 col4\" >-0.079302</td>\n",
       "    </tr>\n",
       "  </tbody>\n",
       "</table>\n"
      ],
      "text/plain": [
       "<pandas.io.formats.style.Styler at 0x1e710b235f0>"
      ]
     },
     "execution_count": 19,
     "metadata": {},
     "output_type": "execute_result"
    }
   ],
   "source": [
    "# Compare with baseline results summary\n",
    "# load baseline results\n",
    "baseline_results = pd.read_csv('baseline_results_summary.csv')\n",
    "\n",
    "# Get difference from baseline\n",
    "def get_diff_df(baseline_df, eval_df):\n",
    "    diff_df = eval_df.copy()\n",
    "    diff_df['baseline_precision'] = baseline_df['precision']\n",
    "    diff_df['baseline_recall'] = baseline_df['recall']\n",
    "    diff_df['baseline_f1'] = baseline_df['f1']\n",
    "    diff_df['precision_diff'] = diff_df['precision'].astype(float) - diff_df['baseline_precision'].astype(float)\n",
    "    diff_df['recall_diff'] = diff_df['recall'].astype(float) - diff_df['baseline_recall'].astype(float)\n",
    "    diff_df['f1_diff'] = diff_df['f1'].astype(float) - diff_df['baseline_f1'].astype(float)\n",
    "    # delete all but diff columns\n",
    "    diff_df = diff_df[['lan', 'cat', 'precision_diff', 'recall_diff', 'f1_diff']]\n",
    "    diff_df = diff_df.reset_index(drop=True)\n",
    "    return diff_df\n",
    "\n",
    "diff_df = get_diff_df(baseline_results, combined_df)\n",
    "# style dataframe to make cells red if negative\n",
    "def highlight_diff(val):\n",
    "    if val < 0:\n",
    "        return 'background-color: red'\n",
    "    else:\n",
    "        return ''\n",
    "\n",
    "diff_df.style.applymap(highlight_diff, subset=['precision_diff', 'recall_diff', 'f1_diff'])\n",
    "\n"
   ]
  },
  {
   "cell_type": "code",
   "execution_count": 20,
   "metadata": {},
   "outputs": [
    {
     "data": {
      "image/png": "[encoded data removed]",
      "text/plain": [
       "<Figure size 3500x500 with 7 Axes>"
      ]
     },
     "metadata": {},
     "output_type": "display_data"
    },
    {
     "data": {
      "image/png": "[encoded data removed]",
      "text/plain": [
       "<Figure size 2500x500 with 5 Axes>"
      ]
     },
     "metadata": {},
     "output_type": "display_data"
    },
    {
     "data": {
      "image/png": "[encoded data removed]",
      "text/plain": [
       "<Figure size 3500x500 with 7 Axes>"
      ]
     },
     "metadata": {},
     "output_type": "display_data"
    }
   ],
   "source": [
    "# Confusion matricies\n",
    "import matplotlib.pyplot as plt\n",
    "import seaborn as sns\n",
    "\n",
    "def plot_confusion_matrix(true_labels, pred_labels, lang):\n",
    "    cm = multilabel_confusion_matrix(true_labels, pred_labels)\n",
    "    fig, ax = plt.subplots(1, len(classification_labels[lang]), figsize=(len(classification_labels[lang])*5, 5))\n",
    "    for i in range(len(classification_labels[lang])):\n",
    "        sns.heatmap(cm[i], annot=True, ax=ax[i], fmt='d', cmap='Blues', cbar=False)\n",
    "        ax[i].set_title(classification_labels[lang][i])\n",
    "    plt.show()\n",
    "\n",
    "plot_confusion_matrix(java_true_labels, java_eval_labels, 'java')\n",
    "plot_confusion_matrix(python_true_labels, python_eval_labels, 'python')\n",
    "plot_confusion_matrix(pharo_true_labels, pharo_eval_labels, 'pharo')"
   ]
  },
  {
   "cell_type": "code",
   "execution_count": 21,
   "metadata": {},
   "outputs": [
    {
     "data": {
      "text/plain": [
       "\"\\ndef show_examples(model, tokenizer, lang, num_examples=4):\\n    \\n    eval_data = preprocess_java(ds[f'{lang}_test']['comment_sentence'], ds[f'{lang}_train']['class'], ds[f'{lang}_test']['labels'])\\n    eval_dataloader = torch.utils.data.DataLoader(eval_data, batch_size=batch_size, shuffle=False, collate_fn=GPT2_collator(tokenizer, max_length))\\n    eval_labels, eval_probs = predict(model, eval_dataloader, torch.tensor(lang_thresholds[lang]).to(device))\\n    eval_labels = np.array(eval_labels)\\n    eval_probs = np.array(eval_probs)\\n    true_labels = np.array([sequence['label'] for sequence in eval_data])\\n    \\n    print(f'{lang} labels: {classification_labels[lang]}')\\n    for i in range(num_examples):\\n        print(f'Example {i+1}:')\\n        print('Text:', eval_data[i]['text'])\\n        print('True Labels:', true_labels[i])\\n        print('Predicted Labels:', eval_labels[i])\\n        print('Probabilities:', [round(p, 2) for p in eval_probs[i]])\\n        print()\\n\\nshow_examples(java_model, java_tokenizer, 'java')\\nshow_examples(python_model, python_tokenizer, 'python')\\nshow_examples(pharo_model, pharo_tokenizer, 'pharo')\\n\""
      ]
     },
     "execution_count": 21,
     "metadata": {},
     "output_type": "execute_result"
    }
   ],
   "source": [
    "# Show examples\n",
    "\"\"\"\n",
    "def show_examples(model, tokenizer, lang, num_examples=4):\n",
    "    \n",
    "    eval_data = preprocess_java(ds[f'{lang}_test']['comment_sentence'], ds[f'{lang}_train']['class'], ds[f'{lang}_test']['labels'])\n",
    "    eval_dataloader = torch.utils.data.DataLoader(eval_data, batch_size=batch_size, shuffle=False, collate_fn=GPT2_collator(tokenizer, max_length))\n",
    "    eval_labels, eval_probs = predict(model, eval_dataloader, torch.tensor(lang_thresholds[lang]).to(device))\n",
    "    eval_labels = np.array(eval_labels)\n",
    "    eval_probs = np.array(eval_probs)\n",
    "    true_labels = np.array([sequence['label'] for sequence in eval_data])\n",
    "    \n",
    "    print(f'{lang} labels: {classification_labels[lang]}')\n",
    "    for i in range(num_examples):\n",
    "        print(f'Example {i+1}:')\n",
    "        print('Text:', eval_data[i]['text'])\n",
    "        print('True Labels:', true_labels[i])\n",
    "        print('Predicted Labels:', eval_labels[i])\n",
    "        print('Probabilities:', [round(p, 2) for p in eval_probs[i]])\n",
    "        print()\n",
    "\n",
    "show_examples(java_model, java_tokenizer, 'java')\n",
    "show_examples(python_model, python_tokenizer, 'python')\n",
    "show_examples(pharo_model, pharo_tokenizer, 'pharo')\n",
    "\"\"\""
   ]
  },
  {
   "cell_type": "markdown",
   "metadata": {},
   "source": [
    "## Evaluation"
   ]
  },
  {
   "cell_type": "code",
   "execution_count": 22,
   "metadata": {},
   "outputs": [],
   "source": [
    "class ModelWrapper:\n",
    "    def __init__(self, model, tokenizer, lang):\n",
    "        global device\n",
    "        \n",
    "        self.model = model\n",
    "        self.model.to(device)\n",
    "        self.tokenizer = tokenizer\n",
    "        self.lang = lang\n",
    "        if lang == 'java':\n",
    "            self.labels = classification_labels['java']\n",
    "            self.thresholds = torch.tensor(lang_thresholds['java']).to(device)\n",
    "            self.preprocess = preprocess_java\n",
    "        elif lang == 'python':\n",
    "            self.labels = classification_labels['python']\n",
    "            self.thresholds = torch.tensor(lang_thresholds['python']).to(device)\n",
    "            self.preprocess = preprocess_python\n",
    "        elif lang == 'pharo':\n",
    "            self.labels = classification_labels['pharo']\n",
    "            self.thresholds = torch.tensor(lang_thresholds['pharo']).to(device)\n",
    "            self.preprocess = preprocess_pharo\n",
    "    \n",
    "    def __call__(self, texts):\n",
    "        data = self.preprocess(texts, ['']*len(texts))\n",
    "        dataloader = torch.utils.data.DataLoader(data, batch_size=16, shuffle=False, collate_fn=GPT2_collator(self.tokenizer, max_length), pin_memory=True)\n",
    "        labels, _ = predict(self.model, dataloader, self.thresholds)\n",
    "        return torch.tensor(labels)"
   ]
  },
  {
   "cell_type": "code",
   "execution_count": 23,
   "metadata": {},
   "outputs": [
    {
     "data": {
      "application/vnd.jupyter.widget-view+json": {
       "model_id": "db60c39900aa49d288fc09915b40729d",
       "version_major": 2,
       "version_minor": 0
      },
      "text/plain": [
       "  0%|          | 0/108 [00:00<?, ?it/s]"
      ]
     },
     "metadata": {},
     "output_type": "display_data"
    },
    {
     "data": {
      "application/vnd.jupyter.widget-view+json": {
       "model_id": "08171cf4e1ca40dd8cc6d0b247c9bf84",
       "version_major": 2,
       "version_minor": 0
      },
      "text/plain": [
       "  0%|          | 0/108 [00:00<?, ?it/s]"
      ]
     },
     "metadata": {},
     "output_type": "display_data"
    },
    {
     "data": {
      "application/vnd.jupyter.widget-view+json": {
       "model_id": "55107d4f51a14c119da05aab46213bab",
       "version_major": 2,
       "version_minor": 0
      },
      "text/plain": [
       "  0%|          | 0/108 [00:00<?, ?it/s]"
      ]
     },
     "metadata": {},
     "output_type": "display_data"
    },
    {
     "data": {
      "application/vnd.jupyter.widget-view+json": {
       "model_id": "16b1fbae7dcb4fde83ba02bfba791d57",
       "version_major": 2,
       "version_minor": 0
      },
      "text/plain": [
       "  0%|          | 0/108 [00:00<?, ?it/s]"
      ]
     },
     "metadata": {},
     "output_type": "display_data"
    },
    {
     "data": {
      "application/vnd.jupyter.widget-view+json": {
       "model_id": "98d3285425b74f88b4759f7088466d28",
       "version_major": 2,
       "version_minor": 0
      },
      "text/plain": [
       "  0%|          | 0/108 [00:00<?, ?it/s]"
      ]
     },
     "metadata": {},
     "output_type": "display_data"
    },
    {
     "data": {
      "application/vnd.jupyter.widget-view+json": {
       "model_id": "7cd21835968244a1ab9f0ea7a0679cd4",
       "version_major": 2,
       "version_minor": 0
      },
      "text/plain": [
       "  0%|          | 0/108 [00:00<?, ?it/s]"
      ]
     },
     "metadata": {},
     "output_type": "display_data"
    },
    {
     "data": {
      "application/vnd.jupyter.widget-view+json": {
       "model_id": "6111a80ba73042af9c929694b2443291",
       "version_major": 2,
       "version_minor": 0
      },
      "text/plain": [
       "  0%|          | 0/108 [00:00<?, ?it/s]"
      ]
     },
     "metadata": {},
     "output_type": "display_data"
    },
    {
     "data": {
      "application/vnd.jupyter.widget-view+json": {
       "model_id": "6978129789ab410a9d6cbb52631c54fc",
       "version_major": 2,
       "version_minor": 0
      },
      "text/plain": [
       "  0%|          | 0/108 [00:00<?, ?it/s]"
      ]
     },
     "metadata": {},
     "output_type": "display_data"
    },
    {
     "data": {
      "application/vnd.jupyter.widget-view+json": {
       "model_id": "f8ea22d388684cce9ce88b7ae9a81099",
       "version_major": 2,
       "version_minor": 0
      },
      "text/plain": [
       "  0%|          | 0/108 [00:00<?, ?it/s]"
      ]
     },
     "metadata": {},
     "output_type": "display_data"
    },
    {
     "data": {
      "application/vnd.jupyter.widget-view+json": {
       "model_id": "d1289a7d60ae4dcf8ea225cfc40971a0",
       "version_major": 2,
       "version_minor": 0
      },
      "text/plain": [
       "  0%|          | 0/108 [00:00<?, ?it/s]"
      ]
     },
     "metadata": {},
     "output_type": "display_data"
    },
    {
     "data": {
      "application/vnd.jupyter.widget-view+json": {
       "model_id": "a87f82f075354a74ab53362e5eed6d3b",
       "version_major": 2,
       "version_minor": 0
      },
      "text/plain": [
       "  0%|          | 0/26 [00:00<?, ?it/s]"
      ]
     },
     "metadata": {},
     "output_type": "display_data"
    },
    {
     "data": {
      "application/vnd.jupyter.widget-view+json": {
       "model_id": "bf9614e8d49a4bc49277a6a8ea55cf4d",
       "version_major": 2,
       "version_minor": 0
      },
      "text/plain": [
       "  0%|          | 0/26 [00:00<?, ?it/s]"
      ]
     },
     "metadata": {},
     "output_type": "display_data"
    },
    {
     "data": {
      "application/vnd.jupyter.widget-view+json": {
       "model_id": "cd5f628557474d0a98b89f68d39da4d3",
       "version_major": 2,
       "version_minor": 0
      },
      "text/plain": [
       "  0%|          | 0/26 [00:00<?, ?it/s]"
      ]
     },
     "metadata": {},
     "output_type": "display_data"
    },
    {
     "data": {
      "application/vnd.jupyter.widget-view+json": {
       "model_id": "b4a1a6d977754def980e17b2e3b7ee2e",
       "version_major": 2,
       "version_minor": 0
      },
      "text/plain": [
       "  0%|          | 0/26 [00:00<?, ?it/s]"
      ]
     },
     "metadata": {},
     "output_type": "display_data"
    },
    {
     "data": {
      "application/vnd.jupyter.widget-view+json": {
       "model_id": "eea8a870c83e4f8cb64ba98bf34c8e28",
       "version_major": 2,
       "version_minor": 0
      },
      "text/plain": [
       "  0%|          | 0/26 [00:00<?, ?it/s]"
      ]
     },
     "metadata": {},
     "output_type": "display_data"
    },
    {
     "data": {
      "application/vnd.jupyter.widget-view+json": {
       "model_id": "3c4e52f90b854ed8961044d7beeb3275",
       "version_major": 2,
       "version_minor": 0
      },
      "text/plain": [
       "  0%|          | 0/26 [00:00<?, ?it/s]"
      ]
     },
     "metadata": {},
     "output_type": "display_data"
    },
    {
     "data": {
      "application/vnd.jupyter.widget-view+json": {
       "model_id": "3937ad0a3fe14a5087e210213a427b93",
       "version_major": 2,
       "version_minor": 0
      },
      "text/plain": [
       "  0%|          | 0/26 [00:00<?, ?it/s]"
      ]
     },
     "metadata": {},
     "output_type": "display_data"
    },
    {
     "data": {
      "application/vnd.jupyter.widget-view+json": {
       "model_id": "a2fe05ad4b884774a7b83d8a848b06ca",
       "version_major": 2,
       "version_minor": 0
      },
      "text/plain": [
       "  0%|          | 0/26 [00:00<?, ?it/s]"
      ]
     },
     "metadata": {},
     "output_type": "display_data"
    },
    {
     "data": {
      "application/vnd.jupyter.widget-view+json": {
       "model_id": "8ee68b12367f4b959efb5363bb9f53dd",
       "version_major": 2,
       "version_minor": 0
      },
      "text/plain": [
       "  0%|          | 0/26 [00:00<?, ?it/s]"
      ]
     },
     "metadata": {},
     "output_type": "display_data"
    },
    {
     "data": {
      "application/vnd.jupyter.widget-view+json": {
       "model_id": "a7b8005e5a9b4643b9a0f6c874b91a42",
       "version_major": 2,
       "version_minor": 0
      },
      "text/plain": [
       "  0%|          | 0/26 [00:00<?, ?it/s]"
      ]
     },
     "metadata": {},
     "output_type": "display_data"
    },
    {
     "data": {
      "application/vnd.jupyter.widget-view+json": {
       "model_id": "57395699710144b3aa211ea3025a6f59",
       "version_major": 2,
       "version_minor": 0
      },
      "text/plain": [
       "  0%|          | 0/19 [00:00<?, ?it/s]"
      ]
     },
     "metadata": {},
     "output_type": "display_data"
    },
    {
     "data": {
      "application/vnd.jupyter.widget-view+json": {
       "model_id": "f1d02efbc400402fa25954d835f86ad5",
       "version_major": 2,
       "version_minor": 0
      },
      "text/plain": [
       "  0%|          | 0/19 [00:00<?, ?it/s]"
      ]
     },
     "metadata": {},
     "output_type": "display_data"
    },
    {
     "data": {
      "application/vnd.jupyter.widget-view+json": {
       "model_id": "581bafa369b74b2bb7dc7bf3d0537f6b",
       "version_major": 2,
       "version_minor": 0
      },
      "text/plain": [
       "  0%|          | 0/19 [00:00<?, ?it/s]"
      ]
     },
     "metadata": {},
     "output_type": "display_data"
    },
    {
     "data": {
      "application/vnd.jupyter.widget-view+json": {
       "model_id": "c817bc4601824a94aabb6eaf95a42917",
       "version_major": 2,
       "version_minor": 0
      },
      "text/plain": [
       "  0%|          | 0/19 [00:00<?, ?it/s]"
      ]
     },
     "metadata": {},
     "output_type": "display_data"
    },
    {
     "data": {
      "application/vnd.jupyter.widget-view+json": {
       "model_id": "f883d245ccdb4b18bb328205ac43b73c",
       "version_major": 2,
       "version_minor": 0
      },
      "text/plain": [
       "  0%|          | 0/19 [00:00<?, ?it/s]"
      ]
     },
     "metadata": {},
     "output_type": "display_data"
    },
    {
     "data": {
      "application/vnd.jupyter.widget-view+json": {
       "model_id": "221154f9be34426cb62c31e69f5901ab",
       "version_major": 2,
       "version_minor": 0
      },
      "text/plain": [
       "  0%|          | 0/19 [00:00<?, ?it/s]"
      ]
     },
     "metadata": {},
     "output_type": "display_data"
    },
    {
     "data": {
      "application/vnd.jupyter.widget-view+json": {
       "model_id": "f8eb81ecd954475f80be02f6a1a68052",
       "version_major": 2,
       "version_minor": 0
      },
      "text/plain": [
       "  0%|          | 0/19 [00:00<?, ?it/s]"
      ]
     },
     "metadata": {},
     "output_type": "display_data"
    },
    {
     "data": {
      "application/vnd.jupyter.widget-view+json": {
       "model_id": "2a9c30cbac6e46dab398a900022b4044",
       "version_major": 2,
       "version_minor": 0
      },
      "text/plain": [
       "  0%|          | 0/19 [00:00<?, ?it/s]"
      ]
     },
     "metadata": {},
     "output_type": "display_data"
    },
    {
     "data": {
      "application/vnd.jupyter.widget-view+json": {
       "model_id": "532ddfa0fedf403c83617865f3f319dc",
       "version_major": 2,
       "version_minor": 0
      },
      "text/plain": [
       "  0%|          | 0/19 [00:00<?, ?it/s]"
      ]
     },
     "metadata": {},
     "output_type": "display_data"
    },
    {
     "data": {
      "application/vnd.jupyter.widget-view+json": {
       "model_id": "4945c91a353745f1910e2896e1b4d08f",
       "version_major": 2,
       "version_minor": 0
      },
      "text/plain": [
       "  0%|          | 0/19 [00:00<?, ?it/s]"
      ]
     },
     "metadata": {},
     "output_type": "display_data"
    },
    {
     "name": "stdout",
     "output_type": "stream",
     "text": [
      "Compute in GFLOPs: 105318.635837696\n",
      "Avg runtime in seconds: 4.965654897689819\n"
     ]
    }
   ],
   "source": [
    "# Evaluation from challenge (https://github.com/nlbse2025/code-comment-classification/blob/main/SetFit_baseline.ipynb)\n",
    "total_flops = 0\n",
    "total_time = 0\n",
    "scores = []\n",
    "\n",
    "for lan in classification_langs:\n",
    "    # to load trained models:\n",
    "    model = ModelWrapper(GPT2ForSequenceClassification.from_pretrained(f\"./models/{lan}\"), GPT2Tokenizer.from_pretrained(f\"./models/{lan}\"), lan)\n",
    "    # to load pretrained models from Hub:\n",
    "    #model = SetFitModel.from_pretrained(f\"NLBSE/nlbse25_{lan}\")\n",
    "    with torch.profiler.profile(with_flops=True) as p:\n",
    "        begin = time.time()\n",
    "        for i in range(10):\n",
    "          y_pred = model(ds[f'{lan}_test']['comment_sentence']).numpy().T\n",
    "        total = time.time() - begin\n",
    "        total_time = total_time + total\n",
    "    total_flops = total_flops + (sum(k.flops for k in p.key_averages()) / 1e9)\n",
    "    y_true = np.array(ds[f'{lan}_test']['labels']).T\n",
    "    for i in range(len(y_pred)):\n",
    "        assert(len(y_pred[i]) == len(y_true[i]))\n",
    "        tp = sum([true == pred == 1 for (true,pred) in zip(y_true[i], y_pred[i])])\n",
    "        tn = sum([true == pred == 0 for (true,pred) in zip(y_true[i], y_pred[i])])\n",
    "        fp = sum([true == 0 and pred == 1 for (true,pred) in zip(y_true[i], y_pred[i])])\n",
    "        fn = sum([true == 1 and pred == 0 for (true,pred) in zip(y_true[i], y_pred[i])])\n",
    "        precision = tp / (tp + fp)\n",
    "        recall = tp / (tp + fn)\n",
    "        f1 = (2*tp) / (2*tp + fp + fn)\n",
    "        scores.append({'lan': lan, 'cat': classification_labels[lan][i],'precision': precision,'recall': recall,'f1': f1})\n",
    "print(\"Compute in GFLOPs:\", total_flops/10)\n",
    "print(\"Avg runtime in seconds:\", total_time/10)\n",
    "scores = pd.DataFrame(scores)"
   ]
  },
  {
   "cell_type": "code",
   "execution_count": 24,
   "metadata": {},
   "outputs": [
    {
     "name": "stdout",
     "output_type": "stream",
     "text": [
      "Score: -3.81\n",
      "Average F1: 0.3291024884957701\n"
     ]
    }
   ],
   "source": [
    "# From challenge (https://github.com/nlbse2025/code-comment-classification/blob/main/SetFit_baseline.ipynb)\n",
    "max_avg_runtime = 5\n",
    "max_avg_flops = 5000\n",
    "\n",
    "# s𝑢𝑏𝑚𝑖𝑠𝑠𝑖𝑜𝑛_𝑠𝑐𝑜𝑟𝑒(𝑚𝑜𝑑𝑒𝑙)=(𝑎𝑣𝑔. 𝐹1)×0.60+((𝑚𝑎𝑥_𝑎𝑣𝑔_𝑟𝑢𝑛𝑡𝑖𝑚𝑒−𝑚𝑒𝑎𝑠𝑢𝑟𝑒𝑑_𝑎𝑣𝑔_𝑟𝑢𝑛𝑡𝑖𝑚𝑒)/𝑚𝑎𝑥_𝑎𝑣𝑔_𝑟𝑢𝑛𝑡𝑖𝑚𝑒)×0.2+((𝑚𝑎𝑥_GFLOPs−𝑚𝑒𝑎𝑠𝑢𝑟𝑒𝑑_GFLOPs)/𝑚𝑎𝑥_GFLOPs)×0.2\n",
    "def score(avg_f1, avg_runtime, avg_flops):\n",
    "    return (0.6 * avg_f1 +\n",
    "      0.2 * ((max_avg_runtime - avg_runtime) / max_avg_runtime) +\n",
    "      0.2 * ((max_avg_flops - avg_flops) / max_avg_flops))\n",
    "\n",
    "avg_f1 = scores.f1.mean()\n",
    "avg_runtime = total_time/10\n",
    "avg_flops = total_flops/10\n",
    "\n",
    "print(f'Score: {round(score(avg_f1, avg_runtime, avg_flops), 2)}')\n",
    "print(f'Average F1: {avg_f1}')"
   ]
  },
  {
   "cell_type": "code",
   "execution_count": 25,
   "metadata": {},
   "outputs": [],
   "source": [
    "torch.cuda.empty_cache()"
   ]
  },
  {
   "cell_type": "code",
   "execution_count": 26,
   "metadata": {},
   "outputs": [
    {
     "data": {
      "text/plain": [
       "'\\n# Hyperparameters\\nhyperparameters = {\\n    \\'num_epochs\\': [3],\\n    \\'batch_size\\': [4],\\n    \\'learning_rate\\': [1e-5],\\n    \\'optimizer\\': [\\'Lion\\'],\\n    \\'max_length\\': [256],\\n}\\n\\nfor num_epochs in hyperparameters[\\'num_epochs\\']:\\n    for batch_size in hyperparameters[\\'batch_size\\']:\\n        for learning_rate in hyperparameters[\\'learning_rate\\']:\\n            for optimizer in hyperparameters[\\'optimizer\\']:\\n                for max_length in hyperparameters[\\'max_length\\']:\\n                    print(f\\'Running test with hyperparameters: num_epochs={num_epochs}, batch_size={batch_size}, learning_rate={learning_rate}, optimizer={optimizer}, max_length={max_length}, weights={class_weights[\"java\"]}\\')\\n                    model, tokenizer, loss_list, accuracy_list, eval_loss_list, eval_accuracy_list = build_model(\\'java\\', save=False, optimizer=optimizer, learning_rate=learning_rate, num_epochs=num_epochs, batch_size=batch_size, max_length=max_length)\\n                    \\n                    # Do classification report\\n                    eval_data = preprocess_java(ds[\\'java_test\\'][\\'comment_sentence\\'], ds[\\'java_train\\'][\\'class\\'], ds[\\'java_test\\'][\\'labels\\'])\\n                    eval_dataloader = torch.utils.data.DataLoader(eval_data, batch_size=batch_size, shuffle=False, collate_fn=GPT2_collator(tokenizer, max_length))\\n                    eval_labels = predict(model, eval_dataloader)\\n                    true_labels = [sequence[\\'label\\'] for sequence in eval_data]\\n                    report = classification_report(true_labels, eval_labels, target_names=classification_labels[\\'java\\'])\\n                    \\n                    # Add results to file\\n                    with open(\\'results.txt\\', \\'a\\') as f:\\n                        f.write(f\\'Java - num_epochs={num_epochs}, batch_size={batch_size}, learning_rate={learning_rate}, optimizer={optimizer}, max_length={max_length}, weights={class_weights[\"java\"]}\\n\\')\\n                        f.write(f\\'Loss: {loss_list}\\n\\')\\n                        f.write(f\\'Accuracy: {accuracy_list}\\n\\')\\n                        f.write(f\\'Eval Loss: {eval_loss_list}\\n\\')\\n                        f.write(f\\'Eval Accuracy: {eval_accuracy_list}\\n\\')\\n                        f.write(f\\'Report: {report}\\n\\')\\n                        f.write(\\'\\n\\')\\n                    \\n                    num_labels = len(classification_labels[\\'java\\'])\\n                    cms = [confusion_matrix(true_labels[:, i], eval_labels[:, i]) for i in range(num_labels)]\\n                    \\n                    for i, label in enumerate(classification_labels[\\'java\\']):\\n                        plot_confusion_matrix(cms[i], class_names=[0, 1], title=f\\'Confusion Matrix for {label}\\')\\n                    \\n                    print(report)\\n'"
      ]
     },
     "execution_count": 26,
     "metadata": {},
     "output_type": "execute_result"
    }
   ],
   "source": [
    "# Run tests on java lang with all hyperparameters\n",
    "\"\"\"\n",
    "# Hyperparameters\n",
    "hyperparameters = {\n",
    "    'num_epochs': [3],\n",
    "    'batch_size': [4],\n",
    "    'learning_rate': [1e-5],\n",
    "    'optimizer': ['Lion'],\n",
    "    'max_length': [256],\n",
    "}\n",
    "\n",
    "for num_epochs in hyperparameters['num_epochs']:\n",
    "    for batch_size in hyperparameters['batch_size']:\n",
    "        for learning_rate in hyperparameters['learning_rate']:\n",
    "            for optimizer in hyperparameters['optimizer']:\n",
    "                for max_length in hyperparameters['max_length']:\n",
    "                    print(f'Running test with hyperparameters: num_epochs={num_epochs}, batch_size={batch_size}, learning_rate={learning_rate}, optimizer={optimizer}, max_length={max_length}, weights={class_weights[\"java\"]}')\n",
    "                    model, tokenizer, loss_list, accuracy_list, eval_loss_list, eval_accuracy_list = build_model('java', save=False, optimizer=optimizer, learning_rate=learning_rate, num_epochs=num_epochs, batch_size=batch_size, max_length=max_length)\n",
    "                    \n",
    "                    # Do classification report\n",
    "                    eval_data = preprocess_java(ds['java_test']['comment_sentence'], ds['java_train']['class'], ds['java_test']['labels'])\n",
    "                    eval_dataloader = torch.utils.data.DataLoader(eval_data, batch_size=batch_size, shuffle=False, collate_fn=GPT2_collator(tokenizer, max_length))\n",
    "                    eval_labels = predict(model, eval_dataloader)\n",
    "                    true_labels = [sequence['label'] for sequence in eval_data]\n",
    "                    report = classification_report(true_labels, eval_labels, target_names=classification_labels['java'])\n",
    "                    \n",
    "                    # Add results to file\n",
    "                    with open('results.txt', 'a') as f:\n",
    "                        f.write(f'Java - num_epochs={num_epochs}, batch_size={batch_size}, learning_rate={learning_rate}, optimizer={optimizer}, max_length={max_length}, weights={class_weights[\"java\"]}\\n')\n",
    "                        f.write(f'Loss: {loss_list}\\n')\n",
    "                        f.write(f'Accuracy: {accuracy_list}\\n')\n",
    "                        f.write(f'Eval Loss: {eval_loss_list}\\n')\n",
    "                        f.write(f'Eval Accuracy: {eval_accuracy_list}\\n')\n",
    "                        f.write(f'Report: {report}\\n')\n",
    "                        f.write('\\n')\n",
    "                    \n",
    "                    num_labels = len(classification_labels['java'])\n",
    "                    cms = [confusion_matrix(true_labels[:, i], eval_labels[:, i]) for i in range(num_labels)]\n",
    "                    \n",
    "                    for i, label in enumerate(classification_labels['java']):\n",
    "                        plot_confusion_matrix(cms[i], class_names=[0, 1], title=f'Confusion Matrix for {label}')\n",
    "                    \n",
    "                    print(report)\n",
    "\"\"\""
   ]
  }
 ],
 "metadata": {
  "kernelspec": {
   "display_name": "Python 3",
   "language": "python",
   "name": "python3"
  },
  "language_info": {
   "codemirror_mode": {
    "name": "ipython",
    "version": 3
   },
   "file_extension": ".py",
   "mimetype": "text/x-python",
   "name": "python",
   "nbconvert_exporter": "python",
   "pygments_lexer": "ipython3",
   "version": "3.12.3"
  }
 },
 "nbformat": 4,
 "nbformat_minor": 2
}
