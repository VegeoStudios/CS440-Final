{
 "cells": [
  {
   "cell_type": "markdown",
   "metadata": {},
   "source": [
    "# CS 440 Final Project\n",
    "Project: **NLBSE 2025 Code Comment Classification**\n",
    "\n",
    "Members (Team Overfitted):\n",
    " - Erik Cooper\n",
    " - Seth Harling\n",
    "## Vision\n",
    "This tool competition involves building and training 3 multi-label classification models for code comments. These comments fall in to different categories for the different languages (Java, Python, and Pharo). These categories include comments for summarization, development notes, intent, and usage.\n",
    "\n",
    "For our project, we chose to run with a strongly langauge processing approach, trying our best to ignore formatting as hints to the category. This is one of the reasons why we chose to use GPT-2 as our base model.\n",
    "\n",
    "When searching for pretrained NLP models, we were presented with many options. The main ones we considered were variations of BERT (RoBERTa for one), ELMo, UniLM, and GPT. There were a couple properties we were specifically looking for in a model for this project. We wanted a model that would work well on a classification problem, and we wanted a smaller model that would take less time to train so we could spend more time learning how to work the NLPs than waiting for it to work.\n",
    "\n",
    "With this, we settled on the smallest size of [GPT-2](https://huggingface.co/openai-community/gpt2) with 124M parameters. This number of parameters felt in line with the scope of our project, plus GPT is a rather famous model that most people have at least heard about. We thought that working with something somewhat familiar would help with learning how this all works. Though, to make the tuning process a little quicker, we use [distilgpt2](https://huggingface.co/distilbert/distilgpt2) to reduce our training times by 50% with its lower 82M parameters.\n",
    "\n",
    "## Attempted improvements\n",
    " - Label embeddings in GPT2Model\n",
    "   - Resulted in overall accuracy of ~50%\n",
    " - Various forms of preprocessing\n",
    "   - Included removing formatting, changing between truncation in the middle or end, excluding sections within formatting\n",
    "   - Resulted in minimal negative effect. Could be explored further\n",
    "## Improvements to try\n",
    " - Included label in input during training.\n",
    " - Data augmentation\n",
    "   - Translating data between languages to get more inputs."
   ]
  },
  {
   "cell_type": "markdown",
   "metadata": {},
   "source": [
    "### Imports"
   ]
  },
  {
   "cell_type": "code",
   "execution_count": 1,
   "metadata": {},
   "outputs": [
    {
     "name": "stderr",
     "output_type": "stream",
     "text": [
      "<frozen importlib._bootstrap>:488: DeprecationWarning: Type google._upb._message.MessageMapContainer uses PyType_Spec with a metaclass that has custom tp_new. This is deprecated and will no longer be allowed in Python 3.14.\n",
      "<frozen importlib._bootstrap>:488: DeprecationWarning: Type google._upb._message.ScalarMapContainer uses PyType_Spec with a metaclass that has custom tp_new. This is deprecated and will no longer be allowed in Python 3.14.\n",
      "Using TensorFlow backend.\n"
     ]
    }
   ],
   "source": [
    "from datasets import load_dataset\n",
    "import numpy as np\n",
    "import torch\n",
    "from tqdm.notebook import tqdm\n",
    "from sklearn.metrics import accuracy_score, classification_report\n",
    "from ml_things import plot_confusion_matrix\n",
    "from transformers import (GPT2Config,\n",
    "                          GPT2Tokenizer,\n",
    "                          GPT2Model,\n",
    "                          AdamW, \n",
    "                          get_linear_schedule_with_warmup,\n",
    "                          GPT2ForSequenceClassification)\n",
    "import re\n",
    "from lion_pytorch import Lion"
   ]
  },
  {
   "cell_type": "markdown",
   "metadata": {},
   "source": [
    "### Defining string constants"
   ]
  },
  {
   "cell_type": "code",
   "execution_count": 2,
   "metadata": {},
   "outputs": [],
   "source": [
    "# From challenge ()\n",
    "classification_langs = ['java', 'python', 'pharo']\n",
    "classification_labels = {\n",
    "    'java': ['summary', 'Ownership', 'Expand', 'usage', 'Pointer', 'deprecation', 'rational'],\n",
    "    'python': ['Usage', 'Parameters', 'DevelopmentNotes', 'Expand', 'Summary'],\n",
    "    'pharo': ['Keyimplementationpoints', 'Example', 'Responsibilities', 'Classreferences', 'Intent', 'Keymessages', 'Collaborators']\n",
    "}"
   ]
  },
  {
   "cell_type": "markdown",
   "metadata": {},
   "source": [
    "### Parameters"
   ]
  },
  {
   "cell_type": "code",
   "execution_count": 3,
   "metadata": {},
   "outputs": [],
   "source": [
    "# Hyperparameters\n",
    "hyperparameters = {\n",
    "    'num_epochs': [3, 4],\n",
    "    'batch_size': [4, 8],\n",
    "    'learning_rate': [1e-5],\n",
    "    'optimizer': ['Lion'],\n",
    "    'max_length': [256, 512],\n",
    "}"
   ]
  },
  {
   "cell_type": "code",
   "execution_count": 4,
   "metadata": {},
   "outputs": [],
   "source": [
    "batch_size = 8   # batch size for training\n",
    "max_length = 512 # max length of the text that can be passed to the model\n",
    "num_epochs = 4   # number of epochs\n",
    "model_name = 'distilgpt2' # model name\n",
    "add_class_name = True # add class name to the input text"
   ]
  },
  {
   "cell_type": "markdown",
   "metadata": {},
   "source": [
    "### Preprocessing functions"
   ]
  },
  {
   "cell_type": "code",
   "execution_count": 5,
   "metadata": {},
   "outputs": [],
   "source": [
    "def preprocess_java(comment, class_name, labels=None):\n",
    "    # Create dataset object\n",
    "    output = []\n",
    "    \n",
    "    for i in range(len(comment)):\n",
    "        text = comment[i]\n",
    "        \n",
    "        # remove entirety of html lists\n",
    "        # text = re.sub(r'<ol>[.\\s\\S]*?<\\/ol>', '', text)\n",
    "        \n",
    "        # remove html tags\n",
    "        text = re.sub(r'<.*?>', '', text)\n",
    "        \n",
    "        # remove bullets\n",
    "        #text = re.sub(r'\\s\\*', '', text)\n",
    "        \n",
    "        # remove bulleted lines\n",
    "        #text = re.sub(r'\\n\\s*\\*.*', '', text)\n",
    "        \n",
    "        # remove curly braced sections\n",
    "        #text = re.sub(r'\\{.*?\\}', '', text)\n",
    "        \n",
    "        # remove // comments\n",
    "        # text = re.sub(r'\\s*\\/\\/.*', '', text)\n",
    "        \n",
    "        # remove formatting for // comments\n",
    "        # text = re.sub(r'\\/\\/', '', text)\n",
    "        \n",
    "        # remove formatting for /* */ comments\n",
    "        # text = re.sub(r'\\/\\*.|\\*\\/', '', text)\n",
    "        \n",
    "        # remove multiple spaces\n",
    "        text = re.sub(r'\\s+', ' ', text)\n",
    "        \n",
    "        # Add class name\n",
    "        if add_class_name:\n",
    "            text = class_name[i] + ': ' + text\n",
    "        \n",
    "        # truncate middle\n",
    "        #if (len(text) > max_length):\n",
    "        #    text = text[:(int(max_length/2)-4)] + ' ... ' + text[-(int(max_length/2)-4):]\n",
    "        \n",
    "        # truncate end\n",
    "        if (len(text) > max_length):\n",
    "            text = text[:max_length]\n",
    "        \n",
    "        # Build dictionary\n",
    "        if labels is not None:\n",
    "            output.append({\n",
    "                'text': text,\n",
    "                'label': labels[i]\n",
    "            })\n",
    "        else:\n",
    "            output.append({\n",
    "                'text': text,\n",
    "                'label': 0\n",
    "            })\n",
    "    \n",
    "    return output"
   ]
  },
  {
   "cell_type": "code",
   "execution_count": 6,
   "metadata": {},
   "outputs": [],
   "source": [
    "def preprocess_python(comment, class_name, labels=None):\n",
    "    output = []\n",
    "    \n",
    "    for i in range(len(comment)):\n",
    "        text = comment[i]\n",
    "        \n",
    "        # Add class name\n",
    "        text = class_name[i] + ': ' + text\n",
    "        \n",
    "        # truncate\n",
    "        if (len(text) > max_length):\n",
    "            text = text[:(int(max_length/2)-4)] + ' ... ' + text[-(int(max_length/2)-4):]\n",
    "        \n",
    "        # Build dictionary\n",
    "        if labels is not None:\n",
    "            output.append({\n",
    "                'text': text,\n",
    "                'label': labels[i]\n",
    "            })\n",
    "        else:\n",
    "            output.append({\n",
    "                'text': text,\n",
    "                'label': 0\n",
    "            })\n",
    "    \n",
    "    return output"
   ]
  },
  {
   "cell_type": "code",
   "execution_count": 7,
   "metadata": {},
   "outputs": [],
   "source": [
    "def preprocess_pharo(comment, class_name, labels=None):\n",
    "    output = []\n",
    "    \n",
    "    for i in range(len(comment)):\n",
    "        text = comment[i]\n",
    "        \n",
    "        # Add class name\n",
    "        text = class_name[i] + ': ' + text\n",
    "        \n",
    "        # truncate\n",
    "        if (len(text) > max_length):\n",
    "            text = text[:(int(max_length/2)-4)] + ' ... ' + text[-(int(max_length/2)-4):]\n",
    "        \n",
    "        # Build dictionary\n",
    "        if labels is not None:\n",
    "            output.append({\n",
    "                'text': text,\n",
    "                'label': labels[i]\n",
    "            })\n",
    "        else:\n",
    "            output.append({\n",
    "                'text': text,\n",
    "                'label': 0\n",
    "            })\n",
    "    \n",
    "    return output"
   ]
  },
  {
   "cell_type": "markdown",
   "metadata": {},
   "source": [
    "### GPT2 Collator"
   ]
  },
  {
   "cell_type": "code",
   "execution_count": 8,
   "metadata": {},
   "outputs": [],
   "source": [
    "# Collator object for GPT2, which will tokenize the text\n",
    "class GPT2_collator(object):\n",
    "    def __init__(self, tokenizer, max_length):\n",
    "        self.tokenizer = tokenizer\n",
    "        self.max_length = max_length\n",
    "\n",
    "    def __call__(self, sequences):\n",
    "        texts = [sequence['text'] for sequence in sequences]\n",
    "        labels = [sequence['label'] for sequence in sequences]\n",
    "        \n",
    "        inputs = self.tokenizer(text=texts, return_tensors='pt', padding='max_length', truncation=True, max_length=self.max_length)\n",
    "        inputs.update({'labels': torch.tensor(labels)})\n",
    "        \n",
    "        return inputs"
   ]
  },
  {
   "cell_type": "markdown",
   "metadata": {},
   "source": [
    "### Train, Validate, and Predict"
   ]
  },
  {
   "cell_type": "code",
   "execution_count": 9,
   "metadata": {},
   "outputs": [],
   "source": [
    "# Training function, updates model weights\n",
    "def train(model, dataloader, optimizer, scheduler, max_batches=None):\n",
    "    global device\n",
    "    \n",
    "    model.train()\n",
    "    \n",
    "    pred_labels = []\n",
    "    true_labels = []\n",
    "    total_loss = 0\n",
    "    \n",
    "    batches_processed = 0\n",
    "    \n",
    "    for batch in tqdm(dataloader, total=len(dataloader)):\n",
    "        if max_batches is not None and batches_processed >= max_batches:\n",
    "            break\n",
    "        \n",
    "        inputs = {k: v.to(device) for k, v in batch.items()}\n",
    "        outputs = model(**inputs)\n",
    "        \n",
    "        loss = outputs.loss\n",
    "        total_loss += loss.item()\n",
    "        \n",
    "        loss.backward()\n",
    "        optimizer.step()\n",
    "        scheduler.step()\n",
    "        optimizer.zero_grad()\n",
    "        \n",
    "        pred_labels.extend(torch.argmax(outputs.logits, dim=-1).cpu().numpy())\n",
    "        true_labels.extend(inputs['labels'].cpu().numpy())\n",
    "        \n",
    "        batches_processed += 1\n",
    "    \n",
    "    avg_epoch_loss = total_loss / batches_processed\n",
    "    \n",
    "    return pred_labels, true_labels, avg_epoch_loss"
   ]
  },
  {
   "cell_type": "code",
   "execution_count": 10,
   "metadata": {},
   "outputs": [],
   "source": [
    "# For validation, no updating\n",
    "def validate(model, dataloader, max_batches=None):\n",
    "    global device\n",
    "    \n",
    "    model.eval()\n",
    "    \n",
    "    pred_labels = []\n",
    "    true_labels = []\n",
    "    total_loss = 0\n",
    "    \n",
    "    batches_processed = 0\n",
    "    \n",
    "    for batch in tqdm(dataloader, total=len(dataloader)):\n",
    "        if max_batches is not None and batches_processed >= max_batches:\n",
    "            break\n",
    "        \n",
    "        inputs = {k: v.to(device) for k, v in batch.items()}\n",
    "        outputs = model(**inputs)\n",
    "        \n",
    "        loss = outputs.loss\n",
    "        total_loss += loss.item()\n",
    "        \n",
    "        pred_labels.extend(torch.argmax(outputs.logits, dim=-1).cpu().numpy())\n",
    "        true_labels.extend(inputs['labels'].cpu().numpy())\n",
    "        \n",
    "        batches_processed += 1\n",
    "    \n",
    "    avg_epoch_loss = total_loss / batches_processed\n",
    "    \n",
    "    return pred_labels, true_labels, avg_epoch_loss"
   ]
  },
  {
   "cell_type": "code",
   "execution_count": 11,
   "metadata": {},
   "outputs": [],
   "source": [
    "# For prediction, no update and no original labels\n",
    "def predict(model, dataloader):\n",
    "    global device\n",
    "    \n",
    "    model.eval()\n",
    "    \n",
    "    pred_labels = []\n",
    "    \n",
    "    for batch in tqdm(dataloader, total=len(dataloader)):\n",
    "        inputs = {k: v.to(device) for k, v in batch.items()}\n",
    "        outputs = model(**inputs)\n",
    "        \n",
    "        pred_labels.extend(torch.argmax(outputs.logits, dim=-1).cpu().numpy())\n",
    "    \n",
    "    return pred_labels"
   ]
  },
  {
   "cell_type": "markdown",
   "metadata": {},
   "source": [
    "### Setup"
   ]
  },
  {
   "cell_type": "code",
   "execution_count": 12,
   "metadata": {},
   "outputs": [],
   "source": [
    "# Loading dataset\n",
    "ds = load_dataset('NLBSE/nlbse25-code-comment-classification')"
   ]
  },
  {
   "cell_type": "code",
   "execution_count": 13,
   "metadata": {},
   "outputs": [
    {
     "name": "stdout",
     "output_type": "stream",
     "text": [
      "Using device: cuda\n"
     ]
    }
   ],
   "source": [
    "# Setting up device\n",
    "device = torch.device('cuda' if torch.cuda.is_available() else 'cpu')\n",
    "print('Using device:', device)"
   ]
  },
  {
   "cell_type": "code",
   "execution_count": null,
   "metadata": {},
   "outputs": [],
   "source": [
    "# Model setup and training\n",
    "def build_model(lang, save=False, optimizer='AdamW', learning_rate=5e-5, num_epochs=4, batch_size=8, max_length=512):\n",
    "    global device\n",
    "    \n",
    "    num_labels = len(classification_labels[lang])\n",
    "    \n",
    "    # Setup\n",
    "    print('Setting config...')\n",
    "    model_config = GPT2Config.from_pretrained(model_name, num_labels=num_labels, id2label={str(i): label for i, label in enumerate(classification_labels[lang])}, label2id={label: i for i, label in enumerate(classification_labels[lang])})\n",
    "\n",
    "    print('Loading tokenizer...')\n",
    "    tokenizer = GPT2Tokenizer.from_pretrained(model_name)\n",
    "    tokenizer.padding_side = 'left'\n",
    "    tokenizer.pad_token = tokenizer.eos_token\n",
    "\n",
    "    print('Loading model...')\n",
    "    model = GPT2ForSequenceClassification.from_pretrained(model_name, config=model_config)\n",
    "    model.resize_token_embeddings(len(tokenizer))\n",
    "    model.config.pad_token_id = tokenizer.eos_token_id\n",
    "    model.to(device)\n",
    "    \n",
    "    collator = GPT2_collator(tokenizer, max_length)\n",
    "    \n",
    "    # Prepare data\n",
    "    print('Preparing data...')\n",
    "    if lang == 'java':\n",
    "        train_data = preprocess_java(ds['java_train']['comment_sentence'], ds['java_train']['class'], np.argmax(ds['java_train']['labels'], axis=1))\n",
    "        eval_data = preprocess_java(ds['java_test']['comment_sentence'], ds['java_train']['class'], np.argmax(ds['java_test']['labels'], axis=1))\n",
    "    elif lang == 'python':\n",
    "        train_data = preprocess_python(ds['python_train']['comment_sentence'], ds['python_train']['class'], np.argmax(ds['python_train']['labels'], axis=1))\n",
    "        eval_data = preprocess_python(ds['python_test']['comment_sentence'], ds['python_train']['class'], np.argmax(ds['python_test']['labels'], axis=1))\n",
    "    elif lang == 'pharo':\n",
    "        train_data = preprocess_pharo(ds['pharo_train']['comment_sentence'], ds['pharo_train']['class'], np.argmax(ds['pharo_train']['labels'], axis=1))\n",
    "        eval_data = preprocess_pharo(ds['pharo_test']['comment_sentence'], ds['pharo_train']['class'], np.argmax(ds['pharo_test']['labels'], axis=1))\n",
    "    \n",
    "    train_dataloader = torch.utils.data.DataLoader(train_data, batch_size=batch_size, shuffle=True, collate_fn=collator)\n",
    "    eval_dataloader = torch.utils.data.DataLoader(eval_data, batch_size=batch_size, shuffle=False, collate_fn=collator)\n",
    "    \n",
    "    # Training\n",
    "    print('Training...')\n",
    "    opt = None\n",
    "    if optimizer == 'AdamW':\n",
    "        opt = AdamW(model.parameters(), lr = learning_rate, eps = 1e-8, weight_decay=0.01)\n",
    "    elif optimizer == 'Lion':\n",
    "        opt = Lion(model.parameters(), lr = learning_rate)\n",
    "    else:\n",
    "        raise ValueError('Invalid optimizer ' + optimizer)\n",
    "    total_steps = len(train_dataloader) * num_epochs\n",
    "    scheduler = get_linear_schedule_with_warmup(opt, num_warmup_steps=100, num_training_steps=total_steps)\n",
    "\n",
    "    loss_list = []\n",
    "    accuracy_list = []\n",
    "    eval_loss_list = []\n",
    "    eval_accuracy_list = []\n",
    "\n",
    "    max_batches = None # Set to None to run all batches, or a number to run a limited number of batches for testing\n",
    "    for epoch in tqdm(range(num_epochs)):\n",
    "        train_labels, true_labels, train_loss = train(model, train_dataloader, opt, scheduler, max_batches)\n",
    "        train_accuracy = accuracy_score(true_labels, train_labels)\n",
    "        loss_list.append(train_loss)\n",
    "        accuracy_list.append(train_accuracy)\n",
    "        print(f'Epoch {epoch+1}/{num_epochs} - Train Loss: {train_loss}, Train Accuracy: {train_accuracy}')\n",
    "        \n",
    "        eval_labels, true_labels, eval_loss = validate(model, eval_dataloader, max_batches)\n",
    "        eval_accuracy = accuracy_score(true_labels, eval_labels)\n",
    "        eval_loss_list.append(eval_loss)\n",
    "        eval_accuracy_list.append(eval_accuracy)\n",
    "        print(f'Epoch {epoch+1}/{num_epochs} - Eval Loss:  {eval_loss}, Eval Accuracy:  {eval_accuracy}')\n",
    "    \n",
    "    # Save model\n",
    "    if save:\n",
    "        model.save_pretrained(f'./models/gpt2-{lang}')\n",
    "        tokenizer.save_pretrained(f'./models/gpt2-{lang}')\n",
    "    \n",
    "    return model, tokenizer, loss_list, accuracy_list, eval_loss_list, eval_accuracy_list"
   ]
  },
  {
   "cell_type": "code",
   "execution_count": null,
   "metadata": {},
   "outputs": [
    {
     "name": "stdout",
     "output_type": "stream",
     "text": [
      "Running test with hyperparameters: num_epochs=3, batch_size=4, learning_rate=1e-05, optimizer=Lion, max_length=256\n",
      "Setting config...\n",
      "Loading tokenizer...\n"
     ]
    },
    {
     "name": "stderr",
     "output_type": "stream",
     "text": [
      "Some weights of GPT2ForSequenceClassification were not initialized from the model checkpoint at distilgpt2 and are newly initialized: ['score.weight']\n",
      "You should probably TRAIN this model on a down-stream task to be able to use it for predictions and inference.\n"
     ]
    },
    {
     "name": "stdout",
     "output_type": "stream",
     "text": [
      "Loading model...\n"
     ]
    },
    {
     "name": "stderr",
     "output_type": "stream",
     "text": [
      "The new embeddings will be initialized from a multivariate normal distribution that has old embeddings' mean and covariance. As described in this article: https://nlp.stanford.edu/~johnhew/vocab-expansion.html. To disable this, use `mean_resizing=False`\n"
     ]
    },
    {
     "name": "stdout",
     "output_type": "stream",
     "text": [
      "Preparing data...\n",
      "Training...\n"
     ]
    },
    {
     "data": {
      "application/vnd.jupyter.widget-view+json": {
       "model_id": "a6ed2734a989421fa9965abe1f6f7b1d",
       "version_major": 2,
       "version_minor": 0
      },
      "text/plain": [
       "  0%|          | 0/3 [00:00<?, ?it/s]"
      ]
     },
     "metadata": {},
     "output_type": "display_data"
    },
    {
     "data": {
      "application/vnd.jupyter.widget-view+json": {
       "model_id": "2928fa179dc74173b555d363cfd0aae6",
       "version_major": 2,
       "version_minor": 0
      },
      "text/plain": [
       "  0%|          | 0/1904 [00:00<?, ?it/s]"
      ]
     },
     "metadata": {},
     "output_type": "display_data"
    },
    {
     "name": "stdout",
     "output_type": "stream",
     "text": [
      "Epoch 1/3 - Train Loss: 0.7680203543555503, Train Accuracy: 0.7290517467822433\n"
     ]
    },
    {
     "data": {
      "application/vnd.jupyter.widget-view+json": {
       "model_id": "1e3a21afc4df49f991b85ba14aab4f09",
       "version_major": 2,
       "version_minor": 0
      },
      "text/plain": [
       "  0%|          | 0/432 [00:00<?, ?it/s]"
      ]
     },
     "metadata": {},
     "output_type": "display_data"
    },
    {
     "name": "stdout",
     "output_type": "stream",
     "text": [
      "Epoch 1/3 - Eval Loss:  0.5960363575799066, Eval Accuracy:  0.8098550724637681\n"
     ]
    },
    {
     "data": {
      "application/vnd.jupyter.widget-view+json": {
       "model_id": "1029a28373654190be1d686ae47499ff",
       "version_major": 2,
       "version_minor": 0
      },
      "text/plain": [
       "  0%|          | 0/1904 [00:00<?, ?it/s]"
      ]
     },
     "metadata": {},
     "output_type": "display_data"
    },
    {
     "name": "stdout",
     "output_type": "stream",
     "text": [
      "Epoch 2/3 - Train Loss: 0.2737269672425482, Train Accuracy: 0.9063567113212503\n"
     ]
    },
    {
     "data": {
      "application/vnd.jupyter.widget-view+json": {
       "model_id": "e9a4553606bf4b37b79d5c863672b8cf",
       "version_major": 2,
       "version_minor": 0
      },
      "text/plain": [
       "  0%|          | 0/432 [00:00<?, ?it/s]"
      ]
     },
     "metadata": {},
     "output_type": "display_data"
    },
    {
     "name": "stdout",
     "output_type": "stream",
     "text": [
      "Epoch 2/3 - Eval Loss:  0.7133306001919664, Eval Accuracy:  0.7976811594202898\n"
     ]
    },
    {
     "data": {
      "application/vnd.jupyter.widget-view+json": {
       "model_id": "96ab9355e5024a2d8014155a9ec64b0a",
       "version_major": 2,
       "version_minor": 0
      },
      "text/plain": [
       "  0%|          | 0/1904 [00:00<?, ?it/s]"
      ]
     },
     "metadata": {},
     "output_type": "display_data"
    },
    {
     "name": "stdout",
     "output_type": "stream",
     "text": [
      "Epoch 3/3 - Train Loss: 0.14888623841464327, Train Accuracy: 0.9494352508536905\n"
     ]
    },
    {
     "data": {
      "application/vnd.jupyter.widget-view+json": {
       "model_id": "eb3e87bf0ad74c38a635fe217d8cf825",
       "version_major": 2,
       "version_minor": 0
      },
      "text/plain": [
       "  0%|          | 0/432 [00:00<?, ?it/s]"
      ]
     },
     "metadata": {},
     "output_type": "display_data"
    },
    {
     "name": "stdout",
     "output_type": "stream",
     "text": [
      "Epoch 3/3 - Eval Loss:  0.8451043442822554, Eval Accuracy:  0.7988405797101449\n"
     ]
    },
    {
     "data": {
      "application/vnd.jupyter.widget-view+json": {
       "model_id": "1ef46b0653d24f1bab1c4104c76ee61e",
       "version_major": 2,
       "version_minor": 0
      },
      "text/plain": [
       "  0%|          | 0/432 [00:00<?, ?it/s]"
      ]
     },
     "metadata": {},
     "output_type": "display_data"
    },
    {
     "name": "stdout",
     "output_type": "stream",
     "text": [
      "Normalized confusion matrix\n"
     ]
    },
    {
     "name": "stderr",
     "output_type": "stream",
     "text": [
      "c:\\Users\\Erik\\AppData\\Local\\Programs\\Python\\Python312\\Lib\\site-packages\\IPython\\core\\pylabtools.py:77: DeprecationWarning: backend2gui is deprecated since IPython 8.24, backends are managed in matplotlib and can be externally registered.\n",
      "  warnings.warn(\n",
      "c:\\Users\\Erik\\AppData\\Local\\Programs\\Python\\Python312\\Lib\\site-packages\\IPython\\core\\pylabtools.py:77: DeprecationWarning: backend2gui is deprecated since IPython 8.24, backends are managed in matplotlib and can be externally registered.\n",
      "  warnings.warn(\n",
      "c:\\Users\\Erik\\AppData\\Local\\Programs\\Python\\Python312\\Lib\\site-packages\\IPython\\core\\pylabtools.py:77: DeprecationWarning: backend2gui is deprecated since IPython 8.24, backends are managed in matplotlib and can be externally registered.\n",
      "  warnings.warn(\n"
     ]
    },
    {
     "data": {
      "image/png": "[encoded data removed]",
      "text/plain": [
       "<Figure size 2880x720 with 2 Axes>"
      ]
     },
     "metadata": {},
     "output_type": "display_data"
    },
    {
     "name": "stdout",
     "output_type": "stream",
     "text": [
      "Running test with hyperparameters: num_epochs=3, batch_size=4, learning_rate=1e-05, optimizer=Lion, max_length=512\n",
      "Setting config...\n",
      "Loading tokenizer...\n"
     ]
    },
    {
     "name": "stderr",
     "output_type": "stream",
     "text": [
      "Some weights of GPT2ForSequenceClassification were not initialized from the model checkpoint at distilgpt2 and are newly initialized: ['score.weight']\n",
      "You should probably TRAIN this model on a down-stream task to be able to use it for predictions and inference.\n"
     ]
    },
    {
     "name": "stdout",
     "output_type": "stream",
     "text": [
      "Loading model...\n",
      "Preparing data...\n",
      "Training...\n"
     ]
    },
    {
     "data": {
      "application/vnd.jupyter.widget-view+json": {
       "model_id": "84b8e1c01e794014b75f783270ac5cfa",
       "version_major": 2,
       "version_minor": 0
      },
      "text/plain": [
       "  0%|          | 0/3 [00:00<?, ?it/s]"
      ]
     },
     "metadata": {},
     "output_type": "display_data"
    },
    {
     "data": {
      "application/vnd.jupyter.widget-view+json": {
       "model_id": "d14c97be80fa41b3ac67e0eae369335e",
       "version_major": 2,
       "version_minor": 0
      },
      "text/plain": [
       "  0%|          | 0/1904 [00:00<?, ?it/s]"
      ]
     },
     "metadata": {},
     "output_type": "display_data"
    },
    {
     "ename": "KeyboardInterrupt",
     "evalue": "",
     "output_type": "error",
     "traceback": [
      "\u001b[1;31m---------------------------------------------------------------------------\u001b[0m",
      "\u001b[1;31mKeyboardInterrupt\u001b[0m                         Traceback (most recent call last)",
      "Cell \u001b[1;32mIn[15], line 8\u001b[0m\n\u001b[0;32m      6\u001b[0m \u001b[38;5;28;01mfor\u001b[39;00m max_length \u001b[38;5;129;01min\u001b[39;00m hyperparameters[\u001b[38;5;124m'\u001b[39m\u001b[38;5;124mmax_length\u001b[39m\u001b[38;5;124m'\u001b[39m]:\n\u001b[0;32m      7\u001b[0m     \u001b[38;5;28mprint\u001b[39m(\u001b[38;5;124mf\u001b[39m\u001b[38;5;124m'\u001b[39m\u001b[38;5;124mRunning test with hyperparameters: num_epochs=\u001b[39m\u001b[38;5;132;01m{\u001b[39;00mnum_epochs\u001b[38;5;132;01m}\u001b[39;00m\u001b[38;5;124m, batch_size=\u001b[39m\u001b[38;5;132;01m{\u001b[39;00mbatch_size\u001b[38;5;132;01m}\u001b[39;00m\u001b[38;5;124m, learning_rate=\u001b[39m\u001b[38;5;132;01m{\u001b[39;00mlearning_rate\u001b[38;5;132;01m}\u001b[39;00m\u001b[38;5;124m, optimizer=\u001b[39m\u001b[38;5;132;01m{\u001b[39;00moptimizer\u001b[38;5;132;01m}\u001b[39;00m\u001b[38;5;124m, max_length=\u001b[39m\u001b[38;5;132;01m{\u001b[39;00mmax_length\u001b[38;5;132;01m}\u001b[39;00m\u001b[38;5;124m'\u001b[39m)\n\u001b[1;32m----> 8\u001b[0m     model, tokenizer, loss_list, accuracy_list, eval_loss_list, eval_accuracy_list \u001b[38;5;241m=\u001b[39m \u001b[43mbuild_model\u001b[49m\u001b[43m(\u001b[49m\u001b[38;5;124;43m'\u001b[39;49m\u001b[38;5;124;43mjava\u001b[39;49m\u001b[38;5;124;43m'\u001b[39;49m\u001b[43m,\u001b[49m\u001b[43m \u001b[49m\u001b[43msave\u001b[49m\u001b[38;5;241;43m=\u001b[39;49m\u001b[38;5;28;43;01mFalse\u001b[39;49;00m\u001b[43m,\u001b[49m\u001b[43m \u001b[49m\u001b[43moptimizer\u001b[49m\u001b[38;5;241;43m=\u001b[39;49m\u001b[43moptimizer\u001b[49m\u001b[43m,\u001b[49m\u001b[43m \u001b[49m\u001b[43mlearning_rate\u001b[49m\u001b[38;5;241;43m=\u001b[39;49m\u001b[43mlearning_rate\u001b[49m\u001b[43m,\u001b[49m\u001b[43m \u001b[49m\u001b[43mnum_epochs\u001b[49m\u001b[38;5;241;43m=\u001b[39;49m\u001b[43mnum_epochs\u001b[49m\u001b[43m,\u001b[49m\u001b[43m \u001b[49m\u001b[43mbatch_size\u001b[49m\u001b[38;5;241;43m=\u001b[39;49m\u001b[43mbatch_size\u001b[49m\u001b[43m,\u001b[49m\u001b[43m \u001b[49m\u001b[43mmax_length\u001b[49m\u001b[38;5;241;43m=\u001b[39;49m\u001b[43mmax_length\u001b[49m\u001b[43m)\u001b[49m\n\u001b[0;32m     10\u001b[0m     \u001b[38;5;66;03m# Do classification report\u001b[39;00m\n\u001b[0;32m     11\u001b[0m     eval_data \u001b[38;5;241m=\u001b[39m preprocess_java(ds[\u001b[38;5;124m'\u001b[39m\u001b[38;5;124mjava_test\u001b[39m\u001b[38;5;124m'\u001b[39m][\u001b[38;5;124m'\u001b[39m\u001b[38;5;124mcomment_sentence\u001b[39m\u001b[38;5;124m'\u001b[39m], ds[\u001b[38;5;124m'\u001b[39m\u001b[38;5;124mjava_train\u001b[39m\u001b[38;5;124m'\u001b[39m][\u001b[38;5;124m'\u001b[39m\u001b[38;5;124mclass\u001b[39m\u001b[38;5;124m'\u001b[39m], np\u001b[38;5;241m.\u001b[39margmax(ds[\u001b[38;5;124m'\u001b[39m\u001b[38;5;124mjava_test\u001b[39m\u001b[38;5;124m'\u001b[39m][\u001b[38;5;124m'\u001b[39m\u001b[38;5;124mlabels\u001b[39m\u001b[38;5;124m'\u001b[39m], axis\u001b[38;5;241m=\u001b[39m\u001b[38;5;241m1\u001b[39m))\n",
      "Cell \u001b[1;32mIn[14], line 60\u001b[0m, in \u001b[0;36mbuild_model\u001b[1;34m(lang, save, optimizer, learning_rate, num_epochs, batch_size, max_length)\u001b[0m\n\u001b[0;32m     58\u001b[0m max_batches \u001b[38;5;241m=\u001b[39m \u001b[38;5;28;01mNone\u001b[39;00m \u001b[38;5;66;03m# Set to None to run all batches, or a number to run a limited number of batches for testing\u001b[39;00m\n\u001b[0;32m     59\u001b[0m \u001b[38;5;28;01mfor\u001b[39;00m epoch \u001b[38;5;129;01min\u001b[39;00m tqdm(\u001b[38;5;28mrange\u001b[39m(num_epochs)):\n\u001b[1;32m---> 60\u001b[0m     train_labels, true_labels, train_loss \u001b[38;5;241m=\u001b[39m \u001b[43mtrain\u001b[49m\u001b[43m(\u001b[49m\u001b[43mmodel\u001b[49m\u001b[43m,\u001b[49m\u001b[43m \u001b[49m\u001b[43mtrain_dataloader\u001b[49m\u001b[43m,\u001b[49m\u001b[43m \u001b[49m\u001b[43mopt\u001b[49m\u001b[43m,\u001b[49m\u001b[43m \u001b[49m\u001b[43mscheduler\u001b[49m\u001b[43m,\u001b[49m\u001b[43m \u001b[49m\u001b[43mmax_batches\u001b[49m\u001b[43m)\u001b[49m\n\u001b[0;32m     61\u001b[0m     train_accuracy \u001b[38;5;241m=\u001b[39m accuracy_score(true_labels, train_labels)\n\u001b[0;32m     62\u001b[0m     loss_list\u001b[38;5;241m.\u001b[39mappend(train_loss)\n",
      "Cell \u001b[1;32mIn[9], line 28\u001b[0m, in \u001b[0;36mtrain\u001b[1;34m(model, dataloader, optimizer, scheduler, max_batches)\u001b[0m\n\u001b[0;32m     25\u001b[0m scheduler\u001b[38;5;241m.\u001b[39mstep()\n\u001b[0;32m     26\u001b[0m optimizer\u001b[38;5;241m.\u001b[39mzero_grad()\n\u001b[1;32m---> 28\u001b[0m pred_labels\u001b[38;5;241m.\u001b[39mextend(\u001b[43mtorch\u001b[49m\u001b[38;5;241;43m.\u001b[39;49m\u001b[43margmax\u001b[49m\u001b[43m(\u001b[49m\u001b[43moutputs\u001b[49m\u001b[38;5;241;43m.\u001b[39;49m\u001b[43mlogits\u001b[49m\u001b[43m,\u001b[49m\u001b[43m \u001b[49m\u001b[43mdim\u001b[49m\u001b[38;5;241;43m=\u001b[39;49m\u001b[38;5;241;43m-\u001b[39;49m\u001b[38;5;241;43m1\u001b[39;49m\u001b[43m)\u001b[49m\u001b[38;5;241;43m.\u001b[39;49m\u001b[43mcpu\u001b[49m\u001b[43m(\u001b[49m\u001b[43m)\u001b[49m\u001b[38;5;241m.\u001b[39mnumpy())\n\u001b[0;32m     29\u001b[0m true_labels\u001b[38;5;241m.\u001b[39mextend(inputs[\u001b[38;5;124m'\u001b[39m\u001b[38;5;124mlabels\u001b[39m\u001b[38;5;124m'\u001b[39m]\u001b[38;5;241m.\u001b[39mcpu()\u001b[38;5;241m.\u001b[39mnumpy())\n\u001b[0;32m     31\u001b[0m batches_processed \u001b[38;5;241m+\u001b[39m\u001b[38;5;241m=\u001b[39m \u001b[38;5;241m1\u001b[39m\n",
      "\u001b[1;31mKeyboardInterrupt\u001b[0m: "
     ]
    }
   ],
   "source": [
    "# Run tests on java lang with all hyperparameters\n",
    "\"\"\"\n",
    "for num_epochs in hyperparameters['num_epochs']:\n",
    "    for batch_size in hyperparameters['batch_size']:\n",
    "        for learning_rate in hyperparameters['learning_rate']:\n",
    "            for optimizer in hyperparameters['optimizer']:\n",
    "                for max_length in hyperparameters['max_length']:\n",
    "                    print(f'Running test with hyperparameters: num_epochs={num_epochs}, batch_size={batch_size}, learning_rate={learning_rate}, optimizer={optimizer}, max_length={max_length}')\n",
    "                    model, tokenizer, loss_list, accuracy_list, eval_loss_list, eval_accuracy_list = build_model('java', save=False, optimizer=optimizer, learning_rate=learning_rate, num_epochs=num_epochs, batch_size=batch_size, max_length=max_length)\n",
    "                    \n",
    "                    # Do classification report\n",
    "                    eval_data = preprocess_java(ds['java_test']['comment_sentence'], ds['java_train']['class'], np.argmax(ds['java_test']['labels'], axis=1))\n",
    "                    eval_dataloader = torch.utils.data.DataLoader(eval_data, batch_size=batch_size, shuffle=False, collate_fn=GPT2_collator(tokenizer, max_length))\n",
    "                    eval_labels = predict(model, eval_dataloader)\n",
    "                    true_labels = [sequence['label'] for sequence in eval_data]\n",
    "                    report = classification_report(true_labels, eval_labels)\n",
    "                    \n",
    "                    # Add results to file\n",
    "                    with open('results.txt', 'a') as f:\n",
    "                        f.write(f'Java - num_epochs={num_epochs}, batch_size={batch_size}, learning_rate={learning_rate}, optimizer={optimizer}, max_length={max_length}\\n')\n",
    "                        f.write(f'Loss: {loss_list}\\n')\n",
    "                        f.write(f'Accuracy: {accuracy_list}\\n')\n",
    "                        f.write(f'Eval Loss: {eval_loss_list}\\n')\n",
    "                        f.write(f'Eval Accuracy: {eval_accuracy_list}\\n')\n",
    "                        f.write(f'Report: {report}\\n')\n",
    "                        f.write('\\n')\n",
    "                    \n",
    "\"\"\""
   ]
  }
 ],
 "metadata": {
  "kernelspec": {
   "display_name": "Python 3",
   "language": "python",
   "name": "python3"
  },
  "language_info": {
   "codemirror_mode": {
    "name": "ipython",
    "version": 3
   },
   "file_extension": ".py",
   "mimetype": "text/x-python",
   "name": "python",
   "nbconvert_exporter": "python",
   "pygments_lexer": "ipython3",
   "version": "3.12.3"
  }
 },
 "nbformat": 4,
 "nbformat_minor": 2
}
