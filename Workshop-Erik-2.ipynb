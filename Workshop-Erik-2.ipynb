{
 "cells": [
  {
   "cell_type": "markdown",
   "metadata": {},
   "source": [
    "# CS 440 Final Project\n",
    "Project: **NLBSE 2025 Code Comment Classification**\n",
    "\n",
    "Members (Team Overfitted):\n",
    " - Erik Cooper\n",
    " - Seth Harling\n",
    "## Vision\n",
    "This tool competition involves building and training 3 multi-label classification models for code comments. These comments fall in to different categories for the different languages (Java, Python, and Pharo). These categories include comments for summarization, development notes, intent, and usage.\n",
    "\n",
    "For our project, we chose to run with a strongly langauge processing approach, trying our best to ignore formatting as hints to the category. This is one of the reasons why we chose to use GPT-2 as our base model.\n",
    "\n",
    "When searching for pretrained NLP models, we were presented with many options. The main ones we considered were variations of BERT (RoBERTa for one), ELMo, UniLM, and GPT. There were a couple properties we were specifically looking for in a model for this project. We wanted a model that would work well on a classification problem, and we wanted a smaller model that would take less time to train so we could spend more time learning how to work the NLPs than waiting for it to work.\n",
    "\n",
    "With this, we settled on the smallest size of [GPT-2](https://huggingface.co/openai-community/gpt2) with 124M parameters. This number of parameters felt in line with the scope of our project, plus GPT is a rather famous model that most people have at least heard about. We thought that working with something somewhat familiar would help with learning how this all works. Though, to make the tuning process a little quicker, we use [distilgpt2](https://huggingface.co/distilbert/distilgpt2) to reduce our training times by 50% with its lower 82M parameters.\n",
    "\n",
    "## Attempted improvements\n",
    " - Label embeddings in GPT2Model\n",
    "   - Resulted in overall accuracy of ~50%\n",
    " - Various forms of preprocessing\n",
    "   - Included removing formatting, changing between truncation in the middle or end, excluding sections within formatting\n",
    "   - Resulted in minimal negative effect. Could be explored further\n",
    " - Included label in input during training.\n",
    "  - Resulted in dependency on special tokens. Ended in worse results. Could be due to bad implementation.\n",
    "## Improvements to try\n",
    " - Data augmentation\n",
    "   - Translating data between languages to get more inputs."
   ]
  },
  {
   "cell_type": "markdown",
   "metadata": {},
   "source": [
    "### Imports"
   ]
  },
  {
   "cell_type": "code",
   "execution_count": 1,
   "metadata": {},
   "outputs": [
    {
     "name": "stderr",
     "output_type": "stream",
     "text": [
      "Using TensorFlow backend.\n"
     ]
    }
   ],
   "source": [
    "from datasets import load_dataset\n",
    "import numpy as np\n",
    "import torch\n",
    "import pandas as pd\n",
    "from tqdm.notebook import tqdm\n",
    "from sklearn.metrics import accuracy_score, classification_report, confusion_matrix, multilabel_confusion_matrix\n",
    "from transformers import (GPT2Config,\n",
    "                          GPT2Tokenizer,\n",
    "                          GPT2Model,\n",
    "                          AdamW, \n",
    "                          get_linear_schedule_with_warmup,\n",
    "                          GPT2ForSequenceClassification)\n",
    "import re\n",
    "from lion_pytorch import Lion"
   ]
  },
  {
   "cell_type": "markdown",
   "metadata": {},
   "source": [
    "### Defining string constants"
   ]
  },
  {
   "cell_type": "code",
   "execution_count": 2,
   "metadata": {},
   "outputs": [],
   "source": [
    "# From challenge ()\n",
    "classification_langs = ['java', 'python', 'pharo']\n",
    "classification_labels = {\n",
    "    'java': ['summary', 'Ownership', 'Expand', 'usage', 'Pointer', 'deprecation', 'rational'],\n",
    "    'python': ['Usage', 'Parameters', 'DevelopmentNotes', 'Expand', 'Summary'],\n",
    "    'pharo': ['Keyimplementationpoints', 'Example', 'Responsibilities', 'Classreferences', 'Intent', 'Keymessages', 'Collaborators']\n",
    "}\n",
    "lang_learning_rates = {\n",
    "    'java': 1e-5,\n",
    "    'python': 1e-4,\n",
    "    'pharo': 1e-4\n",
    "}\n",
    "lang_epochs = {\n",
    "    'java': 2,\n",
    "    'python': 5,\n",
    "    'pharo': 5\n",
    "}\n",
    "lang_weights = {\n",
    "    'java': [1.0, 1.0, 1.5, 1.0, 1.0, 1.0, 1.5],\n",
    "    'python': [1.0, 1.0, 1.0, 1.0, 1.0],\n",
    "    'pharo': [1.0, 1.0, 1.0, 1.0, 1.0, 1.0, 1.0]\n",
    "}\n",
    "lang_thresholds = {\n",
    "    'java': [0.5, 0.5, 0.25, 0.5, 0.5, 0.5, 0.2],\n",
    "    'python': [0.5, 0.5, 0.5, 0.5, 0.5],\n",
    "    'pharo': [0.5, 0.5, 0.5, 0.5, 0.5, 0.5, 0.5]\n",
    "}"
   ]
  },
  {
   "cell_type": "markdown",
   "metadata": {},
   "source": [
    "### Parameters"
   ]
  },
  {
   "cell_type": "code",
   "execution_count": 3,
   "metadata": {},
   "outputs": [],
   "source": [
    "model_name = 'distilgpt2' # model name\n",
    "add_class_name = False # add class name to the input text"
   ]
  },
  {
   "cell_type": "markdown",
   "metadata": {},
   "source": [
    "### Preprocessing functions"
   ]
  },
  {
   "cell_type": "code",
   "execution_count": 4,
   "metadata": {},
   "outputs": [],
   "source": [
    "def preprocess_java(comment, class_name, labels=None):\n",
    "    # Create dataset object\n",
    "    output = []\n",
    "    \n",
    "    for i in range(len(comment)):\n",
    "        text = comment[i]\n",
    "        \n",
    "        # remove entirety of html lists\n",
    "        # text = re.sub(r'<ol>[.\\s\\S]*?<\\/ol>', '', text)\n",
    "        \n",
    "        # remove html tags\n",
    "        text = re.sub(r'<.*?>', '', text)\n",
    "        \n",
    "        # remove bullets\n",
    "        #text = re.sub(r'\\s\\*', '', text)\n",
    "        \n",
    "        # remove bulleted lines\n",
    "        #text = re.sub(r'\\n\\s*\\*.*', '', text)\n",
    "        \n",
    "        # remove curly braced sections\n",
    "        #text = re.sub(r'\\{.*?\\}', '', text)\n",
    "        \n",
    "        # remove // comments\n",
    "        # text = re.sub(r'\\s*\\/\\/.*', '', text)\n",
    "        \n",
    "        # remove formatting for // comments\n",
    "        # text = re.sub(r'\\/\\/', '', text)\n",
    "        \n",
    "        # remove formatting for /* */ comments\n",
    "        # text = re.sub(r'\\/\\*.|\\*\\/', '', text)\n",
    "        \n",
    "        # remove multiple spaces\n",
    "        text = re.sub(r'\\s+', ' ', text)\n",
    "        \n",
    "        # Add class name\n",
    "        if add_class_name:\n",
    "            text = class_name[i] + ': ' + text\n",
    "        \n",
    "        # truncate middle\n",
    "        #if (len(text) > max_length):\n",
    "        #    text = text[:(int(max_length/2)-4)] + ' ... ' + text[-(int(max_length/2)-4):]\n",
    "        \n",
    "        # truncate end\n",
    "        if (len(text) > max_length):\n",
    "            text = text[:max_length]\n",
    "        \n",
    "        # Build dictionary\n",
    "        if labels is not None:\n",
    "            output.append({\n",
    "                'text': text,\n",
    "                'label': labels[i]\n",
    "            })\n",
    "        else:\n",
    "            output.append({\n",
    "                'text': text,\n",
    "                'label': [0, 0, 0, 0, 0, 0, 0]\n",
    "            })\n",
    "    \n",
    "    return output"
   ]
  },
  {
   "cell_type": "code",
   "execution_count": 5,
   "metadata": {},
   "outputs": [],
   "source": [
    "def preprocess_python(comment, class_name, labels=None):\n",
    "    output = []\n",
    "    \n",
    "    for i in range(len(comment)):\n",
    "        text = comment[i]\n",
    "        \n",
    "        # Add class name\n",
    "        #text = class_name[i] + ': ' + text\n",
    "        \n",
    "        # truncate\n",
    "        #if (len(text) > max_length):\n",
    "        #    text = text[:(int(max_length/2)-4)] + ' ... ' + text[-(int(max_length/2)-4):]\n",
    "        \n",
    "        # truncate end\n",
    "        if (len(text) > max_length):\n",
    "            text = text[:max_length]\n",
    "        \n",
    "        # Build dictionary\n",
    "        if labels is not None:\n",
    "            output.append({\n",
    "                'text': text,\n",
    "                'label': labels[i]\n",
    "            })\n",
    "        else:\n",
    "            output.append({\n",
    "                'text': text,\n",
    "                'label': [0, 0, 0, 0, 0]\n",
    "            })\n",
    "    \n",
    "    return output"
   ]
  },
  {
   "cell_type": "code",
   "execution_count": 6,
   "metadata": {},
   "outputs": [],
   "source": [
    "def preprocess_pharo(comment, class_name, labels=None):\n",
    "    output = []\n",
    "    \n",
    "    for i in range(len(comment)):\n",
    "        text = comment[i]\n",
    "        \n",
    "        # Add class name\n",
    "        #text = class_name[i] + ': ' + text\n",
    "        \n",
    "        # truncate\n",
    "        #if (len(text) > max_length):\n",
    "        #    text = text[:(int(max_length/2)-4)] + ' ... ' + text[-(int(max_length/2)-4):]\n",
    "        \n",
    "        # truncate end\n",
    "        if (len(text) > max_length):\n",
    "            text = text[:max_length]\n",
    "        \n",
    "        # Build dictionary\n",
    "        if labels is not None:\n",
    "            output.append({\n",
    "                'text': text,\n",
    "                'label': labels[i]\n",
    "            })\n",
    "        else:\n",
    "            output.append({\n",
    "                'text': text,\n",
    "                'label': [0, 0, 0, 0, 0, 0, 0]\n",
    "            })\n",
    "    \n",
    "    return output"
   ]
  },
  {
   "cell_type": "markdown",
   "metadata": {},
   "source": [
    "### GPT2 Collator"
   ]
  },
  {
   "cell_type": "code",
   "execution_count": 7,
   "metadata": {},
   "outputs": [],
   "source": [
    "# Collator object for GPT2, which will tokenize the text\n",
    "class GPT2_collator(object):\n",
    "    def __init__(self, tokenizer, max_length):\n",
    "        self.tokenizer = tokenizer\n",
    "        self.max_length = max_length\n",
    "\n",
    "    def __call__(self, sequences):\n",
    "        texts = [sequence['text'] for sequence in sequences]\n",
    "        labels = [sequence['label'] for sequence in sequences]\n",
    "        \n",
    "        inputs = self.tokenizer(text=texts, return_tensors='pt', padding='max_length', truncation=True, max_length=self.max_length)\n",
    "        inputs.update({'labels': torch.tensor(labels)})\n",
    "        \n",
    "        return inputs"
   ]
  },
  {
   "cell_type": "markdown",
   "metadata": {},
   "source": [
    "### Train, Validate, and Predict"
   ]
  },
  {
   "cell_type": "code",
   "execution_count": 8,
   "metadata": {},
   "outputs": [],
   "source": [
    "# Training function, updates model weights\n",
    "def train(model, dataloader, optimizer, scheduler, loss_fn, thresholds, max_batches=None):\n",
    "    global device\n",
    "    \n",
    "    model.train()\n",
    "    \n",
    "    pred_labels = []\n",
    "    true_labels = []\n",
    "    total_loss = 0\n",
    "    \n",
    "    batches_processed = 0\n",
    "    \n",
    "    for batch in tqdm(dataloader, total=len(dataloader)):\n",
    "        if max_batches is not None and batches_processed >= max_batches:\n",
    "            break\n",
    "        \n",
    "        inputs = {k: v.to(device) for k, v in batch.items() if k != 'labels'}\n",
    "        labels = batch['labels'].to(device)\n",
    "        \n",
    "        outputs = model(**inputs)\n",
    "        \n",
    "        loss = loss_fn(outputs.logits, labels.float())\n",
    "        total_loss += loss.item()\n",
    "        \n",
    "        loss.backward()\n",
    "        optimizer.step()\n",
    "        scheduler.step()\n",
    "        optimizer.zero_grad()\n",
    "        \n",
    "        probs = torch.sigmoid(outputs.logits)\n",
    "        preds = (probs > thresholds).int()\n",
    "        \n",
    "        pred_labels.extend(preds.cpu().numpy())\n",
    "        true_labels.extend(labels.cpu().numpy())\n",
    "        \n",
    "        batches_processed += 1\n",
    "    \n",
    "    avg_epoch_loss = total_loss / batches_processed\n",
    "    \n",
    "    return pred_labels, true_labels, avg_epoch_loss"
   ]
  },
  {
   "cell_type": "code",
   "execution_count": 9,
   "metadata": {},
   "outputs": [],
   "source": [
    "# For validation, no updating\n",
    "def validate(model, dataloader, loss_fn, thresholds, max_batches=None):\n",
    "    global device\n",
    "    \n",
    "    model.eval()\n",
    "    \n",
    "    pred_labels = []\n",
    "    true_labels = []\n",
    "    total_loss = 0\n",
    "    \n",
    "    batches_processed = 0\n",
    "    \n",
    "    for batch in tqdm(dataloader, total=len(dataloader)):\n",
    "        if max_batches is not None and batches_processed >= max_batches:\n",
    "            break\n",
    "        \n",
    "        inputs = {k: v.to(device) for k, v in batch.items() if k != 'labels'}\n",
    "        labels = batch['labels'].to(device)\n",
    "        \n",
    "        outputs = model(**inputs)\n",
    "        \n",
    "        loss = loss_fn(outputs.logits, labels.float())\n",
    "        total_loss += loss.item()\n",
    "        \n",
    "        probs = torch.sigmoid(outputs.logits)\n",
    "        preds = (probs > thresholds).int()\n",
    "        \n",
    "        pred_labels.extend(preds.cpu().numpy())\n",
    "        true_labels.extend(labels.cpu().numpy())\n",
    "        \n",
    "        batches_processed += 1\n",
    "    \n",
    "    avg_epoch_loss = total_loss / batches_processed\n",
    "    \n",
    "    return pred_labels, true_labels, avg_epoch_loss"
   ]
  },
  {
   "cell_type": "code",
   "execution_count": 10,
   "metadata": {},
   "outputs": [],
   "source": [
    "# Inferencing function\n",
    "def predict(model, dataloader, thresholds):\n",
    "    global device\n",
    "    \n",
    "    model.eval()\n",
    "    \n",
    "    pred_labels = []\n",
    "    probs_list = []\n",
    "    \n",
    "    for batch in tqdm(dataloader, total=len(dataloader)):\n",
    "        inputs = {k: v.to(device) for k, v in batch.items() if k != 'labels'}\n",
    "        \n",
    "        outputs = model(**inputs)\n",
    "        \n",
    "        probs = torch.sigmoid(outputs.logits)\n",
    "        preds = (probs > thresholds).int()\n",
    "        \n",
    "        probs_list.extend(probs.detach().cpu().numpy())\n",
    "        pred_labels.extend(preds.cpu().numpy())\n",
    "    \n",
    "    return pred_labels, probs_list"
   ]
  },
  {
   "cell_type": "markdown",
   "metadata": {},
   "source": [
    "### Setup"
   ]
  },
  {
   "cell_type": "code",
   "execution_count": 11,
   "metadata": {},
   "outputs": [],
   "source": [
    "# Loading dataset\n",
    "ds = load_dataset('NLBSE/nlbse25-code-comment-classification')"
   ]
  },
  {
   "cell_type": "code",
   "execution_count": 12,
   "metadata": {},
   "outputs": [],
   "source": [
    "# Augmenting dataset\n",
    "# TODO: Add augmentation, python and pharo are sparse"
   ]
  },
  {
   "cell_type": "code",
   "execution_count": 13,
   "metadata": {},
   "outputs": [
    {
     "name": "stdout",
     "output_type": "stream",
     "text": [
      "Using device: cuda\n"
     ]
    }
   ],
   "source": [
    "# Setting up device\n",
    "device = torch.device('cuda' if torch.cuda.is_available() else 'cpu')\n",
    "print('Using device:', device)"
   ]
  },
  {
   "cell_type": "code",
   "execution_count": 14,
   "metadata": {},
   "outputs": [],
   "source": [
    "# Model setup and training\n",
    "def build_model(lang, save=False, optimizer='Lion', learning_rate=None, num_epochs=None, batch_size=8, max_length=512):\n",
    "    global device\n",
    "    \n",
    "    num_labels = len(classification_labels[lang])\n",
    "    \n",
    "    if learning_rate is None:\n",
    "        learning_rate = lang_learning_rates[lang]\n",
    "    if num_epochs is None:\n",
    "        num_epochs = lang_epochs[lang]\n",
    "    \n",
    "    # Setup\n",
    "    print('Setting config...')\n",
    "    model_config = GPT2Config.from_pretrained(\n",
    "        model_name,\n",
    "        num_labels=num_labels,\n",
    "        id2label={str(i): label for i, label in enumerate(classification_labels[lang])},\n",
    "        label2id={label: i for i, label in enumerate(classification_labels[lang])},\n",
    "        problem_type='multi_label_classification'\n",
    "    )\n",
    "\n",
    "    print('Loading tokenizer...')\n",
    "    tokenizer = GPT2Tokenizer.from_pretrained(model_name)\n",
    "    tokenizer.padding_side = 'left'\n",
    "    tokenizer.pad_token = tokenizer.eos_token\n",
    "\n",
    "    print('Loading model...')\n",
    "    model = GPT2ForSequenceClassification.from_pretrained(model_name, config=model_config)\n",
    "    model.resize_token_embeddings(len(tokenizer))\n",
    "    model.config.pad_token_id = tokenizer.eos_token_id\n",
    "    model.to(device)\n",
    "    \n",
    "    collator = GPT2_collator(tokenizer, max_length)\n",
    "    \n",
    "    # Prepare data\n",
    "    print('Preparing data...')\n",
    "    if lang == 'java':\n",
    "        train_data = preprocess_java(ds['java_train']['comment_sentence'], ds['java_train']['class'], ds['java_train']['labels'])\n",
    "        eval_data = preprocess_java(ds['java_test']['comment_sentence'], ds['java_train']['class'], ds['java_test']['labels'])\n",
    "    elif lang == 'python':\n",
    "        train_data = preprocess_python(ds['python_train']['comment_sentence'], ds['python_train']['class'], ds['python_train']['labels'])\n",
    "        eval_data = preprocess_python(ds['python_test']['comment_sentence'], ds['python_train']['class'], ds['python_test']['labels'])\n",
    "    elif lang == 'pharo':\n",
    "        train_data = preprocess_pharo(ds['pharo_train']['comment_sentence'], ds['pharo_train']['class'], ds['pharo_train']['labels'])\n",
    "        eval_data = preprocess_pharo(ds['pharo_test']['comment_sentence'], ds['pharo_train']['class'], ds['pharo_test']['labels'])\n",
    "    \n",
    "    train_dataloader = torch.utils.data.DataLoader(train_data, batch_size=batch_size, shuffle=True, collate_fn=collator)\n",
    "    eval_dataloader = torch.utils.data.DataLoader(eval_data, batch_size=batch_size, shuffle=False, collate_fn=collator)\n",
    "    \n",
    "    # Training\n",
    "    print('Training...')\n",
    "    opt = None\n",
    "    if optimizer == 'AdamW':\n",
    "        opt = AdamW(model.parameters(), lr = learning_rate, eps = 1e-8, weight_decay=0.01)\n",
    "    elif optimizer == 'Lion':\n",
    "        opt = Lion(model.parameters(), lr = learning_rate)\n",
    "    else:\n",
    "        raise ValueError('Invalid optimizer ' + optimizer)\n",
    "    total_steps = len(train_dataloader) * num_epochs\n",
    "    scheduler = get_linear_schedule_with_warmup(opt, num_warmup_steps=100, num_training_steps=total_steps)\n",
    "    loss_fn = torch.nn.BCEWithLogitsLoss(weight=torch.tensor(lang_weights[lang]).to(device))\n",
    "    thresholds = torch.tensor(lang_thresholds[lang]).to(device)\n",
    "    \n",
    "    loss_list = []\n",
    "    accuracy_list = []\n",
    "    eval_loss_list = []\n",
    "    eval_accuracy_list = []\n",
    "\n",
    "    max_batches = None # Set to None to run all batches, or a number to run a limited number of batches for testing\n",
    "    for epoch in tqdm(range(num_epochs)):\n",
    "        train_labels, true_labels, train_loss = train(model, train_dataloader, opt, scheduler, loss_fn, thresholds, max_batches)\n",
    "        train_accuracy = accuracy_score(true_labels, train_labels)\n",
    "        loss_list.append(train_loss)\n",
    "        accuracy_list.append(train_accuracy)\n",
    "        print(f'Epoch {epoch+1}/{num_epochs} - Train Loss: {train_loss}, Train Accuracy: {train_accuracy}')\n",
    "        \n",
    "        eval_labels, true_labels, eval_loss = validate(model, eval_dataloader, loss_fn, thresholds, max_batches)\n",
    "        eval_accuracy = accuracy_score(true_labels, eval_labels)\n",
    "        eval_loss_list.append(eval_loss)\n",
    "        eval_accuracy_list.append(eval_accuracy)\n",
    "        print(f'Epoch {epoch+1}/{num_epochs} - Eval Loss:  {eval_loss}, Eval Accuracy:  {eval_accuracy}')\n",
    "    \n",
    "    # Save model\n",
    "    if save:\n",
    "        model.save_pretrained(f'./models/gpt2-{lang}')\n",
    "        tokenizer.save_pretrained(f'./models/gpt2-{lang}')\n",
    "    \n",
    "    return model, tokenizer, loss_list, accuracy_list, eval_loss_list, eval_accuracy_list"
   ]
  },
  {
   "cell_type": "markdown",
   "metadata": {},
   "source": [
    "## Building our Models"
   ]
  },
  {
   "cell_type": "code",
   "execution_count": 15,
   "metadata": {},
   "outputs": [
    {
     "name": "stdout",
     "output_type": "stream",
     "text": [
      "Setting config...\n",
      "Loading tokenizer...\n"
     ]
    },
    {
     "name": "stderr",
     "output_type": "stream",
     "text": [
      "Some weights of GPT2ForSequenceClassification were not initialized from the model checkpoint at distilgpt2 and are newly initialized: ['score.weight']\n",
      "You should probably TRAIN this model on a down-stream task to be able to use it for predictions and inference.\n"
     ]
    },
    {
     "name": "stdout",
     "output_type": "stream",
     "text": [
      "Loading model...\n",
      "Preparing data...\n",
      "Training...\n"
     ]
    },
    {
     "data": {
      "application/vnd.jupyter.widget-view+json": {
       "model_id": "958a5863470342eab51d55b13cacacde",
       "version_major": 2,
       "version_minor": 0
      },
      "text/plain": [
       "  0%|          | 0/2 [00:00<?, ?it/s]"
      ]
     },
     "metadata": {},
     "output_type": "display_data"
    },
    {
     "data": {
      "application/vnd.jupyter.widget-view+json": {
       "model_id": "f2fc2bea70d74728973189018c6a5ff3",
       "version_major": 2,
       "version_minor": 0
      },
      "text/plain": [
       "  0%|          | 0/952 [00:00<?, ?it/s]"
      ]
     },
     "metadata": {},
     "output_type": "display_data"
    },
    {
     "name": "stdout",
     "output_type": "stream",
     "text": [
      "Epoch 1/2 - Train Loss: 0.2701964039681284, Train Accuracy: 0.5514841082216969\n"
     ]
    },
    {
     "data": {
      "application/vnd.jupyter.widget-view+json": {
       "model_id": "0130cc5ebc2e4096ae4f3aab62084f6f",
       "version_major": 2,
       "version_minor": 0
      },
      "text/plain": [
       "  0%|          | 0/216 [00:00<?, ?it/s]"
      ]
     },
     "metadata": {},
     "output_type": "display_data"
    },
    {
     "name": "stdout",
     "output_type": "stream",
     "text": [
      "Epoch 1/2 - Eval Loss:  0.149479884956101, Eval Accuracy:  0.7605797101449275\n"
     ]
    },
    {
     "data": {
      "application/vnd.jupyter.widget-view+json": {
       "model_id": "16816ff8f505457ebacc3f7ac53431dc",
       "version_major": 2,
       "version_minor": 0
      },
      "text/plain": [
       "  0%|          | 0/952 [00:00<?, ?it/s]"
      ]
     },
     "metadata": {},
     "output_type": "display_data"
    },
    {
     "name": "stdout",
     "output_type": "stream",
     "text": [
      "Epoch 2/2 - Train Loss: 0.1167904922704187, Train Accuracy: 0.800367743630155\n"
     ]
    },
    {
     "data": {
      "application/vnd.jupyter.widget-view+json": {
       "model_id": "2b7a3dd529cc4f95bd85a2b7ff13e6da",
       "version_major": 2,
       "version_minor": 0
      },
      "text/plain": [
       "  0%|          | 0/216 [00:00<?, ?it/s]"
      ]
     },
     "metadata": {},
     "output_type": "display_data"
    },
    {
     "name": "stdout",
     "output_type": "stream",
     "text": [
      "Epoch 2/2 - Eval Loss:  0.15998088569176616, Eval Accuracy:  0.7431884057971014\n",
      "Setting config...\n",
      "Loading tokenizer...\n"
     ]
    },
    {
     "name": "stderr",
     "output_type": "stream",
     "text": [
      "Some weights of GPT2ForSequenceClassification were not initialized from the model checkpoint at distilgpt2 and are newly initialized: ['score.weight']\n",
      "You should probably TRAIN this model on a down-stream task to be able to use it for predictions and inference.\n"
     ]
    },
    {
     "name": "stdout",
     "output_type": "stream",
     "text": [
      "Loading model...\n",
      "Preparing data...\n",
      "Training...\n"
     ]
    },
    {
     "data": {
      "application/vnd.jupyter.widget-view+json": {
       "model_id": "8d2fae9c278642cca8e1b90744099966",
       "version_major": 2,
       "version_minor": 0
      },
      "text/plain": [
       "  0%|          | 0/5 [00:00<?, ?it/s]"
      ]
     },
     "metadata": {},
     "output_type": "display_data"
    },
    {
     "data": {
      "application/vnd.jupyter.widget-view+json": {
       "model_id": "e9c6714f101946ca9368143d0f05d4b7",
       "version_major": 2,
       "version_minor": 0
      },
      "text/plain": [
       "  0%|          | 0/236 [00:00<?, ?it/s]"
      ]
     },
     "metadata": {},
     "output_type": "display_data"
    },
    {
     "name": "stdout",
     "output_type": "stream",
     "text": [
      "Epoch 1/5 - Train Loss: 0.46781074887110013, Train Accuracy: 0.16932059447983014\n"
     ]
    },
    {
     "data": {
      "application/vnd.jupyter.widget-view+json": {
       "model_id": "0b1e7bc54c744dd9b4361b894bf07ec0",
       "version_major": 2,
       "version_minor": 0
      },
      "text/plain": [
       "  0%|          | 0/51 [00:00<?, ?it/s]"
      ]
     },
     "metadata": {},
     "output_type": "display_data"
    },
    {
     "name": "stdout",
     "output_type": "stream",
     "text": [
      "Epoch 1/5 - Eval Loss:  0.4186546333572444, Eval Accuracy:  0.3620689655172414\n"
     ]
    },
    {
     "data": {
      "application/vnd.jupyter.widget-view+json": {
       "model_id": "b3b87d0b04e74dfc90def9c697080e43",
       "version_major": 2,
       "version_minor": 0
      },
      "text/plain": [
       "  0%|          | 0/236 [00:00<?, ?it/s]"
      ]
     },
     "metadata": {},
     "output_type": "display_data"
    },
    {
     "name": "stdout",
     "output_type": "stream",
     "text": [
      "Epoch 2/5 - Train Loss: 0.3149139433783495, Train Accuracy: 0.5207006369426752\n"
     ]
    },
    {
     "data": {
      "application/vnd.jupyter.widget-view+json": {
       "model_id": "f6a72daa6f99473f848616fe8a85e505",
       "version_major": 2,
       "version_minor": 0
      },
      "text/plain": [
       "  0%|          | 0/51 [00:00<?, ?it/s]"
      ]
     },
     "metadata": {},
     "output_type": "display_data"
    },
    {
     "name": "stdout",
     "output_type": "stream",
     "text": [
      "Epoch 2/5 - Eval Loss:  0.4231308889483996, Eval Accuracy:  0.45073891625615764\n"
     ]
    },
    {
     "data": {
      "application/vnd.jupyter.widget-view+json": {
       "model_id": "8d02de23e6d24243aad131e38c09d0e0",
       "version_major": 2,
       "version_minor": 0
      },
      "text/plain": [
       "  0%|          | 0/236 [00:00<?, ?it/s]"
      ]
     },
     "metadata": {},
     "output_type": "display_data"
    },
    {
     "name": "stdout",
     "output_type": "stream",
     "text": [
      "Epoch 3/5 - Train Loss: 0.18628135284258968, Train Accuracy: 0.7547770700636943\n"
     ]
    },
    {
     "data": {
      "application/vnd.jupyter.widget-view+json": {
       "model_id": "89701e7ae1e640a6a1e32bfbf0202477",
       "version_major": 2,
       "version_minor": 0
      },
      "text/plain": [
       "  0%|          | 0/51 [00:00<?, ?it/s]"
      ]
     },
     "metadata": {},
     "output_type": "display_data"
    },
    {
     "name": "stdout",
     "output_type": "stream",
     "text": [
      "Epoch 3/5 - Eval Loss:  0.5439872699333173, Eval Accuracy:  0.47044334975369456\n"
     ]
    },
    {
     "data": {
      "application/vnd.jupyter.widget-view+json": {
       "model_id": "5317370c105e4c88aaf356023a60fe90",
       "version_major": 2,
       "version_minor": 0
      },
      "text/plain": [
       "  0%|          | 0/236 [00:00<?, ?it/s]"
      ]
     },
     "metadata": {},
     "output_type": "display_data"
    },
    {
     "name": "stdout",
     "output_type": "stream",
     "text": [
      "Epoch 4/5 - Train Loss: 0.09784129232373405, Train Accuracy: 0.8683651804670913\n"
     ]
    },
    {
     "data": {
      "application/vnd.jupyter.widget-view+json": {
       "model_id": "05f3ea017260451fa02823be0c91f1ea",
       "version_major": 2,
       "version_minor": 0
      },
      "text/plain": [
       "  0%|          | 0/51 [00:00<?, ?it/s]"
      ]
     },
     "metadata": {},
     "output_type": "display_data"
    },
    {
     "name": "stdout",
     "output_type": "stream",
     "text": [
      "Epoch 4/5 - Eval Loss:  0.657514055350832, Eval Accuracy:  0.46551724137931033\n"
     ]
    },
    {
     "data": {
      "application/vnd.jupyter.widget-view+json": {
       "model_id": "4981c3bf3833418f8aff1b9027d43e4c",
       "version_major": 2,
       "version_minor": 0
      },
      "text/plain": [
       "  0%|          | 0/236 [00:00<?, ?it/s]"
      ]
     },
     "metadata": {},
     "output_type": "display_data"
    },
    {
     "name": "stdout",
     "output_type": "stream",
     "text": [
      "Epoch 5/5 - Train Loss: 0.05459637894054433, Train Accuracy: 0.9240976645435244\n"
     ]
    },
    {
     "data": {
      "application/vnd.jupyter.widget-view+json": {
       "model_id": "5b8a56985af04cef99696783ffe8ed53",
       "version_major": 2,
       "version_minor": 0
      },
      "text/plain": [
       "  0%|          | 0/51 [00:00<?, ?it/s]"
      ]
     },
     "metadata": {},
     "output_type": "display_data"
    },
    {
     "name": "stdout",
     "output_type": "stream",
     "text": [
      "Epoch 5/5 - Eval Loss:  0.8168148445148095, Eval Accuracy:  0.4827586206896552\n",
      "Setting config...\n",
      "Loading tokenizer...\n",
      "Loading model...\n"
     ]
    },
    {
     "name": "stderr",
     "output_type": "stream",
     "text": [
      "Some weights of GPT2ForSequenceClassification were not initialized from the model checkpoint at distilgpt2 and are newly initialized: ['score.weight']\n",
      "You should probably TRAIN this model on a down-stream task to be able to use it for predictions and inference.\n"
     ]
    },
    {
     "name": "stdout",
     "output_type": "stream",
     "text": [
      "Preparing data...\n",
      "Training...\n"
     ]
    },
    {
     "data": {
      "application/vnd.jupyter.widget-view+json": {
       "model_id": "e8c317de93284aaaae61f812edf73d21",
       "version_major": 2,
       "version_minor": 0
      },
      "text/plain": [
       "  0%|          | 0/5 [00:00<?, ?it/s]"
      ]
     },
     "metadata": {},
     "output_type": "display_data"
    },
    {
     "data": {
      "application/vnd.jupyter.widget-view+json": {
       "model_id": "b68aad29dea34eaea4d12cfe50b2c145",
       "version_major": 2,
       "version_minor": 0
      },
      "text/plain": [
       "  0%|          | 0/163 [00:00<?, ?it/s]"
      ]
     },
     "metadata": {},
     "output_type": "display_data"
    },
    {
     "name": "stdout",
     "output_type": "stream",
     "text": [
      "Epoch 1/5 - Train Loss: 0.37082308338829345, Train Accuracy: 0.25115562403698\n"
     ]
    },
    {
     "data": {
      "application/vnd.jupyter.widget-view+json": {
       "model_id": "eb8aacb1c2de438185495ddfb8ec5b6d",
       "version_major": 2,
       "version_minor": 0
      },
      "text/plain": [
       "  0%|          | 0/37 [00:00<?, ?it/s]"
      ]
     },
     "metadata": {},
     "output_type": "display_data"
    },
    {
     "name": "stdout",
     "output_type": "stream",
     "text": [
      "Epoch 1/5 - Eval Loss:  0.29040340273766907, Eval Accuracy:  0.314878892733564\n"
     ]
    },
    {
     "data": {
      "application/vnd.jupyter.widget-view+json": {
       "model_id": "da039e7768fe46e2a8091a11384363be",
       "version_major": 2,
       "version_minor": 0
      },
      "text/plain": [
       "  0%|          | 0/163 [00:00<?, ?it/s]"
      ]
     },
     "metadata": {},
     "output_type": "display_data"
    },
    {
     "name": "stdout",
     "output_type": "stream",
     "text": [
      "Epoch 2/5 - Train Loss: 0.2737121374969102, Train Accuracy: 0.4399075500770416\n"
     ]
    },
    {
     "data": {
      "application/vnd.jupyter.widget-view+json": {
       "model_id": "7ec0ada38ccf47e885d92ff832ab2219",
       "version_major": 2,
       "version_minor": 0
      },
      "text/plain": [
       "  0%|          | 0/37 [00:00<?, ?it/s]"
      ]
     },
     "metadata": {},
     "output_type": "display_data"
    },
    {
     "name": "stdout",
     "output_type": "stream",
     "text": [
      "Epoch 2/5 - Eval Loss:  0.2633060887959358, Eval Accuracy:  0.44982698961937717\n"
     ]
    },
    {
     "data": {
      "application/vnd.jupyter.widget-view+json": {
       "model_id": "bec167505d1b4ba69a52b929e9059cda",
       "version_major": 2,
       "version_minor": 0
      },
      "text/plain": [
       "  0%|          | 0/163 [00:00<?, ?it/s]"
      ]
     },
     "metadata": {},
     "output_type": "display_data"
    },
    {
     "name": "stdout",
     "output_type": "stream",
     "text": [
      "Epoch 3/5 - Train Loss: 0.18961237703501446, Train Accuracy: 0.6417565485362096\n"
     ]
    },
    {
     "data": {
      "application/vnd.jupyter.widget-view+json": {
       "model_id": "cb7226e0a18342aca488f4f84ae93596",
       "version_major": 2,
       "version_minor": 0
      },
      "text/plain": [
       "  0%|          | 0/37 [00:00<?, ?it/s]"
      ]
     },
     "metadata": {},
     "output_type": "display_data"
    },
    {
     "name": "stdout",
     "output_type": "stream",
     "text": [
      "Epoch 3/5 - Eval Loss:  0.29820850723095843, Eval Accuracy:  0.5743944636678201\n"
     ]
    },
    {
     "data": {
      "application/vnd.jupyter.widget-view+json": {
       "model_id": "68f06c7ba3964111926be225a2e3c4b0",
       "version_major": 2,
       "version_minor": 0
      },
      "text/plain": [
       "  0%|          | 0/163 [00:00<?, ?it/s]"
      ]
     },
     "metadata": {},
     "output_type": "display_data"
    },
    {
     "name": "stdout",
     "output_type": "stream",
     "text": [
      "Epoch 4/5 - Train Loss: 0.10785478742241837, Train Accuracy: 0.8166409861325116\n"
     ]
    },
    {
     "data": {
      "application/vnd.jupyter.widget-view+json": {
       "model_id": "640ffbb63da44341a57c056f59f145e4",
       "version_major": 2,
       "version_minor": 0
      },
      "text/plain": [
       "  0%|          | 0/37 [00:00<?, ?it/s]"
      ]
     },
     "metadata": {},
     "output_type": "display_data"
    },
    {
     "name": "stdout",
     "output_type": "stream",
     "text": [
      "Epoch 4/5 - Eval Loss:  0.37795748289775205, Eval Accuracy:  0.5640138408304498\n"
     ]
    },
    {
     "data": {
      "application/vnd.jupyter.widget-view+json": {
       "model_id": "9d9675f31e04420299fe1888901b8199",
       "version_major": 2,
       "version_minor": 0
      },
      "text/plain": [
       "  0%|          | 0/163 [00:00<?, ?it/s]"
      ]
     },
     "metadata": {},
     "output_type": "display_data"
    },
    {
     "name": "stdout",
     "output_type": "stream",
     "text": [
      "Epoch 5/5 - Train Loss: 0.06531891672432057, Train Accuracy: 0.8798151001540832\n"
     ]
    },
    {
     "data": {
      "application/vnd.jupyter.widget-view+json": {
       "model_id": "75458989c6f34b479c672ba25549ecee",
       "version_major": 2,
       "version_minor": 0
      },
      "text/plain": [
       "  0%|          | 0/37 [00:00<?, ?it/s]"
      ]
     },
     "metadata": {},
     "output_type": "display_data"
    },
    {
     "name": "stdout",
     "output_type": "stream",
     "text": [
      "Epoch 5/5 - Eval Loss:  0.46634935982827397, Eval Accuracy:  0.5605536332179931\n"
     ]
    }
   ],
   "source": [
    "optimizer = 'Lion'\n",
    "batch_size = 8\n",
    "max_length = 256\n",
    "\n",
    "from_pretrained = False\n",
    "\n",
    "if from_pretrained:\n",
    "    java_model = GPT2ForSequenceClassification.from_pretrained('./models/gpt2-java')\n",
    "    java_tokenizer = GPT2Tokenizer.from_pretrained('./models/gpt2-java')\n",
    "    python_model = GPT2ForSequenceClassification.from_pretrained('./models/gpt2-python')\n",
    "    python_tokenizer = GPT2Tokenizer.from_pretrained('./models/gpt2-python')\n",
    "    pharo_model = GPT2ForSequenceClassification.from_pretrained('./models/gpt2-pharo')\n",
    "    pharo_tokenizer = GPT2Tokenizer.from_pretrained('./models/gpt2-pharo')\n",
    "else:\n",
    "    java_model, java_tokenizer, java_loss_list, java_accuracy_list, java_eval_loss_list, java_eval_accuracy_list = build_model('java', save=False, optimizer=optimizer, batch_size=batch_size, max_length=max_length)\n",
    "    python_model, python_tokenizer, python_loss_list, python_accuracy_list, python_eval_loss_list, python_eval_accuracy_list = build_model('python', save=False, optimizer=optimizer, batch_size=batch_size, max_length=max_length)\n",
    "    pharo_model, pharo_tokenizer, pharo_loss_list, pharo_accuracy_list, pharo_eval_loss_list, pharo_eval_accuracy_list = build_model('pharo', save=False, optimizer=optimizer, batch_size=batch_size, max_length=max_length)"
   ]
  },
  {
   "cell_type": "code",
   "execution_count": 23,
   "metadata": {},
   "outputs": [
    {
     "data": {
      "application/vnd.jupyter.widget-view+json": {
       "model_id": "e981328299654615a030a3b5f91221d9",
       "version_major": 2,
       "version_minor": 0
      },
      "text/plain": [
       "  0%|          | 0/216 [00:00<?, ?it/s]"
      ]
     },
     "metadata": {},
     "output_type": "display_data"
    },
    {
     "name": "stderr",
     "output_type": "stream",
     "text": [
      "c:\\Users\\Erik\\AppData\\Local\\Programs\\Python\\Python312\\Lib\\site-packages\\sklearn\\metrics\\_classification.py:1509: UndefinedMetricWarning: Precision is ill-defined and being set to 0.0 in samples with no predicted labels. Use `zero_division` parameter to control this behavior.\n",
      "  _warn_prf(average, modifier, f\"{metric.capitalize()} is\", len(result))\n"
     ]
    },
    {
     "data": {
      "application/vnd.jupyter.widget-view+json": {
       "model_id": "5859081b57df4b99a770d14e39dc5ec3",
       "version_major": 2,
       "version_minor": 0
      },
      "text/plain": [
       "  0%|          | 0/51 [00:00<?, ?it/s]"
      ]
     },
     "metadata": {},
     "output_type": "display_data"
    },
    {
     "name": "stderr",
     "output_type": "stream",
     "text": [
      "c:\\Users\\Erik\\AppData\\Local\\Programs\\Python\\Python312\\Lib\\site-packages\\sklearn\\metrics\\_classification.py:1509: UndefinedMetricWarning: Precision is ill-defined and being set to 0.0 in samples with no predicted labels. Use `zero_division` parameter to control this behavior.\n",
      "  _warn_prf(average, modifier, f\"{metric.capitalize()} is\", len(result))\n"
     ]
    },
    {
     "data": {
      "application/vnd.jupyter.widget-view+json": {
       "model_id": "0394f3f5f2c64f869f5306aac54242f6",
       "version_major": 2,
       "version_minor": 0
      },
      "text/plain": [
       "  0%|          | 0/37 [00:00<?, ?it/s]"
      ]
     },
     "metadata": {},
     "output_type": "display_data"
    },
    {
     "name": "stderr",
     "output_type": "stream",
     "text": [
      "c:\\Users\\Erik\\AppData\\Local\\Programs\\Python\\Python312\\Lib\\site-packages\\sklearn\\metrics\\_classification.py:1509: UndefinedMetricWarning: Precision is ill-defined and being set to 0.0 in samples with no predicted labels. Use `zero_division` parameter to control this behavior.\n",
      "  _warn_prf(average, modifier, f\"{metric.capitalize()} is\", len(result))\n"
     ]
    }
   ],
   "source": [
    "\n",
    "# Do classification report\n",
    "def do_classification_report(model, tokenizer, lang):\n",
    "    eval_data = preprocess_java(ds[f'{lang}_test']['comment_sentence'], ds[f'{lang}_train']['class'], ds[f'{lang}_test']['labels'])\n",
    "    eval_dataloader = torch.utils.data.DataLoader(eval_data, batch_size=batch_size, shuffle=False, collate_fn=GPT2_collator(tokenizer, max_length))\n",
    "    eval_labels, eval_probs = predict(model, eval_dataloader, torch.tensor(lang_thresholds[lang]).to(device))\n",
    "    eval_labels = np.array(eval_labels)\n",
    "    eval_probs = np.array(eval_probs)\n",
    "    true_labels = np.array([sequence['label'] for sequence in eval_data])\n",
    "    report = classification_report(true_labels, eval_labels, target_names=classification_labels[lang])\n",
    "    return eval_labels, eval_probs, true_labels, report\n",
    "\n",
    "java_eval_labels, java_eval_probs, java_true_labels, java_report = do_classification_report(java_model, java_tokenizer, 'java')\n",
    "python_eval_labels, python_eval_probs, python_true_labels, python_report = do_classification_report(python_model, python_tokenizer, 'python')\n",
    "pharo_eval_labels, pharo_eval_probs, pharo_true_labels, pharo_report = do_classification_report(pharo_model, pharo_tokenizer, 'pharo')"
   ]
  },
  {
   "cell_type": "code",
   "execution_count": 53,
   "metadata": {},
   "outputs": [
    {
     "data": {
      "text/html": [
       "<div>\n",
       "<style scoped>\n",
       "    .dataframe tbody tr th:only-of-type {\n",
       "        vertical-align: middle;\n",
       "    }\n",
       "\n",
       "    .dataframe tbody tr th {\n",
       "        vertical-align: top;\n",
       "    }\n",
       "\n",
       "    .dataframe thead th {\n",
       "        text-align: right;\n",
       "    }\n",
       "</style>\n",
       "<table border=\"1\" class=\"dataframe\">\n",
       "  <thead>\n",
       "    <tr style=\"text-align: right;\">\n",
       "      <th></th>\n",
       "      <th>lan</th>\n",
       "      <th>cat</th>\n",
       "      <th>precision</th>\n",
       "      <th>recall</th>\n",
       "      <th>f1</th>\n",
       "    </tr>\n",
       "  </thead>\n",
       "  <tbody>\n",
       "    <tr>\n",
       "      <th>0</th>\n",
       "      <td>java</td>\n",
       "      <td>summary</td>\n",
       "      <td>0.90</td>\n",
       "      <td>0.89</td>\n",
       "      <td>0.89</td>\n",
       "    </tr>\n",
       "    <tr>\n",
       "      <th>1</th>\n",
       "      <td>java</td>\n",
       "      <td>Ownership</td>\n",
       "      <td>1.00</td>\n",
       "      <td>1.00</td>\n",
       "      <td>1.00</td>\n",
       "    </tr>\n",
       "    <tr>\n",
       "      <th>2</th>\n",
       "      <td>java</td>\n",
       "      <td>Expand</td>\n",
       "      <td>0.25</td>\n",
       "      <td>0.52</td>\n",
       "      <td>0.34</td>\n",
       "    </tr>\n",
       "    <tr>\n",
       "      <th>3</th>\n",
       "      <td>java</td>\n",
       "      <td>usage</td>\n",
       "      <td>0.86</td>\n",
       "      <td>0.81</td>\n",
       "      <td>0.83</td>\n",
       "    </tr>\n",
       "    <tr>\n",
       "      <th>4</th>\n",
       "      <td>java</td>\n",
       "      <td>Pointer</td>\n",
       "      <td>0.79</td>\n",
       "      <td>0.92</td>\n",
       "      <td>0.85</td>\n",
       "    </tr>\n",
       "    <tr>\n",
       "      <th>5</th>\n",
       "      <td>java</td>\n",
       "      <td>deprecation</td>\n",
       "      <td>1.00</td>\n",
       "      <td>0.60</td>\n",
       "      <td>0.75</td>\n",
       "    </tr>\n",
       "    <tr>\n",
       "      <th>6</th>\n",
       "      <td>java</td>\n",
       "      <td>rational</td>\n",
       "      <td>0.22</td>\n",
       "      <td>0.44</td>\n",
       "      <td>0.29</td>\n",
       "    </tr>\n",
       "    <tr>\n",
       "      <th>0</th>\n",
       "      <td>python</td>\n",
       "      <td>Usage</td>\n",
       "      <td>0.64</td>\n",
       "      <td>0.60</td>\n",
       "      <td>0.62</td>\n",
       "    </tr>\n",
       "    <tr>\n",
       "      <th>1</th>\n",
       "      <td>python</td>\n",
       "      <td>Parameters</td>\n",
       "      <td>0.65</td>\n",
       "      <td>0.68</td>\n",
       "      <td>0.67</td>\n",
       "    </tr>\n",
       "    <tr>\n",
       "      <th>2</th>\n",
       "      <td>python</td>\n",
       "      <td>DevelopmentNotes</td>\n",
       "      <td>0.32</td>\n",
       "      <td>0.32</td>\n",
       "      <td>0.32</td>\n",
       "    </tr>\n",
       "    <tr>\n",
       "      <th>3</th>\n",
       "      <td>python</td>\n",
       "      <td>Expand</td>\n",
       "      <td>0.40</td>\n",
       "      <td>0.48</td>\n",
       "      <td>0.44</td>\n",
       "    </tr>\n",
       "    <tr>\n",
       "      <th>4</th>\n",
       "      <td>python</td>\n",
       "      <td>Summary</td>\n",
       "      <td>0.49</td>\n",
       "      <td>0.56</td>\n",
       "      <td>0.53</td>\n",
       "    </tr>\n",
       "    <tr>\n",
       "      <th>0</th>\n",
       "      <td>pharo</td>\n",
       "      <td>Keyimplementationpoints</td>\n",
       "      <td>0.38</td>\n",
       "      <td>0.28</td>\n",
       "      <td>0.32</td>\n",
       "    </tr>\n",
       "    <tr>\n",
       "      <th>1</th>\n",
       "      <td>pharo</td>\n",
       "      <td>Example</td>\n",
       "      <td>0.74</td>\n",
       "      <td>0.84</td>\n",
       "      <td>0.79</td>\n",
       "    </tr>\n",
       "    <tr>\n",
       "      <th>2</th>\n",
       "      <td>pharo</td>\n",
       "      <td>Responsibilities</td>\n",
       "      <td>0.54</td>\n",
       "      <td>0.56</td>\n",
       "      <td>0.55</td>\n",
       "    </tr>\n",
       "    <tr>\n",
       "      <th>3</th>\n",
       "      <td>pharo</td>\n",
       "      <td>Classreferences</td>\n",
       "      <td>0.29</td>\n",
       "      <td>0.50</td>\n",
       "      <td>0.36</td>\n",
       "    </tr>\n",
       "    <tr>\n",
       "      <th>4</th>\n",
       "      <td>pharo</td>\n",
       "      <td>Intent</td>\n",
       "      <td>0.89</td>\n",
       "      <td>0.80</td>\n",
       "      <td>0.84</td>\n",
       "    </tr>\n",
       "    <tr>\n",
       "      <th>5</th>\n",
       "      <td>pharo</td>\n",
       "      <td>Keymessages</td>\n",
       "      <td>0.57</td>\n",
       "      <td>0.65</td>\n",
       "      <td>0.61</td>\n",
       "    </tr>\n",
       "    <tr>\n",
       "      <th>6</th>\n",
       "      <td>pharo</td>\n",
       "      <td>Collaborators</td>\n",
       "      <td>0.00</td>\n",
       "      <td>0.00</td>\n",
       "      <td>0.00</td>\n",
       "    </tr>\n",
       "  </tbody>\n",
       "</table>\n",
       "</div>"
      ],
      "text/plain": [
       "      lan                      cat precision recall    f1\n",
       "0    java                  summary      0.90   0.89  0.89\n",
       "1    java                Ownership      1.00   1.00  1.00\n",
       "2    java                   Expand      0.25   0.52  0.34\n",
       "3    java                    usage      0.86   0.81  0.83\n",
       "4    java                  Pointer      0.79   0.92  0.85\n",
       "5    java              deprecation      1.00   0.60  0.75\n",
       "6    java                 rational      0.22   0.44  0.29\n",
       "0  python                    Usage      0.64   0.60  0.62\n",
       "1  python               Parameters      0.65   0.68  0.67\n",
       "2  python         DevelopmentNotes      0.32   0.32  0.32\n",
       "3  python                   Expand      0.40   0.48  0.44\n",
       "4  python                  Summary      0.49   0.56  0.53\n",
       "0   pharo  Keyimplementationpoints      0.38   0.28  0.32\n",
       "1   pharo                  Example      0.74   0.84  0.79\n",
       "2   pharo         Responsibilities      0.54   0.56  0.55\n",
       "3   pharo          Classreferences      0.29   0.50  0.36\n",
       "4   pharo                   Intent      0.89   0.80  0.84\n",
       "5   pharo              Keymessages      0.57   0.65  0.61\n",
       "6   pharo            Collaborators      0.00   0.00  0.00"
      ]
     },
     "execution_count": 53,
     "metadata": {},
     "output_type": "execute_result"
    }
   ],
   "source": [
    "# Combine reports into single pandas dataframe\n",
    "def report_to_df(report, lang):\n",
    "    lines = report.split('\\n')\n",
    "    data = []\n",
    "    for line in lines[2:-5]:\n",
    "        row = line.split()\n",
    "        if len(row) == 0:\n",
    "            continue\n",
    "        data.append(row)\n",
    "    df = pd.DataFrame(data, columns=['cat', 'precision', 'recall', 'f1', 'support'])\n",
    "    df.insert(0, 'lan', lang)\n",
    "    df = df.iloc[:, :-1]\n",
    "    return df\n",
    "        \n",
    "\n",
    "java_df = report_to_df(java_report, 'java')\n",
    "python_df = report_to_df(python_report, 'python')\n",
    "pharo_df = report_to_df(pharo_report, 'pharo')\n",
    "combined_df = pd.concat([java_df, python_df, pharo_df])\n",
    "combined_df\n"
   ]
  },
  {
   "cell_type": "code",
   "execution_count": 73,
   "metadata": {},
   "outputs": [
    {
     "name": "stderr",
     "output_type": "stream",
     "text": [
      "C:\\Users\\Erik\\AppData\\Local\\Temp\\ipykernel_20944\\2922541258.py:27: FutureWarning: Styler.applymap has been deprecated. Use Styler.map instead.\n",
      "  diff_df.style.applymap(highlight_diff, subset=['precision_diff', 'recall_diff', 'f1_diff'])\n"
     ]
    },
    {
     "data": {
      "text/html": [
       "<style type=\"text/css\">\n",
       "#T_a3a30_row2_col2, #T_a3a30_row2_col4, #T_a3a30_row3_col2, #T_a3a30_row3_col3, #T_a3a30_row3_col4, #T_a3a30_row4_col3, #T_a3a30_row7_col2, #T_a3a30_row7_col3, #T_a3a30_row7_col4, #T_a3a30_row8_col2, #T_a3a30_row8_col3, #T_a3a30_row8_col4, #T_a3a30_row9_col2, #T_a3a30_row9_col3, #T_a3a30_row9_col4, #T_a3a30_row10_col2, #T_a3a30_row10_col3, #T_a3a30_row10_col4, #T_a3a30_row11_col2, #T_a3a30_row11_col3, #T_a3a30_row11_col4, #T_a3a30_row12_col2, #T_a3a30_row12_col3, #T_a3a30_row12_col4, #T_a3a30_row13_col2, #T_a3a30_row13_col3, #T_a3a30_row13_col4, #T_a3a30_row15_col2, #T_a3a30_row15_col3, #T_a3a30_row15_col4, #T_a3a30_row16_col3, #T_a3a30_row17_col2, #T_a3a30_row17_col4, #T_a3a30_row18_col2, #T_a3a30_row18_col3, #T_a3a30_row18_col4 {\n",
       "  background-color: red;\n",
       "}\n",
       "</style>\n",
       "<table id=\"T_a3a30\">\n",
       "  <thead>\n",
       "    <tr>\n",
       "      <th class=\"blank level0\" >&nbsp;</th>\n",
       "      <th id=\"T_a3a30_level0_col0\" class=\"col_heading level0 col0\" >lan</th>\n",
       "      <th id=\"T_a3a30_level0_col1\" class=\"col_heading level0 col1\" >cat</th>\n",
       "      <th id=\"T_a3a30_level0_col2\" class=\"col_heading level0 col2\" >precision_diff</th>\n",
       "      <th id=\"T_a3a30_level0_col3\" class=\"col_heading level0 col3\" >recall_diff</th>\n",
       "      <th id=\"T_a3a30_level0_col4\" class=\"col_heading level0 col4\" >f1_diff</th>\n",
       "    </tr>\n",
       "  </thead>\n",
       "  <tbody>\n",
       "    <tr>\n",
       "      <th id=\"T_a3a30_level0_row0\" class=\"row_heading level0 row0\" >0</th>\n",
       "      <td id=\"T_a3a30_row0_col0\" class=\"data row0 col0\" >java</td>\n",
       "      <td id=\"T_a3a30_row0_col1\" class=\"data row0 col1\" >summary</td>\n",
       "      <td id=\"T_a3a30_row0_col2\" class=\"data row0 col2\" >0.026615</td>\n",
       "      <td id=\"T_a3a30_row0_col3\" class=\"data row0 col3\" >0.060552</td>\n",
       "      <td id=\"T_a3a30_row0_col4\" class=\"data row0 col4\" >0.039150</td>\n",
       "    </tr>\n",
       "    <tr>\n",
       "      <th id=\"T_a3a30_level0_row1\" class=\"row_heading level0 row1\" >1</th>\n",
       "      <td id=\"T_a3a30_row1_col0\" class=\"data row1 col0\" >java</td>\n",
       "      <td id=\"T_a3a30_row1_col1\" class=\"data row1 col1\" >Ownership</td>\n",
       "      <td id=\"T_a3a30_row1_col2\" class=\"data row1 col2\" >0.000000</td>\n",
       "      <td id=\"T_a3a30_row1_col3\" class=\"data row1 col3\" >0.000000</td>\n",
       "      <td id=\"T_a3a30_row1_col4\" class=\"data row1 col4\" >0.000000</td>\n",
       "    </tr>\n",
       "    <tr>\n",
       "      <th id=\"T_a3a30_level0_row2\" class=\"row_heading level0 row2\" >2</th>\n",
       "      <td id=\"T_a3a30_row2_col0\" class=\"data row2 col0\" >java</td>\n",
       "      <td id=\"T_a3a30_row2_col1\" class=\"data row2 col1\" >Expand</td>\n",
       "      <td id=\"T_a3a30_row2_col2\" class=\"data row2 col2\" >-0.073529</td>\n",
       "      <td id=\"T_a3a30_row2_col3\" class=\"data row2 col3\" >0.075556</td>\n",
       "      <td id=\"T_a3a30_row2_col4\" class=\"data row2 col4\" >-0.034468</td>\n",
       "    </tr>\n",
       "    <tr>\n",
       "      <th id=\"T_a3a30_level0_row3\" class=\"row_heading level0 row3\" >3</th>\n",
       "      <td id=\"T_a3a30_row3_col0\" class=\"data row3 col0\" >java</td>\n",
       "      <td id=\"T_a3a30_row3_col1\" class=\"data row3 col1\" >usage</td>\n",
       "      <td id=\"T_a3a30_row3_col2\" class=\"data row3 col2\" >-0.051043</td>\n",
       "      <td id=\"T_a3a30_row3_col3\" class=\"data row3 col3\" >-0.008182</td>\n",
       "      <td id=\"T_a3a30_row3_col4\" class=\"data row3 col4\" >-0.032119</td>\n",
       "    </tr>\n",
       "    <tr>\n",
       "      <th id=\"T_a3a30_level0_row4\" class=\"row_heading level0 row4\" >4</th>\n",
       "      <td id=\"T_a3a30_row4_col0\" class=\"data row4 col0\" >java</td>\n",
       "      <td id=\"T_a3a30_row4_col1\" class=\"data row4 col1\" >Pointer</td>\n",
       "      <td id=\"T_a3a30_row4_col2\" class=\"data row4 col2\" >0.051745</td>\n",
       "      <td id=\"T_a3a30_row4_col3\" class=\"data row4 col3\" >-0.020171</td>\n",
       "      <td id=\"T_a3a30_row4_col4\" class=\"data row4 col4\" >0.022932</td>\n",
       "    </tr>\n",
       "    <tr>\n",
       "      <th id=\"T_a3a30_level0_row5\" class=\"row_heading level0 row5\" >5</th>\n",
       "      <td id=\"T_a3a30_row5_col0\" class=\"data row5 col0\" >java</td>\n",
       "      <td id=\"T_a3a30_row5_col1\" class=\"data row5 col1\" >deprecation</td>\n",
       "      <td id=\"T_a3a30_row5_col2\" class=\"data row5 col2\" >0.181818</td>\n",
       "      <td id=\"T_a3a30_row5_col3\" class=\"data row5 col3\" >0.000000</td>\n",
       "      <td id=\"T_a3a30_row5_col4\" class=\"data row5 col4\" >0.057692</td>\n",
       "    </tr>\n",
       "    <tr>\n",
       "      <th id=\"T_a3a30_level0_row6\" class=\"row_heading level0 row6\" >6</th>\n",
       "      <td id=\"T_a3a30_row6_col0\" class=\"data row6 col0\" >java</td>\n",
       "      <td id=\"T_a3a30_row6_col1\" class=\"data row6 col1\" >rational</td>\n",
       "      <td id=\"T_a3a30_row6_col2\" class=\"data row6 col2\" >0.057838</td>\n",
       "      <td id=\"T_a3a30_row6_col3\" class=\"data row6 col3\" >0.144918</td>\n",
       "      <td id=\"T_a3a30_row6_col4\" class=\"data row6 col4\" >0.080698</td>\n",
       "    </tr>\n",
       "    <tr>\n",
       "      <th id=\"T_a3a30_level0_row7\" class=\"row_heading level0 row7\" >7</th>\n",
       "      <td id=\"T_a3a30_row7_col0\" class=\"data row7 col0\" >python</td>\n",
       "      <td id=\"T_a3a30_row7_col1\" class=\"data row7 col1\" >Usage</td>\n",
       "      <td id=\"T_a3a30_row7_col2\" class=\"data row7 col2\" >-0.233385</td>\n",
       "      <td id=\"T_a3a30_row7_col3\" class=\"data row7 col3\" >-0.229448</td>\n",
       "      <td id=\"T_a3a30_row7_col4\" class=\"data row7 col4\" >-0.230850</td>\n",
       "    </tr>\n",
       "    <tr>\n",
       "      <th id=\"T_a3a30_level0_row8\" class=\"row_heading level0 row8\" >8</th>\n",
       "      <td id=\"T_a3a30_row8_col0\" class=\"data row8 col0\" >python</td>\n",
       "      <td id=\"T_a3a30_row8_col1\" class=\"data row8 col1\" >Parameters</td>\n",
       "      <td id=\"T_a3a30_row8_col2\" class=\"data row8 col2\" >-0.350000</td>\n",
       "      <td id=\"T_a3a30_row8_col3\" class=\"data row8 col3\" >-0.320000</td>\n",
       "      <td id=\"T_a3a30_row8_col4\" class=\"data row8 col4\" >-0.330000</td>\n",
       "    </tr>\n",
       "    <tr>\n",
       "      <th id=\"T_a3a30_level0_row9\" class=\"row_heading level0 row9\" >9</th>\n",
       "      <td id=\"T_a3a30_row9_col0\" class=\"data row9 col0\" >python</td>\n",
       "      <td id=\"T_a3a30_row9_col1\" class=\"data row9 col1\" >DevelopmentNotes</td>\n",
       "      <td id=\"T_a3a30_row9_col2\" class=\"data row9 col2\" >-0.003529</td>\n",
       "      <td id=\"T_a3a30_row9_col3\" class=\"data row9 col3\" >-0.124444</td>\n",
       "      <td id=\"T_a3a30_row9_col4\" class=\"data row9 col4\" >-0.054468</td>\n",
       "    </tr>\n",
       "    <tr>\n",
       "      <th id=\"T_a3a30_level0_row10\" class=\"row_heading level0 row10\" >10</th>\n",
       "      <td id=\"T_a3a30_row10_col0\" class=\"data row10 col0\" >python</td>\n",
       "      <td id=\"T_a3a30_row10_col1\" class=\"data row10 col1\" >Expand</td>\n",
       "      <td id=\"T_a3a30_row10_col2\" class=\"data row10 col2\" >-0.511043</td>\n",
       "      <td id=\"T_a3a30_row10_col3\" class=\"data row10 col3\" >-0.338182</td>\n",
       "      <td id=\"T_a3a30_row10_col4\" class=\"data row10 col4\" >-0.422119</td>\n",
       "    </tr>\n",
       "    <tr>\n",
       "      <th id=\"T_a3a30_level0_row11\" class=\"row_heading level0 row11\" >11</th>\n",
       "      <td id=\"T_a3a30_row11_col0\" class=\"data row11 col0\" >python</td>\n",
       "      <td id=\"T_a3a30_row11_col1\" class=\"data row11 col1\" >Summary</td>\n",
       "      <td id=\"T_a3a30_row11_col2\" class=\"data row11 col2\" >-0.248255</td>\n",
       "      <td id=\"T_a3a30_row11_col3\" class=\"data row11 col3\" >-0.380171</td>\n",
       "      <td id=\"T_a3a30_row11_col4\" class=\"data row11 col4\" >-0.297068</td>\n",
       "    </tr>\n",
       "    <tr>\n",
       "      <th id=\"T_a3a30_level0_row12\" class=\"row_heading level0 row12\" >12</th>\n",
       "      <td id=\"T_a3a30_row12_col0\" class=\"data row12 col0\" >pharo</td>\n",
       "      <td id=\"T_a3a30_row12_col1\" class=\"data row12 col1\" >Keyimplementationpoints</td>\n",
       "      <td id=\"T_a3a30_row12_col2\" class=\"data row12 col2\" >-0.493385</td>\n",
       "      <td id=\"T_a3a30_row12_col3\" class=\"data row12 col3\" >-0.549448</td>\n",
       "      <td id=\"T_a3a30_row12_col4\" class=\"data row12 col4\" >-0.530850</td>\n",
       "    </tr>\n",
       "    <tr>\n",
       "      <th id=\"T_a3a30_level0_row13\" class=\"row_heading level0 row13\" >13</th>\n",
       "      <td id=\"T_a3a30_row13_col0\" class=\"data row13 col0\" >pharo</td>\n",
       "      <td id=\"T_a3a30_row13_col1\" class=\"data row13 col1\" >Example</td>\n",
       "      <td id=\"T_a3a30_row13_col2\" class=\"data row13 col2\" >-0.260000</td>\n",
       "      <td id=\"T_a3a30_row13_col3\" class=\"data row13 col3\" >-0.160000</td>\n",
       "      <td id=\"T_a3a30_row13_col4\" class=\"data row13 col4\" >-0.210000</td>\n",
       "    </tr>\n",
       "    <tr>\n",
       "      <th id=\"T_a3a30_level0_row14\" class=\"row_heading level0 row14\" >14</th>\n",
       "      <td id=\"T_a3a30_row14_col0\" class=\"data row14 col0\" >pharo</td>\n",
       "      <td id=\"T_a3a30_row14_col1\" class=\"data row14 col1\" >Responsibilities</td>\n",
       "      <td id=\"T_a3a30_row14_col2\" class=\"data row14 col2\" >0.216471</td>\n",
       "      <td id=\"T_a3a30_row14_col3\" class=\"data row14 col3\" >0.115556</td>\n",
       "      <td id=\"T_a3a30_row14_col4\" class=\"data row14 col4\" >0.175532</td>\n",
       "    </tr>\n",
       "    <tr>\n",
       "      <th id=\"T_a3a30_level0_row15\" class=\"row_heading level0 row15\" >15</th>\n",
       "      <td id=\"T_a3a30_row15_col0\" class=\"data row15 col0\" >pharo</td>\n",
       "      <td id=\"T_a3a30_row15_col1\" class=\"data row15 col1\" >Classreferences</td>\n",
       "      <td id=\"T_a3a30_row15_col2\" class=\"data row15 col2\" >-0.621043</td>\n",
       "      <td id=\"T_a3a30_row15_col3\" class=\"data row15 col3\" >-0.318182</td>\n",
       "      <td id=\"T_a3a30_row15_col4\" class=\"data row15 col4\" >-0.502119</td>\n",
       "    </tr>\n",
       "    <tr>\n",
       "      <th id=\"T_a3a30_level0_row16\" class=\"row_heading level0 row16\" >16</th>\n",
       "      <td id=\"T_a3a30_row16_col0\" class=\"data row16 col0\" >pharo</td>\n",
       "      <td id=\"T_a3a30_row16_col1\" class=\"data row16 col1\" >Intent</td>\n",
       "      <td id=\"T_a3a30_row16_col2\" class=\"data row16 col2\" >0.151745</td>\n",
       "      <td id=\"T_a3a30_row16_col3\" class=\"data row16 col3\" >-0.140171</td>\n",
       "      <td id=\"T_a3a30_row16_col4\" class=\"data row16 col4\" >0.012932</td>\n",
       "    </tr>\n",
       "    <tr>\n",
       "      <th id=\"T_a3a30_level0_row17\" class=\"row_heading level0 row17\" >17</th>\n",
       "      <td id=\"T_a3a30_row17_col0\" class=\"data row17 col0\" >pharo</td>\n",
       "      <td id=\"T_a3a30_row17_col1\" class=\"data row17 col1\" >Keymessages</td>\n",
       "      <td id=\"T_a3a30_row17_col2\" class=\"data row17 col2\" >-0.248182</td>\n",
       "      <td id=\"T_a3a30_row17_col3\" class=\"data row17 col3\" >0.050000</td>\n",
       "      <td id=\"T_a3a30_row17_col4\" class=\"data row17 col4\" >-0.082308</td>\n",
       "    </tr>\n",
       "    <tr>\n",
       "      <th id=\"T_a3a30_level0_row18\" class=\"row_heading level0 row18\" >18</th>\n",
       "      <td id=\"T_a3a30_row18_col0\" class=\"data row18 col0\" >pharo</td>\n",
       "      <td id=\"T_a3a30_row18_col1\" class=\"data row18 col1\" >Collaborators</td>\n",
       "      <td id=\"T_a3a30_row18_col2\" class=\"data row18 col2\" >-0.162162</td>\n",
       "      <td id=\"T_a3a30_row18_col3\" class=\"data row18 col3\" >-0.295082</td>\n",
       "      <td id=\"T_a3a30_row18_col4\" class=\"data row18 col4\" >-0.209302</td>\n",
       "    </tr>\n",
       "  </tbody>\n",
       "</table>\n"
      ],
      "text/plain": [
       "<pandas.io.formats.style.Styler at 0x13a04537f50>"
      ]
     },
     "execution_count": 73,
     "metadata": {},
     "output_type": "execute_result"
    }
   ],
   "source": [
    "# Compare with baseline results summary\n",
    "# load baseline results\n",
    "baseline_results = pd.read_csv('baseline_results_summary.csv')\n",
    "\n",
    "# Get difference from baseline\n",
    "def get_diff_df(baseline_df, eval_df):\n",
    "    diff_df = eval_df.copy()\n",
    "    diff_df['baseline_precision'] = baseline_df['precision']\n",
    "    diff_df['baseline_recall'] = baseline_df['recall']\n",
    "    diff_df['baseline_f1'] = baseline_df['f1']\n",
    "    diff_df['precision_diff'] = diff_df['precision'].astype(float) - diff_df['baseline_precision'].astype(float)\n",
    "    diff_df['recall_diff'] = diff_df['recall'].astype(float) - diff_df['baseline_recall'].astype(float)\n",
    "    diff_df['f1_diff'] = diff_df['f1'].astype(float) - diff_df['baseline_f1'].astype(float)\n",
    "    # delete all but diff columns\n",
    "    diff_df = diff_df[['lan', 'cat', 'precision_diff', 'recall_diff', 'f1_diff']]\n",
    "    diff_df = diff_df.reset_index(drop=True)\n",
    "    return diff_df\n",
    "\n",
    "diff_df = get_diff_df(baseline_results, combined_df)\n",
    "# style dataframe to make cells green if positive, red if negative\n",
    "def highlight_diff(val):\n",
    "    if val < 0:\n",
    "        return 'background-color: red'\n",
    "    else:\n",
    "        return ''\n",
    "\n",
    "diff_df.style.applymap(highlight_diff, subset=['precision_diff', 'recall_diff', 'f1_diff'])\n",
    "\n"
   ]
  },
  {
   "cell_type": "code",
   "execution_count": null,
   "metadata": {},
   "outputs": [
    {
     "data": {
      "image/png": "[encoded data removed]",
      "text/plain": [
       "<Figure size 2500x500 with 5 Axes>"
      ]
     },
     "metadata": {},
     "output_type": "display_data"
    },
    {
     "data": {
      "image/png": "[encoded data removed]",
      "text/plain": [
       "<Figure size 3500x500 with 7 Axes>"
      ]
     },
     "metadata": {},
     "output_type": "display_data"
    }
   ],
   "source": [
    "import matplotlib.pyplot as plt\n",
    "import seaborn as sns\n",
    "\n",
    "def plot_confusion_matrix(true_labels, pred_labels, lang):\n",
    "    cm = multilabel_confusion_matrix(true_labels, pred_labels)\n",
    "    fig, ax = plt.subplots(1, len(classification_labels[lang]), figsize=(len(classification_labels[lang])*5, 5))\n",
    "    for i in range(len(classification_labels[lang])):\n",
    "        sns.heatmap(cm[i], annot=True, ax=ax[i], fmt='d', cmap='Blues', cbar=False)\n",
    "        ax[i].set_title(classification_labels[lang][i])\n",
    "    plt.show()\n",
    "\n",
    "plot_confusion_matrix(java_true_labels, java_eval_labels, 'java')\n",
    "plot_confusion_matrix(python_true_labels, python_eval_labels, 'python')\n",
    "plot_confusion_matrix(pharo_true_labels, pharo_eval_labels, 'pharo')"
   ]
  },
  {
   "cell_type": "code",
   "execution_count": null,
   "metadata": {},
   "outputs": [
    {
     "data": {
      "application/vnd.jupyter.widget-view+json": {
       "model_id": "2463c740ccec41549dbce292ccd7042e",
       "version_major": 2,
       "version_minor": 0
      },
      "text/plain": [
       "  0%|          | 0/51 [00:00<?, ?it/s]"
      ]
     },
     "metadata": {},
     "output_type": "display_data"
    },
    {
     "name": "stdout",
     "output_type": "stream",
     "text": [
      "python labels: ['Usage', 'Parameters', 'DevelopmentNotes', 'Expand', 'Summary']\n",
      "Example 1:\n",
      "Text: abstract cbv mixin that gives access mixins the same customizable\n",
      "True Labels: [0 0 0 0 1]\n",
      "Predicted Labels: [0 0 0 1 0]\n",
      "Probabilities: [0.0, 0.0, 0.01, 0.93, 0.11]\n",
      "\n",
      "Example 2:\n",
      "Text: more than one migration matches a name prefix.\n",
      "True Labels: [0 0 0 0 1]\n",
      "Predicted Labels: [0 0 1 0 0]\n",
      "Probabilities: [0.27, 0.41, 0.51, 0.01, 0.02]\n",
      "\n",
      "Example 3:\n",
      "Text: stub of an appconfig.\n",
      "True Labels: [0 0 0 0 1]\n",
      "Predicted Labels: [0 0 0 0 1]\n",
      "Probabilities: [0.0, 0.0, 0.0, 0.11, 0.96]\n",
      "\n",
      "Example 4:\n",
      "Text: only provides a label and a dict of models.\n",
      "True Labels: [0 1 0 0 0]\n",
      "Predicted Labels: [0 0 0 0 1]\n",
      "Probabilities: [0.0, 0.0, 0.0, 0.0, 1.0]\n",
      "\n"
     ]
    },
    {
     "data": {
      "application/vnd.jupyter.widget-view+json": {
       "model_id": "095a0c6aad2249e0a5b85cbf95fd13d2",
       "version_major": 2,
       "version_minor": 0
      },
      "text/plain": [
       "  0%|          | 0/37 [00:00<?, ?it/s]"
      ]
     },
     "metadata": {},
     "output_type": "display_data"
    },
    {
     "name": "stdout",
     "output_type": "stream",
     "text": [
      "pharo labels: ['Keyimplementationpoints', 'Example', 'Responsibilities', 'Classreferences', 'Intent', 'Keymessages', 'Collaborators']\n",
      "Example 1:\n",
      "Text: i contain examples of different types of blarrowheadelement\n",
      "True Labels: [0 0 1 1 0 0 0]\n",
      "Predicted Labels: [0 0 1 0 0 0 0]\n",
      "Probabilities: [0.05, 0.02, 0.62, 0.2, 0.1, 0.03, 0.36]\n",
      "\n",
      "Example 2:\n",
      "Text: users can also customise nose angle that tells how wide should the arrow lines be spread.\n",
      "True Labels: [0 1 0 0 0 0 0]\n",
      "Predicted Labels: [0 0 1 0 0 0 0]\n",
      "Probabilities: [0.48, 0.02, 0.56, 0.04, 0.01, 0.04, 0.13]\n",
      "\n",
      "Example 3:\n",
      "Text: the with of the outer arrows can be specified by changing border width of a simple arrow arrowhead.\n",
      "True Labels: [0 0 1 0 0 0 0]\n",
      "Predicted Labels: [1 0 0 0 0 0 0]\n",
      "Probabilities: [0.73, 0.03, 0.14, 0.02, 0.0, 0.34, 0.04]\n",
      "\n",
      "Example 4:\n",
      "Text: i support both background and border paint and can have hollow inner triangle.\n",
      "True Labels: [0 0 1 0 0 0 0]\n",
      "Predicted Labels: [0 0 1 0 0 0 0]\n",
      "Probabilities: [0.01, 0.0, 0.77, 0.02, 0.1, 0.05, 0.09]\n",
      "\n"
     ]
    }
   ],
   "source": [
    "# Show examples\n",
    "def show_examples(model, tokenizer, lang, num_examples=4):\n",
    "    \n",
    "    eval_data = preprocess_java(ds[f'{lang}_test']['comment_sentence'], ds[f'{lang}_train']['class'], ds[f'{lang}_test']['labels'])\n",
    "    eval_dataloader = torch.utils.data.DataLoader(eval_data, batch_size=batch_size, shuffle=False, collate_fn=GPT2_collator(tokenizer, max_length))\n",
    "    eval_labels, eval_probs = predict(model, eval_dataloader, torch.tensor(lang_thresholds[lang]).to(device))\n",
    "    eval_labels = np.array(eval_labels)\n",
    "    eval_probs = np.array(eval_probs)\n",
    "    true_labels = np.array([sequence['label'] for sequence in eval_data])\n",
    "    \n",
    "    print(f'{lang} labels: {classification_labels[lang]}')\n",
    "    for i in range(num_examples):\n",
    "        print(f'Example {i+1}:')\n",
    "        print('Text:', eval_data[i]['text'])\n",
    "        print('True Labels:', true_labels[i])\n",
    "        print('Predicted Labels:', eval_labels[i])\n",
    "        print('Probabilities:', [round(p, 2) for p in eval_probs[i]])\n",
    "        print()\n",
    "\n",
    "show_examples(java_model, java_tokenizer, 'java')\n",
    "show_examples(python_model, python_tokenizer, 'python')\n",
    "show_examples(pharo_model, pharo_tokenizer, 'pharo')"
   ]
  },
  {
   "cell_type": "code",
   "execution_count": null,
   "metadata": {},
   "outputs": [],
   "source": [
    "#torch.cuda.empty_cache()"
   ]
  },
  {
   "cell_type": "code",
   "execution_count": null,
   "metadata": {},
   "outputs": [
    {
     "data": {
      "text/plain": [
       "'\\n# Hyperparameters\\nhyperparameters = {\\n    \\'num_epochs\\': [3],\\n    \\'batch_size\\': [4],\\n    \\'learning_rate\\': [1e-5],\\n    \\'optimizer\\': [\\'Lion\\'],\\n    \\'max_length\\': [256],\\n}\\n\\nfor num_epochs in hyperparameters[\\'num_epochs\\']:\\n    for batch_size in hyperparameters[\\'batch_size\\']:\\n        for learning_rate in hyperparameters[\\'learning_rate\\']:\\n            for optimizer in hyperparameters[\\'optimizer\\']:\\n                for max_length in hyperparameters[\\'max_length\\']:\\n                    print(f\\'Running test with hyperparameters: num_epochs={num_epochs}, batch_size={batch_size}, learning_rate={learning_rate}, optimizer={optimizer}, max_length={max_length}, weights={class_weights[\"java\"]}\\')\\n                    model, tokenizer, loss_list, accuracy_list, eval_loss_list, eval_accuracy_list = build_model(\\'java\\', save=False, optimizer=optimizer, learning_rate=learning_rate, num_epochs=num_epochs, batch_size=batch_size, max_length=max_length)\\n                    \\n                    # Do classification report\\n                    eval_data = preprocess_java(ds[\\'java_test\\'][\\'comment_sentence\\'], ds[\\'java_train\\'][\\'class\\'], ds[\\'java_test\\'][\\'labels\\'])\\n                    eval_dataloader = torch.utils.data.DataLoader(eval_data, batch_size=batch_size, shuffle=False, collate_fn=GPT2_collator(tokenizer, max_length))\\n                    eval_labels = predict(model, eval_dataloader)\\n                    true_labels = [sequence[\\'label\\'] for sequence in eval_data]\\n                    report = classification_report(true_labels, eval_labels, target_names=classification_labels[\\'java\\'])\\n                    \\n                    # Add results to file\\n                    with open(\\'results.txt\\', \\'a\\') as f:\\n                        f.write(f\\'Java - num_epochs={num_epochs}, batch_size={batch_size}, learning_rate={learning_rate}, optimizer={optimizer}, max_length={max_length}, weights={class_weights[\"java\"]}\\n\\')\\n                        f.write(f\\'Loss: {loss_list}\\n\\')\\n                        f.write(f\\'Accuracy: {accuracy_list}\\n\\')\\n                        f.write(f\\'Eval Loss: {eval_loss_list}\\n\\')\\n                        f.write(f\\'Eval Accuracy: {eval_accuracy_list}\\n\\')\\n                        f.write(f\\'Report: {report}\\n\\')\\n                        f.write(\\'\\n\\')\\n                    \\n                    num_labels = len(classification_labels[\\'java\\'])\\n                    cms = [confusion_matrix(true_labels[:, i], eval_labels[:, i]) for i in range(num_labels)]\\n                    \\n                    for i, label in enumerate(classification_labels[\\'java\\']):\\n                        plot_confusion_matrix(cms[i], class_names=[0, 1], title=f\\'Confusion Matrix for {label}\\')\\n                    \\n                    print(report)\\n'"
      ]
     },
     "execution_count": 20,
     "metadata": {},
     "output_type": "execute_result"
    }
   ],
   "source": [
    "# Run tests on java lang with all hyperparameters\n",
    "\"\"\"\n",
    "# Hyperparameters\n",
    "hyperparameters = {\n",
    "    'num_epochs': [3],\n",
    "    'batch_size': [4],\n",
    "    'learning_rate': [1e-5],\n",
    "    'optimizer': ['Lion'],\n",
    "    'max_length': [256],\n",
    "}\n",
    "\n",
    "for num_epochs in hyperparameters['num_epochs']:\n",
    "    for batch_size in hyperparameters['batch_size']:\n",
    "        for learning_rate in hyperparameters['learning_rate']:\n",
    "            for optimizer in hyperparameters['optimizer']:\n",
    "                for max_length in hyperparameters['max_length']:\n",
    "                    print(f'Running test with hyperparameters: num_epochs={num_epochs}, batch_size={batch_size}, learning_rate={learning_rate}, optimizer={optimizer}, max_length={max_length}, weights={class_weights[\"java\"]}')\n",
    "                    model, tokenizer, loss_list, accuracy_list, eval_loss_list, eval_accuracy_list = build_model('java', save=False, optimizer=optimizer, learning_rate=learning_rate, num_epochs=num_epochs, batch_size=batch_size, max_length=max_length)\n",
    "                    \n",
    "                    # Do classification report\n",
    "                    eval_data = preprocess_java(ds['java_test']['comment_sentence'], ds['java_train']['class'], ds['java_test']['labels'])\n",
    "                    eval_dataloader = torch.utils.data.DataLoader(eval_data, batch_size=batch_size, shuffle=False, collate_fn=GPT2_collator(tokenizer, max_length))\n",
    "                    eval_labels = predict(model, eval_dataloader)\n",
    "                    true_labels = [sequence['label'] for sequence in eval_data]\n",
    "                    report = classification_report(true_labels, eval_labels, target_names=classification_labels['java'])\n",
    "                    \n",
    "                    # Add results to file\n",
    "                    with open('results.txt', 'a') as f:\n",
    "                        f.write(f'Java - num_epochs={num_epochs}, batch_size={batch_size}, learning_rate={learning_rate}, optimizer={optimizer}, max_length={max_length}, weights={class_weights[\"java\"]}\\n')\n",
    "                        f.write(f'Loss: {loss_list}\\n')\n",
    "                        f.write(f'Accuracy: {accuracy_list}\\n')\n",
    "                        f.write(f'Eval Loss: {eval_loss_list}\\n')\n",
    "                        f.write(f'Eval Accuracy: {eval_accuracy_list}\\n')\n",
    "                        f.write(f'Report: {report}\\n')\n",
    "                        f.write('\\n')\n",
    "                    \n",
    "                    num_labels = len(classification_labels['java'])\n",
    "                    cms = [confusion_matrix(true_labels[:, i], eval_labels[:, i]) for i in range(num_labels)]\n",
    "                    \n",
    "                    for i, label in enumerate(classification_labels['java']):\n",
    "                        plot_confusion_matrix(cms[i], class_names=[0, 1], title=f'Confusion Matrix for {label}')\n",
    "                    \n",
    "                    print(report)\n",
    "\"\"\""
   ]
  }
 ],
 "metadata": {
  "kernelspec": {
   "display_name": "Python 3",
   "language": "python",
   "name": "python3"
  },
  "language_info": {
   "codemirror_mode": {
    "name": "ipython",
    "version": 3
   },
   "file_extension": ".py",
   "mimetype": "text/x-python",
   "name": "python",
   "nbconvert_exporter": "python",
   "pygments_lexer": "ipython3",
   "version": "3.12.3"
  }
 },
 "nbformat": 4,
 "nbformat_minor": 2
}
