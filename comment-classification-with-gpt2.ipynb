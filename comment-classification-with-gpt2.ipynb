{
 "cells": [
  {
   "cell_type": "markdown",
   "metadata": {},
   "source": [
    "# CS 440 Final Project\n",
    "Project: **NLBSE 2025 Code Comment Classification**\n",
    "\n",
    "Members (Team Overfitted):\n",
    " - Erik Cooper\n",
    " - Seth Harling\n",
    "## Overview\n",
    "This tool competition involves building and training 3 multi-label classification models for code comments. These comments fall in to different categories for the different languages (Java, Python, and Pharo). These categories include comments for summarization, development notes, intent, and usage.\n",
    "\n",
    "For our project, we chose to run with a strongly langauge processing approach, trying our best to ignore formatting as hints to the category. This is one of the reasons why we chose to use GPT-2 as our base model.\n",
    "\n",
    "When searching for pretrained NLP models, we were presented with many options. The main ones we considered were variations of BERT (RoBERTa for one), ELMo, UniLM, and GPT. There were a couple properties we were specifically looking for in a model for this project. We wanted a model that would work well on a classification problem, and we wanted a smaller model that would take less time to train so we could spend more time learning how to work the NLPs than waiting for it to work.\n",
    "\n",
    "With this, we settled on the smallest size of [GPT-2](https://huggingface.co/openai-community/gpt2) with 124M parameters. This number of parameters felt in line with the scope of our project, plus GPT is a rather famous model that most people have at least heard about. We thought that working with something somewhat familiar would help with learning how this all works. Though, to make the tuning process a little quicker, we use [distilgpt2](https://huggingface.co/distilbert/distilgpt2) to reduce our training times by 50% with its lower 82M parameters.\n",
    "\n",
    "## Attempted improvements\n",
    " - Label embeddings in GPT2Model\n",
    "   - Resulted in overall accuracy of ~50%\n",
    " - Various forms of preprocessing\n",
    "   - Included removing formatting, changing between truncation in the middle or end, excluding sections within formatting\n",
    "   - Resulted in minimal negative effect. Could be explored further\n",
    " - Included label in input during training.\n",
    "  - Resulted in dependency on special tokens. Ended in worse results. Could be due to bad implementation.\n",
    " - Hyperparameter tuning\n",
    "  - For each language, we went through different learning rates, number of epochs, optimizers, and batch sizes\n",
    "## Improvements to try another time\n",
    " - Data augmentation.\n",
    "   - Translating data between languages to get more inputs.\n",
    "   - Using a language model to paraphrase inputs.\n",
    " - Further research on special tokens."
   ]
  },
  {
   "cell_type": "markdown",
   "metadata": {},
   "source": [
    "### Imports"
   ]
  },
  {
   "cell_type": "code",
   "execution_count": null,
   "metadata": {},
   "outputs": [],
   "source": [
    "import numpy as np\n",
    "import pandas as pd\n",
    "import re\n",
    "import time\n",
    "import torch\n",
    "import warnings\n",
    "\n",
    "from datasets import load_dataset\n",
    "from lion_pytorch import Lion\n",
    "from sklearn.metrics import accuracy_score, classification_report, confusion_matrix, multilabel_confusion_matrix\n",
    "from tqdm.notebook import tqdm\n",
    "from transformers import (\n",
    "    GPT2Config,\n",
    "    GPT2Tokenizer,\n",
    "    AdamW, \n",
    "    get_linear_schedule_with_warmup,\n",
    "    GPT2ForSequenceClassification\n",
    ")\n",
    "\n",
    "warnings.filterwarnings(\"ignore\")"
   ]
  },
  {
   "cell_type": "code",
   "execution_count": null,
   "metadata": {},
   "outputs": [],
   "source": [
    "# Setting up device\n",
    "device = torch.device('cuda' if torch.cuda.is_available() else 'cpu')\n",
    "print('Using device:', device)"
   ]
  },
  {
   "cell_type": "markdown",
   "metadata": {},
   "source": [
    "### Defining string constants"
   ]
  },
  {
   "cell_type": "code",
   "execution_count": null,
   "metadata": {},
   "outputs": [],
   "source": [
    "# From challenge (https://github.com/nlbse2025/code-comment-classification/blob/main/SetFit_baseline.ipynb)\n",
    "classification_langs = ['java', 'python', 'pharo']\n",
    "classification_labels = {\n",
    "    'java': ['summary', 'Ownership', 'Expand', 'usage', 'Pointer', 'deprecation', 'rational'],\n",
    "    'python': ['Usage', 'Parameters', 'DevelopmentNotes', 'Expand', 'Summary'],\n",
    "    'pharo': ['Keyimplementationpoints', 'Example', 'Responsibilities', 'Classreferences', 'Intent', 'Keymessages', 'Collaborators']\n",
    "}\n",
    "lang_learning_rates = {\n",
    "    'java': 1e-5,\n",
    "    'python': 1e-3,\n",
    "    'pharo': 1e-3\n",
    "}\n",
    "lang_epochs = {\n",
    "    'java': 2,\n",
    "    'python': 4,\n",
    "    'pharo': 4\n",
    "}\n",
    "lang_thresholds = {\n",
    "    'java': [0.6, 0.5, 0.25, 0.4, 0.55, 0.5, 0.3],\n",
    "    'python': [0.35, 0.5, 0.5, 0.53, 0.5],\n",
    "    'pharo': [0.5, 0.52, 0.5, 0.45, 0.45, 0.5, 0.25]\n",
    "}"
   ]
  },
  {
   "cell_type": "markdown",
   "metadata": {},
   "source": [
    "## Loading Dataset"
   ]
  },
  {
   "cell_type": "code",
   "execution_count": 3,
   "metadata": {},
   "outputs": [],
   "source": [
    "# Loading dataset\n",
    "ds = load_dataset('NLBSE/nlbse25-code-comment-classification')"
   ]
  },
  {
   "cell_type": "code",
   "execution_count": 43,
   "metadata": {},
   "outputs": [
    {
     "name": "stdout",
     "output_type": "stream",
     "text": [
      "DatasetDict({\n",
      "    java_train: Dataset({\n",
      "        features: ['index', 'class', 'comment_sentence', 'partition', 'combo', 'labels'],\n",
      "        num_rows: 7614\n",
      "    })\n",
      "    java_test: Dataset({\n",
      "        features: ['index', 'class', 'comment_sentence', 'partition', 'combo', 'labels'],\n",
      "        num_rows: 1725\n",
      "    })\n",
      "    python_train: Dataset({\n",
      "        features: ['index', 'class', 'comment_sentence', 'partition', 'combo', 'labels'],\n",
      "        num_rows: 1884\n",
      "    })\n",
      "    python_test: Dataset({\n",
      "        features: ['index', 'class', 'comment_sentence', 'partition', 'combo', 'labels'],\n",
      "        num_rows: 406\n",
      "    })\n",
      "    pharo_train: Dataset({\n",
      "        features: ['index', 'class', 'comment_sentence', 'partition', 'combo', 'labels'],\n",
      "        num_rows: 1298\n",
      "    })\n",
      "    pharo_test: Dataset({\n",
      "        features: ['index', 'class', 'comment_sentence', 'partition', 'combo', 'labels'],\n",
      "        num_rows: 289\n",
      "    })\n",
      "})\n"
     ]
    }
   ],
   "source": [
    "print(ds)"
   ]
  },
  {
   "cell_type": "code",
   "execution_count": null,
   "metadata": {},
   "outputs": [
    {
     "name": "stdout",
     "output_type": "stream",
     "text": [
      "java positive counts: [3610, 267, 509, 2093, 904, 117, 311]\n",
      "python positive counts: [578, 572, 210, 343, 347]\n",
      "pharo positive counts: [178, 547, 245, 46, 151, 214, 76]\n",
      "{'java': [1.0545706371191135, 14.258426966292134, 7.479371316306484, 1.818920210224558, 4.211283185840708, 32.53846153846154, 12.241157556270096], 'python': [1.6297577854671281, 1.6468531468531469, 4.485714285714286, 2.746355685131195, 2.7146974063400577], 'pharo': [3.646067415730337, 1.186471663619744, 2.6489795918367345, 14.108695652173912, 4.298013245033113, 3.032710280373832, 8.539473684210526]}\n"
     ]
    }
   ],
   "source": [
    "# Calculate weights based on distributions\n",
    "lang_weights = {}\n",
    "for lang in classification_langs:\n",
    "    num_labels = len(classification_labels[lang])\n",
    "    positive_counts = [0] * num_labels\n",
    "    total_counts = [0] * num_labels\n",
    "    \n",
    "    for i in ds[f'{lang}_train']:\n",
    "        for j in range(num_labels):\n",
    "            if i['labels'][j] == 1:\n",
    "                positive_counts[j] += 1\n",
    "            total_counts[j] += 1\n",
    "    \n",
    "    print(f'{lang} positive counts: {positive_counts}')\n",
    "    \n",
    "    # assign weights with logarithmic scaling\n",
    "    lang_weights[lang] = [np.log(1 + (total_counts[j] / positive_counts[j])) for j in range(num_labels)]\n",
    "    \n",
    "    # assign balanced weights\n",
    "    #lang_weights[lang] = [total_counts[j] / (2 * positive_counts[j]) for j in range(num_labels)]\n",
    "\n",
    "print(lang_weights)"
   ]
  },
  {
   "cell_type": "markdown",
   "metadata": {},
   "source": [
    "### Parameters"
   ]
  },
  {
   "cell_type": "code",
   "execution_count": 6,
   "metadata": {},
   "outputs": [],
   "source": [
    "model_name = 'distilgpt2' # model name\n",
    "add_class_name = False # add class name to the input text"
   ]
  },
  {
   "cell_type": "markdown",
   "metadata": {},
   "source": [
    "### Preprocessing functions"
   ]
  },
  {
   "cell_type": "code",
   "execution_count": null,
   "metadata": {},
   "outputs": [],
   "source": [
    "def preprocess_java(comment, class_name, labels=None, max_length=256):\n",
    "    # Create dataset object\n",
    "    output = []\n",
    "    \n",
    "    for i in range(len(comment)):\n",
    "        text = comment[i]\n",
    "        \n",
    "        # remove entirety of html lists\n",
    "        # text = re.sub(r'<ol>[.\\s\\S]*?<\\/ol>', '', text)\n",
    "        \n",
    "        # remove html tags\n",
    "        text = re.sub(r'<.*?>', '', text)\n",
    "        \n",
    "        # remove bullets\n",
    "        text = re.sub(r'\\s\\*', '', text)\n",
    "        \n",
    "        # remove bulleted lines\n",
    "        #text = re.sub(r'\\n\\s*\\*.*', '', text)\n",
    "        \n",
    "        # remove curly braced sections\n",
    "        #text = re.sub(r'\\{.*?\\}', '', text)\n",
    "        \n",
    "        # remove // comments\n",
    "        # text = re.sub(r'\\s*\\/\\/.*', '', text)\n",
    "        \n",
    "        # remove formatting for // comments\n",
    "        text = re.sub(r'\\/\\/', '', text)\n",
    "        \n",
    "        # remove formatting for /* */ comments\n",
    "        text = re.sub(r'\\/\\*.|\\*\\/', '', text)\n",
    "        \n",
    "        # remove multiple spaces\n",
    "        text = re.sub(r'\\s+', ' ', text)\n",
    "        \n",
    "        # Add class name\n",
    "        if add_class_name:\n",
    "            text = class_name[i] + ': ' + text\n",
    "        \n",
    "        # truncate middle\n",
    "        #if (len(text) > max_length):\n",
    "        #    text = text[:(int(max_length/2)-4)] + ' ... ' + text[-(int(max_length/2)-4):]\n",
    "        \n",
    "        # truncate end\n",
    "        if (len(text) > max_length):\n",
    "            text = text[:max_length]\n",
    "        \n",
    "        # Build dictionary\n",
    "        if labels is not None:\n",
    "            output.append({\n",
    "                'text': text,\n",
    "                'label': labels[i]\n",
    "            })\n",
    "        else:\n",
    "            output.append({\n",
    "                'text': text,\n",
    "                'label': [0, 0, 0, 0, 0, 0, 0]\n",
    "            })\n",
    "    \n",
    "    return output"
   ]
  },
  {
   "cell_type": "code",
   "execution_count": null,
   "metadata": {},
   "outputs": [],
   "source": [
    "def preprocess_python(comment, class_name, labels=None, max_length=256):\n",
    "    output = []\n",
    "    \n",
    "    for i in range(len(comment)):\n",
    "        text = comment[i]\n",
    "        \n",
    "        # Add class name\n",
    "        #text = class_name[i] + ': ' + text\n",
    "        \n",
    "        # truncate\n",
    "        #if (len(text) > max_length):\n",
    "        #    text = text[:(int(max_length/2)-4)] + ' ... ' + text[-(int(max_length/2)-4):]\n",
    "        \n",
    "        # remove multiple spaces\n",
    "        text = re.sub(r'\\s+', ' ', text)\n",
    "        \n",
    "        # remove special characters\n",
    "        text = re.sub(r'[^a-zA-Z0-9\\s]', '', text)\n",
    "        \n",
    "        # truncate end\n",
    "        if (len(text) > max_length):\n",
    "            text = text[:max_length]\n",
    "        \n",
    "        # Build dictionary\n",
    "        if labels is not None:\n",
    "            output.append({\n",
    "                'text': text,\n",
    "                'label': labels[i]\n",
    "            })\n",
    "        else:\n",
    "            output.append({\n",
    "                'text': text,\n",
    "                'label': [0, 0, 0, 0, 0]\n",
    "            })\n",
    "    \n",
    "    return output"
   ]
  },
  {
   "cell_type": "code",
   "execution_count": null,
   "metadata": {},
   "outputs": [],
   "source": [
    "def preprocess_pharo(comment, class_name, labels=None, max_length=256):\n",
    "    output = []\n",
    "    \n",
    "    for i in range(len(comment)):\n",
    "        text = comment[i]\n",
    "        \n",
    "        # Add class name\n",
    "        #text = class_name[i] + ': ' + text\n",
    "        \n",
    "        # truncate\n",
    "        #if (len(text) > max_length):\n",
    "        #    text = text[:(int(max_length/2)-4)] + ' ... ' + text[-(int(max_length/2)-4):]\n",
    "        \n",
    "        # truncate end\n",
    "        if (len(text) > max_length):\n",
    "            text = text[:max_length]\n",
    "        \n",
    "        # remove multiple spaces\n",
    "        text = re.sub(r'\\s+', ' ', text)\n",
    "        \n",
    "        # remove \"i \" and \"i am \" from sentences\n",
    "        text = re.sub(r'i\\s' , '', text)\n",
    "        text = re.sub(r'i\\sam\\s', '', text)\n",
    "        \n",
    "        # remove special characters\n",
    "        text = re.sub(r'[^a-zA-Z0-9\\s]', '', text)\n",
    "        \n",
    "        # Build dictionary\n",
    "        if labels is not None:\n",
    "            output.append({\n",
    "                'text': text,\n",
    "                'label': labels[i]\n",
    "            })\n",
    "        else:\n",
    "            output.append({\n",
    "                'text': text,\n",
    "                'label': [0, 0, 0, 0, 0, 0, 0]\n",
    "            })\n",
    "    \n",
    "    return output"
   ]
  },
  {
   "cell_type": "markdown",
   "metadata": {},
   "source": [
    "### GPT2 Collator"
   ]
  },
  {
   "cell_type": "code",
   "execution_count": 10,
   "metadata": {},
   "outputs": [],
   "source": [
    "# Collator object for GPT2, which will tokenize the text\n",
    "class GPT2_collator(object):\n",
    "    def __init__(self, tokenizer, max_length):\n",
    "        self.tokenizer = tokenizer\n",
    "        self.max_length = max_length\n",
    "\n",
    "    def __call__(self, sequences):\n",
    "        texts = [sequence['text'] for sequence in sequences]\n",
    "        labels = [sequence['label'] for sequence in sequences]\n",
    "        \n",
    "        inputs = self.tokenizer(text=texts, return_tensors='pt', padding='max_length', truncation=True, max_length=self.max_length)\n",
    "        inputs.update({'labels': torch.tensor(labels)})\n",
    "        \n",
    "        return inputs"
   ]
  },
  {
   "cell_type": "markdown",
   "metadata": {},
   "source": [
    "### Train, Validate, and Predict"
   ]
  },
  {
   "cell_type": "code",
   "execution_count": 11,
   "metadata": {},
   "outputs": [],
   "source": [
    "# Training function, updates model weights\n",
    "def train(model, dataloader, optimizer, scheduler, loss_fn, max_batches=None):\n",
    "    global device\n",
    "    \n",
    "    model.train()\n",
    "    \n",
    "    pred_labels = []\n",
    "    true_labels = []\n",
    "    total_loss = 0\n",
    "    \n",
    "    batches_processed = 0\n",
    "    \n",
    "    for batch in tqdm(dataloader, total=len(dataloader)):\n",
    "        if max_batches is not None and batches_processed >= max_batches:\n",
    "            break\n",
    "        \n",
    "        inputs = {k: v.to(device) for k, v in batch.items() if k != 'labels'}\n",
    "        labels = batch['labels'].to(device)\n",
    "        \n",
    "        outputs = model(**inputs)\n",
    "        \n",
    "        loss = loss_fn(outputs.logits, labels.float())\n",
    "        total_loss += loss.item()\n",
    "        \n",
    "        loss.backward()\n",
    "        torch.nn.utils.clip_grad_norm_(model.parameters(), 1.0)\n",
    "        optimizer.step()\n",
    "        scheduler.step()\n",
    "        optimizer.zero_grad()\n",
    "        \n",
    "        probs = torch.sigmoid(outputs.logits)\n",
    "        preds = (probs > 0.5).int()\n",
    "        \n",
    "        pred_labels.extend(preds.cpu().numpy())\n",
    "        true_labels.extend(labels.cpu().numpy())\n",
    "        \n",
    "        batches_processed += 1\n",
    "    \n",
    "    avg_epoch_loss = total_loss / batches_processed\n",
    "    \n",
    "    return pred_labels, true_labels, avg_epoch_loss"
   ]
  },
  {
   "cell_type": "code",
   "execution_count": 12,
   "metadata": {},
   "outputs": [],
   "source": [
    "# For validation, no updating\n",
    "def validate(model, dataloader, loss_fn, thresholds, max_batches=None):\n",
    "    global device\n",
    "    \n",
    "    model.eval()\n",
    "    \n",
    "    pred_labels = []\n",
    "    true_labels = []\n",
    "    total_loss = 0\n",
    "    \n",
    "    batches_processed = 0\n",
    "    \n",
    "    for batch in tqdm(dataloader, total=len(dataloader)):\n",
    "        if max_batches is not None and batches_processed >= max_batches:\n",
    "            break\n",
    "        \n",
    "        inputs = {k: v.to(device) for k, v in batch.items() if k != 'labels'}\n",
    "        labels = batch['labels'].to(device)\n",
    "        \n",
    "        outputs = model(**inputs)\n",
    "        \n",
    "        loss = loss_fn(outputs.logits, labels.float())\n",
    "        total_loss += loss.item()\n",
    "        \n",
    "        probs = torch.sigmoid(outputs.logits)\n",
    "        preds = (probs > thresholds).int()\n",
    "        \n",
    "        pred_labels.extend(preds.cpu().numpy())\n",
    "        true_labels.extend(labels.cpu().numpy())\n",
    "        \n",
    "        batches_processed += 1\n",
    "    \n",
    "    avg_epoch_loss = total_loss / batches_processed\n",
    "    \n",
    "    return pred_labels, true_labels, avg_epoch_loss"
   ]
  },
  {
   "cell_type": "code",
   "execution_count": 13,
   "metadata": {},
   "outputs": [],
   "source": [
    "# Inferencing function\n",
    "def predict(model, dataloader, thresholds):\n",
    "    global device\n",
    "    \n",
    "    model.eval()\n",
    "    \n",
    "    pred_labels = []\n",
    "    probs_list = []\n",
    "    \n",
    "    for batch in tqdm(dataloader, total=len(dataloader)):\n",
    "        inputs = {k: v.to(device) for k, v in batch.items() if k != 'labels'}\n",
    "        \n",
    "        with torch.amp.autocast(device_type=str(device)):\n",
    "            outputs = model(**inputs)\n",
    "        \n",
    "        probs = torch.sigmoid(outputs.logits)\n",
    "        preds = (probs > thresholds).int()\n",
    "        \n",
    "        probs_list.extend(probs.detach().cpu().numpy())\n",
    "        pred_labels.extend(preds.cpu().numpy())\n",
    "    \n",
    "    return pred_labels, probs_list"
   ]
  },
  {
   "cell_type": "markdown",
   "metadata": {},
   "source": [
    "### Setup"
   ]
  },
  {
   "cell_type": "code",
   "execution_count": 15,
   "metadata": {},
   "outputs": [],
   "source": [
    "# Model setup and training\n",
    "def build_model(lang, save=False, optimizer='Lion', learning_rate=None, num_epochs=None, batch_size=8, max_length=512):\n",
    "    global device\n",
    "    \n",
    "    num_labels = len(classification_labels[lang])\n",
    "    \n",
    "    if learning_rate is None:\n",
    "        learning_rate = lang_learning_rates[lang]\n",
    "    if num_epochs is None:\n",
    "        num_epochs = lang_epochs[lang]\n",
    "    \n",
    "    # Setup\n",
    "    print('Setting config...')\n",
    "    model_config = GPT2Config.from_pretrained(\n",
    "        model_name,\n",
    "        num_labels=num_labels,\n",
    "        id2label={str(i): label for i, label in enumerate(classification_labels[lang])},\n",
    "        label2id={label: i for i, label in enumerate(classification_labels[lang])},\n",
    "        problem_type='multi_label_classification',\n",
    "        hidden_dropout_prob=0.3,\n",
    "    )\n",
    "\n",
    "    print('Loading tokenizer...')\n",
    "    tokenizer = GPT2Tokenizer.from_pretrained(model_name)\n",
    "    tokenizer.padding_side = 'left'\n",
    "    tokenizer.pad_token = tokenizer.eos_token\n",
    "\n",
    "    print('Loading model...')\n",
    "    model = GPT2ForSequenceClassification.from_pretrained(model_name, config=model_config)\n",
    "    model.resize_token_embeddings(len(tokenizer))\n",
    "    model.config.pad_token_id = tokenizer.eos_token_id\n",
    "    model.to(device)\n",
    "    \n",
    "    collator = GPT2_collator(tokenizer, max_length)\n",
    "    \n",
    "    # Prepare data\n",
    "    print('Preparing data...')\n",
    "    if lang == 'java':\n",
    "        train_data = preprocess_java(ds['java_train']['comment_sentence'], ds['java_train']['class'], ds['java_train']['labels'], max_length)\n",
    "        eval_data = preprocess_java(ds['java_test']['comment_sentence'], ds['java_train']['class'], ds['java_test']['labels'], max_length)\n",
    "    elif lang == 'python':\n",
    "        train_data = preprocess_python(ds['python_train']['comment_sentence'], ds['python_train']['class'], ds['python_train']['labels'], max_length)\n",
    "        eval_data = preprocess_python(ds['python_test']['comment_sentence'], ds['python_train']['class'], ds['python_test']['labels'], max_length)\n",
    "    elif lang == 'pharo':\n",
    "        train_data = preprocess_pharo(ds['pharo_train']['comment_sentence'], ds['pharo_train']['class'], ds['pharo_train']['labels'], max_length)\n",
    "        eval_data = preprocess_pharo(ds['pharo_test']['comment_sentence'], ds['pharo_train']['class'], ds['pharo_test']['labels'], max_length)\n",
    "    \n",
    "    train_dataloader = torch.utils.data.DataLoader(train_data, batch_size=batch_size, shuffle=True, collate_fn=collator)\n",
    "    eval_dataloader = torch.utils.data.DataLoader(eval_data, batch_size=batch_size, shuffle=False, collate_fn=collator)\n",
    "    \n",
    "    # Training\n",
    "    print('Training...')\n",
    "    opt = None\n",
    "    if optimizer == 'AdamW':\n",
    "        opt = AdamW(model.parameters(), lr = learning_rate, weight_decay=0.01)\n",
    "    elif optimizer == 'Lion':\n",
    "        opt = Lion(model.parameters(), lr = learning_rate)\n",
    "    else:\n",
    "        raise ValueError('Invalid optimizer ' + optimizer)\n",
    "    total_steps = len(train_dataloader) * num_epochs\n",
    "    scheduler = get_linear_schedule_with_warmup(opt, num_warmup_steps=100, num_training_steps=total_steps)\n",
    "    loss_fn = torch.nn.BCEWithLogitsLoss(weight=torch.tensor(lang_weights[lang]).to(device))\n",
    "    thresholds = torch.tensor(lang_thresholds[lang]).to(device)\n",
    "    \n",
    "    loss_list = []\n",
    "    accuracy_list = []\n",
    "    eval_loss_list = []\n",
    "    eval_accuracy_list = []\n",
    "\n",
    "    max_batches = None # Set to None to run all batches, or a number to run a limited number of batches for testing\n",
    "    for epoch in tqdm(range(num_epochs)):\n",
    "        train_labels, true_labels, train_loss = train(model, train_dataloader, opt, scheduler, loss_fn, max_batches)\n",
    "        train_accuracy = accuracy_score(true_labels, train_labels)\n",
    "        loss_list.append(train_loss)\n",
    "        accuracy_list.append(train_accuracy)\n",
    "        print(f'Epoch {epoch+1}/{num_epochs} - Train Loss: {train_loss}, Train Accuracy: {train_accuracy}')\n",
    "        \n",
    "        eval_labels, true_labels, eval_loss = validate(model, eval_dataloader, loss_fn, thresholds, max_batches)\n",
    "        eval_accuracy = accuracy_score(true_labels, eval_labels)\n",
    "        eval_loss_list.append(eval_loss)\n",
    "        eval_accuracy_list.append(eval_accuracy)\n",
    "        print(f'Epoch {epoch+1}/{num_epochs} - Eval Loss:  {eval_loss}, Eval Accuracy:  {eval_accuracy}')\n",
    "    \n",
    "    # Save model\n",
    "    if save:\n",
    "        model.save_pretrained(f'./models/{lang}')\n",
    "        tokenizer.save_pretrained(f'./models/{lang}')\n",
    "    \n",
    "    return model, tokenizer, loss_list, accuracy_list, eval_loss_list, eval_accuracy_list"
   ]
  },
  {
   "cell_type": "markdown",
   "metadata": {},
   "source": [
    "## Building our Models"
   ]
  },
  {
   "cell_type": "code",
   "execution_count": null,
   "metadata": {},
   "outputs": [
    {
     "name": "stdout",
     "output_type": "stream",
     "text": [
      "Setting config...\n",
      "Loading tokenizer...\n"
     ]
    },
    {
     "name": "stderr",
     "output_type": "stream",
     "text": [
      "Some weights of GPT2ForSequenceClassification were not initialized from the model checkpoint at distilgpt2 and are newly initialized: ['score.weight']\n",
      "You should probably TRAIN this model on a down-stream task to be able to use it for predictions and inference.\n"
     ]
    },
    {
     "name": "stdout",
     "output_type": "stream",
     "text": [
      "Loading model...\n",
      "Preparing data...\n",
      "Training...\n"
     ]
    },
    {
     "data": {
      "application/vnd.jupyter.widget-view+json": {
       "model_id": "6cf1ef97f7d54c6e87d5e73063550193",
       "version_major": 2,
       "version_minor": 0
      },
      "text/plain": [
       "  0%|          | 0/2 [00:00<?, ?it/s]"
      ]
     },
     "metadata": {},
     "output_type": "display_data"
    },
    {
     "data": {
      "application/vnd.jupyter.widget-view+json": {
       "model_id": "b20e7b28908d435692d6edd25dd5afa2",
       "version_major": 2,
       "version_minor": 0
      },
      "text/plain": [
       "  0%|          | 0/952 [00:00<?, ?it/s]"
      ]
     },
     "metadata": {},
     "output_type": "display_data"
    },
    {
     "name": "stdout",
     "output_type": "stream",
     "text": [
      "Epoch 1/2 - Train Loss: 1.1787645315517625, Train Accuracy: 0.6511688993958498\n"
     ]
    },
    {
     "data": {
      "application/vnd.jupyter.widget-view+json": {
       "model_id": "2e9e8432845545be9118c0c90b22dda3",
       "version_major": 2,
       "version_minor": 0
      },
      "text/plain": [
       "  0%|          | 0/216 [00:00<?, ?it/s]"
      ]
     },
     "metadata": {},
     "output_type": "display_data"
    },
    {
     "name": "stdout",
     "output_type": "stream",
     "text": [
      "Epoch 1/2 - Eval Loss:  0.7087436828262946, Eval Accuracy:  0.7611594202898551\n"
     ]
    },
    {
     "data": {
      "application/vnd.jupyter.widget-view+json": {
       "model_id": "4aaff89768e4424daf7f17fc8a35dad7",
       "version_major": 2,
       "version_minor": 0
      },
      "text/plain": [
       "  0%|          | 0/952 [00:00<?, ?it/s]"
      ]
     },
     "metadata": {},
     "output_type": "display_data"
    },
    {
     "name": "stdout",
     "output_type": "stream",
     "text": [
      "Epoch 2/2 - Train Loss: 0.6193692761365991, Train Accuracy: 0.8293932230102443\n"
     ]
    },
    {
     "data": {
      "application/vnd.jupyter.widget-view+json": {
       "model_id": "235547add54f43a0bf4ac1e34b9073ec",
       "version_major": 2,
       "version_minor": 0
      },
      "text/plain": [
       "  0%|          | 0/216 [00:00<?, ?it/s]"
      ]
     },
     "metadata": {},
     "output_type": "display_data"
    },
    {
     "name": "stdout",
     "output_type": "stream",
     "text": [
      "Epoch 2/2 - Eval Loss:  0.9287749059551936, Eval Accuracy:  0.7744927536231884\n",
      "Setting config...\n",
      "Loading tokenizer...\n",
      "Loading model...\n"
     ]
    },
    {
     "name": "stderr",
     "output_type": "stream",
     "text": [
      "Some weights of GPT2ForSequenceClassification were not initialized from the model checkpoint at distilgpt2 and are newly initialized: ['score.weight']\n",
      "You should probably TRAIN this model on a down-stream task to be able to use it for predictions and inference.\n"
     ]
    },
    {
     "name": "stdout",
     "output_type": "stream",
     "text": [
      "Preparing data...\n",
      "Training...\n"
     ]
    },
    {
     "data": {
      "application/vnd.jupyter.widget-view+json": {
       "model_id": "07ebc4c26a5e42c2810178b7b24bfc84",
       "version_major": 2,
       "version_minor": 0
      },
      "text/plain": [
       "  0%|          | 0/8 [00:00<?, ?it/s]"
      ]
     },
     "metadata": {},
     "output_type": "display_data"
    },
    {
     "data": {
      "application/vnd.jupyter.widget-view+json": {
       "model_id": "4f589dc15cb84f458ceeab936c54735b",
       "version_major": 2,
       "version_minor": 0
      },
      "text/plain": [
       "  0%|          | 0/236 [00:00<?, ?it/s]"
      ]
     },
     "metadata": {},
     "output_type": "display_data"
    },
    {
     "name": "stdout",
     "output_type": "stream",
     "text": [
      "Epoch 1/8 - Train Loss: 1.3301656900321024, Train Accuracy: 0.1454352441613588\n"
     ]
    },
    {
     "data": {
      "application/vnd.jupyter.widget-view+json": {
       "model_id": "33cfb7c4b13c4d3386b903052c66f524",
       "version_major": 2,
       "version_minor": 0
      },
      "text/plain": [
       "  0%|          | 0/51 [00:00<?, ?it/s]"
      ]
     },
     "metadata": {},
     "output_type": "display_data"
    },
    {
     "name": "stdout",
     "output_type": "stream",
     "text": [
      "Epoch 1/8 - Eval Loss:  1.1607238889909257, Eval Accuracy:  0.11330049261083744\n"
     ]
    },
    {
     "data": {
      "application/vnd.jupyter.widget-view+json": {
       "model_id": "0a5ef2d13966402dae98a4b87afcd521",
       "version_major": 2,
       "version_minor": 0
      },
      "text/plain": [
       "  0%|          | 0/236 [00:00<?, ?it/s]"
      ]
     },
     "metadata": {},
     "output_type": "display_data"
    },
    {
     "name": "stdout",
     "output_type": "stream",
     "text": [
      "Epoch 2/8 - Train Loss: 1.1065365933513238, Train Accuracy: 0.32961783439490444\n"
     ]
    },
    {
     "data": {
      "application/vnd.jupyter.widget-view+json": {
       "model_id": "b4229fe9975740ab9cfda00c5e962de6",
       "version_major": 2,
       "version_minor": 0
      },
      "text/plain": [
       "  0%|          | 0/51 [00:00<?, ?it/s]"
      ]
     },
     "metadata": {},
     "output_type": "display_data"
    },
    {
     "name": "stdout",
     "output_type": "stream",
     "text": [
      "Epoch 2/8 - Eval Loss:  1.2156255157554852, Eval Accuracy:  0.27586206896551724\n"
     ]
    },
    {
     "data": {
      "application/vnd.jupyter.widget-view+json": {
       "model_id": "6e38a9668f2747a1b7db65eb1507d80a",
       "version_major": 2,
       "version_minor": 0
      },
      "text/plain": [
       "  0%|          | 0/236 [00:00<?, ?it/s]"
      ]
     },
     "metadata": {},
     "output_type": "display_data"
    },
    {
     "name": "stdout",
     "output_type": "stream",
     "text": [
      "Epoch 3/8 - Train Loss: 0.9567086490786681, Train Accuracy: 0.4559447983014862\n"
     ]
    },
    {
     "data": {
      "application/vnd.jupyter.widget-view+json": {
       "model_id": "e0709edb96f445369d0bef1a26c0ab17",
       "version_major": 2,
       "version_minor": 0
      },
      "text/plain": [
       "  0%|          | 0/51 [00:00<?, ?it/s]"
      ]
     },
     "metadata": {},
     "output_type": "display_data"
    },
    {
     "name": "stdout",
     "output_type": "stream",
     "text": [
      "Epoch 3/8 - Eval Loss:  1.1388930237176371, Eval Accuracy:  0.3497536945812808\n"
     ]
    },
    {
     "data": {
      "application/vnd.jupyter.widget-view+json": {
       "model_id": "62dfa90492e745ccb7addeae3882eb0e",
       "version_major": 2,
       "version_minor": 0
      },
      "text/plain": [
       "  0%|          | 0/236 [00:00<?, ?it/s]"
      ]
     },
     "metadata": {},
     "output_type": "display_data"
    },
    {
     "name": "stdout",
     "output_type": "stream",
     "text": [
      "Epoch 4/8 - Train Loss: 0.8161644369237504, Train Accuracy: 0.5520169851380042\n"
     ]
    },
    {
     "data": {
      "application/vnd.jupyter.widget-view+json": {
       "model_id": "247a53fb1d5c401eb580a962811e9d77",
       "version_major": 2,
       "version_minor": 0
      },
      "text/plain": [
       "  0%|          | 0/51 [00:00<?, ?it/s]"
      ]
     },
     "metadata": {},
     "output_type": "display_data"
    },
    {
     "name": "stdout",
     "output_type": "stream",
     "text": [
      "Epoch 4/8 - Eval Loss:  1.2456381458277797, Eval Accuracy:  0.2536945812807882\n"
     ]
    },
    {
     "data": {
      "application/vnd.jupyter.widget-view+json": {
       "model_id": "a3bcc55e111045bbbfe5a0a4f52cdb12",
       "version_major": 2,
       "version_minor": 0
      },
      "text/plain": [
       "  0%|          | 0/236 [00:00<?, ?it/s]"
      ]
     },
     "metadata": {},
     "output_type": "display_data"
    },
    {
     "name": "stdout",
     "output_type": "stream",
     "text": [
      "Epoch 5/8 - Train Loss: 0.692158286349248, Train Accuracy: 0.6305732484076433\n"
     ]
    },
    {
     "data": {
      "application/vnd.jupyter.widget-view+json": {
       "model_id": "17e0ee83e4294c569b6fd7fefb4c2ae8",
       "version_major": 2,
       "version_minor": 0
      },
      "text/plain": [
       "  0%|          | 0/51 [00:00<?, ?it/s]"
      ]
     },
     "metadata": {},
     "output_type": "display_data"
    },
    {
     "name": "stdout",
     "output_type": "stream",
     "text": [
      "Epoch 5/8 - Eval Loss:  1.3735291982690494, Eval Accuracy:  0.34236453201970446\n"
     ]
    },
    {
     "data": {
      "application/vnd.jupyter.widget-view+json": {
       "model_id": "ff07beb1c76c4ba2ac7476db0f46f428",
       "version_major": 2,
       "version_minor": 0
      },
      "text/plain": [
       "  0%|          | 0/236 [00:00<?, ?it/s]"
      ]
     },
     "metadata": {},
     "output_type": "display_data"
    },
    {
     "name": "stdout",
     "output_type": "stream",
     "text": [
      "Epoch 6/8 - Train Loss: 0.5424249661510211, Train Accuracy: 0.7139065817409767\n"
     ]
    },
    {
     "data": {
      "application/vnd.jupyter.widget-view+json": {
       "model_id": "7f88a8f88a004792860cea02afe15264",
       "version_major": 2,
       "version_minor": 0
      },
      "text/plain": [
       "  0%|          | 0/51 [00:00<?, ?it/s]"
      ]
     },
     "metadata": {},
     "output_type": "display_data"
    },
    {
     "name": "stdout",
     "output_type": "stream",
     "text": [
      "Epoch 6/8 - Eval Loss:  1.8725828014168084, Eval Accuracy:  0.3645320197044335\n"
     ]
    },
    {
     "data": {
      "application/vnd.jupyter.widget-view+json": {
       "model_id": "00039a72ee09492196bad9112fd59c6d",
       "version_major": 2,
       "version_minor": 0
      },
      "text/plain": [
       "  0%|          | 0/236 [00:00<?, ?it/s]"
      ]
     },
     "metadata": {},
     "output_type": "display_data"
    },
    {
     "name": "stdout",
     "output_type": "stream",
     "text": [
      "Epoch 7/8 - Train Loss: 0.44695108628958086, Train Accuracy: 0.7643312101910829\n"
     ]
    },
    {
     "data": {
      "application/vnd.jupyter.widget-view+json": {
       "model_id": "16f5f593072643e2b5741441b742f09a",
       "version_major": 2,
       "version_minor": 0
      },
      "text/plain": [
       "  0%|          | 0/51 [00:00<?, ?it/s]"
      ]
     },
     "metadata": {},
     "output_type": "display_data"
    },
    {
     "name": "stdout",
     "output_type": "stream",
     "text": [
      "Epoch 7/8 - Eval Loss:  2.0868366766794053, Eval Accuracy:  0.4088669950738916\n"
     ]
    },
    {
     "data": {
      "application/vnd.jupyter.widget-view+json": {
       "model_id": "b6d9012054d84ab3b70d57ec54a7c605",
       "version_major": 2,
       "version_minor": 0
      },
      "text/plain": [
       "  0%|          | 0/236 [00:00<?, ?it/s]"
      ]
     },
     "metadata": {},
     "output_type": "display_data"
    },
    {
     "name": "stdout",
     "output_type": "stream",
     "text": [
      "Epoch 8/8 - Train Loss: 0.34238584849576986, Train Accuracy: 0.8179405520169851\n"
     ]
    },
    {
     "data": {
      "application/vnd.jupyter.widget-view+json": {
       "model_id": "15e2f0ea9a25462db402dfdb74632c97",
       "version_major": 2,
       "version_minor": 0
      },
      "text/plain": [
       "  0%|          | 0/51 [00:00<?, ?it/s]"
      ]
     },
     "metadata": {},
     "output_type": "display_data"
    },
    {
     "name": "stdout",
     "output_type": "stream",
     "text": [
      "Epoch 8/8 - Eval Loss:  2.0877807484391857, Eval Accuracy:  0.43596059113300495\n",
      "Setting config...\n",
      "Loading tokenizer...\n",
      "Loading model...\n"
     ]
    },
    {
     "name": "stderr",
     "output_type": "stream",
     "text": [
      "Some weights of GPT2ForSequenceClassification were not initialized from the model checkpoint at distilgpt2 and are newly initialized: ['score.weight']\n",
      "You should probably TRAIN this model on a down-stream task to be able to use it for predictions and inference.\n"
     ]
    },
    {
     "name": "stdout",
     "output_type": "stream",
     "text": [
      "Preparing data...\n",
      "Training...\n"
     ]
    },
    {
     "data": {
      "application/vnd.jupyter.widget-view+json": {
       "model_id": "bbd5723a15a540f0ab0a798bf7e06dd7",
       "version_major": 2,
       "version_minor": 0
      },
      "text/plain": [
       "  0%|          | 0/8 [00:00<?, ?it/s]"
      ]
     },
     "metadata": {},
     "output_type": "display_data"
    },
    {
     "data": {
      "application/vnd.jupyter.widget-view+json": {
       "model_id": "f1ab0b945d7e4ccc99953ad362c8771e",
       "version_major": 2,
       "version_minor": 0
      },
      "text/plain": [
       "  0%|          | 0/163 [00:00<?, ?it/s]"
      ]
     },
     "metadata": {},
     "output_type": "display_data"
    },
    {
     "name": "stdout",
     "output_type": "stream",
     "text": [
      "Epoch 1/8 - Train Loss: 1.637899036604934, Train Accuracy: 0.25500770416024654\n"
     ]
    },
    {
     "data": {
      "application/vnd.jupyter.widget-view+json": {
       "model_id": "d61bcefed5b244ada5b37d1f0b676a19",
       "version_major": 2,
       "version_minor": 0
      },
      "text/plain": [
       "  0%|          | 0/37 [00:00<?, ?it/s]"
      ]
     },
     "metadata": {},
     "output_type": "display_data"
    },
    {
     "name": "stdout",
     "output_type": "stream",
     "text": [
      "Epoch 1/8 - Eval Loss:  1.1504011621346344, Eval Accuracy:  0.356401384083045\n"
     ]
    },
    {
     "data": {
      "application/vnd.jupyter.widget-view+json": {
       "model_id": "eb6f51bb00dd4c309c28c05afe3f5d47",
       "version_major": 2,
       "version_minor": 0
      },
      "text/plain": [
       "  0%|          | 0/163 [00:00<?, ?it/s]"
      ]
     },
     "metadata": {},
     "output_type": "display_data"
    },
    {
     "name": "stdout",
     "output_type": "stream",
     "text": [
      "Epoch 2/8 - Train Loss: 1.3135117486210688, Train Accuracy: 0.3728813559322034\n"
     ]
    },
    {
     "data": {
      "application/vnd.jupyter.widget-view+json": {
       "model_id": "24ba2e1e04924799aa17397570441511",
       "version_major": 2,
       "version_minor": 0
      },
      "text/plain": [
       "  0%|          | 0/37 [00:00<?, ?it/s]"
      ]
     },
     "metadata": {},
     "output_type": "display_data"
    },
    {
     "name": "stdout",
     "output_type": "stream",
     "text": [
      "Epoch 2/8 - Eval Loss:  1.1248309954598144, Eval Accuracy:  0.4083044982698962\n"
     ]
    },
    {
     "data": {
      "application/vnd.jupyter.widget-view+json": {
       "model_id": "adcfae0009664ed493694f00012b8000",
       "version_major": 2,
       "version_minor": 0
      },
      "text/plain": [
       "  0%|          | 0/163 [00:00<?, ?it/s]"
      ]
     },
     "metadata": {},
     "output_type": "display_data"
    },
    {
     "name": "stdout",
     "output_type": "stream",
     "text": [
      "Epoch 3/8 - Train Loss: 1.1683919733287367, Train Accuracy: 0.46070878274268107\n"
     ]
    },
    {
     "data": {
      "application/vnd.jupyter.widget-view+json": {
       "model_id": "26528a1682a845389a6cef7b6887a288",
       "version_major": 2,
       "version_minor": 0
      },
      "text/plain": [
       "  0%|          | 0/37 [00:00<?, ?it/s]"
      ]
     },
     "metadata": {},
     "output_type": "display_data"
    },
    {
     "name": "stdout",
     "output_type": "stream",
     "text": [
      "Epoch 3/8 - Eval Loss:  1.3137748970373258, Eval Accuracy:  0.3044982698961938\n"
     ]
    },
    {
     "data": {
      "application/vnd.jupyter.widget-view+json": {
       "model_id": "0cd13dca80c647be88a6402a9e267233",
       "version_major": 2,
       "version_minor": 0
      },
      "text/plain": [
       "  0%|          | 0/163 [00:00<?, ?it/s]"
      ]
     },
     "metadata": {},
     "output_type": "display_data"
    },
    {
     "name": "stdout",
     "output_type": "stream",
     "text": [
      "Epoch 4/8 - Train Loss: 1.1559487918586087, Train Accuracy: 0.4745762711864407\n"
     ]
    },
    {
     "data": {
      "application/vnd.jupyter.widget-view+json": {
       "model_id": "2dcd827cd92a401c87aa20915e608c0f",
       "version_major": 2,
       "version_minor": 0
      },
      "text/plain": [
       "  0%|          | 0/37 [00:00<?, ?it/s]"
      ]
     },
     "metadata": {},
     "output_type": "display_data"
    },
    {
     "name": "stdout",
     "output_type": "stream",
     "text": [
      "Epoch 4/8 - Eval Loss:  1.2390794262692735, Eval Accuracy:  0.2837370242214533\n"
     ]
    },
    {
     "data": {
      "application/vnd.jupyter.widget-view+json": {
       "model_id": "47040b26ef7441eb9e8907f85dff5154",
       "version_major": 2,
       "version_minor": 0
      },
      "text/plain": [
       "  0%|          | 0/163 [00:00<?, ?it/s]"
      ]
     },
     "metadata": {},
     "output_type": "display_data"
    },
    {
     "name": "stdout",
     "output_type": "stream",
     "text": [
      "Epoch 5/8 - Train Loss: 1.0279903084816742, Train Accuracy: 0.536979969183359\n"
     ]
    },
    {
     "data": {
      "application/vnd.jupyter.widget-view+json": {
       "model_id": "284f790de1814599b2d20585372636b7",
       "version_major": 2,
       "version_minor": 0
      },
      "text/plain": [
       "  0%|          | 0/37 [00:00<?, ?it/s]"
      ]
     },
     "metadata": {},
     "output_type": "display_data"
    },
    {
     "name": "stdout",
     "output_type": "stream",
     "text": [
      "Epoch 5/8 - Eval Loss:  1.3851072980544052, Eval Accuracy:  0.39792387543252594\n"
     ]
    },
    {
     "data": {
      "application/vnd.jupyter.widget-view+json": {
       "model_id": "bd9c125523694503bd3244dbcb3720dd",
       "version_major": 2,
       "version_minor": 0
      },
      "text/plain": [
       "  0%|          | 0/163 [00:00<?, ?it/s]"
      ]
     },
     "metadata": {},
     "output_type": "display_data"
    },
    {
     "name": "stdout",
     "output_type": "stream",
     "text": [
      "Epoch 6/8 - Train Loss: 0.9142818732495688, Train Accuracy: 0.6117103235747303\n"
     ]
    },
    {
     "data": {
      "application/vnd.jupyter.widget-view+json": {
       "model_id": "b6ebf2c442e3420dbd53aa2dfd0fec43",
       "version_major": 2,
       "version_minor": 0
      },
      "text/plain": [
       "  0%|          | 0/37 [00:00<?, ?it/s]"
      ]
     },
     "metadata": {},
     "output_type": "display_data"
    },
    {
     "name": "stdout",
     "output_type": "stream",
     "text": [
      "Epoch 6/8 - Eval Loss:  1.4759886125857766, Eval Accuracy:  0.3806228373702422\n"
     ]
    },
    {
     "data": {
      "application/vnd.jupyter.widget-view+json": {
       "model_id": "d1083cb4b4e94cb4b253bc7e868855ef",
       "version_major": 2,
       "version_minor": 0
      },
      "text/plain": [
       "  0%|          | 0/163 [00:00<?, ?it/s]"
      ]
     },
     "metadata": {},
     "output_type": "display_data"
    },
    {
     "name": "stdout",
     "output_type": "stream",
     "text": [
      "Epoch 7/8 - Train Loss: 0.7985832387227222, Train Accuracy: 0.6640986132511556\n"
     ]
    },
    {
     "data": {
      "application/vnd.jupyter.widget-view+json": {
       "model_id": "b00b0f2a89a64288a4956a7d04e95d41",
       "version_major": 2,
       "version_minor": 0
      },
      "text/plain": [
       "  0%|          | 0/37 [00:00<?, ?it/s]"
      ]
     },
     "metadata": {},
     "output_type": "display_data"
    },
    {
     "name": "stdout",
     "output_type": "stream",
     "text": [
      "Epoch 7/8 - Eval Loss:  1.5988531847660605, Eval Accuracy:  0.4429065743944637\n"
     ]
    },
    {
     "data": {
      "application/vnd.jupyter.widget-view+json": {
       "model_id": "c323a6baa135462da9945a1ac7e29c08",
       "version_major": 2,
       "version_minor": 0
      },
      "text/plain": [
       "  0%|          | 0/163 [00:00<?, ?it/s]"
      ]
     },
     "metadata": {},
     "output_type": "display_data"
    },
    {
     "name": "stdout",
     "output_type": "stream",
     "text": [
      "Epoch 8/8 - Train Loss: 0.7197267589576405, Train Accuracy: 0.7095531587057011\n"
     ]
    },
    {
     "data": {
      "application/vnd.jupyter.widget-view+json": {
       "model_id": "847bb4572e404bde955e5f91032013dd",
       "version_major": 2,
       "version_minor": 0
      },
      "text/plain": [
       "  0%|          | 0/37 [00:00<?, ?it/s]"
      ]
     },
     "metadata": {},
     "output_type": "display_data"
    },
    {
     "name": "stdout",
     "output_type": "stream",
     "text": [
      "Epoch 8/8 - Eval Loss:  1.7032666075471286, Eval Accuracy:  0.4463667820069204\n"
     ]
    }
   ],
   "source": [
    "optimizer = 'AdamW'\n",
    "batch_size = 8\n",
    "max_length = 256\n",
    "\n",
    "from_pretrained = False\n",
    "\n",
    "if from_pretrained:\n",
    "    java_model = GPT2ForSequenceClassification.from_pretrained('./models/java')\n",
    "    java_tokenizer = GPT2Tokenizer.from_pretrained('./models/java')\n",
    "    python_model = GPT2ForSequenceClassification.from_pretrained('./models/python')\n",
    "    python_tokenizer = GPT2Tokenizer.from_pretrained('./models/python')\n",
    "    pharo_model = GPT2ForSequenceClassification.from_pretrained('./models/pharo')\n",
    "    pharo_tokenizer = GPT2Tokenizer.from_pretrained('./models/pharo')\n",
    "    \n",
    "    java_model.to(device)\n",
    "    python_model.to(device)\n",
    "    pharo_model.to(device)\n",
    "else:\n",
    "    java_model, java_tokenizer, java_loss_list, java_accuracy_list, java_eval_loss_list, java_eval_accuracy_list = build_model('java', save=True, optimizer=optimizer, batch_size=batch_size, max_length=max_length)\n",
    "    python_model, python_tokenizer, python_loss_list, python_accuracy_list, python_eval_loss_list, python_eval_accuracy_list = build_model('python', save=True, optimizer=optimizer, batch_size=batch_size, max_length=max_length)\n",
    "    pharo_model, pharo_tokenizer, pharo_loss_list, pharo_accuracy_list, pharo_eval_loss_list, pharo_eval_accuracy_list = build_model('pharo', save=True, optimizer=optimizer, batch_size=batch_size, max_length=max_length)"
   ]
  },
  {
   "cell_type": "markdown",
   "metadata": {},
   "source": [
    "## Analysis"
   ]
  },
  {
   "cell_type": "code",
   "execution_count": 17,
   "metadata": {},
   "outputs": [
    {
     "data": {
      "application/vnd.jupyter.widget-view+json": {
       "model_id": "029d165a155f4aa69f9a4c15a42d4db5",
       "version_major": 2,
       "version_minor": 0
      },
      "text/plain": [
       "  0%|          | 0/216 [00:00<?, ?it/s]"
      ]
     },
     "metadata": {},
     "output_type": "display_data"
    },
    {
     "data": {
      "application/vnd.jupyter.widget-view+json": {
       "model_id": "f7e22c6c3fe44b45a109abe015eafddc",
       "version_major": 2,
       "version_minor": 0
      },
      "text/plain": [
       "  0%|          | 0/51 [00:00<?, ?it/s]"
      ]
     },
     "metadata": {},
     "output_type": "display_data"
    },
    {
     "data": {
      "application/vnd.jupyter.widget-view+json": {
       "model_id": "06d99e79b14348dfa4fe0bffe38fde97",
       "version_major": 2,
       "version_minor": 0
      },
      "text/plain": [
       "  0%|          | 0/37 [00:00<?, ?it/s]"
      ]
     },
     "metadata": {},
     "output_type": "display_data"
    }
   ],
   "source": [
    "\n",
    "# Do classification report\n",
    "def do_classification_report(model, tokenizer, lang):\n",
    "    eval_data = preprocess_java(ds[f'{lang}_test']['comment_sentence'], ds[f'{lang}_train']['class'], ds[f'{lang}_test']['labels'])\n",
    "    eval_dataloader = torch.utils.data.DataLoader(eval_data, batch_size=batch_size, shuffle=False, collate_fn=GPT2_collator(tokenizer, max_length))\n",
    "    eval_labels, eval_probs = predict(model, eval_dataloader, torch.tensor(lang_thresholds[lang]).to(device))\n",
    "    eval_labels = np.array(eval_labels)\n",
    "    eval_probs = np.array(eval_probs)\n",
    "    true_labels = np.array([sequence['label'] for sequence in eval_data])\n",
    "    report = classification_report(true_labels, eval_labels, target_names=classification_labels[lang])\n",
    "    return eval_labels, eval_probs, true_labels, report\n",
    "\n",
    "java_eval_labels, java_eval_probs, java_true_labels, java_report = do_classification_report(java_model, java_tokenizer, 'java')\n",
    "python_eval_labels, python_eval_probs, python_true_labels, python_report = do_classification_report(python_model, python_tokenizer, 'python')\n",
    "pharo_eval_labels, pharo_eval_probs, pharo_true_labels, pharo_report = do_classification_report(pharo_model, pharo_tokenizer, 'pharo')"
   ]
  },
  {
   "cell_type": "code",
   "execution_count": 18,
   "metadata": {},
   "outputs": [
    {
     "data": {
      "text/html": [
       "<div>\n",
       "<style scoped>\n",
       "    .dataframe tbody tr th:only-of-type {\n",
       "        vertical-align: middle;\n",
       "    }\n",
       "\n",
       "    .dataframe tbody tr th {\n",
       "        vertical-align: top;\n",
       "    }\n",
       "\n",
       "    .dataframe thead th {\n",
       "        text-align: right;\n",
       "    }\n",
       "</style>\n",
       "<table border=\"1\" class=\"dataframe\">\n",
       "  <thead>\n",
       "    <tr style=\"text-align: right;\">\n",
       "      <th></th>\n",
       "      <th>lan</th>\n",
       "      <th>cat</th>\n",
       "      <th>precision</th>\n",
       "      <th>recall</th>\n",
       "      <th>f1</th>\n",
       "    </tr>\n",
       "  </thead>\n",
       "  <tbody>\n",
       "    <tr>\n",
       "      <th>0</th>\n",
       "      <td>java</td>\n",
       "      <td>summary</td>\n",
       "      <td>0.88</td>\n",
       "      <td>0.89</td>\n",
       "      <td>0.89</td>\n",
       "    </tr>\n",
       "    <tr>\n",
       "      <th>1</th>\n",
       "      <td>java</td>\n",
       "      <td>Ownership</td>\n",
       "      <td>1.00</td>\n",
       "      <td>1.00</td>\n",
       "      <td>1.00</td>\n",
       "    </tr>\n",
       "    <tr>\n",
       "      <th>2</th>\n",
       "      <td>java</td>\n",
       "      <td>Expand</td>\n",
       "      <td>0.22</td>\n",
       "      <td>0.28</td>\n",
       "      <td>0.25</td>\n",
       "    </tr>\n",
       "    <tr>\n",
       "      <th>3</th>\n",
       "      <td>java</td>\n",
       "      <td>usage</td>\n",
       "      <td>0.80</td>\n",
       "      <td>0.87</td>\n",
       "      <td>0.83</td>\n",
       "    </tr>\n",
       "    <tr>\n",
       "      <th>4</th>\n",
       "      <td>java</td>\n",
       "      <td>Pointer</td>\n",
       "      <td>0.81</td>\n",
       "      <td>0.92</td>\n",
       "      <td>0.86</td>\n",
       "    </tr>\n",
       "    <tr>\n",
       "      <th>5</th>\n",
       "      <td>java</td>\n",
       "      <td>deprecation</td>\n",
       "      <td>1.00</td>\n",
       "      <td>0.60</td>\n",
       "      <td>0.75</td>\n",
       "    </tr>\n",
       "    <tr>\n",
       "      <th>6</th>\n",
       "      <td>java</td>\n",
       "      <td>rational</td>\n",
       "      <td>0.32</td>\n",
       "      <td>0.16</td>\n",
       "      <td>0.22</td>\n",
       "    </tr>\n",
       "    <tr>\n",
       "      <th>0</th>\n",
       "      <td>python</td>\n",
       "      <td>Usage</td>\n",
       "      <td>0.00</td>\n",
       "      <td>0.00</td>\n",
       "      <td>0.00</td>\n",
       "    </tr>\n",
       "    <tr>\n",
       "      <th>1</th>\n",
       "      <td>python</td>\n",
       "      <td>Parameters</td>\n",
       "      <td>0.00</td>\n",
       "      <td>0.00</td>\n",
       "      <td>0.00</td>\n",
       "    </tr>\n",
       "    <tr>\n",
       "      <th>2</th>\n",
       "      <td>python</td>\n",
       "      <td>DevelopmentNotes</td>\n",
       "      <td>0.00</td>\n",
       "      <td>0.00</td>\n",
       "      <td>0.00</td>\n",
       "    </tr>\n",
       "    <tr>\n",
       "      <th>3</th>\n",
       "      <td>python</td>\n",
       "      <td>Expand</td>\n",
       "      <td>0.00</td>\n",
       "      <td>0.00</td>\n",
       "      <td>0.00</td>\n",
       "    </tr>\n",
       "    <tr>\n",
       "      <th>4</th>\n",
       "      <td>python</td>\n",
       "      <td>Summary</td>\n",
       "      <td>0.00</td>\n",
       "      <td>0.00</td>\n",
       "      <td>0.00</td>\n",
       "    </tr>\n",
       "    <tr>\n",
       "      <th>0</th>\n",
       "      <td>pharo</td>\n",
       "      <td>Keyimplementationpoints</td>\n",
       "      <td>0.37</td>\n",
       "      <td>0.26</td>\n",
       "      <td>0.30</td>\n",
       "    </tr>\n",
       "    <tr>\n",
       "      <th>1</th>\n",
       "      <td>pharo</td>\n",
       "      <td>Example</td>\n",
       "      <td>0.75</td>\n",
       "      <td>0.70</td>\n",
       "      <td>0.72</td>\n",
       "    </tr>\n",
       "    <tr>\n",
       "      <th>2</th>\n",
       "      <td>pharo</td>\n",
       "      <td>Responsibilities</td>\n",
       "      <td>0.75</td>\n",
       "      <td>0.06</td>\n",
       "      <td>0.11</td>\n",
       "    </tr>\n",
       "    <tr>\n",
       "      <th>3</th>\n",
       "      <td>pharo</td>\n",
       "      <td>Classreferences</td>\n",
       "      <td>0.00</td>\n",
       "      <td>0.00</td>\n",
       "      <td>0.00</td>\n",
       "    </tr>\n",
       "    <tr>\n",
       "      <th>4</th>\n",
       "      <td>pharo</td>\n",
       "      <td>Intent</td>\n",
       "      <td>0.50</td>\n",
       "      <td>0.17</td>\n",
       "      <td>0.25</td>\n",
       "    </tr>\n",
       "    <tr>\n",
       "      <th>5</th>\n",
       "      <td>pharo</td>\n",
       "      <td>Keymessages</td>\n",
       "      <td>0.47</td>\n",
       "      <td>0.44</td>\n",
       "      <td>0.46</td>\n",
       "    </tr>\n",
       "    <tr>\n",
       "      <th>6</th>\n",
       "      <td>pharo</td>\n",
       "      <td>Collaborators</td>\n",
       "      <td>0.40</td>\n",
       "      <td>0.20</td>\n",
       "      <td>0.27</td>\n",
       "    </tr>\n",
       "  </tbody>\n",
       "</table>\n",
       "</div>"
      ],
      "text/plain": [
       "      lan                      cat precision recall    f1\n",
       "0    java                  summary      0.88   0.89  0.89\n",
       "1    java                Ownership      1.00   1.00  1.00\n",
       "2    java                   Expand      0.22   0.28  0.25\n",
       "3    java                    usage      0.80   0.87  0.83\n",
       "4    java                  Pointer      0.81   0.92  0.86\n",
       "5    java              deprecation      1.00   0.60  0.75\n",
       "6    java                 rational      0.32   0.16  0.22\n",
       "0  python                    Usage      0.00   0.00  0.00\n",
       "1  python               Parameters      0.00   0.00  0.00\n",
       "2  python         DevelopmentNotes      0.00   0.00  0.00\n",
       "3  python                   Expand      0.00   0.00  0.00\n",
       "4  python                  Summary      0.00   0.00  0.00\n",
       "0   pharo  Keyimplementationpoints      0.37   0.26  0.30\n",
       "1   pharo                  Example      0.75   0.70  0.72\n",
       "2   pharo         Responsibilities      0.75   0.06  0.11\n",
       "3   pharo          Classreferences      0.00   0.00  0.00\n",
       "4   pharo                   Intent      0.50   0.17  0.25\n",
       "5   pharo              Keymessages      0.47   0.44  0.46\n",
       "6   pharo            Collaborators      0.40   0.20  0.27"
      ]
     },
     "execution_count": 18,
     "metadata": {},
     "output_type": "execute_result"
    }
   ],
   "source": [
    "# Combine reports into single pandas dataframe\n",
    "def report_to_df(report, lang):\n",
    "    lines = report.split('\\n')\n",
    "    data = []\n",
    "    for line in lines[2:-5]:\n",
    "        row = line.split()\n",
    "        if len(row) == 0:\n",
    "            continue\n",
    "        data.append(row)\n",
    "    df = pd.DataFrame(data, columns=['cat', 'precision', 'recall', 'f1', 'support'])\n",
    "    df.insert(0, 'lan', lang)\n",
    "    df = df.iloc[:, :-1]\n",
    "    return df\n",
    "        \n",
    "\n",
    "java_df = report_to_df(java_report, 'java')\n",
    "python_df = report_to_df(python_report, 'python')\n",
    "pharo_df = report_to_df(pharo_report, 'pharo')\n",
    "combined_df = pd.concat([java_df, python_df, pharo_df])\n",
    "combined_df\n"
   ]
  },
  {
   "cell_type": "code",
   "execution_count": 19,
   "metadata": {},
   "outputs": [
    {
     "data": {
      "text/html": [
       "<style type=\"text/css\">\n",
       "#T_50976_row2_col2, #T_50976_row2_col3, #T_50976_row2_col4, #T_50976_row3_col2, #T_50976_row3_col4, #T_50976_row4_col3, #T_50976_row6_col3, #T_50976_row7_col2, #T_50976_row7_col3, #T_50976_row7_col4, #T_50976_row8_col2, #T_50976_row8_col3, #T_50976_row8_col4, #T_50976_row9_col2, #T_50976_row9_col3, #T_50976_row9_col4, #T_50976_row10_col2, #T_50976_row10_col3, #T_50976_row10_col4, #T_50976_row11_col2, #T_50976_row11_col3, #T_50976_row11_col4, #T_50976_row12_col2, #T_50976_row12_col3, #T_50976_row12_col4, #T_50976_row13_col2, #T_50976_row13_col3, #T_50976_row13_col4, #T_50976_row14_col3, #T_50976_row14_col4, #T_50976_row15_col2, #T_50976_row15_col3, #T_50976_row15_col4, #T_50976_row16_col2, #T_50976_row16_col3, #T_50976_row16_col4, #T_50976_row17_col2, #T_50976_row17_col3, #T_50976_row17_col4, #T_50976_row18_col3 {\n",
       "  background-color: red;\n",
       "}\n",
       "</style>\n",
       "<table id=\"T_50976\">\n",
       "  <thead>\n",
       "    <tr>\n",
       "      <th class=\"blank level0\" >&nbsp;</th>\n",
       "      <th id=\"T_50976_level0_col0\" class=\"col_heading level0 col0\" >lan</th>\n",
       "      <th id=\"T_50976_level0_col1\" class=\"col_heading level0 col1\" >cat</th>\n",
       "      <th id=\"T_50976_level0_col2\" class=\"col_heading level0 col2\" >precision_diff</th>\n",
       "      <th id=\"T_50976_level0_col3\" class=\"col_heading level0 col3\" >recall_diff</th>\n",
       "      <th id=\"T_50976_level0_col4\" class=\"col_heading level0 col4\" >f1_diff</th>\n",
       "    </tr>\n",
       "  </thead>\n",
       "  <tbody>\n",
       "    <tr>\n",
       "      <th id=\"T_50976_level0_row0\" class=\"row_heading level0 row0\" >0</th>\n",
       "      <td id=\"T_50976_row0_col0\" class=\"data row0 col0\" >java</td>\n",
       "      <td id=\"T_50976_row0_col1\" class=\"data row0 col1\" >summary</td>\n",
       "      <td id=\"T_50976_row0_col2\" class=\"data row0 col2\" >0.006615</td>\n",
       "      <td id=\"T_50976_row0_col3\" class=\"data row0 col3\" >0.060552</td>\n",
       "      <td id=\"T_50976_row0_col4\" class=\"data row0 col4\" >0.039150</td>\n",
       "    </tr>\n",
       "    <tr>\n",
       "      <th id=\"T_50976_level0_row1\" class=\"row_heading level0 row1\" >1</th>\n",
       "      <td id=\"T_50976_row1_col0\" class=\"data row1 col0\" >java</td>\n",
       "      <td id=\"T_50976_row1_col1\" class=\"data row1 col1\" >Ownership</td>\n",
       "      <td id=\"T_50976_row1_col2\" class=\"data row1 col2\" >0.000000</td>\n",
       "      <td id=\"T_50976_row1_col3\" class=\"data row1 col3\" >0.000000</td>\n",
       "      <td id=\"T_50976_row1_col4\" class=\"data row1 col4\" >0.000000</td>\n",
       "    </tr>\n",
       "    <tr>\n",
       "      <th id=\"T_50976_level0_row2\" class=\"row_heading level0 row2\" >2</th>\n",
       "      <td id=\"T_50976_row2_col0\" class=\"data row2 col0\" >java</td>\n",
       "      <td id=\"T_50976_row2_col1\" class=\"data row2 col1\" >Expand</td>\n",
       "      <td id=\"T_50976_row2_col2\" class=\"data row2 col2\" >-0.103529</td>\n",
       "      <td id=\"T_50976_row2_col3\" class=\"data row2 col3\" >-0.164444</td>\n",
       "      <td id=\"T_50976_row2_col4\" class=\"data row2 col4\" >-0.124468</td>\n",
       "    </tr>\n",
       "    <tr>\n",
       "      <th id=\"T_50976_level0_row3\" class=\"row_heading level0 row3\" >3</th>\n",
       "      <td id=\"T_50976_row3_col0\" class=\"data row3 col0\" >java</td>\n",
       "      <td id=\"T_50976_row3_col1\" class=\"data row3 col1\" >usage</td>\n",
       "      <td id=\"T_50976_row3_col2\" class=\"data row3 col2\" >-0.111043</td>\n",
       "      <td id=\"T_50976_row3_col3\" class=\"data row3 col3\" >0.051818</td>\n",
       "      <td id=\"T_50976_row3_col4\" class=\"data row3 col4\" >-0.032119</td>\n",
       "    </tr>\n",
       "    <tr>\n",
       "      <th id=\"T_50976_level0_row4\" class=\"row_heading level0 row4\" >4</th>\n",
       "      <td id=\"T_50976_row4_col0\" class=\"data row4 col0\" >java</td>\n",
       "      <td id=\"T_50976_row4_col1\" class=\"data row4 col1\" >Pointer</td>\n",
       "      <td id=\"T_50976_row4_col2\" class=\"data row4 col2\" >0.071745</td>\n",
       "      <td id=\"T_50976_row4_col3\" class=\"data row4 col3\" >-0.020171</td>\n",
       "      <td id=\"T_50976_row4_col4\" class=\"data row4 col4\" >0.032932</td>\n",
       "    </tr>\n",
       "    <tr>\n",
       "      <th id=\"T_50976_level0_row5\" class=\"row_heading level0 row5\" >5</th>\n",
       "      <td id=\"T_50976_row5_col0\" class=\"data row5 col0\" >java</td>\n",
       "      <td id=\"T_50976_row5_col1\" class=\"data row5 col1\" >deprecation</td>\n",
       "      <td id=\"T_50976_row5_col2\" class=\"data row5 col2\" >0.181818</td>\n",
       "      <td id=\"T_50976_row5_col3\" class=\"data row5 col3\" >0.000000</td>\n",
       "      <td id=\"T_50976_row5_col4\" class=\"data row5 col4\" >0.057692</td>\n",
       "    </tr>\n",
       "    <tr>\n",
       "      <th id=\"T_50976_level0_row6\" class=\"row_heading level0 row6\" >6</th>\n",
       "      <td id=\"T_50976_row6_col0\" class=\"data row6 col0\" >java</td>\n",
       "      <td id=\"T_50976_row6_col1\" class=\"data row6 col1\" >rational</td>\n",
       "      <td id=\"T_50976_row6_col2\" class=\"data row6 col2\" >0.157838</td>\n",
       "      <td id=\"T_50976_row6_col3\" class=\"data row6 col3\" >-0.135082</td>\n",
       "      <td id=\"T_50976_row6_col4\" class=\"data row6 col4\" >0.010698</td>\n",
       "    </tr>\n",
       "    <tr>\n",
       "      <th id=\"T_50976_level0_row7\" class=\"row_heading level0 row7\" >7</th>\n",
       "      <td id=\"T_50976_row7_col0\" class=\"data row7 col0\" >python</td>\n",
       "      <td id=\"T_50976_row7_col1\" class=\"data row7 col1\" >Usage</td>\n",
       "      <td id=\"T_50976_row7_col2\" class=\"data row7 col2\" >-0.873385</td>\n",
       "      <td id=\"T_50976_row7_col3\" class=\"data row7 col3\" >-0.829448</td>\n",
       "      <td id=\"T_50976_row7_col4\" class=\"data row7 col4\" >-0.850850</td>\n",
       "    </tr>\n",
       "    <tr>\n",
       "      <th id=\"T_50976_level0_row8\" class=\"row_heading level0 row8\" >8</th>\n",
       "      <td id=\"T_50976_row8_col0\" class=\"data row8 col0\" >python</td>\n",
       "      <td id=\"T_50976_row8_col1\" class=\"data row8 col1\" >Parameters</td>\n",
       "      <td id=\"T_50976_row8_col2\" class=\"data row8 col2\" >-1.000000</td>\n",
       "      <td id=\"T_50976_row8_col3\" class=\"data row8 col3\" >-1.000000</td>\n",
       "      <td id=\"T_50976_row8_col4\" class=\"data row8 col4\" >-1.000000</td>\n",
       "    </tr>\n",
       "    <tr>\n",
       "      <th id=\"T_50976_level0_row9\" class=\"row_heading level0 row9\" >9</th>\n",
       "      <td id=\"T_50976_row9_col0\" class=\"data row9 col0\" >python</td>\n",
       "      <td id=\"T_50976_row9_col1\" class=\"data row9 col1\" >DevelopmentNotes</td>\n",
       "      <td id=\"T_50976_row9_col2\" class=\"data row9 col2\" >-0.323529</td>\n",
       "      <td id=\"T_50976_row9_col3\" class=\"data row9 col3\" >-0.444444</td>\n",
       "      <td id=\"T_50976_row9_col4\" class=\"data row9 col4\" >-0.374468</td>\n",
       "    </tr>\n",
       "    <tr>\n",
       "      <th id=\"T_50976_level0_row10\" class=\"row_heading level0 row10\" >10</th>\n",
       "      <td id=\"T_50976_row10_col0\" class=\"data row10 col0\" >python</td>\n",
       "      <td id=\"T_50976_row10_col1\" class=\"data row10 col1\" >Expand</td>\n",
       "      <td id=\"T_50976_row10_col2\" class=\"data row10 col2\" >-0.911043</td>\n",
       "      <td id=\"T_50976_row10_col3\" class=\"data row10 col3\" >-0.818182</td>\n",
       "      <td id=\"T_50976_row10_col4\" class=\"data row10 col4\" >-0.862119</td>\n",
       "    </tr>\n",
       "    <tr>\n",
       "      <th id=\"T_50976_level0_row11\" class=\"row_heading level0 row11\" >11</th>\n",
       "      <td id=\"T_50976_row11_col0\" class=\"data row11 col0\" >python</td>\n",
       "      <td id=\"T_50976_row11_col1\" class=\"data row11 col1\" >Summary</td>\n",
       "      <td id=\"T_50976_row11_col2\" class=\"data row11 col2\" >-0.738255</td>\n",
       "      <td id=\"T_50976_row11_col3\" class=\"data row11 col3\" >-0.940171</td>\n",
       "      <td id=\"T_50976_row11_col4\" class=\"data row11 col4\" >-0.827068</td>\n",
       "    </tr>\n",
       "    <tr>\n",
       "      <th id=\"T_50976_level0_row12\" class=\"row_heading level0 row12\" >12</th>\n",
       "      <td id=\"T_50976_row12_col0\" class=\"data row12 col0\" >pharo</td>\n",
       "      <td id=\"T_50976_row12_col1\" class=\"data row12 col1\" >Keyimplementationpoints</td>\n",
       "      <td id=\"T_50976_row12_col2\" class=\"data row12 col2\" >-0.503385</td>\n",
       "      <td id=\"T_50976_row12_col3\" class=\"data row12 col3\" >-0.569448</td>\n",
       "      <td id=\"T_50976_row12_col4\" class=\"data row12 col4\" >-0.550850</td>\n",
       "    </tr>\n",
       "    <tr>\n",
       "      <th id=\"T_50976_level0_row13\" class=\"row_heading level0 row13\" >13</th>\n",
       "      <td id=\"T_50976_row13_col0\" class=\"data row13 col0\" >pharo</td>\n",
       "      <td id=\"T_50976_row13_col1\" class=\"data row13 col1\" >Example</td>\n",
       "      <td id=\"T_50976_row13_col2\" class=\"data row13 col2\" >-0.250000</td>\n",
       "      <td id=\"T_50976_row13_col3\" class=\"data row13 col3\" >-0.300000</td>\n",
       "      <td id=\"T_50976_row13_col4\" class=\"data row13 col4\" >-0.280000</td>\n",
       "    </tr>\n",
       "    <tr>\n",
       "      <th id=\"T_50976_level0_row14\" class=\"row_heading level0 row14\" >14</th>\n",
       "      <td id=\"T_50976_row14_col0\" class=\"data row14 col0\" >pharo</td>\n",
       "      <td id=\"T_50976_row14_col1\" class=\"data row14 col1\" >Responsibilities</td>\n",
       "      <td id=\"T_50976_row14_col2\" class=\"data row14 col2\" >0.426471</td>\n",
       "      <td id=\"T_50976_row14_col3\" class=\"data row14 col3\" >-0.384444</td>\n",
       "      <td id=\"T_50976_row14_col4\" class=\"data row14 col4\" >-0.264468</td>\n",
       "    </tr>\n",
       "    <tr>\n",
       "      <th id=\"T_50976_level0_row15\" class=\"row_heading level0 row15\" >15</th>\n",
       "      <td id=\"T_50976_row15_col0\" class=\"data row15 col0\" >pharo</td>\n",
       "      <td id=\"T_50976_row15_col1\" class=\"data row15 col1\" >Classreferences</td>\n",
       "      <td id=\"T_50976_row15_col2\" class=\"data row15 col2\" >-0.911043</td>\n",
       "      <td id=\"T_50976_row15_col3\" class=\"data row15 col3\" >-0.818182</td>\n",
       "      <td id=\"T_50976_row15_col4\" class=\"data row15 col4\" >-0.862119</td>\n",
       "    </tr>\n",
       "    <tr>\n",
       "      <th id=\"T_50976_level0_row16\" class=\"row_heading level0 row16\" >16</th>\n",
       "      <td id=\"T_50976_row16_col0\" class=\"data row16 col0\" >pharo</td>\n",
       "      <td id=\"T_50976_row16_col1\" class=\"data row16 col1\" >Intent</td>\n",
       "      <td id=\"T_50976_row16_col2\" class=\"data row16 col2\" >-0.238255</td>\n",
       "      <td id=\"T_50976_row16_col3\" class=\"data row16 col3\" >-0.770171</td>\n",
       "      <td id=\"T_50976_row16_col4\" class=\"data row16 col4\" >-0.577068</td>\n",
       "    </tr>\n",
       "    <tr>\n",
       "      <th id=\"T_50976_level0_row17\" class=\"row_heading level0 row17\" >17</th>\n",
       "      <td id=\"T_50976_row17_col0\" class=\"data row17 col0\" >pharo</td>\n",
       "      <td id=\"T_50976_row17_col1\" class=\"data row17 col1\" >Keymessages</td>\n",
       "      <td id=\"T_50976_row17_col2\" class=\"data row17 col2\" >-0.348182</td>\n",
       "      <td id=\"T_50976_row17_col3\" class=\"data row17 col3\" >-0.160000</td>\n",
       "      <td id=\"T_50976_row17_col4\" class=\"data row17 col4\" >-0.232308</td>\n",
       "    </tr>\n",
       "    <tr>\n",
       "      <th id=\"T_50976_level0_row18\" class=\"row_heading level0 row18\" >18</th>\n",
       "      <td id=\"T_50976_row18_col0\" class=\"data row18 col0\" >pharo</td>\n",
       "      <td id=\"T_50976_row18_col1\" class=\"data row18 col1\" >Collaborators</td>\n",
       "      <td id=\"T_50976_row18_col2\" class=\"data row18 col2\" >0.237838</td>\n",
       "      <td id=\"T_50976_row18_col3\" class=\"data row18 col3\" >-0.095082</td>\n",
       "      <td id=\"T_50976_row18_col4\" class=\"data row18 col4\" >0.060698</td>\n",
       "    </tr>\n",
       "  </tbody>\n",
       "</table>\n"
      ],
      "text/plain": [
       "<pandas.io.formats.style.Styler at 0x2116ff72210>"
      ]
     },
     "execution_count": 19,
     "metadata": {},
     "output_type": "execute_result"
    }
   ],
   "source": [
    "# Compare with baseline results summary\n",
    "# load baseline results\n",
    "baseline_results = pd.read_csv('baseline_results_summary.csv')\n",
    "\n",
    "# Get difference from baseline\n",
    "def get_diff_df(baseline_df, eval_df):\n",
    "    diff_df = eval_df.copy()\n",
    "    diff_df['baseline_precision'] = baseline_df['precision']\n",
    "    diff_df['baseline_recall'] = baseline_df['recall']\n",
    "    diff_df['baseline_f1'] = baseline_df['f1']\n",
    "    diff_df['precision_diff'] = diff_df['precision'].astype(float) - diff_df['baseline_precision'].astype(float)\n",
    "    diff_df['recall_diff'] = diff_df['recall'].astype(float) - diff_df['baseline_recall'].astype(float)\n",
    "    diff_df['f1_diff'] = diff_df['f1'].astype(float) - diff_df['baseline_f1'].astype(float)\n",
    "    # delete all but diff columns\n",
    "    diff_df = diff_df[['lan', 'cat', 'precision_diff', 'recall_diff', 'f1_diff']]\n",
    "    diff_df = diff_df.reset_index(drop=True)\n",
    "    return diff_df\n",
    "\n",
    "diff_df = get_diff_df(baseline_results, combined_df)\n",
    "# style dataframe to make cells red if negative\n",
    "def highlight_diff(val):\n",
    "    if val < 0:\n",
    "        return 'background-color: red'\n",
    "    else:\n",
    "        return ''\n",
    "\n",
    "diff_df.style.applymap(highlight_diff, subset=['precision_diff', 'recall_diff', 'f1_diff'])\n",
    "\n"
   ]
  },
  {
   "cell_type": "code",
   "execution_count": 20,
   "metadata": {},
   "outputs": [
    {
     "data": {
      "image/png": "[encoded data removed]",
      "text/plain": [
       "<Figure size 3500x500 with 7 Axes>"
      ]
     },
     "metadata": {},
     "output_type": "display_data"
    },
    {
     "data": {
      "image/png": "[encoded data removed]",
      "text/plain": [
       "<Figure size 2500x500 with 5 Axes>"
      ]
     },
     "metadata": {},
     "output_type": "display_data"
    },
    {
     "data": {
      "image/png": "[encoded data removed]",
      "text/plain": [
       "<Figure size 3500x500 with 7 Axes>"
      ]
     },
     "metadata": {},
     "output_type": "display_data"
    }
   ],
   "source": [
    "# Confusion matricies\n",
    "import matplotlib.pyplot as plt\n",
    "import seaborn as sns\n",
    "\n",
    "def plot_confusion_matrix(true_labels, pred_labels, lang):\n",
    "    cm = multilabel_confusion_matrix(true_labels, pred_labels)\n",
    "    fig, ax = plt.subplots(1, len(classification_labels[lang]), figsize=(len(classification_labels[lang])*5, 5))\n",
    "    for i in range(len(classification_labels[lang])):\n",
    "        sns.heatmap(cm[i], annot=True, ax=ax[i], fmt='d', cmap='Blues', cbar=False)\n",
    "        ax[i].set_title(classification_labels[lang][i])\n",
    "    plt.show()\n",
    "\n",
    "plot_confusion_matrix(java_true_labels, java_eval_labels, 'java')\n",
    "plot_confusion_matrix(python_true_labels, python_eval_labels, 'python')\n",
    "plot_confusion_matrix(pharo_true_labels, pharo_eval_labels, 'pharo')"
   ]
  },
  {
   "cell_type": "code",
   "execution_count": 21,
   "metadata": {},
   "outputs": [
    {
     "data": {
      "text/plain": [
       "\"\\ndef show_examples(model, tokenizer, lang, num_examples=4):\\n    \\n    eval_data = preprocess_java(ds[f'{lang}_test']['comment_sentence'], ds[f'{lang}_train']['class'], ds[f'{lang}_test']['labels'])\\n    eval_dataloader = torch.utils.data.DataLoader(eval_data, batch_size=batch_size, shuffle=False, collate_fn=GPT2_collator(tokenizer, max_length))\\n    eval_labels, eval_probs = predict(model, eval_dataloader, torch.tensor(lang_thresholds[lang]).to(device))\\n    eval_labels = np.array(eval_labels)\\n    eval_probs = np.array(eval_probs)\\n    true_labels = np.array([sequence['label'] for sequence in eval_data])\\n    \\n    print(f'{lang} labels: {classification_labels[lang]}')\\n    for i in range(num_examples):\\n        print(f'Example {i+1}:')\\n        print('Text:', eval_data[i]['text'])\\n        print('True Labels:', true_labels[i])\\n        print('Predicted Labels:', eval_labels[i])\\n        print('Probabilities:', [round(p, 2) for p in eval_probs[i]])\\n        print()\\n\\nshow_examples(java_model, java_tokenizer, 'java')\\nshow_examples(python_model, python_tokenizer, 'python')\\nshow_examples(pharo_model, pharo_tokenizer, 'pharo')\\n\""
      ]
     },
     "execution_count": 21,
     "metadata": {},
     "output_type": "execute_result"
    }
   ],
   "source": [
    "# Show examples\n",
    "\"\"\"\n",
    "def show_examples(model, tokenizer, lang, num_examples=4):\n",
    "    \n",
    "    eval_data = preprocess_java(ds[f'{lang}_test']['comment_sentence'], ds[f'{lang}_train']['class'], ds[f'{lang}_test']['labels'])\n",
    "    eval_dataloader = torch.utils.data.DataLoader(eval_data, batch_size=batch_size, shuffle=False, collate_fn=GPT2_collator(tokenizer, max_length))\n",
    "    eval_labels, eval_probs = predict(model, eval_dataloader, torch.tensor(lang_thresholds[lang]).to(device))\n",
    "    eval_labels = np.array(eval_labels)\n",
    "    eval_probs = np.array(eval_probs)\n",
    "    true_labels = np.array([sequence['label'] for sequence in eval_data])\n",
    "    \n",
    "    print(f'{lang} labels: {classification_labels[lang]}')\n",
    "    for i in range(num_examples):\n",
    "        print(f'Example {i+1}:')\n",
    "        print('Text:', eval_data[i]['text'])\n",
    "        print('True Labels:', true_labels[i])\n",
    "        print('Predicted Labels:', eval_labels[i])\n",
    "        print('Probabilities:', [round(p, 2) for p in eval_probs[i]])\n",
    "        print()\n",
    "\n",
    "show_examples(java_model, java_tokenizer, 'java')\n",
    "show_examples(python_model, python_tokenizer, 'python')\n",
    "show_examples(pharo_model, pharo_tokenizer, 'pharo')\n",
    "\"\"\""
   ]
  },
  {
   "cell_type": "markdown",
   "metadata": {},
   "source": [
    "## Evaluation"
   ]
  },
  {
   "cell_type": "code",
   "execution_count": 22,
   "metadata": {},
   "outputs": [],
   "source": [
    "class ModelWrapper:\n",
    "    def __init__(self, model, tokenizer, lang):\n",
    "        global device\n",
    "        \n",
    "        self.model = model\n",
    "        self.model.to(device)\n",
    "        self.tokenizer = tokenizer\n",
    "        self.lang = lang\n",
    "        if lang == 'java':\n",
    "            self.labels = classification_labels['java']\n",
    "            self.thresholds = torch.tensor(lang_thresholds['java']).to(device)\n",
    "            self.preprocess = preprocess_java\n",
    "        elif lang == 'python':\n",
    "            self.labels = classification_labels['python']\n",
    "            self.thresholds = torch.tensor(lang_thresholds['python']).to(device)\n",
    "            self.preprocess = preprocess_python\n",
    "        elif lang == 'pharo':\n",
    "            self.labels = classification_labels['pharo']\n",
    "            self.thresholds = torch.tensor(lang_thresholds['pharo']).to(device)\n",
    "            self.preprocess = preprocess_pharo\n",
    "    \n",
    "    def __call__(self, texts):\n",
    "        data = self.preprocess(texts, ['']*len(texts))\n",
    "        dataloader = torch.utils.data.DataLoader(data, batch_size=32, shuffle=False, collate_fn=GPT2_collator(self.tokenizer, max_length), pin_memory=True)\n",
    "        labels, _ = predict(self.model, dataloader, self.thresholds)\n",
    "        return torch.tensor(labels)"
   ]
  },
  {
   "cell_type": "code",
   "execution_count": 23,
   "metadata": {},
   "outputs": [
    {
     "data": {
      "application/vnd.jupyter.widget-view+json": {
       "model_id": "1a6ec5acf0c34eb49b29c676caf426f4",
       "version_major": 2,
       "version_minor": 0
      },
      "text/plain": [
       "  0%|          | 0/54 [00:00<?, ?it/s]"
      ]
     },
     "metadata": {},
     "output_type": "display_data"
    },
    {
     "data": {
      "application/vnd.jupyter.widget-view+json": {
       "model_id": "fa32e4184694446b9704701c110dac15",
       "version_major": 2,
       "version_minor": 0
      },
      "text/plain": [
       "  0%|          | 0/54 [00:00<?, ?it/s]"
      ]
     },
     "metadata": {},
     "output_type": "display_data"
    },
    {
     "data": {
      "application/vnd.jupyter.widget-view+json": {
       "model_id": "0a044f50c2b6473fba1a8aa5c28be8fd",
       "version_major": 2,
       "version_minor": 0
      },
      "text/plain": [
       "  0%|          | 0/54 [00:00<?, ?it/s]"
      ]
     },
     "metadata": {},
     "output_type": "display_data"
    },
    {
     "data": {
      "application/vnd.jupyter.widget-view+json": {
       "model_id": "4a24cdb759764cf9a7d7acbce56a79a8",
       "version_major": 2,
       "version_minor": 0
      },
      "text/plain": [
       "  0%|          | 0/54 [00:00<?, ?it/s]"
      ]
     },
     "metadata": {},
     "output_type": "display_data"
    },
    {
     "data": {
      "application/vnd.jupyter.widget-view+json": {
       "model_id": "21acb04d0e1d4d4db524c4a6e80c441f",
       "version_major": 2,
       "version_minor": 0
      },
      "text/plain": [
       "  0%|          | 0/54 [00:00<?, ?it/s]"
      ]
     },
     "metadata": {},
     "output_type": "display_data"
    },
    {
     "data": {
      "application/vnd.jupyter.widget-view+json": {
       "model_id": "71f8fb79d60347f6bb9f8baf76888c9c",
       "version_major": 2,
       "version_minor": 0
      },
      "text/plain": [
       "  0%|          | 0/54 [00:00<?, ?it/s]"
      ]
     },
     "metadata": {},
     "output_type": "display_data"
    },
    {
     "data": {
      "application/vnd.jupyter.widget-view+json": {
       "model_id": "68c2ec6403b440629d375b5828885404",
       "version_major": 2,
       "version_minor": 0
      },
      "text/plain": [
       "  0%|          | 0/54 [00:00<?, ?it/s]"
      ]
     },
     "metadata": {},
     "output_type": "display_data"
    },
    {
     "data": {
      "application/vnd.jupyter.widget-view+json": {
       "model_id": "ed07b0c0d6654ff4829185d6e924879f",
       "version_major": 2,
       "version_minor": 0
      },
      "text/plain": [
       "  0%|          | 0/54 [00:00<?, ?it/s]"
      ]
     },
     "metadata": {},
     "output_type": "display_data"
    },
    {
     "data": {
      "application/vnd.jupyter.widget-view+json": {
       "model_id": "359fdff2d8694cefa743fefb3777216c",
       "version_major": 2,
       "version_minor": 0
      },
      "text/plain": [
       "  0%|          | 0/54 [00:00<?, ?it/s]"
      ]
     },
     "metadata": {},
     "output_type": "display_data"
    },
    {
     "data": {
      "application/vnd.jupyter.widget-view+json": {
       "model_id": "788e687ad20c4ee0a7ba85db9d2b5a32",
       "version_major": 2,
       "version_minor": 0
      },
      "text/plain": [
       "  0%|          | 0/54 [00:00<?, ?it/s]"
      ]
     },
     "metadata": {},
     "output_type": "display_data"
    },
    {
     "data": {
      "application/vnd.jupyter.widget-view+json": {
       "model_id": "3d2b96cc92004bc0aa9c3183d882e376",
       "version_major": 2,
       "version_minor": 0
      },
      "text/plain": [
       "  0%|          | 0/13 [00:00<?, ?it/s]"
      ]
     },
     "metadata": {},
     "output_type": "display_data"
    },
    {
     "data": {
      "application/vnd.jupyter.widget-view+json": {
       "model_id": "027a2d3fd46642c5bb80766326366fa2",
       "version_major": 2,
       "version_minor": 0
      },
      "text/plain": [
       "  0%|          | 0/13 [00:00<?, ?it/s]"
      ]
     },
     "metadata": {},
     "output_type": "display_data"
    },
    {
     "data": {
      "application/vnd.jupyter.widget-view+json": {
       "model_id": "d181d961c38d485f9e13dc12882a76bb",
       "version_major": 2,
       "version_minor": 0
      },
      "text/plain": [
       "  0%|          | 0/13 [00:00<?, ?it/s]"
      ]
     },
     "metadata": {},
     "output_type": "display_data"
    },
    {
     "data": {
      "application/vnd.jupyter.widget-view+json": {
       "model_id": "25f47f16967947aba831f1c0809fb11c",
       "version_major": 2,
       "version_minor": 0
      },
      "text/plain": [
       "  0%|          | 0/13 [00:00<?, ?it/s]"
      ]
     },
     "metadata": {},
     "output_type": "display_data"
    },
    {
     "data": {
      "application/vnd.jupyter.widget-view+json": {
       "model_id": "cd675572a07e478dbed712cbe8b2dc91",
       "version_major": 2,
       "version_minor": 0
      },
      "text/plain": [
       "  0%|          | 0/13 [00:00<?, ?it/s]"
      ]
     },
     "metadata": {},
     "output_type": "display_data"
    },
    {
     "data": {
      "application/vnd.jupyter.widget-view+json": {
       "model_id": "099e218ece6f4c40b4836c4129dd1311",
       "version_major": 2,
       "version_minor": 0
      },
      "text/plain": [
       "  0%|          | 0/13 [00:00<?, ?it/s]"
      ]
     },
     "metadata": {},
     "output_type": "display_data"
    },
    {
     "data": {
      "application/vnd.jupyter.widget-view+json": {
       "model_id": "f330c9411a67440597d4c7fa1c0d955a",
       "version_major": 2,
       "version_minor": 0
      },
      "text/plain": [
       "  0%|          | 0/13 [00:00<?, ?it/s]"
      ]
     },
     "metadata": {},
     "output_type": "display_data"
    },
    {
     "data": {
      "application/vnd.jupyter.widget-view+json": {
       "model_id": "7c93c1ad674f441aa2ac51d0c7469b27",
       "version_major": 2,
       "version_minor": 0
      },
      "text/plain": [
       "  0%|          | 0/13 [00:00<?, ?it/s]"
      ]
     },
     "metadata": {},
     "output_type": "display_data"
    },
    {
     "data": {
      "application/vnd.jupyter.widget-view+json": {
       "model_id": "cd88bd69c3164851bd07f5c04814163f",
       "version_major": 2,
       "version_minor": 0
      },
      "text/plain": [
       "  0%|          | 0/13 [00:00<?, ?it/s]"
      ]
     },
     "metadata": {},
     "output_type": "display_data"
    },
    {
     "data": {
      "application/vnd.jupyter.widget-view+json": {
       "model_id": "9ba93876a070442384f1d11d8101179b",
       "version_major": 2,
       "version_minor": 0
      },
      "text/plain": [
       "  0%|          | 0/13 [00:00<?, ?it/s]"
      ]
     },
     "metadata": {},
     "output_type": "display_data"
    },
    {
     "data": {
      "application/vnd.jupyter.widget-view+json": {
       "model_id": "359c03e138f34550ba72d411626b8a39",
       "version_major": 2,
       "version_minor": 0
      },
      "text/plain": [
       "  0%|          | 0/10 [00:00<?, ?it/s]"
      ]
     },
     "metadata": {},
     "output_type": "display_data"
    },
    {
     "data": {
      "application/vnd.jupyter.widget-view+json": {
       "model_id": "c65835eaae274c27ac56ede533283e9f",
       "version_major": 2,
       "version_minor": 0
      },
      "text/plain": [
       "  0%|          | 0/10 [00:00<?, ?it/s]"
      ]
     },
     "metadata": {},
     "output_type": "display_data"
    },
    {
     "data": {
      "application/vnd.jupyter.widget-view+json": {
       "model_id": "65a724cd84d345858e6b99b0894e047a",
       "version_major": 2,
       "version_minor": 0
      },
      "text/plain": [
       "  0%|          | 0/10 [00:00<?, ?it/s]"
      ]
     },
     "metadata": {},
     "output_type": "display_data"
    },
    {
     "data": {
      "application/vnd.jupyter.widget-view+json": {
       "model_id": "9339324b83314bc39ea991334980095d",
       "version_major": 2,
       "version_minor": 0
      },
      "text/plain": [
       "  0%|          | 0/10 [00:00<?, ?it/s]"
      ]
     },
     "metadata": {},
     "output_type": "display_data"
    },
    {
     "data": {
      "application/vnd.jupyter.widget-view+json": {
       "model_id": "64399be8be5e4945b8bb0eb4233e233a",
       "version_major": 2,
       "version_minor": 0
      },
      "text/plain": [
       "  0%|          | 0/10 [00:00<?, ?it/s]"
      ]
     },
     "metadata": {},
     "output_type": "display_data"
    },
    {
     "data": {
      "application/vnd.jupyter.widget-view+json": {
       "model_id": "c35ab17b48f848bf801549fd917ac0ea",
       "version_major": 2,
       "version_minor": 0
      },
      "text/plain": [
       "  0%|          | 0/10 [00:00<?, ?it/s]"
      ]
     },
     "metadata": {},
     "output_type": "display_data"
    },
    {
     "data": {
      "application/vnd.jupyter.widget-view+json": {
       "model_id": "904227a69998404ba7ce1773bb272cfa",
       "version_major": 2,
       "version_minor": 0
      },
      "text/plain": [
       "  0%|          | 0/10 [00:00<?, ?it/s]"
      ]
     },
     "metadata": {},
     "output_type": "display_data"
    },
    {
     "data": {
      "application/vnd.jupyter.widget-view+json": {
       "model_id": "2a18b567fb9c4a8bb61240d92ad5d881",
       "version_major": 2,
       "version_minor": 0
      },
      "text/plain": [
       "  0%|          | 0/10 [00:00<?, ?it/s]"
      ]
     },
     "metadata": {},
     "output_type": "display_data"
    },
    {
     "data": {
      "application/vnd.jupyter.widget-view+json": {
       "model_id": "382b26a9d92943a28001c7b9d9930ad5",
       "version_major": 2,
       "version_minor": 0
      },
      "text/plain": [
       "  0%|          | 0/10 [00:00<?, ?it/s]"
      ]
     },
     "metadata": {},
     "output_type": "display_data"
    },
    {
     "data": {
      "application/vnd.jupyter.widget-view+json": {
       "model_id": "5e0d3f12cc2d42c1a8b93e6d6192144a",
       "version_major": 2,
       "version_minor": 0
      },
      "text/plain": [
       "  0%|          | 0/10 [00:00<?, ?it/s]"
      ]
     },
     "metadata": {},
     "output_type": "display_data"
    },
    {
     "name": "stdout",
     "output_type": "stream",
     "text": [
      "Compute in GFLOPs: 105318.63581824\n",
      "Avg runtime in seconds: 4.567685341835022\n"
     ]
    }
   ],
   "source": [
    "# Evaluation from challenge (https://github.com/nlbse2025/code-comment-classification/blob/main/SetFit_baseline.ipynb)\n",
    "total_flops = 0\n",
    "total_time = 0\n",
    "scores = []\n",
    "\n",
    "for lan in classification_langs:\n",
    "    # to load trained models:\n",
    "    model = ModelWrapper(GPT2ForSequenceClassification.from_pretrained(f\"./models/{lan}\"), GPT2Tokenizer.from_pretrained(f\"./models/{lan}\"), lan)\n",
    "    # to load pretrained models from Hub:\n",
    "    #model = SetFitModel.from_pretrained(f\"NLBSE/nlbse25_{lan}\")\n",
    "    with torch.profiler.profile(with_flops=True) as p:\n",
    "        begin = time.time()\n",
    "        for i in range(10):\n",
    "          y_pred = model(ds[f'{lan}_test']['comment_sentence']).numpy().T\n",
    "        total = time.time() - begin\n",
    "        total_time = total_time + total\n",
    "    total_flops = total_flops + (sum(k.flops for k in p.key_averages()) / 1e9)\n",
    "    y_true = np.array(ds[f'{lan}_test']['labels']).T\n",
    "    for i in range(len(y_pred)):\n",
    "        assert(len(y_pred[i]) == len(y_true[i]))\n",
    "        tp = sum([true == pred == 1 for (true,pred) in zip(y_true[i], y_pred[i])])\n",
    "        tn = sum([true == pred == 0 for (true,pred) in zip(y_true[i], y_pred[i])])\n",
    "        fp = sum([true == 0 and pred == 1 for (true,pred) in zip(y_true[i], y_pred[i])])\n",
    "        fn = sum([true == 1 and pred == 0 for (true,pred) in zip(y_true[i], y_pred[i])])\n",
    "        precision = tp / (tp + fp)\n",
    "        recall = tp / (tp + fn)\n",
    "        f1 = (2*tp) / (2*tp + fp + fn)\n",
    "        scores.append({'lan': lan, 'cat': classification_labels[lan][i],'precision': precision,'recall': recall,'f1': f1})\n",
    "print(\"Compute in GFLOPs:\", total_flops/10)\n",
    "print(\"Avg runtime in seconds:\", total_time/10)\n",
    "scores = pd.DataFrame(scores)"
   ]
  },
  {
   "cell_type": "code",
   "execution_count": 24,
   "metadata": {},
   "outputs": [
    {
     "data": {
      "text/plain": [
       "-3.81"
      ]
     },
     "execution_count": 24,
     "metadata": {},
     "output_type": "execute_result"
    }
   ],
   "source": [
    "# From challenge (https://github.com/nlbse2025/code-comment-classification/blob/main/SetFit_baseline.ipynb)\n",
    "max_avg_runtime = 5\n",
    "max_avg_flops = 5000\n",
    "\n",
    "# s𝑢𝑏𝑚𝑖𝑠𝑠𝑖𝑜𝑛_𝑠𝑐𝑜𝑟𝑒(𝑚𝑜𝑑𝑒𝑙)=(𝑎𝑣𝑔. 𝐹1)×0.60+((𝑚𝑎𝑥_𝑎𝑣𝑔_𝑟𝑢𝑛𝑡𝑖𝑚𝑒−𝑚𝑒𝑎𝑠𝑢𝑟𝑒𝑑_𝑎𝑣𝑔_𝑟𝑢𝑛𝑡𝑖𝑚𝑒)/𝑚𝑎𝑥_𝑎𝑣𝑔_𝑟𝑢𝑛𝑡𝑖𝑚𝑒)×0.2+((𝑚𝑎𝑥_GFLOPs−𝑚𝑒𝑎𝑠𝑢𝑟𝑒𝑑_GFLOPs)/𝑚𝑎𝑥_GFLOPs)×0.2\n",
    "def score(avg_f1, avg_runtime, avg_flops):\n",
    "    return (0.6 * avg_f1 +\n",
    "      0.2 * ((max_avg_runtime - avg_runtime) / max_avg_runtime) +\n",
    "      0.2 * ((max_avg_flops - avg_flops) / max_avg_flops))\n",
    "\n",
    "avg_f1 = scores.f1.mean()\n",
    "avg_runtime = total_time/10\n",
    "avg_flops = total_flops/10\n",
    "\n",
    "round(score(avg_f1, avg_runtime, avg_flops), 2)"
   ]
  },
  {
   "cell_type": "code",
   "execution_count": 25,
   "metadata": {},
   "outputs": [],
   "source": [
    "torch.cuda.empty_cache()"
   ]
  },
  {
   "cell_type": "code",
   "execution_count": 26,
   "metadata": {},
   "outputs": [
    {
     "data": {
      "text/plain": [
       "'\\n# Hyperparameters\\nhyperparameters = {\\n    \\'num_epochs\\': [3],\\n    \\'batch_size\\': [4],\\n    \\'learning_rate\\': [1e-5],\\n    \\'optimizer\\': [\\'Lion\\'],\\n    \\'max_length\\': [256],\\n}\\n\\nfor num_epochs in hyperparameters[\\'num_epochs\\']:\\n    for batch_size in hyperparameters[\\'batch_size\\']:\\n        for learning_rate in hyperparameters[\\'learning_rate\\']:\\n            for optimizer in hyperparameters[\\'optimizer\\']:\\n                for max_length in hyperparameters[\\'max_length\\']:\\n                    print(f\\'Running test with hyperparameters: num_epochs={num_epochs}, batch_size={batch_size}, learning_rate={learning_rate}, optimizer={optimizer}, max_length={max_length}, weights={class_weights[\"java\"]}\\')\\n                    model, tokenizer, loss_list, accuracy_list, eval_loss_list, eval_accuracy_list = build_model(\\'java\\', save=False, optimizer=optimizer, learning_rate=learning_rate, num_epochs=num_epochs, batch_size=batch_size, max_length=max_length)\\n                    \\n                    # Do classification report\\n                    eval_data = preprocess_java(ds[\\'java_test\\'][\\'comment_sentence\\'], ds[\\'java_train\\'][\\'class\\'], ds[\\'java_test\\'][\\'labels\\'])\\n                    eval_dataloader = torch.utils.data.DataLoader(eval_data, batch_size=batch_size, shuffle=False, collate_fn=GPT2_collator(tokenizer, max_length))\\n                    eval_labels = predict(model, eval_dataloader)\\n                    true_labels = [sequence[\\'label\\'] for sequence in eval_data]\\n                    report = classification_report(true_labels, eval_labels, target_names=classification_labels[\\'java\\'])\\n                    \\n                    # Add results to file\\n                    with open(\\'results.txt\\', \\'a\\') as f:\\n                        f.write(f\\'Java - num_epochs={num_epochs}, batch_size={batch_size}, learning_rate={learning_rate}, optimizer={optimizer}, max_length={max_length}, weights={class_weights[\"java\"]}\\n\\')\\n                        f.write(f\\'Loss: {loss_list}\\n\\')\\n                        f.write(f\\'Accuracy: {accuracy_list}\\n\\')\\n                        f.write(f\\'Eval Loss: {eval_loss_list}\\n\\')\\n                        f.write(f\\'Eval Accuracy: {eval_accuracy_list}\\n\\')\\n                        f.write(f\\'Report: {report}\\n\\')\\n                        f.write(\\'\\n\\')\\n                    \\n                    num_labels = len(classification_labels[\\'java\\'])\\n                    cms = [confusion_matrix(true_labels[:, i], eval_labels[:, i]) for i in range(num_labels)]\\n                    \\n                    for i, label in enumerate(classification_labels[\\'java\\']):\\n                        plot_confusion_matrix(cms[i], class_names=[0, 1], title=f\\'Confusion Matrix for {label}\\')\\n                    \\n                    print(report)\\n'"
      ]
     },
     "execution_count": 26,
     "metadata": {},
     "output_type": "execute_result"
    }
   ],
   "source": [
    "# Run tests on java lang with all hyperparameters\n",
    "\"\"\"\n",
    "# Hyperparameters\n",
    "hyperparameters = {\n",
    "    'num_epochs': [3],\n",
    "    'batch_size': [4],\n",
    "    'learning_rate': [1e-5],\n",
    "    'optimizer': ['Lion'],\n",
    "    'max_length': [256],\n",
    "}\n",
    "\n",
    "for num_epochs in hyperparameters['num_epochs']:\n",
    "    for batch_size in hyperparameters['batch_size']:\n",
    "        for learning_rate in hyperparameters['learning_rate']:\n",
    "            for optimizer in hyperparameters['optimizer']:\n",
    "                for max_length in hyperparameters['max_length']:\n",
    "                    print(f'Running test with hyperparameters: num_epochs={num_epochs}, batch_size={batch_size}, learning_rate={learning_rate}, optimizer={optimizer}, max_length={max_length}, weights={class_weights[\"java\"]}')\n",
    "                    model, tokenizer, loss_list, accuracy_list, eval_loss_list, eval_accuracy_list = build_model('java', save=False, optimizer=optimizer, learning_rate=learning_rate, num_epochs=num_epochs, batch_size=batch_size, max_length=max_length)\n",
    "                    \n",
    "                    # Do classification report\n",
    "                    eval_data = preprocess_java(ds['java_test']['comment_sentence'], ds['java_train']['class'], ds['java_test']['labels'])\n",
    "                    eval_dataloader = torch.utils.data.DataLoader(eval_data, batch_size=batch_size, shuffle=False, collate_fn=GPT2_collator(tokenizer, max_length))\n",
    "                    eval_labels = predict(model, eval_dataloader)\n",
    "                    true_labels = [sequence['label'] for sequence in eval_data]\n",
    "                    report = classification_report(true_labels, eval_labels, target_names=classification_labels['java'])\n",
    "                    \n",
    "                    # Add results to file\n",
    "                    with open('results.txt', 'a') as f:\n",
    "                        f.write(f'Java - num_epochs={num_epochs}, batch_size={batch_size}, learning_rate={learning_rate}, optimizer={optimizer}, max_length={max_length}, weights={class_weights[\"java\"]}\\n')\n",
    "                        f.write(f'Loss: {loss_list}\\n')\n",
    "                        f.write(f'Accuracy: {accuracy_list}\\n')\n",
    "                        f.write(f'Eval Loss: {eval_loss_list}\\n')\n",
    "                        f.write(f'Eval Accuracy: {eval_accuracy_list}\\n')\n",
    "                        f.write(f'Report: {report}\\n')\n",
    "                        f.write('\\n')\n",
    "                    \n",
    "                    num_labels = len(classification_labels['java'])\n",
    "                    cms = [confusion_matrix(true_labels[:, i], eval_labels[:, i]) for i in range(num_labels)]\n",
    "                    \n",
    "                    for i, label in enumerate(classification_labels['java']):\n",
    "                        plot_confusion_matrix(cms[i], class_names=[0, 1], title=f'Confusion Matrix for {label}')\n",
    "                    \n",
    "                    print(report)\n",
    "\"\"\""
   ]
  }
 ],
 "metadata": {
  "kernelspec": {
   "display_name": "Python 3",
   "language": "python",
   "name": "python3"
  },
  "language_info": {
   "codemirror_mode": {
    "name": "ipython",
    "version": 3
   },
   "file_extension": ".py",
   "mimetype": "text/x-python",
   "name": "python",
   "nbconvert_exporter": "python",
   "pygments_lexer": "ipython3",
   "version": "3.12.3"
  }
 },
 "nbformat": 4,
 "nbformat_minor": 2
}
