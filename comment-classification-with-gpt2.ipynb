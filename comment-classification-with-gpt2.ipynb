{
 "cells": [
  {
   "cell_type": "markdown",
   "metadata": {},
   "source": [
    "# CS 440 Final Project\n",
    "Project: **NLBSE 2025 Code Comment Classification**\n",
    "\n",
    "Members (Team Overfitted):\n",
    " - Erik Cooper\n",
    " - Seth Harling\n",
    "## Overview\n",
    "This tool competition involves building and training 3 multi-label classification models for code comments. These comments fall in to different categories for the different languages (Java, Python, and Pharo). These categories include comments for summarization, development notes, intent, and usage.\n",
    "\n",
    "For our project, we chose to run with a strongly langauge processing approach, trying our best to ignore formatting as hints to the category. This is one of the reasons why we chose to use GPT-2 as our base model.\n",
    "\n",
    "When searching for pretrained NLP models, we were presented with many options. The main ones we considered were variations of BERT (RoBERTa for one), ELMo, UniLM, and GPT. There were a couple properties we were specifically looking for in a model for this project. We wanted a model that would work well on a classification problem, and we wanted a smaller model that would take less time to train so we could spend more time learning how to work the NLPs than waiting for it to work.\n",
    "\n",
    "With this, we settled on the smallest size of [GPT-2](https://huggingface.co/openai-community/gpt2) with 124M parameters. This number of parameters felt in line with the scope of our project, plus GPT is a rather famous model that most people have at least heard about. We thought that working with something somewhat familiar would help with learning how this all works. Though, to make the tuning process a little quicker, we use [distilgpt2](https://huggingface.co/distilbert/distilgpt2) to reduce our training times by 50% with its lower 82M parameters.\n",
    "\n",
    "## Attempted improvements\n",
    " - Label embeddings in GPT2Model\n",
    "   - Resulted in overall accuracy of ~50%\n",
    " - Various forms of preprocessing\n",
    "   - Included removing formatting, changing between truncation in the middle or end, excluding sections within formatting\n",
    "   - Resulted in minimal negative effect. Could be explored further\n",
    " - Included label in input during training.\n",
    "  - Resulted in dependency on special tokens. Ended in worse results. Could be due to bad implementation.\n",
    " - Hyperparameter tuning\n",
    "  - For each language, we went through different learning rates, number of epochs, optimizers, and batch sizes\n",
    "## Improvements to try another time\n",
    " - Data augmentation.\n",
    "   - Translating data between languages to get more inputs.\n",
    "   - Using a language model to paraphrase inputs.\n",
    " - Further research on special tokens."
   ]
  },
  {
   "cell_type": "markdown",
   "metadata": {},
   "source": [
    "### Imports"
   ]
  },
  {
   "cell_type": "code",
   "execution_count": 1,
   "metadata": {},
   "outputs": [
    {
     "name": "stderr",
     "output_type": "stream",
     "text": [
      "Using TensorFlow backend.\n"
     ]
    }
   ],
   "source": [
    "import numpy as np\n",
    "import pandas as pd\n",
    "import re\n",
    "import time\n",
    "import torch\n",
    "import warnings\n",
    "\n",
    "from datasets import load_dataset\n",
    "from lion_pytorch import Lion\n",
    "from sklearn.metrics import accuracy_score, classification_report, confusion_matrix, multilabel_confusion_matrix\n",
    "from tqdm.notebook import tqdm\n",
    "from transformers import (\n",
    "    GPT2Config,\n",
    "    GPT2Tokenizer,\n",
    "    AdamW, \n",
    "    get_linear_schedule_with_warmup,\n",
    "    GPT2ForSequenceClassification\n",
    ")\n",
    "\n",
    "warnings.filterwarnings(\"ignore\")"
   ]
  },
  {
   "cell_type": "code",
   "execution_count": 2,
   "metadata": {},
   "outputs": [
    {
     "name": "stdout",
     "output_type": "stream",
     "text": [
      "Using device: cuda\n"
     ]
    }
   ],
   "source": [
    "# Setting up device\n",
    "device = torch.device('cuda' if torch.cuda.is_available() else 'cpu')\n",
    "print('Using device:', device)"
   ]
  },
  {
   "cell_type": "markdown",
   "metadata": {},
   "source": [
    "### Defining string constants"
   ]
  },
  {
   "cell_type": "code",
   "execution_count": 3,
   "metadata": {},
   "outputs": [],
   "source": [
    "# From challenge (https://github.com/nlbse2025/code-comment-classification/blob/main/SetFit_baseline.ipynb)\n",
    "classification_langs = ['java', 'python', 'pharo']\n",
    "classification_labels = {\n",
    "    'java': ['summary', 'Ownership', 'Expand', 'usage', 'Pointer', 'deprecation', 'rational'],\n",
    "    'python': ['Usage', 'Parameters', 'DevelopmentNotes', 'Expand', 'Summary'],\n",
    "    'pharo': ['Keyimplementationpoints', 'Example', 'Responsibilities', 'Classreferences', 'Intent', 'Keymessages', 'Collaborators']\n",
    "}\n",
    "lang_learning_rates = {\n",
    "    'java': 1e-5,\n",
    "    'python': 1e-3,\n",
    "    'pharo': 1e-3\n",
    "}\n",
    "lang_epochs = {\n",
    "    'java': 2,\n",
    "    'python': 4,\n",
    "    'pharo': 4\n",
    "}\n",
    "lang_thresholds = {\n",
    "    'java': [0.6, 0.5, 0.25, 0.4, 0.55, 0.5, 0.3],\n",
    "    'python': [0.35, 0.5, 0.5, 0.53, 0.5],\n",
    "    'pharo': [0.5, 0.52, 0.5, 0.45, 0.45, 0.5, 0.25]\n",
    "}"
   ]
  },
  {
   "cell_type": "markdown",
   "metadata": {},
   "source": [
    "## Loading Dataset"
   ]
  },
  {
   "cell_type": "code",
   "execution_count": 4,
   "metadata": {},
   "outputs": [],
   "source": [
    "# Loading dataset\n",
    "ds = load_dataset('NLBSE/nlbse25-code-comment-classification')"
   ]
  },
  {
   "cell_type": "code",
   "execution_count": 5,
   "metadata": {},
   "outputs": [
    {
     "name": "stdout",
     "output_type": "stream",
     "text": [
      "DatasetDict({\n",
      "    java_train: Dataset({\n",
      "        features: ['index', 'class', 'comment_sentence', 'partition', 'combo', 'labels'],\n",
      "        num_rows: 7614\n",
      "    })\n",
      "    java_test: Dataset({\n",
      "        features: ['index', 'class', 'comment_sentence', 'partition', 'combo', 'labels'],\n",
      "        num_rows: 1725\n",
      "    })\n",
      "    python_train: Dataset({\n",
      "        features: ['index', 'class', 'comment_sentence', 'partition', 'combo', 'labels'],\n",
      "        num_rows: 1884\n",
      "    })\n",
      "    python_test: Dataset({\n",
      "        features: ['index', 'class', 'comment_sentence', 'partition', 'combo', 'labels'],\n",
      "        num_rows: 406\n",
      "    })\n",
      "    pharo_train: Dataset({\n",
      "        features: ['index', 'class', 'comment_sentence', 'partition', 'combo', 'labels'],\n",
      "        num_rows: 1298\n",
      "    })\n",
      "    pharo_test: Dataset({\n",
      "        features: ['index', 'class', 'comment_sentence', 'partition', 'combo', 'labels'],\n",
      "        num_rows: 289\n",
      "    })\n",
      "})\n"
     ]
    }
   ],
   "source": [
    "print(ds)"
   ]
  },
  {
   "cell_type": "code",
   "execution_count": 6,
   "metadata": {},
   "outputs": [
    {
     "name": "stdout",
     "output_type": "stream",
     "text": [
      "java positive counts: [3610, 267, 509, 2093, 904, 117, 311]\n",
      "python positive counts: [578, 572, 210, 343, 347]\n",
      "pharo positive counts: [178, 547, 245, 46, 151, 214, 76]\n",
      "{'java': [1.1343465704553701, 3.3849614199534, 2.7700068065004313, 1.5342488312662266, 2.243107490090982, 4.190819564522719, 3.2379846865662474], 'python': [1.4491554380720215, 1.457150297887235, 2.2997238607130135, 1.8706802200914276, 1.8608804144856734], 'pharo': [2.115307454868333, 1.2157857540526464, 1.8402256418184337, 3.374764124594, 2.261349105505758, 1.955212541717627, 2.8947481324959634]}\n"
     ]
    }
   ],
   "source": [
    "# Calculate weights based on distributions\n",
    "lang_weights = {}\n",
    "for lang in classification_langs:\n",
    "    num_labels = len(classification_labels[lang])\n",
    "    positive_counts = [0] * num_labels\n",
    "    total_counts = [0] * num_labels\n",
    "    \n",
    "    for i in ds[f'{lang}_train']:\n",
    "        for j in range(num_labels):\n",
    "            if i['labels'][j] == 1:\n",
    "                positive_counts[j] += 1\n",
    "            total_counts[j] += 1\n",
    "    \n",
    "    print(f'{lang} positive counts: {positive_counts}')\n",
    "    \n",
    "    # assign weights with logarithmic scaling\n",
    "    lang_weights[lang] = [np.log(1 + (total_counts[j] / positive_counts[j])) for j in range(num_labels)]\n",
    "    \n",
    "    # assign balanced weights\n",
    "    #lang_weights[lang] = [total_counts[j] / (2 * positive_counts[j]) for j in range(num_labels)]\n",
    "\n",
    "print(lang_weights)"
   ]
  },
  {
   "cell_type": "markdown",
   "metadata": {},
   "source": [
    "### Parameters"
   ]
  },
  {
   "cell_type": "code",
   "execution_count": 7,
   "metadata": {},
   "outputs": [],
   "source": [
    "model_name = 'gpt2' # model name\n",
    "add_class_name = False # add class name to the input text"
   ]
  },
  {
   "cell_type": "markdown",
   "metadata": {},
   "source": [
    "### Preprocessing functions"
   ]
  },
  {
   "cell_type": "code",
   "execution_count": 8,
   "metadata": {},
   "outputs": [],
   "source": [
    "def preprocess_java(comment, class_name, labels=None, max_length=256):\n",
    "    # Create dataset object\n",
    "    output = []\n",
    "    \n",
    "    for i in range(len(comment)):\n",
    "        text = comment[i]\n",
    "        \n",
    "        # remove entirety of html lists\n",
    "        # text = re.sub(r'<ol>[.\\s\\S]*?<\\/ol>', '', text)\n",
    "        \n",
    "        # remove html tags\n",
    "        text = re.sub(r'<.*?>', '', text)\n",
    "        \n",
    "        # remove bullets\n",
    "        text = re.sub(r'\\s\\*', '', text)\n",
    "        \n",
    "        # remove bulleted lines\n",
    "        #text = re.sub(r'\\n\\s*\\*.*', '', text)\n",
    "        \n",
    "        # remove curly braced sections\n",
    "        #text = re.sub(r'\\{.*?\\}', '', text)\n",
    "        \n",
    "        # remove // comments\n",
    "        # text = re.sub(r'\\s*\\/\\/.*', '', text)\n",
    "        \n",
    "        # remove formatting for // comments\n",
    "        text = re.sub(r'\\/\\/', '', text)\n",
    "        \n",
    "        # remove formatting for /* */ comments\n",
    "        text = re.sub(r'\\/\\*.|\\*\\/', '', text)\n",
    "        \n",
    "        # remove multiple spaces\n",
    "        text = re.sub(r'\\s+', ' ', text)\n",
    "        \n",
    "        # Add class name\n",
    "        if add_class_name:\n",
    "            text = class_name[i] + ': ' + text\n",
    "        \n",
    "        # truncate middle\n",
    "        #if (len(text) > max_length):\n",
    "        #    text = text[:(int(max_length/2)-4)] + ' ... ' + text[-(int(max_length/2)-4):]\n",
    "        \n",
    "        # truncate end\n",
    "        if (len(text) > max_length):\n",
    "            text = text[:max_length]\n",
    "        \n",
    "        # Build dictionary\n",
    "        if labels is not None:\n",
    "            output.append({\n",
    "                'text': text,\n",
    "                'label': labels[i]\n",
    "            })\n",
    "        else:\n",
    "            output.append({\n",
    "                'text': text,\n",
    "                'label': [0, 0, 0, 0, 0, 0, 0]\n",
    "            })\n",
    "    \n",
    "    return output"
   ]
  },
  {
   "cell_type": "code",
   "execution_count": 9,
   "metadata": {},
   "outputs": [],
   "source": [
    "def preprocess_python(comment, class_name, labels=None, max_length=256):\n",
    "    output = []\n",
    "    \n",
    "    for i in range(len(comment)):\n",
    "        text = comment[i]\n",
    "        \n",
    "        # Add class name\n",
    "        #text = class_name[i] + ': ' + text\n",
    "        \n",
    "        # truncate\n",
    "        #if (len(text) > max_length):\n",
    "        #    text = text[:(int(max_length/2)-4)] + ' ... ' + text[-(int(max_length/2)-4):]\n",
    "        \n",
    "        # remove multiple spaces\n",
    "        text = re.sub(r'\\s+', ' ', text)\n",
    "        \n",
    "        # remove special characters\n",
    "        text = re.sub(r'[^a-zA-Z0-9\\s]', '', text)\n",
    "        \n",
    "        # truncate end\n",
    "        if (len(text) > max_length):\n",
    "            text = text[:max_length]\n",
    "        \n",
    "        # Build dictionary\n",
    "        if labels is not None:\n",
    "            output.append({\n",
    "                'text': text,\n",
    "                'label': labels[i]\n",
    "            })\n",
    "        else:\n",
    "            output.append({\n",
    "                'text': text,\n",
    "                'label': [0, 0, 0, 0, 0]\n",
    "            })\n",
    "    \n",
    "    return output"
   ]
  },
  {
   "cell_type": "code",
   "execution_count": 10,
   "metadata": {},
   "outputs": [],
   "source": [
    "def preprocess_pharo(comment, class_name, labels=None, max_length=256):\n",
    "    output = []\n",
    "    \n",
    "    for i in range(len(comment)):\n",
    "        text = comment[i]\n",
    "        \n",
    "        # Add class name\n",
    "        #text = class_name[i] + ': ' + text\n",
    "        \n",
    "        # truncate\n",
    "        #if (len(text) > max_length):\n",
    "        #    text = text[:(int(max_length/2)-4)] + ' ... ' + text[-(int(max_length/2)-4):]\n",
    "        \n",
    "        # truncate end\n",
    "        if (len(text) > max_length):\n",
    "            text = text[:max_length]\n",
    "        \n",
    "        # remove multiple spaces\n",
    "        text = re.sub(r'\\s+', ' ', text)\n",
    "        \n",
    "        # remove \"i \" and \"i am \" from sentences\n",
    "        text = re.sub(r'i\\s' , '', text)\n",
    "        text = re.sub(r'i\\sam\\s', '', text)\n",
    "        \n",
    "        # remove special characters\n",
    "        text = re.sub(r'[^a-zA-Z0-9\\s]', '', text)\n",
    "        \n",
    "        # Build dictionary\n",
    "        if labels is not None:\n",
    "            output.append({\n",
    "                'text': text,\n",
    "                'label': labels[i]\n",
    "            })\n",
    "        else:\n",
    "            output.append({\n",
    "                'text': text,\n",
    "                'label': [0, 0, 0, 0, 0, 0, 0]\n",
    "            })\n",
    "    \n",
    "    return output"
   ]
  },
  {
   "cell_type": "markdown",
   "metadata": {},
   "source": [
    "### GPT2 Collator"
   ]
  },
  {
   "cell_type": "code",
   "execution_count": 11,
   "metadata": {},
   "outputs": [],
   "source": [
    "# Collator object for GPT2, which will tokenize the text\n",
    "class GPT2_collator(object):\n",
    "    def __init__(self, tokenizer, max_length):\n",
    "        self.tokenizer = tokenizer\n",
    "        self.max_length = max_length\n",
    "\n",
    "    def __call__(self, sequences):\n",
    "        texts = [sequence['text'] for sequence in sequences]\n",
    "        labels = [sequence['label'] for sequence in sequences]\n",
    "        \n",
    "        inputs = self.tokenizer(text=texts, return_tensors='pt', padding='max_length', truncation=True, max_length=self.max_length)\n",
    "        inputs.update({'labels': torch.tensor(labels)})\n",
    "        \n",
    "        return inputs"
   ]
  },
  {
   "cell_type": "markdown",
   "metadata": {},
   "source": [
    "### Train, Validate, and Predict"
   ]
  },
  {
   "cell_type": "code",
   "execution_count": 12,
   "metadata": {},
   "outputs": [],
   "source": [
    "# Training function, updates model weights\n",
    "def train(model, dataloader, optimizer, scheduler, loss_fn, max_batches=None):\n",
    "    global device\n",
    "    \n",
    "    model.train()\n",
    "    \n",
    "    pred_labels = []\n",
    "    true_labels = []\n",
    "    total_loss = 0\n",
    "    \n",
    "    batches_processed = 0\n",
    "    \n",
    "    for batch in tqdm(dataloader, total=len(dataloader)):\n",
    "        if max_batches is not None and batches_processed >= max_batches:\n",
    "            break\n",
    "        \n",
    "        inputs = {k: v.to(device) for k, v in batch.items() if k != 'labels'}\n",
    "        labels = batch['labels'].to(device)\n",
    "        \n",
    "        outputs = model(**inputs)\n",
    "        \n",
    "        loss = loss_fn(outputs.logits, labels.float())\n",
    "        total_loss += loss.item()\n",
    "        \n",
    "        loss.backward()\n",
    "        torch.nn.utils.clip_grad_norm_(model.parameters(), 1.0)\n",
    "        optimizer.step()\n",
    "        scheduler.step()\n",
    "        optimizer.zero_grad()\n",
    "        \n",
    "        probs = torch.sigmoid(outputs.logits)\n",
    "        preds = (probs > 0.5).int()\n",
    "        \n",
    "        pred_labels.extend(preds.cpu().numpy())\n",
    "        true_labels.extend(labels.cpu().numpy())\n",
    "        \n",
    "        batches_processed += 1\n",
    "    \n",
    "    avg_epoch_loss = total_loss / batches_processed\n",
    "    \n",
    "    return pred_labels, true_labels, avg_epoch_loss"
   ]
  },
  {
   "cell_type": "code",
   "execution_count": 13,
   "metadata": {},
   "outputs": [],
   "source": [
    "# For validation, no updating\n",
    "def validate(model, dataloader, loss_fn, thresholds, max_batches=None):\n",
    "    global device\n",
    "    \n",
    "    model.eval()\n",
    "    \n",
    "    pred_labels = []\n",
    "    true_labels = []\n",
    "    total_loss = 0\n",
    "    \n",
    "    batches_processed = 0\n",
    "    \n",
    "    for batch in tqdm(dataloader, total=len(dataloader)):\n",
    "        if max_batches is not None and batches_processed >= max_batches:\n",
    "            break\n",
    "        \n",
    "        inputs = {k: v.to(device) for k, v in batch.items() if k != 'labels'}\n",
    "        labels = batch['labels'].to(device)\n",
    "        \n",
    "        outputs = model(**inputs)\n",
    "        \n",
    "        loss = loss_fn(outputs.logits, labels.float())\n",
    "        total_loss += loss.item()\n",
    "        \n",
    "        probs = torch.sigmoid(outputs.logits)\n",
    "        preds = (probs > thresholds).int()\n",
    "        \n",
    "        pred_labels.extend(preds.cpu().numpy())\n",
    "        true_labels.extend(labels.cpu().numpy())\n",
    "        \n",
    "        batches_processed += 1\n",
    "    \n",
    "    avg_epoch_loss = total_loss / batches_processed\n",
    "    \n",
    "    return pred_labels, true_labels, avg_epoch_loss"
   ]
  },
  {
   "cell_type": "code",
   "execution_count": 14,
   "metadata": {},
   "outputs": [],
   "source": [
    "# Inferencing function\n",
    "def predict(model, dataloader, thresholds):\n",
    "    global device\n",
    "    \n",
    "    model.eval()\n",
    "    \n",
    "    pred_labels = []\n",
    "    probs_list = []\n",
    "    \n",
    "    for batch in tqdm(dataloader, total=len(dataloader)):\n",
    "        inputs = {k: v.to(device) for k, v in batch.items() if k != 'labels'}\n",
    "        \n",
    "        with torch.amp.autocast(device_type=str(device)):\n",
    "            outputs = model(**inputs)\n",
    "        \n",
    "        probs = torch.sigmoid(outputs.logits)\n",
    "        preds = (probs > thresholds).int()\n",
    "        \n",
    "        probs_list.extend(probs.detach().cpu().numpy())\n",
    "        pred_labels.extend(preds.cpu().numpy())\n",
    "    \n",
    "    return pred_labels, probs_list"
   ]
  },
  {
   "cell_type": "markdown",
   "metadata": {},
   "source": [
    "### Setup"
   ]
  },
  {
   "cell_type": "code",
   "execution_count": 15,
   "metadata": {},
   "outputs": [],
   "source": [
    "# Model setup and training\n",
    "def build_model(lang, save=False, optimizer='Lion', learning_rate=None, num_epochs=None, batch_size=8, max_length=512):\n",
    "    global device\n",
    "    \n",
    "    num_labels = len(classification_labels[lang])\n",
    "    \n",
    "    if learning_rate is None:\n",
    "        learning_rate = lang_learning_rates[lang]\n",
    "    if num_epochs is None:\n",
    "        num_epochs = lang_epochs[lang]\n",
    "    \n",
    "    # Setup\n",
    "    print('Setting config...')\n",
    "    model_config = GPT2Config.from_pretrained(\n",
    "        model_name,\n",
    "        num_labels=num_labels,\n",
    "        id2label={str(i): label for i, label in enumerate(classification_labels[lang])},\n",
    "        label2id={label: i for i, label in enumerate(classification_labels[lang])},\n",
    "        problem_type='multi_label_classification',\n",
    "        hidden_dropout_prob=0.3,\n",
    "    )\n",
    "\n",
    "    print('Loading tokenizer...')\n",
    "    tokenizer = GPT2Tokenizer.from_pretrained(model_name)\n",
    "    tokenizer.padding_side = 'left'\n",
    "    tokenizer.pad_token = tokenizer.eos_token\n",
    "\n",
    "    print('Loading model...')\n",
    "    model = GPT2ForSequenceClassification.from_pretrained(model_name, config=model_config)\n",
    "    model.resize_token_embeddings(len(tokenizer))\n",
    "    model.config.pad_token_id = tokenizer.eos_token_id\n",
    "    model.to(device)\n",
    "    \n",
    "    collator = GPT2_collator(tokenizer, max_length)\n",
    "    \n",
    "    # Prepare data\n",
    "    print('Preparing data...')\n",
    "    if lang == 'java':\n",
    "        train_data = preprocess_java(ds['java_train']['comment_sentence'], ds['java_train']['class'], ds['java_train']['labels'], max_length)\n",
    "        eval_data = preprocess_java(ds['java_test']['comment_sentence'], ds['java_train']['class'], ds['java_test']['labels'], max_length)\n",
    "    elif lang == 'python':\n",
    "        train_data = preprocess_python(ds['python_train']['comment_sentence'], ds['python_train']['class'], ds['python_train']['labels'], max_length)\n",
    "        eval_data = preprocess_python(ds['python_test']['comment_sentence'], ds['python_train']['class'], ds['python_test']['labels'], max_length)\n",
    "    elif lang == 'pharo':\n",
    "        train_data = preprocess_pharo(ds['pharo_train']['comment_sentence'], ds['pharo_train']['class'], ds['pharo_train']['labels'], max_length)\n",
    "        eval_data = preprocess_pharo(ds['pharo_test']['comment_sentence'], ds['pharo_train']['class'], ds['pharo_test']['labels'], max_length)\n",
    "    \n",
    "    train_dataloader = torch.utils.data.DataLoader(train_data, batch_size=batch_size, shuffle=True, collate_fn=collator)\n",
    "    eval_dataloader = torch.utils.data.DataLoader(eval_data, batch_size=batch_size, shuffle=False, collate_fn=collator)\n",
    "    \n",
    "    # Training\n",
    "    print('Training...')\n",
    "    opt = None\n",
    "    if optimizer == 'AdamW':\n",
    "        opt = AdamW(model.parameters(), lr = learning_rate, weight_decay=0.01)\n",
    "    elif optimizer == 'Lion':\n",
    "        opt = Lion(model.parameters(), lr = learning_rate)\n",
    "    else:\n",
    "        raise ValueError('Invalid optimizer ' + optimizer)\n",
    "    total_steps = len(train_dataloader) * num_epochs\n",
    "    scheduler = get_linear_schedule_with_warmup(opt, num_warmup_steps=100, num_training_steps=total_steps)\n",
    "    loss_fn = torch.nn.BCEWithLogitsLoss(weight=torch.tensor(lang_weights[lang]).to(device))\n",
    "    thresholds = torch.tensor(lang_thresholds[lang]).to(device)\n",
    "    \n",
    "    loss_list = []\n",
    "    accuracy_list = []\n",
    "    eval_loss_list = []\n",
    "    eval_accuracy_list = []\n",
    "\n",
    "    max_batches = None # Set to None to run all batches, or a number to run a limited number of batches for testing\n",
    "    for epoch in tqdm(range(num_epochs)):\n",
    "        train_labels, true_labels, train_loss = train(model, train_dataloader, opt, scheduler, loss_fn, max_batches)\n",
    "        train_accuracy = accuracy_score(true_labels, train_labels)\n",
    "        loss_list.append(train_loss)\n",
    "        accuracy_list.append(train_accuracy)\n",
    "        print(f'Epoch {epoch+1}/{num_epochs} - Train Loss: {train_loss}, Train Accuracy: {train_accuracy}')\n",
    "        \n",
    "        eval_labels, true_labels, eval_loss = validate(model, eval_dataloader, loss_fn, thresholds, max_batches)\n",
    "        eval_accuracy = accuracy_score(true_labels, eval_labels)\n",
    "        eval_loss_list.append(eval_loss)\n",
    "        eval_accuracy_list.append(eval_accuracy)\n",
    "        print(f'Epoch {epoch+1}/{num_epochs} - Eval Loss:  {eval_loss}, Eval Accuracy:  {eval_accuracy}')\n",
    "    \n",
    "    # Save model\n",
    "    if save:\n",
    "        model.save_pretrained(f'./models/{lang}')\n",
    "        tokenizer.save_pretrained(f'./models/{lang}')\n",
    "    \n",
    "    return model, tokenizer, loss_list, accuracy_list, eval_loss_list, eval_accuracy_list"
   ]
  },
  {
   "cell_type": "markdown",
   "metadata": {},
   "source": [
    "## Building our Models"
   ]
  },
  {
   "cell_type": "code",
   "execution_count": 16,
   "metadata": {},
   "outputs": [],
   "source": [
    "optimizer = 'AdamW'\n",
    "batch_size = 8\n",
    "max_length = 256\n",
    "\n",
    "from_pretrained = True\n",
    "\n",
    "if from_pretrained:\n",
    "    java_model = GPT2ForSequenceClassification.from_pretrained('./models/java')\n",
    "    java_tokenizer = GPT2Tokenizer.from_pretrained('./models/java')\n",
    "    python_model = GPT2ForSequenceClassification.from_pretrained('./models/python')\n",
    "    python_tokenizer = GPT2Tokenizer.from_pretrained('./models/python')\n",
    "    pharo_model = GPT2ForSequenceClassification.from_pretrained('./models/pharo')\n",
    "    pharo_tokenizer = GPT2Tokenizer.from_pretrained('./models/pharo')\n",
    "    \n",
    "    java_model.to(device)\n",
    "    python_model.to(device)\n",
    "    pharo_model.to(device)\n",
    "else:\n",
    "    java_model, java_tokenizer, java_loss_list, java_accuracy_list, java_eval_loss_list, java_eval_accuracy_list = build_model('java', save=True, optimizer=optimizer, batch_size=batch_size, max_length=max_length)\n",
    "    python_model, python_tokenizer, python_loss_list, python_accuracy_list, python_eval_loss_list, python_eval_accuracy_list = build_model('python', save=True, optimizer=optimizer, batch_size=batch_size, max_length=max_length)\n",
    "    pharo_model, pharo_tokenizer, pharo_loss_list, pharo_accuracy_list, pharo_eval_loss_list, pharo_eval_accuracy_list = build_model('pharo', save=True, optimizer=optimizer, batch_size=batch_size, max_length=max_length)"
   ]
  },
  {
   "cell_type": "markdown",
   "metadata": {},
   "source": [
    "## Analysis"
   ]
  },
  {
   "cell_type": "code",
   "execution_count": 17,
   "metadata": {},
   "outputs": [
    {
     "data": {
      "application/vnd.jupyter.widget-view+json": {
       "model_id": "6aa772fd1e824c2a9ab2a2658776e983",
       "version_major": 2,
       "version_minor": 0
      },
      "text/plain": [
       "  0%|          | 0/216 [00:00<?, ?it/s]"
      ]
     },
     "metadata": {},
     "output_type": "display_data"
    },
    {
     "data": {
      "application/vnd.jupyter.widget-view+json": {
       "model_id": "eac79916d4174f59aaa1b80c0948de15",
       "version_major": 2,
       "version_minor": 0
      },
      "text/plain": [
       "  0%|          | 0/51 [00:00<?, ?it/s]"
      ]
     },
     "metadata": {},
     "output_type": "display_data"
    },
    {
     "data": {
      "application/vnd.jupyter.widget-view+json": {
       "model_id": "f70946c0ed6b4dfab3b291b8e0a10018",
       "version_major": 2,
       "version_minor": 0
      },
      "text/plain": [
       "  0%|          | 0/37 [00:00<?, ?it/s]"
      ]
     },
     "metadata": {},
     "output_type": "display_data"
    }
   ],
   "source": [
    "\n",
    "# Do classification report\n",
    "def do_classification_report(model, tokenizer, lang):\n",
    "    eval_data = preprocess_java(ds[f'{lang}_test']['comment_sentence'], ds[f'{lang}_train']['class'], ds[f'{lang}_test']['labels'])\n",
    "    eval_dataloader = torch.utils.data.DataLoader(eval_data, batch_size=batch_size, shuffle=False, collate_fn=GPT2_collator(tokenizer, max_length))\n",
    "    eval_labels, eval_probs = predict(model, eval_dataloader, torch.tensor(lang_thresholds[lang]).to(device))\n",
    "    eval_labels = np.array(eval_labels)\n",
    "    eval_probs = np.array(eval_probs)\n",
    "    true_labels = np.array([sequence['label'] for sequence in eval_data])\n",
    "    report = classification_report(true_labels, eval_labels, target_names=classification_labels[lang])\n",
    "    return eval_labels, eval_probs, true_labels, report\n",
    "\n",
    "java_eval_labels, java_eval_probs, java_true_labels, java_report = do_classification_report(java_model, java_tokenizer, 'java')\n",
    "python_eval_labels, python_eval_probs, python_true_labels, python_report = do_classification_report(python_model, python_tokenizer, 'python')\n",
    "pharo_eval_labels, pharo_eval_probs, pharo_true_labels, pharo_report = do_classification_report(pharo_model, pharo_tokenizer, 'pharo')"
   ]
  },
  {
   "cell_type": "code",
   "execution_count": 18,
   "metadata": {},
   "outputs": [
    {
     "data": {
      "text/html": [
       "<div>\n",
       "<style scoped>\n",
       "    .dataframe tbody tr th:only-of-type {\n",
       "        vertical-align: middle;\n",
       "    }\n",
       "\n",
       "    .dataframe tbody tr th {\n",
       "        vertical-align: top;\n",
       "    }\n",
       "\n",
       "    .dataframe thead th {\n",
       "        text-align: right;\n",
       "    }\n",
       "</style>\n",
       "<table border=\"1\" class=\"dataframe\">\n",
       "  <thead>\n",
       "    <tr style=\"text-align: right;\">\n",
       "      <th></th>\n",
       "      <th>lan</th>\n",
       "      <th>cat</th>\n",
       "      <th>precision</th>\n",
       "      <th>recall</th>\n",
       "      <th>f1</th>\n",
       "    </tr>\n",
       "  </thead>\n",
       "  <tbody>\n",
       "    <tr>\n",
       "      <th>0</th>\n",
       "      <td>java</td>\n",
       "      <td>summary</td>\n",
       "      <td>0.56</td>\n",
       "      <td>0.98</td>\n",
       "      <td>0.71</td>\n",
       "    </tr>\n",
       "    <tr>\n",
       "      <th>1</th>\n",
       "      <td>java</td>\n",
       "      <td>Ownership</td>\n",
       "      <td>0.03</td>\n",
       "      <td>1.00</td>\n",
       "      <td>0.05</td>\n",
       "    </tr>\n",
       "    <tr>\n",
       "      <th>2</th>\n",
       "      <td>java</td>\n",
       "      <td>Expand</td>\n",
       "      <td>0.06</td>\n",
       "      <td>0.99</td>\n",
       "      <td>0.11</td>\n",
       "    </tr>\n",
       "    <tr>\n",
       "      <th>3</th>\n",
       "      <td>java</td>\n",
       "      <td>usage</td>\n",
       "      <td>0.92</td>\n",
       "      <td>0.03</td>\n",
       "      <td>0.05</td>\n",
       "    </tr>\n",
       "    <tr>\n",
       "      <th>4</th>\n",
       "      <td>java</td>\n",
       "      <td>Pointer</td>\n",
       "      <td>0.11</td>\n",
       "      <td>1.00</td>\n",
       "      <td>0.20</td>\n",
       "    </tr>\n",
       "    <tr>\n",
       "      <th>5</th>\n",
       "      <td>java</td>\n",
       "      <td>deprecation</td>\n",
       "      <td>0.01</td>\n",
       "      <td>1.00</td>\n",
       "      <td>0.02</td>\n",
       "    </tr>\n",
       "    <tr>\n",
       "      <th>6</th>\n",
       "      <td>java</td>\n",
       "      <td>rational</td>\n",
       "      <td>0.00</td>\n",
       "      <td>0.00</td>\n",
       "      <td>0.00</td>\n",
       "    </tr>\n",
       "    <tr>\n",
       "      <th>0</th>\n",
       "      <td>python</td>\n",
       "      <td>Usage</td>\n",
       "      <td>0.56</td>\n",
       "      <td>0.57</td>\n",
       "      <td>0.56</td>\n",
       "    </tr>\n",
       "    <tr>\n",
       "      <th>1</th>\n",
       "      <td>python</td>\n",
       "      <td>Parameters</td>\n",
       "      <td>0.65</td>\n",
       "      <td>0.60</td>\n",
       "      <td>0.63</td>\n",
       "    </tr>\n",
       "    <tr>\n",
       "      <th>2</th>\n",
       "      <td>python</td>\n",
       "      <td>DevelopmentNotes</td>\n",
       "      <td>0.33</td>\n",
       "      <td>0.22</td>\n",
       "      <td>0.26</td>\n",
       "    </tr>\n",
       "    <tr>\n",
       "      <th>3</th>\n",
       "      <td>python</td>\n",
       "      <td>Expand</td>\n",
       "      <td>0.37</td>\n",
       "      <td>0.41</td>\n",
       "      <td>0.39</td>\n",
       "    </tr>\n",
       "    <tr>\n",
       "      <th>4</th>\n",
       "      <td>python</td>\n",
       "      <td>Summary</td>\n",
       "      <td>0.71</td>\n",
       "      <td>0.29</td>\n",
       "      <td>0.41</td>\n",
       "    </tr>\n",
       "    <tr>\n",
       "      <th>0</th>\n",
       "      <td>pharo</td>\n",
       "      <td>Keyimplementationpoints</td>\n",
       "      <td>0.32</td>\n",
       "      <td>0.23</td>\n",
       "      <td>0.27</td>\n",
       "    </tr>\n",
       "    <tr>\n",
       "      <th>1</th>\n",
       "      <td>pharo</td>\n",
       "      <td>Example</td>\n",
       "      <td>0.68</td>\n",
       "      <td>0.83</td>\n",
       "      <td>0.75</td>\n",
       "    </tr>\n",
       "    <tr>\n",
       "      <th>2</th>\n",
       "      <td>pharo</td>\n",
       "      <td>Responsibilities</td>\n",
       "      <td>0.21</td>\n",
       "      <td>0.06</td>\n",
       "      <td>0.09</td>\n",
       "    </tr>\n",
       "    <tr>\n",
       "      <th>3</th>\n",
       "      <td>pharo</td>\n",
       "      <td>Classreferences</td>\n",
       "      <td>0.00</td>\n",
       "      <td>0.00</td>\n",
       "      <td>0.00</td>\n",
       "    </tr>\n",
       "    <tr>\n",
       "      <th>4</th>\n",
       "      <td>pharo</td>\n",
       "      <td>Intent</td>\n",
       "      <td>0.25</td>\n",
       "      <td>0.03</td>\n",
       "      <td>0.06</td>\n",
       "    </tr>\n",
       "    <tr>\n",
       "      <th>5</th>\n",
       "      <td>pharo</td>\n",
       "      <td>Keymessages</td>\n",
       "      <td>0.60</td>\n",
       "      <td>0.28</td>\n",
       "      <td>0.38</td>\n",
       "    </tr>\n",
       "    <tr>\n",
       "      <th>6</th>\n",
       "      <td>pharo</td>\n",
       "      <td>Collaborators</td>\n",
       "      <td>0.00</td>\n",
       "      <td>0.00</td>\n",
       "      <td>0.00</td>\n",
       "    </tr>\n",
       "  </tbody>\n",
       "</table>\n",
       "</div>"
      ],
      "text/plain": [
       "      lan                      cat precision recall    f1\n",
       "0    java                  summary      0.56   0.98  0.71\n",
       "1    java                Ownership      0.03   1.00  0.05\n",
       "2    java                   Expand      0.06   0.99  0.11\n",
       "3    java                    usage      0.92   0.03  0.05\n",
       "4    java                  Pointer      0.11   1.00  0.20\n",
       "5    java              deprecation      0.01   1.00  0.02\n",
       "6    java                 rational      0.00   0.00  0.00\n",
       "0  python                    Usage      0.56   0.57  0.56\n",
       "1  python               Parameters      0.65   0.60  0.63\n",
       "2  python         DevelopmentNotes      0.33   0.22  0.26\n",
       "3  python                   Expand      0.37   0.41  0.39\n",
       "4  python                  Summary      0.71   0.29  0.41\n",
       "0   pharo  Keyimplementationpoints      0.32   0.23  0.27\n",
       "1   pharo                  Example      0.68   0.83  0.75\n",
       "2   pharo         Responsibilities      0.21   0.06  0.09\n",
       "3   pharo          Classreferences      0.00   0.00  0.00\n",
       "4   pharo                   Intent      0.25   0.03  0.06\n",
       "5   pharo              Keymessages      0.60   0.28  0.38\n",
       "6   pharo            Collaborators      0.00   0.00  0.00"
      ]
     },
     "execution_count": 18,
     "metadata": {},
     "output_type": "execute_result"
    }
   ],
   "source": [
    "# Combine reports into single pandas dataframe\n",
    "def report_to_df(report, lang):\n",
    "    lines = report.split('\\n')\n",
    "    data = []\n",
    "    for line in lines[2:-5]:\n",
    "        row = line.split()\n",
    "        if len(row) == 0:\n",
    "            continue\n",
    "        data.append(row)\n",
    "    df = pd.DataFrame(data, columns=['cat', 'precision', 'recall', 'f1', 'support'])\n",
    "    df.insert(0, 'lan', lang)\n",
    "    df = df.iloc[:, :-1]\n",
    "    return df\n",
    "        \n",
    "\n",
    "java_df = report_to_df(java_report, 'java')\n",
    "python_df = report_to_df(python_report, 'python')\n",
    "pharo_df = report_to_df(pharo_report, 'pharo')\n",
    "combined_df = pd.concat([java_df, python_df, pharo_df])\n",
    "combined_df\n"
   ]
  },
  {
   "cell_type": "code",
   "execution_count": 19,
   "metadata": {},
   "outputs": [
    {
     "data": {
      "text/html": [
       "<style type=\"text/css\">\n",
       "#T_f6e39_row0_col2, #T_f6e39_row0_col4, #T_f6e39_row1_col2, #T_f6e39_row1_col4, #T_f6e39_row2_col2, #T_f6e39_row2_col4, #T_f6e39_row3_col3, #T_f6e39_row3_col4, #T_f6e39_row4_col2, #T_f6e39_row4_col4, #T_f6e39_row5_col2, #T_f6e39_row5_col4, #T_f6e39_row6_col2, #T_f6e39_row6_col3, #T_f6e39_row6_col4, #T_f6e39_row7_col2, #T_f6e39_row7_col3, #T_f6e39_row7_col4, #T_f6e39_row8_col2, #T_f6e39_row8_col3, #T_f6e39_row8_col4, #T_f6e39_row9_col3, #T_f6e39_row9_col4, #T_f6e39_row10_col2, #T_f6e39_row10_col3, #T_f6e39_row10_col4, #T_f6e39_row11_col2, #T_f6e39_row11_col3, #T_f6e39_row11_col4, #T_f6e39_row12_col2, #T_f6e39_row12_col3, #T_f6e39_row12_col4, #T_f6e39_row13_col2, #T_f6e39_row13_col3, #T_f6e39_row13_col4, #T_f6e39_row14_col2, #T_f6e39_row14_col3, #T_f6e39_row14_col4, #T_f6e39_row15_col2, #T_f6e39_row15_col3, #T_f6e39_row15_col4, #T_f6e39_row16_col2, #T_f6e39_row16_col3, #T_f6e39_row16_col4, #T_f6e39_row17_col2, #T_f6e39_row17_col3, #T_f6e39_row17_col4, #T_f6e39_row18_col2, #T_f6e39_row18_col3, #T_f6e39_row18_col4 {\n",
       "  background-color: red;\n",
       "}\n",
       "</style>\n",
       "<table id=\"T_f6e39\">\n",
       "  <thead>\n",
       "    <tr>\n",
       "      <th class=\"blank level0\" >&nbsp;</th>\n",
       "      <th id=\"T_f6e39_level0_col0\" class=\"col_heading level0 col0\" >lan</th>\n",
       "      <th id=\"T_f6e39_level0_col1\" class=\"col_heading level0 col1\" >cat</th>\n",
       "      <th id=\"T_f6e39_level0_col2\" class=\"col_heading level0 col2\" >precision_diff</th>\n",
       "      <th id=\"T_f6e39_level0_col3\" class=\"col_heading level0 col3\" >recall_diff</th>\n",
       "      <th id=\"T_f6e39_level0_col4\" class=\"col_heading level0 col4\" >f1_diff</th>\n",
       "    </tr>\n",
       "  </thead>\n",
       "  <tbody>\n",
       "    <tr>\n",
       "      <th id=\"T_f6e39_level0_row0\" class=\"row_heading level0 row0\" >0</th>\n",
       "      <td id=\"T_f6e39_row0_col0\" class=\"data row0 col0\" >java</td>\n",
       "      <td id=\"T_f6e39_row0_col1\" class=\"data row0 col1\" >summary</td>\n",
       "      <td id=\"T_f6e39_row0_col2\" class=\"data row0 col2\" >-0.313385</td>\n",
       "      <td id=\"T_f6e39_row0_col3\" class=\"data row0 col3\" >0.150552</td>\n",
       "      <td id=\"T_f6e39_row0_col4\" class=\"data row0 col4\" >-0.140850</td>\n",
       "    </tr>\n",
       "    <tr>\n",
       "      <th id=\"T_f6e39_level0_row1\" class=\"row_heading level0 row1\" >1</th>\n",
       "      <td id=\"T_f6e39_row1_col0\" class=\"data row1 col0\" >java</td>\n",
       "      <td id=\"T_f6e39_row1_col1\" class=\"data row1 col1\" >Ownership</td>\n",
       "      <td id=\"T_f6e39_row1_col2\" class=\"data row1 col2\" >-0.970000</td>\n",
       "      <td id=\"T_f6e39_row1_col3\" class=\"data row1 col3\" >0.000000</td>\n",
       "      <td id=\"T_f6e39_row1_col4\" class=\"data row1 col4\" >-0.950000</td>\n",
       "    </tr>\n",
       "    <tr>\n",
       "      <th id=\"T_f6e39_level0_row2\" class=\"row_heading level0 row2\" >2</th>\n",
       "      <td id=\"T_f6e39_row2_col0\" class=\"data row2 col0\" >java</td>\n",
       "      <td id=\"T_f6e39_row2_col1\" class=\"data row2 col1\" >Expand</td>\n",
       "      <td id=\"T_f6e39_row2_col2\" class=\"data row2 col2\" >-0.263529</td>\n",
       "      <td id=\"T_f6e39_row2_col3\" class=\"data row2 col3\" >0.545556</td>\n",
       "      <td id=\"T_f6e39_row2_col4\" class=\"data row2 col4\" >-0.264468</td>\n",
       "    </tr>\n",
       "    <tr>\n",
       "      <th id=\"T_f6e39_level0_row3\" class=\"row_heading level0 row3\" >3</th>\n",
       "      <td id=\"T_f6e39_row3_col0\" class=\"data row3 col0\" >java</td>\n",
       "      <td id=\"T_f6e39_row3_col1\" class=\"data row3 col1\" >usage</td>\n",
       "      <td id=\"T_f6e39_row3_col2\" class=\"data row3 col2\" >0.008957</td>\n",
       "      <td id=\"T_f6e39_row3_col3\" class=\"data row3 col3\" >-0.788182</td>\n",
       "      <td id=\"T_f6e39_row3_col4\" class=\"data row3 col4\" >-0.812119</td>\n",
       "    </tr>\n",
       "    <tr>\n",
       "      <th id=\"T_f6e39_level0_row4\" class=\"row_heading level0 row4\" >4</th>\n",
       "      <td id=\"T_f6e39_row4_col0\" class=\"data row4 col0\" >java</td>\n",
       "      <td id=\"T_f6e39_row4_col1\" class=\"data row4 col1\" >Pointer</td>\n",
       "      <td id=\"T_f6e39_row4_col2\" class=\"data row4 col2\" >-0.628255</td>\n",
       "      <td id=\"T_f6e39_row4_col3\" class=\"data row4 col3\" >0.059829</td>\n",
       "      <td id=\"T_f6e39_row4_col4\" class=\"data row4 col4\" >-0.627068</td>\n",
       "    </tr>\n",
       "    <tr>\n",
       "      <th id=\"T_f6e39_level0_row5\" class=\"row_heading level0 row5\" >5</th>\n",
       "      <td id=\"T_f6e39_row5_col0\" class=\"data row5 col0\" >java</td>\n",
       "      <td id=\"T_f6e39_row5_col1\" class=\"data row5 col1\" >deprecation</td>\n",
       "      <td id=\"T_f6e39_row5_col2\" class=\"data row5 col2\" >-0.808182</td>\n",
       "      <td id=\"T_f6e39_row5_col3\" class=\"data row5 col3\" >0.400000</td>\n",
       "      <td id=\"T_f6e39_row5_col4\" class=\"data row5 col4\" >-0.672308</td>\n",
       "    </tr>\n",
       "    <tr>\n",
       "      <th id=\"T_f6e39_level0_row6\" class=\"row_heading level0 row6\" >6</th>\n",
       "      <td id=\"T_f6e39_row6_col0\" class=\"data row6 col0\" >java</td>\n",
       "      <td id=\"T_f6e39_row6_col1\" class=\"data row6 col1\" >rational</td>\n",
       "      <td id=\"T_f6e39_row6_col2\" class=\"data row6 col2\" >-0.162162</td>\n",
       "      <td id=\"T_f6e39_row6_col3\" class=\"data row6 col3\" >-0.295082</td>\n",
       "      <td id=\"T_f6e39_row6_col4\" class=\"data row6 col4\" >-0.209302</td>\n",
       "    </tr>\n",
       "    <tr>\n",
       "      <th id=\"T_f6e39_level0_row7\" class=\"row_heading level0 row7\" >7</th>\n",
       "      <td id=\"T_f6e39_row7_col0\" class=\"data row7 col0\" >python</td>\n",
       "      <td id=\"T_f6e39_row7_col1\" class=\"data row7 col1\" >Usage</td>\n",
       "      <td id=\"T_f6e39_row7_col2\" class=\"data row7 col2\" >-0.313385</td>\n",
       "      <td id=\"T_f6e39_row7_col3\" class=\"data row7 col3\" >-0.259448</td>\n",
       "      <td id=\"T_f6e39_row7_col4\" class=\"data row7 col4\" >-0.290850</td>\n",
       "    </tr>\n",
       "    <tr>\n",
       "      <th id=\"T_f6e39_level0_row8\" class=\"row_heading level0 row8\" >8</th>\n",
       "      <td id=\"T_f6e39_row8_col0\" class=\"data row8 col0\" >python</td>\n",
       "      <td id=\"T_f6e39_row8_col1\" class=\"data row8 col1\" >Parameters</td>\n",
       "      <td id=\"T_f6e39_row8_col2\" class=\"data row8 col2\" >-0.350000</td>\n",
       "      <td id=\"T_f6e39_row8_col3\" class=\"data row8 col3\" >-0.400000</td>\n",
       "      <td id=\"T_f6e39_row8_col4\" class=\"data row8 col4\" >-0.370000</td>\n",
       "    </tr>\n",
       "    <tr>\n",
       "      <th id=\"T_f6e39_level0_row9\" class=\"row_heading level0 row9\" >9</th>\n",
       "      <td id=\"T_f6e39_row9_col0\" class=\"data row9 col0\" >python</td>\n",
       "      <td id=\"T_f6e39_row9_col1\" class=\"data row9 col1\" >DevelopmentNotes</td>\n",
       "      <td id=\"T_f6e39_row9_col2\" class=\"data row9 col2\" >0.006471</td>\n",
       "      <td id=\"T_f6e39_row9_col3\" class=\"data row9 col3\" >-0.224444</td>\n",
       "      <td id=\"T_f6e39_row9_col4\" class=\"data row9 col4\" >-0.114468</td>\n",
       "    </tr>\n",
       "    <tr>\n",
       "      <th id=\"T_f6e39_level0_row10\" class=\"row_heading level0 row10\" >10</th>\n",
       "      <td id=\"T_f6e39_row10_col0\" class=\"data row10 col0\" >python</td>\n",
       "      <td id=\"T_f6e39_row10_col1\" class=\"data row10 col1\" >Expand</td>\n",
       "      <td id=\"T_f6e39_row10_col2\" class=\"data row10 col2\" >-0.541043</td>\n",
       "      <td id=\"T_f6e39_row10_col3\" class=\"data row10 col3\" >-0.408182</td>\n",
       "      <td id=\"T_f6e39_row10_col4\" class=\"data row10 col4\" >-0.472119</td>\n",
       "    </tr>\n",
       "    <tr>\n",
       "      <th id=\"T_f6e39_level0_row11\" class=\"row_heading level0 row11\" >11</th>\n",
       "      <td id=\"T_f6e39_row11_col0\" class=\"data row11 col0\" >python</td>\n",
       "      <td id=\"T_f6e39_row11_col1\" class=\"data row11 col1\" >Summary</td>\n",
       "      <td id=\"T_f6e39_row11_col2\" class=\"data row11 col2\" >-0.028255</td>\n",
       "      <td id=\"T_f6e39_row11_col3\" class=\"data row11 col3\" >-0.650171</td>\n",
       "      <td id=\"T_f6e39_row11_col4\" class=\"data row11 col4\" >-0.417068</td>\n",
       "    </tr>\n",
       "    <tr>\n",
       "      <th id=\"T_f6e39_level0_row12\" class=\"row_heading level0 row12\" >12</th>\n",
       "      <td id=\"T_f6e39_row12_col0\" class=\"data row12 col0\" >pharo</td>\n",
       "      <td id=\"T_f6e39_row12_col1\" class=\"data row12 col1\" >Keyimplementationpoints</td>\n",
       "      <td id=\"T_f6e39_row12_col2\" class=\"data row12 col2\" >-0.553385</td>\n",
       "      <td id=\"T_f6e39_row12_col3\" class=\"data row12 col3\" >-0.599448</td>\n",
       "      <td id=\"T_f6e39_row12_col4\" class=\"data row12 col4\" >-0.580850</td>\n",
       "    </tr>\n",
       "    <tr>\n",
       "      <th id=\"T_f6e39_level0_row13\" class=\"row_heading level0 row13\" >13</th>\n",
       "      <td id=\"T_f6e39_row13_col0\" class=\"data row13 col0\" >pharo</td>\n",
       "      <td id=\"T_f6e39_row13_col1\" class=\"data row13 col1\" >Example</td>\n",
       "      <td id=\"T_f6e39_row13_col2\" class=\"data row13 col2\" >-0.320000</td>\n",
       "      <td id=\"T_f6e39_row13_col3\" class=\"data row13 col3\" >-0.170000</td>\n",
       "      <td id=\"T_f6e39_row13_col4\" class=\"data row13 col4\" >-0.250000</td>\n",
       "    </tr>\n",
       "    <tr>\n",
       "      <th id=\"T_f6e39_level0_row14\" class=\"row_heading level0 row14\" >14</th>\n",
       "      <td id=\"T_f6e39_row14_col0\" class=\"data row14 col0\" >pharo</td>\n",
       "      <td id=\"T_f6e39_row14_col1\" class=\"data row14 col1\" >Responsibilities</td>\n",
       "      <td id=\"T_f6e39_row14_col2\" class=\"data row14 col2\" >-0.113529</td>\n",
       "      <td id=\"T_f6e39_row14_col3\" class=\"data row14 col3\" >-0.384444</td>\n",
       "      <td id=\"T_f6e39_row14_col4\" class=\"data row14 col4\" >-0.284468</td>\n",
       "    </tr>\n",
       "    <tr>\n",
       "      <th id=\"T_f6e39_level0_row15\" class=\"row_heading level0 row15\" >15</th>\n",
       "      <td id=\"T_f6e39_row15_col0\" class=\"data row15 col0\" >pharo</td>\n",
       "      <td id=\"T_f6e39_row15_col1\" class=\"data row15 col1\" >Classreferences</td>\n",
       "      <td id=\"T_f6e39_row15_col2\" class=\"data row15 col2\" >-0.911043</td>\n",
       "      <td id=\"T_f6e39_row15_col3\" class=\"data row15 col3\" >-0.818182</td>\n",
       "      <td id=\"T_f6e39_row15_col4\" class=\"data row15 col4\" >-0.862119</td>\n",
       "    </tr>\n",
       "    <tr>\n",
       "      <th id=\"T_f6e39_level0_row16\" class=\"row_heading level0 row16\" >16</th>\n",
       "      <td id=\"T_f6e39_row16_col0\" class=\"data row16 col0\" >pharo</td>\n",
       "      <td id=\"T_f6e39_row16_col1\" class=\"data row16 col1\" >Intent</td>\n",
       "      <td id=\"T_f6e39_row16_col2\" class=\"data row16 col2\" >-0.488255</td>\n",
       "      <td id=\"T_f6e39_row16_col3\" class=\"data row16 col3\" >-0.910171</td>\n",
       "      <td id=\"T_f6e39_row16_col4\" class=\"data row16 col4\" >-0.767068</td>\n",
       "    </tr>\n",
       "    <tr>\n",
       "      <th id=\"T_f6e39_level0_row17\" class=\"row_heading level0 row17\" >17</th>\n",
       "      <td id=\"T_f6e39_row17_col0\" class=\"data row17 col0\" >pharo</td>\n",
       "      <td id=\"T_f6e39_row17_col1\" class=\"data row17 col1\" >Keymessages</td>\n",
       "      <td id=\"T_f6e39_row17_col2\" class=\"data row17 col2\" >-0.218182</td>\n",
       "      <td id=\"T_f6e39_row17_col3\" class=\"data row17 col3\" >-0.320000</td>\n",
       "      <td id=\"T_f6e39_row17_col4\" class=\"data row17 col4\" >-0.312308</td>\n",
       "    </tr>\n",
       "    <tr>\n",
       "      <th id=\"T_f6e39_level0_row18\" class=\"row_heading level0 row18\" >18</th>\n",
       "      <td id=\"T_f6e39_row18_col0\" class=\"data row18 col0\" >pharo</td>\n",
       "      <td id=\"T_f6e39_row18_col1\" class=\"data row18 col1\" >Collaborators</td>\n",
       "      <td id=\"T_f6e39_row18_col2\" class=\"data row18 col2\" >-0.162162</td>\n",
       "      <td id=\"T_f6e39_row18_col3\" class=\"data row18 col3\" >-0.295082</td>\n",
       "      <td id=\"T_f6e39_row18_col4\" class=\"data row18 col4\" >-0.209302</td>\n",
       "    </tr>\n",
       "  </tbody>\n",
       "</table>\n"
      ],
      "text/plain": [
       "<pandas.io.formats.style.Styler at 0x21ef624c590>"
      ]
     },
     "execution_count": 19,
     "metadata": {},
     "output_type": "execute_result"
    }
   ],
   "source": [
    "# Compare with baseline results summary\n",
    "# load baseline results\n",
    "baseline_results = pd.read_csv('baseline_results_summary.csv')\n",
    "\n",
    "# Get difference from baseline\n",
    "def get_diff_df(baseline_df, eval_df):\n",
    "    diff_df = eval_df.copy()\n",
    "    diff_df['baseline_precision'] = baseline_df['precision']\n",
    "    diff_df['baseline_recall'] = baseline_df['recall']\n",
    "    diff_df['baseline_f1'] = baseline_df['f1']\n",
    "    diff_df['precision_diff'] = diff_df['precision'].astype(float) - diff_df['baseline_precision'].astype(float)\n",
    "    diff_df['recall_diff'] = diff_df['recall'].astype(float) - diff_df['baseline_recall'].astype(float)\n",
    "    diff_df['f1_diff'] = diff_df['f1'].astype(float) - diff_df['baseline_f1'].astype(float)\n",
    "    # delete all but diff columns\n",
    "    diff_df = diff_df[['lan', 'cat', 'precision_diff', 'recall_diff', 'f1_diff']]\n",
    "    diff_df = diff_df.reset_index(drop=True)\n",
    "    return diff_df\n",
    "\n",
    "diff_df = get_diff_df(baseline_results, combined_df)\n",
    "# style dataframe to make cells red if negative\n",
    "def highlight_diff(val):\n",
    "    if val < 0:\n",
    "        return 'background-color: red'\n",
    "    else:\n",
    "        return ''\n",
    "\n",
    "diff_df.style.applymap(highlight_diff, subset=['precision_diff', 'recall_diff', 'f1_diff'])\n",
    "\n"
   ]
  },
  {
   "cell_type": "code",
   "execution_count": 20,
   "metadata": {},
   "outputs": [
    {
     "data": {
      "image/png": "[encoded data removed]",
      "text/plain": [
       "<Figure size 3500x500 with 7 Axes>"
      ]
     },
     "metadata": {},
     "output_type": "display_data"
    },
    {
     "data": {
      "image/png": "[encoded data removed]",
      "text/plain": [
       "<Figure size 2500x500 with 5 Axes>"
      ]
     },
     "metadata": {},
     "output_type": "display_data"
    },
    {
     "data": {
      "image/png": "[encoded data removed]",
      "text/plain": [
       "<Figure size 3500x500 with 7 Axes>"
      ]
     },
     "metadata": {},
     "output_type": "display_data"
    }
   ],
   "source": [
    "# Confusion matricies\n",
    "import matplotlib.pyplot as plt\n",
    "import seaborn as sns\n",
    "\n",
    "def plot_confusion_matrix(true_labels, pred_labels, lang):\n",
    "    cm = multilabel_confusion_matrix(true_labels, pred_labels)\n",
    "    fig, ax = plt.subplots(1, len(classification_labels[lang]), figsize=(len(classification_labels[lang])*5, 5))\n",
    "    for i in range(len(classification_labels[lang])):\n",
    "        sns.heatmap(cm[i], annot=True, ax=ax[i], fmt='d', cmap='Blues', cbar=False)\n",
    "        ax[i].set_title(classification_labels[lang][i])\n",
    "    plt.show()\n",
    "\n",
    "plot_confusion_matrix(java_true_labels, java_eval_labels, 'java')\n",
    "plot_confusion_matrix(python_true_labels, python_eval_labels, 'python')\n",
    "plot_confusion_matrix(pharo_true_labels, pharo_eval_labels, 'pharo')"
   ]
  },
  {
   "cell_type": "code",
   "execution_count": 21,
   "metadata": {},
   "outputs": [
    {
     "data": {
      "text/plain": [
       "\"\\ndef show_examples(model, tokenizer, lang, num_examples=4):\\n    \\n    eval_data = preprocess_java(ds[f'{lang}_test']['comment_sentence'], ds[f'{lang}_train']['class'], ds[f'{lang}_test']['labels'])\\n    eval_dataloader = torch.utils.data.DataLoader(eval_data, batch_size=batch_size, shuffle=False, collate_fn=GPT2_collator(tokenizer, max_length))\\n    eval_labels, eval_probs = predict(model, eval_dataloader, torch.tensor(lang_thresholds[lang]).to(device))\\n    eval_labels = np.array(eval_labels)\\n    eval_probs = np.array(eval_probs)\\n    true_labels = np.array([sequence['label'] for sequence in eval_data])\\n    \\n    print(f'{lang} labels: {classification_labels[lang]}')\\n    for i in range(num_examples):\\n        print(f'Example {i+1}:')\\n        print('Text:', eval_data[i]['text'])\\n        print('True Labels:', true_labels[i])\\n        print('Predicted Labels:', eval_labels[i])\\n        print('Probabilities:', [round(p, 2) for p in eval_probs[i]])\\n        print()\\n\\nshow_examples(java_model, java_tokenizer, 'java')\\nshow_examples(python_model, python_tokenizer, 'python')\\nshow_examples(pharo_model, pharo_tokenizer, 'pharo')\\n\""
      ]
     },
     "execution_count": 21,
     "metadata": {},
     "output_type": "execute_result"
    }
   ],
   "source": [
    "# Show examples\n",
    "\"\"\"\n",
    "def show_examples(model, tokenizer, lang, num_examples=4):\n",
    "    \n",
    "    eval_data = preprocess_java(ds[f'{lang}_test']['comment_sentence'], ds[f'{lang}_train']['class'], ds[f'{lang}_test']['labels'])\n",
    "    eval_dataloader = torch.utils.data.DataLoader(eval_data, batch_size=batch_size, shuffle=False, collate_fn=GPT2_collator(tokenizer, max_length))\n",
    "    eval_labels, eval_probs = predict(model, eval_dataloader, torch.tensor(lang_thresholds[lang]).to(device))\n",
    "    eval_labels = np.array(eval_labels)\n",
    "    eval_probs = np.array(eval_probs)\n",
    "    true_labels = np.array([sequence['label'] for sequence in eval_data])\n",
    "    \n",
    "    print(f'{lang} labels: {classification_labels[lang]}')\n",
    "    for i in range(num_examples):\n",
    "        print(f'Example {i+1}:')\n",
    "        print('Text:', eval_data[i]['text'])\n",
    "        print('True Labels:', true_labels[i])\n",
    "        print('Predicted Labels:', eval_labels[i])\n",
    "        print('Probabilities:', [round(p, 2) for p in eval_probs[i]])\n",
    "        print()\n",
    "\n",
    "show_examples(java_model, java_tokenizer, 'java')\n",
    "show_examples(python_model, python_tokenizer, 'python')\n",
    "show_examples(pharo_model, pharo_tokenizer, 'pharo')\n",
    "\"\"\""
   ]
  },
  {
   "cell_type": "markdown",
   "metadata": {},
   "source": [
    "## Evaluation"
   ]
  },
  {
   "cell_type": "code",
   "execution_count": 22,
   "metadata": {},
   "outputs": [],
   "source": [
    "class ModelWrapper:\n",
    "    def __init__(self, model, tokenizer, lang):\n",
    "        global device\n",
    "        \n",
    "        self.model = model\n",
    "        self.model.to(device)\n",
    "        self.tokenizer = tokenizer\n",
    "        self.lang = lang\n",
    "        if lang == 'java':\n",
    "            self.labels = classification_labels['java']\n",
    "            self.thresholds = torch.tensor(lang_thresholds['java']).to(device)\n",
    "            self.preprocess = preprocess_java\n",
    "        elif lang == 'python':\n",
    "            self.labels = classification_labels['python']\n",
    "            self.thresholds = torch.tensor(lang_thresholds['python']).to(device)\n",
    "            self.preprocess = preprocess_python\n",
    "        elif lang == 'pharo':\n",
    "            self.labels = classification_labels['pharo']\n",
    "            self.thresholds = torch.tensor(lang_thresholds['pharo']).to(device)\n",
    "            self.preprocess = preprocess_pharo\n",
    "    \n",
    "    def __call__(self, texts):\n",
    "        data = self.preprocess(texts, ['']*len(texts))\n",
    "        dataloader = torch.utils.data.DataLoader(data, batch_size=16, shuffle=False, collate_fn=GPT2_collator(self.tokenizer, max_length), pin_memory=True)\n",
    "        labels, _ = predict(self.model, dataloader, self.thresholds)\n",
    "        return torch.tensor(labels)"
   ]
  },
  {
   "cell_type": "code",
   "execution_count": 23,
   "metadata": {},
   "outputs": [
    {
     "data": {
      "application/vnd.jupyter.widget-view+json": {
       "model_id": "c73e7f54a36d4243b1031d397d36ecc1",
       "version_major": 2,
       "version_minor": 0
      },
      "text/plain": [
       "  0%|          | 0/108 [00:00<?, ?it/s]"
      ]
     },
     "metadata": {},
     "output_type": "display_data"
    },
    {
     "data": {
      "application/vnd.jupyter.widget-view+json": {
       "model_id": "7c053172e96a423196d2dad209340a3c",
       "version_major": 2,
       "version_minor": 0
      },
      "text/plain": [
       "  0%|          | 0/108 [00:00<?, ?it/s]"
      ]
     },
     "metadata": {},
     "output_type": "display_data"
    },
    {
     "data": {
      "application/vnd.jupyter.widget-view+json": {
       "model_id": "d2fd20de035f483c87c43de2858ef24b",
       "version_major": 2,
       "version_minor": 0
      },
      "text/plain": [
       "  0%|          | 0/108 [00:00<?, ?it/s]"
      ]
     },
     "metadata": {},
     "output_type": "display_data"
    },
    {
     "data": {
      "application/vnd.jupyter.widget-view+json": {
       "model_id": "7d252f48581a4d8f9ce52601a5418e9e",
       "version_major": 2,
       "version_minor": 0
      },
      "text/plain": [
       "  0%|          | 0/108 [00:00<?, ?it/s]"
      ]
     },
     "metadata": {},
     "output_type": "display_data"
    },
    {
     "data": {
      "application/vnd.jupyter.widget-view+json": {
       "model_id": "022e2e3cf43e4a348a581c1eda00261e",
       "version_major": 2,
       "version_minor": 0
      },
      "text/plain": [
       "  0%|          | 0/108 [00:00<?, ?it/s]"
      ]
     },
     "metadata": {},
     "output_type": "display_data"
    },
    {
     "data": {
      "application/vnd.jupyter.widget-view+json": {
       "model_id": "19f9f465c0244cc1aabbb361dd5662cb",
       "version_major": 2,
       "version_minor": 0
      },
      "text/plain": [
       "  0%|          | 0/108 [00:00<?, ?it/s]"
      ]
     },
     "metadata": {},
     "output_type": "display_data"
    },
    {
     "data": {
      "application/vnd.jupyter.widget-view+json": {
       "model_id": "31d333a780a0474081df19cb7fa97a52",
       "version_major": 2,
       "version_minor": 0
      },
      "text/plain": [
       "  0%|          | 0/108 [00:00<?, ?it/s]"
      ]
     },
     "metadata": {},
     "output_type": "display_data"
    },
    {
     "data": {
      "application/vnd.jupyter.widget-view+json": {
       "model_id": "832d27c4b6154b2fbb34515d1edec5f6",
       "version_major": 2,
       "version_minor": 0
      },
      "text/plain": [
       "  0%|          | 0/108 [00:00<?, ?it/s]"
      ]
     },
     "metadata": {},
     "output_type": "display_data"
    },
    {
     "data": {
      "application/vnd.jupyter.widget-view+json": {
       "model_id": "f33cf2863fe6406598f031258998823b",
       "version_major": 2,
       "version_minor": 0
      },
      "text/plain": [
       "  0%|          | 0/108 [00:00<?, ?it/s]"
      ]
     },
     "metadata": {},
     "output_type": "display_data"
    },
    {
     "data": {
      "application/vnd.jupyter.widget-view+json": {
       "model_id": "2f4a2aa389334649a79f0ce3147f5456",
       "version_major": 2,
       "version_minor": 0
      },
      "text/plain": [
       "  0%|          | 0/108 [00:00<?, ?it/s]"
      ]
     },
     "metadata": {},
     "output_type": "display_data"
    },
    {
     "data": {
      "application/vnd.jupyter.widget-view+json": {
       "model_id": "a6189210b1e843e6aaba6481ad7b742e",
       "version_major": 2,
       "version_minor": 0
      },
      "text/plain": [
       "  0%|          | 0/26 [00:00<?, ?it/s]"
      ]
     },
     "metadata": {},
     "output_type": "display_data"
    },
    {
     "data": {
      "application/vnd.jupyter.widget-view+json": {
       "model_id": "e52f60a0a15e497282ab2036f7060d93",
       "version_major": 2,
       "version_minor": 0
      },
      "text/plain": [
       "  0%|          | 0/26 [00:00<?, ?it/s]"
      ]
     },
     "metadata": {},
     "output_type": "display_data"
    },
    {
     "data": {
      "application/vnd.jupyter.widget-view+json": {
       "model_id": "cb76024552974ef094a25704acd8f3e2",
       "version_major": 2,
       "version_minor": 0
      },
      "text/plain": [
       "  0%|          | 0/26 [00:00<?, ?it/s]"
      ]
     },
     "metadata": {},
     "output_type": "display_data"
    },
    {
     "data": {
      "application/vnd.jupyter.widget-view+json": {
       "model_id": "50d47d5a6d6a4dd883401df0a30fd19f",
       "version_major": 2,
       "version_minor": 0
      },
      "text/plain": [
       "  0%|          | 0/26 [00:00<?, ?it/s]"
      ]
     },
     "metadata": {},
     "output_type": "display_data"
    },
    {
     "data": {
      "application/vnd.jupyter.widget-view+json": {
       "model_id": "6ae06b45b49948a19039819e7294e594",
       "version_major": 2,
       "version_minor": 0
      },
      "text/plain": [
       "  0%|          | 0/26 [00:00<?, ?it/s]"
      ]
     },
     "metadata": {},
     "output_type": "display_data"
    },
    {
     "data": {
      "application/vnd.jupyter.widget-view+json": {
       "model_id": "f56a3cd48e4542f5bd65c21fb7be82fb",
       "version_major": 2,
       "version_minor": 0
      },
      "text/plain": [
       "  0%|          | 0/26 [00:00<?, ?it/s]"
      ]
     },
     "metadata": {},
     "output_type": "display_data"
    },
    {
     "data": {
      "application/vnd.jupyter.widget-view+json": {
       "model_id": "68258bb0d2e94300a26d79886b7a4526",
       "version_major": 2,
       "version_minor": 0
      },
      "text/plain": [
       "  0%|          | 0/26 [00:00<?, ?it/s]"
      ]
     },
     "metadata": {},
     "output_type": "display_data"
    },
    {
     "data": {
      "application/vnd.jupyter.widget-view+json": {
       "model_id": "bcb38741895a4fe0af23ecb1df95fab9",
       "version_major": 2,
       "version_minor": 0
      },
      "text/plain": [
       "  0%|          | 0/26 [00:00<?, ?it/s]"
      ]
     },
     "metadata": {},
     "output_type": "display_data"
    },
    {
     "data": {
      "application/vnd.jupyter.widget-view+json": {
       "model_id": "57cfdec4278548279ba63f014695858f",
       "version_major": 2,
       "version_minor": 0
      },
      "text/plain": [
       "  0%|          | 0/26 [00:00<?, ?it/s]"
      ]
     },
     "metadata": {},
     "output_type": "display_data"
    },
    {
     "data": {
      "application/vnd.jupyter.widget-view+json": {
       "model_id": "0e92ea903dd44271bd029ffb080ed6d9",
       "version_major": 2,
       "version_minor": 0
      },
      "text/plain": [
       "  0%|          | 0/26 [00:00<?, ?it/s]"
      ]
     },
     "metadata": {},
     "output_type": "display_data"
    },
    {
     "data": {
      "application/vnd.jupyter.widget-view+json": {
       "model_id": "bd4d7816542b4a87b8a023f4e87acaca",
       "version_major": 2,
       "version_minor": 0
      },
      "text/plain": [
       "  0%|          | 0/19 [00:00<?, ?it/s]"
      ]
     },
     "metadata": {},
     "output_type": "display_data"
    },
    {
     "data": {
      "application/vnd.jupyter.widget-view+json": {
       "model_id": "cb33b181cce24fc98da6c163e833dc5d",
       "version_major": 2,
       "version_minor": 0
      },
      "text/plain": [
       "  0%|          | 0/19 [00:00<?, ?it/s]"
      ]
     },
     "metadata": {},
     "output_type": "display_data"
    },
    {
     "data": {
      "application/vnd.jupyter.widget-view+json": {
       "model_id": "bcbd167a3b4249008a1540ca15c42774",
       "version_major": 2,
       "version_minor": 0
      },
      "text/plain": [
       "  0%|          | 0/19 [00:00<?, ?it/s]"
      ]
     },
     "metadata": {},
     "output_type": "display_data"
    },
    {
     "data": {
      "application/vnd.jupyter.widget-view+json": {
       "model_id": "e89503562c4743658bc09caedd935c38",
       "version_major": 2,
       "version_minor": 0
      },
      "text/plain": [
       "  0%|          | 0/19 [00:00<?, ?it/s]"
      ]
     },
     "metadata": {},
     "output_type": "display_data"
    },
    {
     "data": {
      "application/vnd.jupyter.widget-view+json": {
       "model_id": "09b8e5d31a2c49069b2af38fe958b4e0",
       "version_major": 2,
       "version_minor": 0
      },
      "text/plain": [
       "  0%|          | 0/19 [00:00<?, ?it/s]"
      ]
     },
     "metadata": {},
     "output_type": "display_data"
    },
    {
     "data": {
      "application/vnd.jupyter.widget-view+json": {
       "model_id": "0e155846a6b24945ac031f8b0ec6109b",
       "version_major": 2,
       "version_minor": 0
      },
      "text/plain": [
       "  0%|          | 0/19 [00:00<?, ?it/s]"
      ]
     },
     "metadata": {},
     "output_type": "display_data"
    },
    {
     "data": {
      "application/vnd.jupyter.widget-view+json": {
       "model_id": "897e26ee3d2f40f0b3f712728e3ced62",
       "version_major": 2,
       "version_minor": 0
      },
      "text/plain": [
       "  0%|          | 0/19 [00:00<?, ?it/s]"
      ]
     },
     "metadata": {},
     "output_type": "display_data"
    },
    {
     "data": {
      "application/vnd.jupyter.widget-view+json": {
       "model_id": "b55bb8b7ef83419fa27df821a71feb94",
       "version_major": 2,
       "version_minor": 0
      },
      "text/plain": [
       "  0%|          | 0/19 [00:00<?, ?it/s]"
      ]
     },
     "metadata": {},
     "output_type": "display_data"
    },
    {
     "data": {
      "application/vnd.jupyter.widget-view+json": {
       "model_id": "872fadcd5bde43279ffae7812c5a0355",
       "version_major": 2,
       "version_minor": 0
      },
      "text/plain": [
       "  0%|          | 0/19 [00:00<?, ?it/s]"
      ]
     },
     "metadata": {},
     "output_type": "display_data"
    },
    {
     "data": {
      "application/vnd.jupyter.widget-view+json": {
       "model_id": "76c7fbb6b09446b78e1f359ca0d6f502",
       "version_major": 2,
       "version_minor": 0
      },
      "text/plain": [
       "  0%|          | 0/19 [00:00<?, ?it/s]"
      ]
     },
     "metadata": {},
     "output_type": "display_data"
    },
    {
     "name": "stdout",
     "output_type": "stream",
     "text": [
      "Compute in GFLOPs: 210630.295460096\n",
      "Avg runtime in seconds: 9.663890504837036\n"
     ]
    }
   ],
   "source": [
    "# Evaluation from challenge (https://github.com/nlbse2025/code-comment-classification/blob/main/SetFit_baseline.ipynb)\n",
    "total_flops = 0\n",
    "total_time = 0\n",
    "scores = []\n",
    "\n",
    "for lan in classification_langs:\n",
    "    # to load trained models:\n",
    "    model = ModelWrapper(GPT2ForSequenceClassification.from_pretrained(f\"./models/{lan}\"), GPT2Tokenizer.from_pretrained(f\"./models/{lan}\"), lan)\n",
    "    # to load pretrained models from Hub:\n",
    "    #model = SetFitModel.from_pretrained(f\"NLBSE/nlbse25_{lan}\")\n",
    "    with torch.profiler.profile(with_flops=True) as p:\n",
    "        begin = time.time()\n",
    "        for i in range(10):\n",
    "          y_pred = model(ds[f'{lan}_test']['comment_sentence']).numpy().T\n",
    "        total = time.time() - begin\n",
    "        total_time = total_time + total\n",
    "    total_flops = total_flops + (sum(k.flops for k in p.key_averages()) / 1e9)\n",
    "    y_true = np.array(ds[f'{lan}_test']['labels']).T\n",
    "    for i in range(len(y_pred)):\n",
    "        assert(len(y_pred[i]) == len(y_true[i]))\n",
    "        tp = sum([true == pred == 1 for (true,pred) in zip(y_true[i], y_pred[i])])\n",
    "        tn = sum([true == pred == 0 for (true,pred) in zip(y_true[i], y_pred[i])])\n",
    "        fp = sum([true == 0 and pred == 1 for (true,pred) in zip(y_true[i], y_pred[i])])\n",
    "        fn = sum([true == 1 and pred == 0 for (true,pred) in zip(y_true[i], y_pred[i])])\n",
    "        precision = tp / (tp + fp)\n",
    "        recall = tp / (tp + fn)\n",
    "        f1 = (2*tp) / (2*tp + fp + fn)\n",
    "        scores.append({'lan': lan, 'cat': classification_labels[lan][i],'precision': precision,'recall': recall,'f1': f1})\n",
    "print(\"Compute in GFLOPs:\", total_flops/10)\n",
    "print(\"Avg runtime in seconds:\", total_time/10)\n",
    "scores = pd.DataFrame(scores)"
   ]
  },
  {
   "cell_type": "code",
   "execution_count": 27,
   "metadata": {},
   "outputs": [
    {
     "name": "stdout",
     "output_type": "stream",
     "text": [
      "Score: -8.23\n",
      "Average F1: 0.29494298293596005\n"
     ]
    }
   ],
   "source": [
    "# From challenge (https://github.com/nlbse2025/code-comment-classification/blob/main/SetFit_baseline.ipynb)\n",
    "max_avg_runtime = 5\n",
    "max_avg_flops = 5000\n",
    "\n",
    "# s𝑢𝑏𝑚𝑖𝑠𝑠𝑖𝑜𝑛_𝑠𝑐𝑜𝑟𝑒(𝑚𝑜𝑑𝑒𝑙)=(𝑎𝑣𝑔. 𝐹1)×0.60+((𝑚𝑎𝑥_𝑎𝑣𝑔_𝑟𝑢𝑛𝑡𝑖𝑚𝑒−𝑚𝑒𝑎𝑠𝑢𝑟𝑒𝑑_𝑎𝑣𝑔_𝑟𝑢𝑛𝑡𝑖𝑚𝑒)/𝑚𝑎𝑥_𝑎𝑣𝑔_𝑟𝑢𝑛𝑡𝑖𝑚𝑒)×0.2+((𝑚𝑎𝑥_GFLOPs−𝑚𝑒𝑎𝑠𝑢𝑟𝑒𝑑_GFLOPs)/𝑚𝑎𝑥_GFLOPs)×0.2\n",
    "def score(avg_f1, avg_runtime, avg_flops):\n",
    "    return (0.6 * avg_f1 +\n",
    "      0.2 * ((max_avg_runtime - avg_runtime) / max_avg_runtime) +\n",
    "      0.2 * ((max_avg_flops - avg_flops) / max_avg_flops))\n",
    "\n",
    "avg_f1 = scores.f1.mean()\n",
    "avg_runtime = total_time/10\n",
    "avg_flops = total_flops/10\n",
    "\n",
    "print(f'Score: {round(score(avg_f1, avg_runtime, avg_flops), 2)}')\n",
    "print(f'Average F1: {avg_f1}')"
   ]
  },
  {
   "cell_type": "code",
   "execution_count": 25,
   "metadata": {},
   "outputs": [],
   "source": [
    "torch.cuda.empty_cache()"
   ]
  },
  {
   "cell_type": "code",
   "execution_count": 26,
   "metadata": {},
   "outputs": [
    {
     "data": {
      "text/plain": [
       "'\\n# Hyperparameters\\nhyperparameters = {\\n    \\'num_epochs\\': [3],\\n    \\'batch_size\\': [4],\\n    \\'learning_rate\\': [1e-5],\\n    \\'optimizer\\': [\\'Lion\\'],\\n    \\'max_length\\': [256],\\n}\\n\\nfor num_epochs in hyperparameters[\\'num_epochs\\']:\\n    for batch_size in hyperparameters[\\'batch_size\\']:\\n        for learning_rate in hyperparameters[\\'learning_rate\\']:\\n            for optimizer in hyperparameters[\\'optimizer\\']:\\n                for max_length in hyperparameters[\\'max_length\\']:\\n                    print(f\\'Running test with hyperparameters: num_epochs={num_epochs}, batch_size={batch_size}, learning_rate={learning_rate}, optimizer={optimizer}, max_length={max_length}, weights={class_weights[\"java\"]}\\')\\n                    model, tokenizer, loss_list, accuracy_list, eval_loss_list, eval_accuracy_list = build_model(\\'java\\', save=False, optimizer=optimizer, learning_rate=learning_rate, num_epochs=num_epochs, batch_size=batch_size, max_length=max_length)\\n                    \\n                    # Do classification report\\n                    eval_data = preprocess_java(ds[\\'java_test\\'][\\'comment_sentence\\'], ds[\\'java_train\\'][\\'class\\'], ds[\\'java_test\\'][\\'labels\\'])\\n                    eval_dataloader = torch.utils.data.DataLoader(eval_data, batch_size=batch_size, shuffle=False, collate_fn=GPT2_collator(tokenizer, max_length))\\n                    eval_labels = predict(model, eval_dataloader)\\n                    true_labels = [sequence[\\'label\\'] for sequence in eval_data]\\n                    report = classification_report(true_labels, eval_labels, target_names=classification_labels[\\'java\\'])\\n                    \\n                    # Add results to file\\n                    with open(\\'results.txt\\', \\'a\\') as f:\\n                        f.write(f\\'Java - num_epochs={num_epochs}, batch_size={batch_size}, learning_rate={learning_rate}, optimizer={optimizer}, max_length={max_length}, weights={class_weights[\"java\"]}\\n\\')\\n                        f.write(f\\'Loss: {loss_list}\\n\\')\\n                        f.write(f\\'Accuracy: {accuracy_list}\\n\\')\\n                        f.write(f\\'Eval Loss: {eval_loss_list}\\n\\')\\n                        f.write(f\\'Eval Accuracy: {eval_accuracy_list}\\n\\')\\n                        f.write(f\\'Report: {report}\\n\\')\\n                        f.write(\\'\\n\\')\\n                    \\n                    num_labels = len(classification_labels[\\'java\\'])\\n                    cms = [confusion_matrix(true_labels[:, i], eval_labels[:, i]) for i in range(num_labels)]\\n                    \\n                    for i, label in enumerate(classification_labels[\\'java\\']):\\n                        plot_confusion_matrix(cms[i], class_names=[0, 1], title=f\\'Confusion Matrix for {label}\\')\\n                    \\n                    print(report)\\n'"
      ]
     },
     "execution_count": 26,
     "metadata": {},
     "output_type": "execute_result"
    }
   ],
   "source": [
    "# Run tests on java lang with all hyperparameters\n",
    "\"\"\"\n",
    "# Hyperparameters\n",
    "hyperparameters = {\n",
    "    'num_epochs': [3],\n",
    "    'batch_size': [4],\n",
    "    'learning_rate': [1e-5],\n",
    "    'optimizer': ['Lion'],\n",
    "    'max_length': [256],\n",
    "}\n",
    "\n",
    "for num_epochs in hyperparameters['num_epochs']:\n",
    "    for batch_size in hyperparameters['batch_size']:\n",
    "        for learning_rate in hyperparameters['learning_rate']:\n",
    "            for optimizer in hyperparameters['optimizer']:\n",
    "                for max_length in hyperparameters['max_length']:\n",
    "                    print(f'Running test with hyperparameters: num_epochs={num_epochs}, batch_size={batch_size}, learning_rate={learning_rate}, optimizer={optimizer}, max_length={max_length}, weights={class_weights[\"java\"]}')\n",
    "                    model, tokenizer, loss_list, accuracy_list, eval_loss_list, eval_accuracy_list = build_model('java', save=False, optimizer=optimizer, learning_rate=learning_rate, num_epochs=num_epochs, batch_size=batch_size, max_length=max_length)\n",
    "                    \n",
    "                    # Do classification report\n",
    "                    eval_data = preprocess_java(ds['java_test']['comment_sentence'], ds['java_train']['class'], ds['java_test']['labels'])\n",
    "                    eval_dataloader = torch.utils.data.DataLoader(eval_data, batch_size=batch_size, shuffle=False, collate_fn=GPT2_collator(tokenizer, max_length))\n",
    "                    eval_labels = predict(model, eval_dataloader)\n",
    "                    true_labels = [sequence['label'] for sequence in eval_data]\n",
    "                    report = classification_report(true_labels, eval_labels, target_names=classification_labels['java'])\n",
    "                    \n",
    "                    # Add results to file\n",
    "                    with open('results.txt', 'a') as f:\n",
    "                        f.write(f'Java - num_epochs={num_epochs}, batch_size={batch_size}, learning_rate={learning_rate}, optimizer={optimizer}, max_length={max_length}, weights={class_weights[\"java\"]}\\n')\n",
    "                        f.write(f'Loss: {loss_list}\\n')\n",
    "                        f.write(f'Accuracy: {accuracy_list}\\n')\n",
    "                        f.write(f'Eval Loss: {eval_loss_list}\\n')\n",
    "                        f.write(f'Eval Accuracy: {eval_accuracy_list}\\n')\n",
    "                        f.write(f'Report: {report}\\n')\n",
    "                        f.write('\\n')\n",
    "                    \n",
    "                    num_labels = len(classification_labels['java'])\n",
    "                    cms = [confusion_matrix(true_labels[:, i], eval_labels[:, i]) for i in range(num_labels)]\n",
    "                    \n",
    "                    for i, label in enumerate(classification_labels['java']):\n",
    "                        plot_confusion_matrix(cms[i], class_names=[0, 1], title=f'Confusion Matrix for {label}')\n",
    "                    \n",
    "                    print(report)\n",
    "\"\"\""
   ]
  }
 ],
 "metadata": {
  "kernelspec": {
   "display_name": "Python 3",
   "language": "python",
   "name": "python3"
  },
  "language_info": {
   "codemirror_mode": {
    "name": "ipython",
    "version": 3
   },
   "file_extension": ".py",
   "mimetype": "text/x-python",
   "name": "python",
   "nbconvert_exporter": "python",
   "pygments_lexer": "ipython3",
   "version": "3.12.3"
  }
 },
 "nbformat": 4,
 "nbformat_minor": 2
}
